{
 "cells": [
  {
   "cell_type": "markdown",
   "metadata": {},
   "source": [
    "# Detección de frases verificables"
   ]
  },
  {
   "cell_type": "code",
   "execution_count": 26,
   "metadata": {},
   "outputs": [],
   "source": [
    "import os\n",
    "from os.path import join, exists\n",
    "os.chdir(\"..\")"
   ]
  },
  {
   "cell_type": "code",
   "execution_count": 50,
   "metadata": {},
   "outputs": [],
   "source": [
    "import pandas as pd\n",
    "import transformers\n",
    "import plotly.express as px\n",
    "\n",
    "# Preprocessing\n",
    "from src.preprocess import translate_google as translator\n",
    "from src.preprocess import preprocess_spacy as nlp_prep\n",
    "from src.preprocess import prepare_model_data as model_prep\n",
    "\n",
    "# Model\n",
    "from src.model import finetune_bert as trainer\n",
    "from src.model import evaluate_bert as evaluator\n",
    "from src.model import tensorboard_utils\n",
    "\n",
    "# Change transformers logger level\n",
    "transformers.logging.set_verbosity_error()"
   ]
  },
  {
   "cell_type": "code",
   "execution_count": 3,
   "metadata": {},
   "outputs": [],
   "source": [
    "# Path variables\n",
    "data_dirpath = \"/home/agusriscos/verifiable-phrase-detection/data\"\n",
    "raw_input_filepath = join(data_dirpath, \"ml_test_data.csv\")\n",
    "da_input_dirpath = join(data_dirpath, \"data-augmentation/input\")\n",
    "da_output_filepath = join(data_dirpath, \"data-augmentation/output/out_da_train.csv\")\n",
    "\n",
    "training_dirpath = \"/home/agusriscos/verifiable-phrase-detection/training/bert\"\n",
    "trainlog_dirpath = join(training_dirpath, \"train-logs\")\n",
    "testlog_dirpath = join(training_dirpath, \"test-logs\")"
   ]
  },
  {
   "cell_type": "code",
   "execution_count": 4,
   "metadata": {},
   "outputs": [],
   "source": [
    "# Bert model used\n",
    "model_name = \"dccuchile/bert-base-spanish-wwm-cased\" # https://users.dcc.uchile.cl/~jperez/papers/pml4dc2020.pdf"
   ]
  },
  {
   "cell_type": "code",
   "execution_count": 5,
   "metadata": {},
   "outputs": [
    {
     "name": "stdout",
     "output_type": "stream",
     "text": [
      "Number of raw documents: 15000\n"
     ]
    }
   ],
   "source": [
    "# Raw dataframe\n",
    "claim_df = pd.read_csv(raw_input_filepath)\n",
    "print(\"Number of raw documents:\", claim_df.shape[0])"
   ]
  },
  {
   "cell_type": "markdown",
   "metadata": {},
   "source": [
    "## 1. Análisis descriptivo"
   ]
  },
  {
   "cell_type": "markdown",
   "metadata": {},
   "source": [
    "### 1.1 Análisis simple y evaluación de la variable objetivo"
   ]
  },
  {
   "cell_type": "code",
   "execution_count": 6,
   "metadata": {},
   "outputs": [
    {
     "name": "stdout",
     "output_type": "stream",
     "text": [
      "Column \"text\" has 0 missing values\n",
      "Column \"claim\" has 0 missing values\n"
     ]
    }
   ],
   "source": [
    "# Missing values?\n",
    "for column in claim_df.columns:\n",
    "    print(\"Column \\\"{0}\\\" has {1} missing values\".format(column, claim_df[column].isna().sum()))"
   ]
  },
  {
   "cell_type": "code",
   "execution_count": 7,
   "metadata": {},
   "outputs": [
    {
     "data": {
      "image/svg+xml": [
       "<svg class=\"main-svg\" xmlns=\"http://www.w3.org/2000/svg\" xmlns:xlink=\"http://www.w3.org/1999/xlink\" width=\"700\" height=\"500\" style=\"\" viewBox=\"0 0 700 500\"><rect x=\"0\" y=\"0\" width=\"700\" height=\"500\" style=\"fill: rgb(255, 255, 255); fill-opacity: 1;\"/><defs id=\"defs-c95661\"><g class=\"clips\"><clipPath id=\"clipc95661xyplot\" class=\"plotclip\"><rect width=\"540\" height=\"360\"/></clipPath><clipPath class=\"axesclip\" id=\"clipc95661x\"><rect x=\"80\" y=\"0\" width=\"540\" height=\"500\"/></clipPath><clipPath class=\"axesclip\" id=\"clipc95661y\"><rect x=\"0\" y=\"60\" width=\"700\" height=\"360\"/></clipPath><clipPath class=\"axesclip\" id=\"clipc95661xy\"><rect x=\"80\" y=\"60\" width=\"540\" height=\"360\"/></clipPath></g><g class=\"gradients\"/><g class=\"patterns\"/></defs><g class=\"bglayer\"><rect class=\"bg\" x=\"80\" y=\"60\" width=\"540\" height=\"360\" style=\"fill: rgb(229, 236, 246); fill-opacity: 1; stroke-width: 0;\"/></g><g class=\"layer-below\"><g class=\"imagelayer\"/><g class=\"shapelayer\"/></g><g class=\"cartesianlayer\"><g class=\"subplot xy\"><g class=\"layer-subplot\"><g class=\"shapelayer\"/><g class=\"imagelayer\"/></g><g class=\"gridlayer\"><g class=\"x\"/><g class=\"y\"><path class=\"ygrid crisp\" transform=\"translate(0,370.86)\" d=\"M80,0h540\" style=\"stroke: rgb(255, 255, 255); stroke-opacity: 1; stroke-width: 1px;\"/><path class=\"ygrid crisp\" transform=\"translate(0,321.72)\" d=\"M80,0h540\" style=\"stroke: rgb(255, 255, 255); stroke-opacity: 1; stroke-width: 1px;\"/><path class=\"ygrid crisp\" transform=\"translate(0,272.58000000000004)\" d=\"M80,0h540\" style=\"stroke: rgb(255, 255, 255); stroke-opacity: 1; stroke-width: 1px;\"/><path class=\"ygrid crisp\" transform=\"translate(0,223.43)\" d=\"M80,0h540\" style=\"stroke: rgb(255, 255, 255); stroke-opacity: 1; stroke-width: 1px;\"/><path class=\"ygrid crisp\" transform=\"translate(0,174.29000000000002)\" d=\"M80,0h540\" style=\"stroke: rgb(255, 255, 255); stroke-opacity: 1; stroke-width: 1px;\"/><path class=\"ygrid crisp\" transform=\"translate(0,125.15)\" d=\"M80,0h540\" style=\"stroke: rgb(255, 255, 255); stroke-opacity: 1; stroke-width: 1px;\"/><path class=\"ygrid crisp\" transform=\"translate(0,76.01)\" d=\"M80,0h540\" style=\"stroke: rgb(255, 255, 255); stroke-opacity: 1; stroke-width: 1px;\"/></g></g><g class=\"zerolinelayer\"><path class=\"yzl zl crisp\" transform=\"translate(0,420)\" d=\"M80,0h540\" style=\"stroke: rgb(255, 255, 255); stroke-opacity: 1; stroke-width: 2px;\"/></g><path class=\"xlines-below\"/><path class=\"ylines-below\"/><g class=\"overlines-below\"/><g class=\"xaxislayer-below\"/><g class=\"yaxislayer-below\"/><g class=\"overaxes-below\"/><g class=\"plot\" transform=\"translate(80,60)\" clip-path=\"url(#clipc95661xyplot)\"><g class=\"barlayer mlayer\"><g class=\"trace bars\" style=\"opacity: 1;\"><g class=\"points\"><g class=\"point\"><path d=\"M27,360V18H243V360Z\" style=\"vector-effect: non-scaling-stroke; opacity: 1; stroke-width: 0.5px; fill: rgb(14, 191, 140); fill-opacity: 1; stroke: rgb(229, 236, 246); stroke-opacity: 1;\"/></g><g class=\"point\"><path d=\"M297,360V333.44H513V360Z\" style=\"vector-effect: non-scaling-stroke; opacity: 1; stroke-width: 0.5px; fill: rgb(14, 191, 140); fill-opacity: 1; stroke: rgb(229, 236, 246); stroke-opacity: 1;\"/></g></g></g></g></g><g class=\"overplot\"/><path class=\"xlines-above crisp\" d=\"M0,0\" style=\"fill: none;\"/><path class=\"ylines-above crisp\" d=\"M0,0\" style=\"fill: none;\"/><g class=\"overlines-above\"/><g class=\"xaxislayer-above\"><g class=\"xtick\"><text text-anchor=\"middle\" x=\"0\" y=\"433\" transform=\"translate(80,0)\" style=\"font-family: 'Open Sans', verdana, arial, sans-serif; font-size: 12px; fill: rgb(42, 63, 95); fill-opacity: 1; white-space: pre; opacity: 1;\">−0.5</text></g><g class=\"xtick\"><text text-anchor=\"middle\" x=\"0\" y=\"433\" style=\"font-family: 'Open Sans', verdana, arial, sans-serif; font-size: 12px; fill: rgb(42, 63, 95); fill-opacity: 1; white-space: pre; opacity: 1;\" transform=\"translate(215,0)\">0</text></g><g class=\"xtick\"><text text-anchor=\"middle\" x=\"0\" y=\"433\" style=\"font-family: 'Open Sans', verdana, arial, sans-serif; font-size: 12px; fill: rgb(42, 63, 95); fill-opacity: 1; white-space: pre; opacity: 1;\" transform=\"translate(350,0)\">0.5</text></g><g class=\"xtick\"><text text-anchor=\"middle\" x=\"0\" y=\"433\" style=\"font-family: 'Open Sans', verdana, arial, sans-serif; font-size: 12px; fill: rgb(42, 63, 95); fill-opacity: 1; white-space: pre; opacity: 1;\" transform=\"translate(485,0)\">1</text></g><g class=\"xtick\"><text text-anchor=\"middle\" x=\"0\" y=\"433\" style=\"font-family: 'Open Sans', verdana, arial, sans-serif; font-size: 12px; fill: rgb(42, 63, 95); fill-opacity: 1; white-space: pre; opacity: 1;\" transform=\"translate(620,0)\">1.5</text></g></g><g class=\"yaxislayer-above\"><g class=\"ytick\"><text text-anchor=\"end\" x=\"79\" y=\"4.199999999999999\" transform=\"translate(0,420)\" style=\"font-family: 'Open Sans', verdana, arial, sans-serif; font-size: 12px; fill: rgb(42, 63, 95); fill-opacity: 1; white-space: pre; opacity: 1;\">0</text></g><g class=\"ytick\"><text text-anchor=\"end\" x=\"79\" y=\"4.199999999999999\" style=\"font-family: 'Open Sans', verdana, arial, sans-serif; font-size: 12px; fill: rgb(42, 63, 95); fill-opacity: 1; white-space: pre; opacity: 1;\" transform=\"translate(0,370.86)\">2k</text></g><g class=\"ytick\"><text text-anchor=\"end\" x=\"79\" y=\"4.199999999999999\" style=\"font-family: 'Open Sans', verdana, arial, sans-serif; font-size: 12px; fill: rgb(42, 63, 95); fill-opacity: 1; white-space: pre; opacity: 1;\" transform=\"translate(0,321.72)\">4k</text></g><g class=\"ytick\"><text text-anchor=\"end\" x=\"79\" y=\"4.199999999999999\" style=\"font-family: 'Open Sans', verdana, arial, sans-serif; font-size: 12px; fill: rgb(42, 63, 95); fill-opacity: 1; white-space: pre; opacity: 1;\" transform=\"translate(0,272.58000000000004)\">6k</text></g><g class=\"ytick\"><text text-anchor=\"end\" x=\"79\" y=\"4.199999999999999\" style=\"font-family: 'Open Sans', verdana, arial, sans-serif; font-size: 12px; fill: rgb(42, 63, 95); fill-opacity: 1; white-space: pre; opacity: 1;\" transform=\"translate(0,223.43)\">8k</text></g><g class=\"ytick\"><text text-anchor=\"end\" x=\"79\" y=\"4.199999999999999\" style=\"font-family: 'Open Sans', verdana, arial, sans-serif; font-size: 12px; fill: rgb(42, 63, 95); fill-opacity: 1; white-space: pre; opacity: 1;\" transform=\"translate(0,174.29000000000002)\">10k</text></g><g class=\"ytick\"><text text-anchor=\"end\" x=\"79\" y=\"4.199999999999999\" style=\"font-family: 'Open Sans', verdana, arial, sans-serif; font-size: 12px; fill: rgb(42, 63, 95); fill-opacity: 1; white-space: pre; opacity: 1;\" transform=\"translate(0,125.15)\">12k</text></g><g class=\"ytick\"><text text-anchor=\"end\" x=\"79\" y=\"4.199999999999999\" style=\"font-family: 'Open Sans', verdana, arial, sans-serif; font-size: 12px; fill: rgb(42, 63, 95); fill-opacity: 1; white-space: pre; opacity: 1;\" transform=\"translate(0,76.01)\">14k</text></g></g><g class=\"overaxes-above\"/></g></g><g class=\"polarlayer\"/><g class=\"ternarylayer\"/><g class=\"geolayer\"/><g class=\"funnelarealayer\"/><g class=\"pielayer\"/><g class=\"iciclelayer\"/><g class=\"treemaplayer\"/><g class=\"sunburstlayer\"/><g class=\"glimages\"/><defs id=\"topdefs-c95661\"><g class=\"clips\"/></defs><g class=\"layer-above\"><g class=\"imagelayer\"/><g class=\"shapelayer\"/></g><g class=\"infolayer\"><g class=\"g-gtitle\"><text class=\"gtitle\" x=\"35\" y=\"30\" text-anchor=\"start\" dy=\"0em\" style=\"font-family: 'Open Sans', verdana, arial, sans-serif; font-size: 17px; fill: rgb(42, 63, 95); opacity: 1; font-weight: normal; white-space: pre;\">Number of negative/positive sentences</text></g><g class=\"g-xtitle\"><text class=\"xtitle\" x=\"350\" y=\"460.8\" text-anchor=\"middle\" style=\"font-family: 'Open Sans', verdana, arial, sans-serif; font-size: 14px; fill: rgb(42, 63, 95); opacity: 1; font-weight: normal; white-space: pre;\">claim</text></g><g class=\"g-ytitle\"><text class=\"ytitle\" transform=\"rotate(-90,34.840625,240)\" x=\"34.840625\" y=\"240\" text-anchor=\"middle\" style=\"font-family: 'Open Sans', verdana, arial, sans-serif; font-size: 14px; fill: rgb(42, 63, 95); opacity: 1; font-weight: normal; white-space: pre;\"># of texts</text></g></g></svg>"
      ]
     },
     "metadata": {},
     "output_type": "display_data"
    }
   ],
   "source": [
    "# Imbalanced distribution of target variable? YES\n",
    "label_count = claim_df[\"claim\"].value_counts().reset_index()\n",
    "fig = px.bar(label_count, x=\"index\", y=\"claim\")\n",
    "fig.update_traces(marker_color=\"#0ebf8c\")\n",
    "fig.update_layout(title=\"Number of negative/positive sentences\", xaxis_title=\"claim\", yaxis_title=\"# of texts\")\n",
    "fig.show(\"svg\")"
   ]
  },
  {
   "cell_type": "markdown",
   "metadata": {},
   "source": [
    " <strong>Hay desbalance de clases</strong>. Esto afecta al entrenamiento del detector por lo que intentaremos resolver esto más adelante (eliminación de ruido en la clase negativa y 'data augmentation')."
   ]
  },
  {
   "cell_type": "markdown",
   "metadata": {},
   "source": [
    "### 1.2 Análisis de palabras"
   ]
  },
  {
   "cell_type": "markdown",
   "metadata": {},
   "source": [
    "Con este análisis pretendemos identificar diferencias entre clases con respecto a la longitud de sus frases y el número de palabras significativas.  \n",
    "<strong>Reglas para el filtrado de palabras</strong>:\n",
    "  - No se quitan los valores numéricos (dos, 30...) para intentar detectar frases verificables que expresen cantidad. Ejemplo: \"El paro en España ha subido un 20%\" \n",
    "  - No se quitan los pronombres (yo, ellos, nosotros...) para intentar detectar frases no verificables basadas en experiencias personales. Ejemplo: \"Yo hoy me he levantado a las 7 de la mañana\""
   ]
  },
  {
   "cell_type": "code",
   "execution_count": 8,
   "metadata": {},
   "outputs": [],
   "source": [
    "claim_pipeline = nlp_prep.load_processing_pipeline() # load 'es_core_news_sm' model"
   ]
  },
  {
   "cell_type": "code",
   "execution_count": 9,
   "metadata": {},
   "outputs": [],
   "source": [
    "# Count words after simple tokenization (removing punctuation)\n",
    "for token_function, col_name in zip([nlp_prep.tokenize, nlp_prep.filter_significant_words],\n",
    "                                    [\"num_words\", \"num_significant_words\"]):\n",
    "    claim_df[col_name] = claim_df[\"text\"].apply(\n",
    "        lambda x: len(token_function(claim_pipeline, x))\n",
    "    )"
   ]
  },
  {
   "cell_type": "code",
   "execution_count": 10,
   "metadata": {},
   "outputs": [
    {
     "data": {
      "image/svg+xml": [
       "<svg class=\"main-svg\" xmlns=\"http://www.w3.org/2000/svg\" xmlns:xlink=\"http://www.w3.org/1999/xlink\" width=\"700\" height=\"500\" style=\"\" viewBox=\"0 0 700 500\"><rect x=\"0\" y=\"0\" width=\"700\" height=\"500\" style=\"fill: rgb(255, 255, 255); fill-opacity: 1;\"/><defs id=\"defs-cb1850\"><g class=\"clips\"><clipPath id=\"clipcb1850xyplot\" class=\"plotclip\"><rect width=\"540\" height=\"360\"/></clipPath><clipPath class=\"axesclip\" id=\"clipcb1850x\"><rect x=\"80\" y=\"0\" width=\"540\" height=\"500\"/></clipPath><clipPath class=\"axesclip\" id=\"clipcb1850y\"><rect x=\"0\" y=\"60\" width=\"700\" height=\"360\"/></clipPath><clipPath class=\"axesclip\" id=\"clipcb1850xy\"><rect x=\"80\" y=\"60\" width=\"540\" height=\"360\"/></clipPath></g><g class=\"gradients\"/><g class=\"patterns\"/></defs><g class=\"bglayer\"><rect class=\"bg\" x=\"80\" y=\"60\" width=\"540\" height=\"360\" style=\"fill: rgb(229, 236, 246); fill-opacity: 1; stroke-width: 0;\"/></g><g class=\"layer-below\"><g class=\"imagelayer\"/><g class=\"shapelayer\"/></g><g class=\"cartesianlayer\"><g class=\"subplot xy\"><g class=\"layer-subplot\"><g class=\"shapelayer\"/><g class=\"imagelayer\"/></g><g class=\"gridlayer\"><g class=\"x\"/><g class=\"y\"><path class=\"ygrid crisp\" transform=\"translate(0,344.1)\" d=\"M80,0h540\" style=\"stroke: rgb(255, 255, 255); stroke-opacity: 1; stroke-width: 1px;\"/><path class=\"ygrid crisp\" transform=\"translate(0,299.82)\" d=\"M80,0h540\" style=\"stroke: rgb(255, 255, 255); stroke-opacity: 1; stroke-width: 1px;\"/><path class=\"ygrid crisp\" transform=\"translate(0,255.54)\" d=\"M80,0h540\" style=\"stroke: rgb(255, 255, 255); stroke-opacity: 1; stroke-width: 1px;\"/><path class=\"ygrid crisp\" transform=\"translate(0,211.26)\" d=\"M80,0h540\" style=\"stroke: rgb(255, 255, 255); stroke-opacity: 1; stroke-width: 1px;\"/><path class=\"ygrid crisp\" transform=\"translate(0,166.98000000000002)\" d=\"M80,0h540\" style=\"stroke: rgb(255, 255, 255); stroke-opacity: 1; stroke-width: 1px;\"/><path class=\"ygrid crisp\" transform=\"translate(0,122.7)\" d=\"M80,0h540\" style=\"stroke: rgb(255, 255, 255); stroke-opacity: 1; stroke-width: 1px;\"/><path class=\"ygrid crisp\" transform=\"translate(0,78.43)\" d=\"M80,0h540\" style=\"stroke: rgb(255, 255, 255); stroke-opacity: 1; stroke-width: 1px;\"/></g></g><g class=\"zerolinelayer\"><path class=\"yzl zl crisp\" transform=\"translate(0,388.38)\" d=\"M80,0h540\" style=\"stroke: rgb(255, 255, 255); stroke-opacity: 1; stroke-width: 2px;\"/></g><path class=\"xlines-below\"/><path class=\"ylines-below\"/><g class=\"overlines-below\"/><g class=\"xaxislayer-below\"/><g class=\"yaxislayer-below\"/><g class=\"overaxes-below\"/><g class=\"plot\" transform=\"translate(80,60)\" clip-path=\"url(#clipcb1850xyplot)\"><g class=\"violinlayer mlayer\"><g class=\"trace violins\" style=\"opacity: 1;\"><path class=\"violin\" d=\"M135.94,335.44Q136.55,334.38 137,333.9C137.51,333.35 138.15,332.84 138.88,332.36C139.75,331.8 140.79,331.3 141.92,330.82C143.26,330.26 144.8,329.76 146.42,329.28C148.28,328.73 150.34,328.23 152.47,327.74C154.81,327.2 157.34,326.7 159.89,326.2C162.58,325.67 165.41,325.17 168.19,324.66C171,324.14 173.9,323.64 176.67,323.12C179.34,322.61 182.04,322.11 184.54,321.57C186.84,321.08 189.11,320.58 191.14,320.03C192.92,319.55 194.64,319.06 196.09,318.49C197.29,318.02 198.44,317.54 199.28,316.95C199.95,316.48 200.57,315.98 200.87,315.41C201.12,314.93 201.21,314.37 201.15,313.87C201.09,313.35 200.79,312.82 200.48,312.33C200.14,311.79 199.65,311.29 199.16,310.79C198.64,310.26 198.04,309.75 197.44,309.25C196.82,308.73 196.16,308.22 195.51,307.71C194.85,307.19 194.17,306.67 193.5,306.16C192.83,305.64 192.14,305.14 191.47,304.62C190.8,304.11 190.14,303.6 189.49,303.08C188.84,302.57 188.2,302.06 187.57,301.54C186.95,301.03 186.33,300.52 185.73,300C185.14,299.49 184.55,298.98 183.98,298.46C183.42,297.95 182.86,297.44 182.32,296.92C181.78,296.41 181.25,295.9 180.73,295.38C180.22,294.87 179.72,294.36 179.22,293.84C178.73,293.33 178.25,292.82 177.77,292.3C177.29,291.79 176.83,291.27 176.36,290.75C175.9,290.24 175.44,289.72 174.99,289.21C174.54,288.7 174.09,288.18 173.64,287.67C173.2,287.16 172.76,286.64 172.32,286.13C171.89,285.62 171.45,285.11 171.03,284.59C170.61,284.08 170.2,283.57 169.8,283.05C169.4,282.54 169.01,282.02 168.63,281.51C168.25,281 167.87,280.48 167.5,279.97C167.13,279.46 166.78,278.94 166.41,278.43C166.04,277.92 165.68,277.4 165.3,276.89C164.92,276.37 164.54,275.85 164.14,275.34C163.74,274.82 163.32,274.31 162.89,273.8C162.46,273.28 162.02,272.77 161.57,272.26C161.12,271.74 160.65,271.23 160.2,270.72C159.75,270.21 159.3,269.7 158.87,269.18C158.45,268.67 158.03,268.16 157.64,267.64C157.26,267.13 156.9,266.62 156.56,266.1C156.23,265.59 155.93,265.08 155.65,264.56C155.37,264.05 155.12,263.54 154.87,263.02C154.63,262.51 154.41,261.99 154.18,261.48C153.95,260.97 153.74,260.45 153.51,259.94C153.28,259.42 153.05,258.9 152.81,258.39C152.57,257.87 152.31,257.36 152.05,256.85C151.79,256.33 151.51,255.82 151.23,255.31C150.94,254.79 150.64,254.28 150.34,253.77C150.04,253.26 149.73,252.74 149.43,252.23C149.13,251.72 148.82,251.2 148.53,250.69C148.24,250.18 147.94,249.67 147.67,249.15C147.4,248.64 147.14,248.13 146.9,247.61C146.67,247.1 146.45,246.59 146.25,246.07C146.05,245.56 145.87,245.05 145.71,244.53C145.55,244.02 145.41,243.5 145.27,242.98C145.13,242.47 145.02,241.95 144.89,241.44C144.77,240.93 144.65,240.41 144.52,239.9C144.39,239.39 144.27,238.87 144.13,238.36C143.99,237.85 143.84,237.33 143.69,236.82C143.54,236.31 143.37,235.79 143.21,235.28C143.04,234.77 142.87,234.25 142.7,233.74C142.54,233.23 142.37,232.71 142.22,232.2C142.07,231.69 141.92,231.17 141.78,230.66C141.64,230.15 141.51,229.64 141.4,229.12C141.29,228.61 141.19,228.09 141.1,227.57C141.01,227.06 140.92,226.54 140.84,226.03C140.76,225.52 140.69,225 140.62,224.49C140.55,223.98 140.47,223.46 140.4,222.95C140.33,222.44 140.26,221.92 140.18,221.41C140.1,220.9 140.02,220.38 139.94,219.87C139.86,219.36 139.78,218.84 139.69,218.33C139.6,217.82 139.51,217.3 139.42,216.79C139.33,216.28 139.24,215.76 139.15,215.25C139.06,214.74 138.97,214.22 138.88,213.71C138.79,213.19 138.7,212.68 138.61,212.16C138.52,211.65 138.44,211.13 138.36,210.62C138.28,210.11 138.21,209.59 138.14,209.08C138.07,208.57 138,208.05 137.94,207.54C137.88,207.03 137.84,206.51 137.79,206C137.75,205.49 137.7,204.97 137.67,204.46C137.64,203.95 137.62,203.43 137.59,202.92C137.57,202.41 137.54,201.89 137.52,201.38C137.5,200.87 137.47,200.35 137.45,199.84C137.42,199.33 137.4,198.81 137.37,198.3C137.34,197.78 137.31,197.27 137.27,196.75C137.24,196.24 137.2,195.72 137.16,195.21C137.12,194.7 137.09,194.18 137.05,193.67C137.01,193.16 136.97,192.64 136.93,192.13C136.89,191.62 136.86,191.1 136.83,190.59C136.8,190.08 136.76,189.56 136.73,189.05C136.7,188.54 136.67,188.02 136.64,187.51C136.61,187 136.58,186.48 136.55,185.97C136.52,185.46 136.49,184.94 136.46,184.43C136.43,183.92 136.4,183.4 136.38,182.89C136.36,182.37 136.34,181.86 136.32,181.34C136.3,180.83 136.28,180.31 136.27,179.8C136.26,179.29 136.25,178.77 136.24,178.26C136.23,177.75 136.23,177.23 136.23,176.72C136.23,176.21 136.22,175.69 136.22,175.18C136.21,174.67 136.21,174.15 136.2,173.64C136.19,173.13 136.17,172.61 136.16,172.1C136.14,171.59 136.13,171.07 136.11,170.56C136.09,170.05 136.07,169.53 136.05,169.02C136.03,168.51 136,167.99 135.98,167.48C135.96,166.96 135.93,166.45 135.91,165.93C135.89,165.42 135.87,164.9 135.85,164.39C135.83,163.88 135.82,163.36 135.8,162.85C135.78,162.34 135.77,161.82 135.75,161.31C135.74,160.8 135.72,160.28 135.71,159.77C135.7,159.26 135.68,158.74 135.67,158.23C135.66,157.72 135.64,157.2 135.63,156.69C135.62,156.18 135.6,155.66 135.59,155.15C135.58,154.64 135.57,154.12 135.56,153.61C135.55,153.1 135.55,152.58 135.54,152.07C135.53,151.55 135.53,151.04 135.52,150.52C135.51,150.01 135.51,149.49 135.5,148.98C135.5,148.47 135.49,147.95 135.49,147.44C135.49,146.93 135.48,146.41 135.48,145.9C135.48,145.39 135.47,144.87 135.47,144.36C135.46,143.85 135.46,143.33 135.45,142.82C135.45,142.31 135.45,141.79 135.44,141.28C135.43,140.77 135.42,140.25 135.41,139.74C135.4,139.23 135.4,138.71 135.39,138.2C135.38,137.69 135.38,137.17 135.37,136.66C135.36,136.15 135.35,135.63 135.35,135.12C135.34,134.6 135.35,134.09 135.34,133.57C135.34,133.06 135.33,132.54 135.32,132.03C135.31,131.52 135.31,131 135.3,130.49C135.29,129.98 135.29,129.46 135.28,128.95C135.27,128.44 135.26,127.92 135.25,127.41C135.24,126.9 135.23,126.38 135.22,125.87C135.21,125.36 135.21,124.84 135.2,124.33C135.19,123.82 135.19,123.3 135.18,122.79C135.18,122.28 135.17,121.76 135.17,121.25C135.17,120.74 135.16,120.22 135.16,119.71C135.16,119.19 135.16,118.68 135.16,118.16C135.16,117.65 135.16,117.13 135.16,116.62C135.16,116.11 135.15,115.59 135.15,115.08C135.14,114.57 135.14,114.05 135.13,113.54C135.12,113.03 135.12,112.51 135.11,112C135.1,111.49 135.1,110.97 135.09,110.46C135.08,109.95 135.08,109.43 135.07,108.92C135.07,108.41 135.06,107.89 135.06,107.38C135.06,106.87 135.06,106.35 135.06,105.84C135.06,105.33 135.06,104.81 135.06,104.3C135.06,103.78 135.06,103.27 135.06,102.75C135.06,102.24 135.07,101.72 135.07,101.21C135.07,100.7 135.08,100.18 135.08,99.67C135.08,99.16 135.08,98.64 135.08,98.13C135.08,97.62 135.09,97.1 135.09,96.59C135.09,96.08 135.09,95.56 135.09,95.05C135.09,94.54 135.1,94.02 135.1,93.51C135.1,93 135.09,92.48 135.09,91.97C135.09,91.46 135.09,90.94 135.09,90.43C135.09,89.92 135.08,89.4 135.08,88.89C135.07,88.37 135.07,87.86 135.06,87.34C135.06,86.83 135.05,86.31 135.05,85.8C135.05,85.29 135.04,84.77 135.04,84.26C135.04,83.75 135.04,83.23 135.04,82.72C135.04,82.21 135.04,81.69 135.04,81.18C135.04,80.67 135.05,80.15 135.05,79.64C135.05,79.13 135.06,78.61 135.06,78.1C135.06,77.59 135.07,77.07 135.07,76.56C135.07,76.05 135.08,75.53 135.08,75.02C135.08,74.51 135.08,73.99 135.08,73.48C135.08,72.96 135.08,72.45 135.08,71.93C135.08,71.42 135.07,70.9 135.07,70.39C135.07,69.88 135.06,69.36 135.06,68.85C135.06,68.34 135.05,67.82 135.05,67.31C135.05,66.8 135.05,66.28 135.05,65.77C135.05,65.26 135.05,64.74 135.05,64.23C135.05,63.72 135.05,63.2 135.05,62.69C135.05,62.18 135.06,61.66 135.06,61.15C135.06,60.64 135.06,60.12 135.06,59.61C135.06,59.1 135.07,58.58 135.07,58.07C135.07,57.55 135.07,57.04 135.07,56.52C135.07,56.01 135.07,55.49 135.07,54.98C135.07,54.47 135.06,53.95 135.06,53.44C135.06,52.93 135.05,52.41 135.05,51.9C135.05,51.39 135.04,50.87 135.04,50.36C135.04,49.85 135.04,49.33 135.04,48.82C135.04,48.31 135.04,47.79 135.04,47.28C135.04,46.77 135.04,46.25 135.04,45.74C135.04,45.23 135.04,44.71 135.04,44.2C135.04,43.69 135.04,43.17 135.04,42.66C135.04,42.14 135.04,41.63 135.04,41.11C135.04,40.6 135.03,40.08 135.03,39.57C135.03,39.06 135.03,38.54 135.03,38.03C135.03,37.52 135.02,37 135.02,36.49C135.02,35.98 135.02,35.46 135.02,34.95C135.02,34.44 135.02,33.92 135.02,33.41C135.02,32.9 135.02,32.38 135.02,31.87C135.02,31.36 135.02,30.84 135.02,30.33C135.02,29.82 135.02,29.3 135.02,28.79C135.02,28.28 135.02,27.76 135.02,27.25C135.02,26.73 135.02,26.22 135.02,25.7C135.02,25.19 135.02,24.67 135.02,24.16C135.02,23.65 135.01,23.13 135.01,22.62C135.01,22.11 135.01,21.59 135.01,21.08C135.01,20.57 135.01,20.05 135.01,19.54Q135.01,19.03 135,18L135,18Q134.99,19.03 134.99,19.54C134.99,20.05 134.99,20.57 134.99,21.08C134.99,21.59 134.99,22.11 134.99,22.62C134.99,23.13 134.98,23.65 134.98,24.16C134.98,24.67 134.98,25.19 134.98,25.7C134.98,26.22 134.98,26.73 134.98,27.25C134.98,27.76 134.98,28.28 134.98,28.79C134.98,29.3 134.98,29.82 134.98,30.33C134.98,30.84 134.98,31.36 134.98,31.87C134.98,32.38 134.98,32.9 134.98,33.41C134.98,33.92 134.98,34.44 134.98,34.95C134.98,35.46 134.98,35.98 134.98,36.49C134.98,37 134.97,37.52 134.97,38.03C134.97,38.54 134.97,39.06 134.97,39.57C134.97,40.08 134.96,40.6 134.96,41.11C134.96,41.63 134.96,42.14 134.96,42.66C134.96,43.17 134.96,43.69 134.96,44.2C134.96,44.71 134.96,45.23 134.96,45.74C134.96,46.25 134.96,46.77 134.96,47.28C134.96,47.79 134.96,48.31 134.96,48.82C134.96,49.33 134.96,49.85 134.96,50.36C134.96,50.87 134.95,51.39 134.95,51.9C134.95,52.41 134.94,52.93 134.94,53.44C134.94,53.95 134.93,54.47 134.93,54.98C134.93,55.49 134.93,56.01 134.93,56.52C134.93,57.04 134.93,57.55 134.93,58.07C134.93,58.58 134.94,59.1 134.94,59.61C134.94,60.12 134.94,60.64 134.94,61.15C134.94,61.66 134.95,62.18 134.95,62.69C134.95,63.2 134.95,63.72 134.95,64.23C134.95,64.74 134.95,65.26 134.95,65.77C134.95,66.28 134.95,66.8 134.95,67.31C134.95,67.82 134.94,68.34 134.94,68.85C134.94,69.36 134.93,69.88 134.93,70.39C134.93,70.9 134.92,71.42 134.92,71.93C134.92,72.45 134.92,72.96 134.92,73.48C134.92,73.99 134.92,74.51 134.92,75.02C134.92,75.53 134.93,76.05 134.93,76.56C134.93,77.07 134.94,77.59 134.94,78.1C134.94,78.61 134.95,79.13 134.95,79.64C134.95,80.15 134.96,80.67 134.96,81.18C134.96,81.69 134.96,82.21 134.96,82.72C134.96,83.23 134.96,83.75 134.96,84.26C134.96,84.77 134.95,85.29 134.95,85.8C134.95,86.31 134.94,86.83 134.94,87.34C134.93,87.86 134.93,88.37 134.92,88.89C134.92,89.4 134.91,89.92 134.91,90.43C134.91,90.94 134.91,91.46 134.91,91.97C134.91,92.48 134.9,93 134.9,93.51C134.9,94.02 134.91,94.54 134.91,95.05C134.91,95.56 134.91,96.08 134.91,96.59C134.91,97.1 134.92,97.62 134.92,98.13C134.92,98.64 134.92,99.16 134.92,99.67C134.92,100.18 134.93,100.7 134.93,101.21C134.93,101.72 134.94,102.24 134.94,102.75C134.94,103.27 134.94,103.78 134.94,104.3C134.94,104.81 134.94,105.33 134.94,105.84C134.94,106.35 134.94,106.87 134.94,107.38C134.94,107.89 134.93,108.41 134.93,108.92C134.92,109.43 134.92,109.95 134.91,110.46C134.9,110.97 134.9,111.49 134.89,112C134.88,112.51 134.88,113.03 134.87,113.54C134.86,114.05 134.86,114.57 134.85,115.08C134.85,115.59 134.84,116.11 134.84,116.62C134.84,117.13 134.84,117.65 134.84,118.16C134.84,118.68 134.84,119.19 134.84,119.71C134.84,120.22 134.83,120.74 134.83,121.25C134.83,121.76 134.82,122.28 134.82,122.79C134.81,123.3 134.81,123.82 134.8,124.33C134.79,124.84 134.79,125.36 134.78,125.87C134.77,126.38 134.76,126.9 134.75,127.41C134.74,127.92 134.73,128.44 134.72,128.95C134.71,129.46 134.71,129.98 134.7,130.49C134.69,131 134.69,131.52 134.68,132.03C134.67,132.54 134.66,133.06 134.66,133.57C134.65,134.09 134.66,134.6 134.65,135.12C134.65,135.63 134.64,136.15 134.63,136.66C134.62,137.17 134.62,137.69 134.61,138.2C134.6,138.71 134.6,139.23 134.59,139.74C134.58,140.25 134.57,140.77 134.56,141.28C134.55,141.79 134.55,142.31 134.55,142.82C134.54,143.33 134.54,143.85 134.53,144.36C134.53,144.87 134.52,145.39 134.52,145.9C134.52,146.41 134.51,146.93 134.51,147.44C134.51,147.95 134.5,148.47 134.5,148.98C134.49,149.49 134.49,150.01 134.48,150.52C134.47,151.04 134.47,151.55 134.46,152.07C134.45,152.58 134.45,153.1 134.44,153.61C134.43,154.12 134.42,154.64 134.41,155.15C134.4,155.66 134.38,156.18 134.37,156.69C134.36,157.2 134.34,157.72 134.33,158.23C134.32,158.74 134.3,159.26 134.29,159.77C134.28,160.28 134.26,160.8 134.25,161.31C134.23,161.82 134.22,162.34 134.2,162.85C134.18,163.36 134.17,163.88 134.15,164.39C134.13,164.9 134.11,165.42 134.09,165.93C134.07,166.45 134.04,166.96 134.02,167.48C134,167.99 133.97,168.51 133.95,169.02C133.93,169.53 133.91,170.05 133.89,170.56C133.87,171.07 133.86,171.59 133.84,172.1C133.83,172.61 133.81,173.13 133.8,173.64C133.79,174.15 133.79,174.67 133.78,175.18C133.78,175.69 133.77,176.21 133.77,176.72C133.77,177.23 133.77,177.75 133.76,178.26C133.75,178.77 133.74,179.29 133.73,179.8C133.72,180.31 133.7,180.83 133.68,181.34C133.66,181.86 133.64,182.37 133.62,182.89C133.6,183.4 133.57,183.92 133.54,184.43C133.51,184.94 133.48,185.46 133.45,185.97C133.42,186.48 133.39,187 133.36,187.51C133.33,188.02 133.3,188.54 133.27,189.05C133.24,189.56 133.2,190.08 133.17,190.59C133.14,191.1 133.11,191.62 133.07,192.13C133.03,192.64 132.99,193.16 132.95,193.67C132.91,194.18 132.88,194.7 132.84,195.21C132.8,195.72 132.76,196.24 132.73,196.75C132.69,197.27 132.66,197.78 132.63,198.3C132.6,198.81 132.58,199.33 132.55,199.84C132.53,200.35 132.5,200.87 132.48,201.38C132.46,201.89 132.43,202.41 132.41,202.92C132.38,203.43 132.36,203.95 132.33,204.46C132.3,204.97 132.25,205.49 132.21,206C132.16,206.51 132.12,207.03 132.06,207.54C132,208.05 131.93,208.57 131.86,209.08C131.79,209.59 131.72,210.11 131.64,210.62C131.56,211.13 131.48,211.65 131.39,212.16C131.3,212.68 131.21,213.19 131.12,213.71C131.03,214.22 130.94,214.74 130.85,215.25C130.76,215.76 130.67,216.28 130.58,216.79C130.49,217.3 130.4,217.82 130.31,218.33C130.22,218.84 130.14,219.36 130.06,219.87C129.98,220.38 129.9,220.9 129.82,221.41C129.74,221.92 129.67,222.44 129.6,222.95C129.53,223.46 129.45,223.98 129.38,224.49C129.31,225 129.24,225.52 129.16,226.03C129.08,226.54 128.99,227.06 128.9,227.57C128.81,228.09 128.71,228.61 128.6,229.12C128.49,229.64 128.36,230.15 128.22,230.66C128.08,231.17 127.93,231.69 127.78,232.2C127.63,232.71 127.46,233.23 127.3,233.74C127.13,234.25 126.96,234.77 126.79,235.28C126.63,235.79 126.46,236.31 126.31,236.82C126.16,237.33 126.01,237.85 125.87,238.36C125.73,238.87 125.61,239.39 125.48,239.9C125.35,240.41 125.23,240.93 125.11,241.44C124.98,241.95 124.87,242.47 124.73,242.98C124.59,243.5 124.45,244.02 124.29,244.53C124.13,245.05 123.95,245.56 123.75,246.07C123.55,246.59 123.33,247.1 123.1,247.61C122.86,248.13 122.6,248.64 122.33,249.15C122.06,249.67 121.76,250.18 121.47,250.69C121.18,251.2 120.87,251.72 120.57,252.23C120.27,252.74 119.96,253.26 119.66,253.77C119.36,254.28 119.06,254.79 118.77,255.31C118.49,255.82 118.21,256.33 117.95,256.85C117.69,257.36 117.43,257.87 117.19,258.39C116.95,258.9 116.72,259.42 116.49,259.94C116.26,260.45 116.05,260.97 115.82,261.48C115.59,261.99 115.37,262.51 115.13,263.02C114.88,263.54 114.63,264.05 114.35,264.56C114.07,265.08 113.77,265.59 113.44,266.1C113.1,266.62 112.74,267.13 112.36,267.64C111.97,268.16 111.55,268.67 111.13,269.18C110.7,269.7 110.25,270.21 109.8,270.72C109.35,271.23 108.88,271.74 108.43,272.26C107.98,272.77 107.54,273.28 107.11,273.8C106.68,274.31 106.26,274.82 105.86,275.34C105.46,275.85 105.08,276.37 104.7,276.89C104.32,277.4 103.96,277.92 103.59,278.43C103.22,278.94 102.87,279.46 102.5,279.97C102.13,280.48 101.75,281 101.37,281.51C100.99,282.02 100.6,282.54 100.2,283.05C99.8,283.57 99.39,284.08 98.97,284.59C98.55,285.11 98.11,285.62 97.68,286.13C97.24,286.64 96.8,287.16 96.36,287.67C95.91,288.18 95.46,288.7 95.01,289.21C94.56,289.72 94.1,290.24 93.64,290.75C93.17,291.27 92.71,291.79 92.23,292.3C91.75,292.82 91.27,293.33 90.78,293.84C90.28,294.36 89.78,294.87 89.27,295.38C88.75,295.9 88.22,296.41 87.68,296.92C87.14,297.44 86.58,297.95 86.02,298.46C85.45,298.98 84.86,299.49 84.27,300C83.67,300.52 83.05,301.03 82.43,301.54C81.8,302.06 81.16,302.57 80.51,303.08C79.86,303.6 79.2,304.11 78.53,304.62C77.86,305.14 77.17,305.64 76.5,306.16C75.83,306.67 75.15,307.19 74.49,307.71C73.84,308.22 73.18,308.73 72.56,309.25C71.96,309.75 71.36,310.26 70.84,310.79C70.35,311.29 69.86,311.79 69.52,312.33C69.21,312.82 68.91,313.35 68.85,313.87C68.79,314.37 68.88,314.93 69.13,315.41C69.43,315.98 70.05,316.48 70.72,316.95C71.56,317.54 72.71,318.02 73.91,318.49C75.36,319.06 77.08,319.55 78.86,320.03C80.89,320.58 83.16,321.08 85.46,321.57C87.96,322.11 90.66,322.61 93.33,323.12C96.1,323.64 99,324.14 101.81,324.66C104.59,325.17 107.42,325.67 110.11,326.2C112.66,326.7 115.19,327.2 117.53,327.74C119.66,328.23 121.72,328.73 123.58,329.28C125.2,329.76 126.74,330.26 128.08,330.82C129.21,331.3 130.25,331.8 131.12,332.36C131.85,332.84 132.49,333.35 133,333.9Q133.45,334.38 134.06,335.44Z\" style=\"vector-effect: non-scaling-stroke; stroke-width: 2px; stroke: rgb(99, 110, 250); stroke-opacity: 1; fill: rgb(99, 110, 250); fill-opacity: 0.5;\"/><path class=\"box\" d=\"M118.46,297.38H151.54M118.46,312.88H151.54V273.03H118.46ZM135,312.88V326.16M135,273.03V213.25\" style=\"vector-effect: non-scaling-stroke; stroke-width: 2px; stroke: rgb(99, 110, 250); stroke-opacity: 1; fill: rgb(99, 110, 250); fill-opacity: 0.5;\"/><g class=\"points\"><path class=\"point\" transform=\"translate(135,211.04)\" d=\"M3,0A3,3 0 1,1 0,-3A3,3 0 0,1 3,0Z\" style=\"opacity: 1; stroke-width: 0px; fill: rgb(99, 110, 250); fill-opacity: 1;\"/><path class=\"point\" transform=\"translate(135,211.04)\" d=\"M3,0A3,3 0 1,1 0,-3A3,3 0 0,1 3,0Z\" style=\"opacity: 1; stroke-width: 0px; fill: rgb(99, 110, 250); fill-opacity: 1;\"/><path class=\"point\" transform=\"translate(135,211.04)\" d=\"M3,0A3,3 0 1,1 0,-3A3,3 0 0,1 3,0Z\" style=\"opacity: 1; stroke-width: 0px; fill: rgb(99, 110, 250); fill-opacity: 1;\"/><path class=\"point\" transform=\"translate(135,211.04)\" d=\"M3,0A3,3 0 1,1 0,-3A3,3 0 0,1 3,0Z\" style=\"opacity: 1; stroke-width: 0px; fill: rgb(99, 110, 250); fill-opacity: 1;\"/><path class=\"point\" transform=\"translate(135,211.04)\" d=\"M3,0A3,3 0 1,1 0,-3A3,3 0 0,1 3,0Z\" style=\"opacity: 1; stroke-width: 0px; fill: rgb(99, 110, 250); fill-opacity: 1;\"/><path class=\"point\" transform=\"translate(135,211.04)\" d=\"M3,0A3,3 0 1,1 0,-3A3,3 0 0,1 3,0Z\" style=\"opacity: 1; stroke-width: 0px; fill: rgb(99, 110, 250); fill-opacity: 1;\"/><path class=\"point\" transform=\"translate(135,211.04)\" d=\"M3,0A3,3 0 1,1 0,-3A3,3 0 0,1 3,0Z\" style=\"opacity: 1; stroke-width: 0px; fill: rgb(99, 110, 250); fill-opacity: 1;\"/><path class=\"point\" transform=\"translate(135,211.04)\" d=\"M3,0A3,3 0 1,1 0,-3A3,3 0 0,1 3,0Z\" style=\"opacity: 1; stroke-width: 0px; fill: rgb(99, 110, 250); fill-opacity: 1;\"/><path class=\"point\" transform=\"translate(135,211.04)\" d=\"M3,0A3,3 0 1,1 0,-3A3,3 0 0,1 3,0Z\" style=\"opacity: 1; stroke-width: 0px; fill: rgb(99, 110, 250); fill-opacity: 1;\"/><path class=\"point\" transform=\"translate(135,211.04)\" d=\"M3,0A3,3 0 1,1 0,-3A3,3 0 0,1 3,0Z\" style=\"opacity: 1; stroke-width: 0px; fill: rgb(99, 110, 250); fill-opacity: 1;\"/><path class=\"point\" transform=\"translate(135,211.04)\" d=\"M3,0A3,3 0 1,1 0,-3A3,3 0 0,1 3,0Z\" style=\"opacity: 1; stroke-width: 0px; fill: rgb(99, 110, 250); fill-opacity: 1;\"/><path class=\"point\" transform=\"translate(135,211.04)\" d=\"M3,0A3,3 0 1,1 0,-3A3,3 0 0,1 3,0Z\" style=\"opacity: 1; stroke-width: 0px; fill: rgb(99, 110, 250); fill-opacity: 1;\"/><path class=\"point\" transform=\"translate(135,211.04)\" d=\"M3,0A3,3 0 1,1 0,-3A3,3 0 0,1 3,0Z\" style=\"opacity: 1; stroke-width: 0px; fill: rgb(99, 110, 250); fill-opacity: 1;\"/><path class=\"point\" transform=\"translate(135,211.04)\" d=\"M3,0A3,3 0 1,1 0,-3A3,3 0 0,1 3,0Z\" style=\"opacity: 1; stroke-width: 0px; fill: rgb(99, 110, 250); fill-opacity: 1;\"/><path class=\"point\" transform=\"translate(135,211.04)\" d=\"M3,0A3,3 0 1,1 0,-3A3,3 0 0,1 3,0Z\" style=\"opacity: 1; stroke-width: 0px; fill: rgb(99, 110, 250); fill-opacity: 1;\"/><path class=\"point\" transform=\"translate(135,211.04)\" d=\"M3,0A3,3 0 1,1 0,-3A3,3 0 0,1 3,0Z\" style=\"opacity: 1; stroke-width: 0px; fill: rgb(99, 110, 250); fill-opacity: 1;\"/><path class=\"point\" transform=\"translate(135,211.04)\" d=\"M3,0A3,3 0 1,1 0,-3A3,3 0 0,1 3,0Z\" style=\"opacity: 1; stroke-width: 0px; fill: rgb(99, 110, 250); fill-opacity: 1;\"/><path class=\"point\" transform=\"translate(135,211.04)\" d=\"M3,0A3,3 0 1,1 0,-3A3,3 0 0,1 3,0Z\" style=\"opacity: 1; stroke-width: 0px; fill: rgb(99, 110, 250); fill-opacity: 1;\"/><path class=\"point\" transform=\"translate(135,211.04)\" d=\"M3,0A3,3 0 1,1 0,-3A3,3 0 0,1 3,0Z\" style=\"opacity: 1; stroke-width: 0px; fill: rgb(99, 110, 250); fill-opacity: 1;\"/><path class=\"point\" transform=\"translate(135,211.04)\" d=\"M3,0A3,3 0 1,1 0,-3A3,3 0 0,1 3,0Z\" style=\"opacity: 1; stroke-width: 0px; fill: rgb(99, 110, 250); fill-opacity: 1;\"/><path class=\"point\" transform=\"translate(135,211.04)\" d=\"M3,0A3,3 0 1,1 0,-3A3,3 0 0,1 3,0Z\" style=\"opacity: 1; stroke-width: 0px; fill: rgb(99, 110, 250); fill-opacity: 1;\"/><path class=\"point\" transform=\"translate(135,211.04)\" d=\"M3,0A3,3 0 1,1 0,-3A3,3 0 0,1 3,0Z\" style=\"opacity: 1; stroke-width: 0px; fill: rgb(99, 110, 250); fill-opacity: 1;\"/><path class=\"point\" transform=\"translate(135,211.04)\" d=\"M3,0A3,3 0 1,1 0,-3A3,3 0 0,1 3,0Z\" style=\"opacity: 1; stroke-width: 0px; fill: rgb(99, 110, 250); fill-opacity: 1;\"/><path class=\"point\" transform=\"translate(135,211.04)\" d=\"M3,0A3,3 0 1,1 0,-3A3,3 0 0,1 3,0Z\" style=\"opacity: 1; stroke-width: 0px; fill: rgb(99, 110, 250); fill-opacity: 1;\"/><path class=\"point\" transform=\"translate(135,211.04)\" d=\"M3,0A3,3 0 1,1 0,-3A3,3 0 0,1 3,0Z\" style=\"opacity: 1; stroke-width: 0px; fill: rgb(99, 110, 250); fill-opacity: 1;\"/><path class=\"point\" transform=\"translate(135,211.04)\" d=\"M3,0A3,3 0 1,1 0,-3A3,3 0 0,1 3,0Z\" style=\"opacity: 1; stroke-width: 0px; fill: rgb(99, 110, 250); fill-opacity: 1;\"/><path class=\"point\" transform=\"translate(135,211.04)\" d=\"M3,0A3,3 0 1,1 0,-3A3,3 0 0,1 3,0Z\" style=\"opacity: 1; stroke-width: 0px; fill: rgb(99, 110, 250); fill-opacity: 1;\"/><path class=\"point\" transform=\"translate(135,211.04)\" d=\"M3,0A3,3 0 1,1 0,-3A3,3 0 0,1 3,0Z\" style=\"opacity: 1; stroke-width: 0px; fill: rgb(99, 110, 250); fill-opacity: 1;\"/><path class=\"point\" transform=\"translate(135,211.04)\" d=\"M3,0A3,3 0 1,1 0,-3A3,3 0 0,1 3,0Z\" style=\"opacity: 1; stroke-width: 0px; fill: rgb(99, 110, 250); fill-opacity: 1;\"/><path class=\"point\" transform=\"translate(135,211.04)\" d=\"M3,0A3,3 0 1,1 0,-3A3,3 0 0,1 3,0Z\" style=\"opacity: 1; stroke-width: 0px; fill: rgb(99, 110, 250); fill-opacity: 1;\"/><path class=\"point\" transform=\"translate(135,211.04)\" d=\"M3,0A3,3 0 1,1 0,-3A3,3 0 0,1 3,0Z\" style=\"opacity: 1; stroke-width: 0px; fill: rgb(99, 110, 250); fill-opacity: 1;\"/><path class=\"point\" transform=\"translate(135,211.04)\" d=\"M3,0A3,3 0 1,1 0,-3A3,3 0 0,1 3,0Z\" style=\"opacity: 1; stroke-width: 0px; fill: rgb(99, 110, 250); fill-opacity: 1;\"/><path class=\"point\" transform=\"translate(135,208.82)\" d=\"M3,0A3,3 0 1,1 0,-3A3,3 0 0,1 3,0Z\" style=\"opacity: 1; stroke-width: 0px; fill: rgb(99, 110, 250); fill-opacity: 1;\"/><path class=\"point\" transform=\"translate(135,208.82)\" d=\"M3,0A3,3 0 1,1 0,-3A3,3 0 0,1 3,0Z\" style=\"opacity: 1; stroke-width: 0px; fill: rgb(99, 110, 250); fill-opacity: 1;\"/><path class=\"point\" transform=\"translate(135,208.82)\" d=\"M3,0A3,3 0 1,1 0,-3A3,3 0 0,1 3,0Z\" style=\"opacity: 1; stroke-width: 0px; fill: rgb(99, 110, 250); fill-opacity: 1;\"/><path class=\"point\" transform=\"translate(135,208.82)\" d=\"M3,0A3,3 0 1,1 0,-3A3,3 0 0,1 3,0Z\" style=\"opacity: 1; stroke-width: 0px; fill: rgb(99, 110, 250); fill-opacity: 1;\"/><path class=\"point\" transform=\"translate(135,208.82)\" d=\"M3,0A3,3 0 1,1 0,-3A3,3 0 0,1 3,0Z\" style=\"opacity: 1; stroke-width: 0px; fill: rgb(99, 110, 250); fill-opacity: 1;\"/><path class=\"point\" transform=\"translate(135,208.82)\" d=\"M3,0A3,3 0 1,1 0,-3A3,3 0 0,1 3,0Z\" style=\"opacity: 1; stroke-width: 0px; fill: rgb(99, 110, 250); fill-opacity: 1;\"/><path class=\"point\" transform=\"translate(135,208.82)\" d=\"M3,0A3,3 0 1,1 0,-3A3,3 0 0,1 3,0Z\" style=\"opacity: 1; stroke-width: 0px; fill: rgb(99, 110, 250); fill-opacity: 1;\"/><path class=\"point\" transform=\"translate(135,208.82)\" d=\"M3,0A3,3 0 1,1 0,-3A3,3 0 0,1 3,0Z\" style=\"opacity: 1; stroke-width: 0px; fill: rgb(99, 110, 250); fill-opacity: 1;\"/><path class=\"point\" transform=\"translate(135,208.82)\" d=\"M3,0A3,3 0 1,1 0,-3A3,3 0 0,1 3,0Z\" style=\"opacity: 1; stroke-width: 0px; fill: rgb(99, 110, 250); fill-opacity: 1;\"/><path class=\"point\" transform=\"translate(135,208.82)\" d=\"M3,0A3,3 0 1,1 0,-3A3,3 0 0,1 3,0Z\" style=\"opacity: 1; stroke-width: 0px; fill: rgb(99, 110, 250); fill-opacity: 1;\"/><path class=\"point\" transform=\"translate(135,208.82)\" d=\"M3,0A3,3 0 1,1 0,-3A3,3 0 0,1 3,0Z\" style=\"opacity: 1; stroke-width: 0px; fill: rgb(99, 110, 250); fill-opacity: 1;\"/><path class=\"point\" transform=\"translate(135,208.82)\" d=\"M3,0A3,3 0 1,1 0,-3A3,3 0 0,1 3,0Z\" style=\"opacity: 1; stroke-width: 0px; fill: rgb(99, 110, 250); fill-opacity: 1;\"/><path class=\"point\" transform=\"translate(135,208.82)\" d=\"M3,0A3,3 0 1,1 0,-3A3,3 0 0,1 3,0Z\" style=\"opacity: 1; stroke-width: 0px; fill: rgb(99, 110, 250); fill-opacity: 1;\"/><path class=\"point\" transform=\"translate(135,208.82)\" d=\"M3,0A3,3 0 1,1 0,-3A3,3 0 0,1 3,0Z\" style=\"opacity: 1; stroke-width: 0px; fill: rgb(99, 110, 250); fill-opacity: 1;\"/><path class=\"point\" transform=\"translate(135,208.82)\" d=\"M3,0A3,3 0 1,1 0,-3A3,3 0 0,1 3,0Z\" style=\"opacity: 1; stroke-width: 0px; fill: rgb(99, 110, 250); fill-opacity: 1;\"/><path class=\"point\" transform=\"translate(135,208.82)\" d=\"M3,0A3,3 0 1,1 0,-3A3,3 0 0,1 3,0Z\" style=\"opacity: 1; stroke-width: 0px; fill: rgb(99, 110, 250); fill-opacity: 1;\"/><path class=\"point\" transform=\"translate(135,208.82)\" d=\"M3,0A3,3 0 1,1 0,-3A3,3 0 0,1 3,0Z\" style=\"opacity: 1; stroke-width: 0px; fill: rgb(99, 110, 250); fill-opacity: 1;\"/><path class=\"point\" transform=\"translate(135,208.82)\" d=\"M3,0A3,3 0 1,1 0,-3A3,3 0 0,1 3,0Z\" style=\"opacity: 1; stroke-width: 0px; fill: rgb(99, 110, 250); fill-opacity: 1;\"/><path class=\"point\" transform=\"translate(135,208.82)\" d=\"M3,0A3,3 0 1,1 0,-3A3,3 0 0,1 3,0Z\" style=\"opacity: 1; stroke-width: 0px; fill: rgb(99, 110, 250); fill-opacity: 1;\"/><path class=\"point\" transform=\"translate(135,208.82)\" d=\"M3,0A3,3 0 1,1 0,-3A3,3 0 0,1 3,0Z\" style=\"opacity: 1; stroke-width: 0px; fill: rgb(99, 110, 250); fill-opacity: 1;\"/><path class=\"point\" transform=\"translate(135,208.82)\" d=\"M3,0A3,3 0 1,1 0,-3A3,3 0 0,1 3,0Z\" style=\"opacity: 1; stroke-width: 0px; fill: rgb(99, 110, 250); fill-opacity: 1;\"/><path class=\"point\" transform=\"translate(135,208.82)\" d=\"M3,0A3,3 0 1,1 0,-3A3,3 0 0,1 3,0Z\" style=\"opacity: 1; stroke-width: 0px; fill: rgb(99, 110, 250); fill-opacity: 1;\"/><path class=\"point\" transform=\"translate(135,208.82)\" d=\"M3,0A3,3 0 1,1 0,-3A3,3 0 0,1 3,0Z\" style=\"opacity: 1; stroke-width: 0px; fill: rgb(99, 110, 250); fill-opacity: 1;\"/><path class=\"point\" transform=\"translate(135,208.82)\" d=\"M3,0A3,3 0 1,1 0,-3A3,3 0 0,1 3,0Z\" style=\"opacity: 1; stroke-width: 0px; fill: rgb(99, 110, 250); fill-opacity: 1;\"/><path class=\"point\" transform=\"translate(135,208.82)\" d=\"M3,0A3,3 0 1,1 0,-3A3,3 0 0,1 3,0Z\" style=\"opacity: 1; stroke-width: 0px; fill: rgb(99, 110, 250); fill-opacity: 1;\"/><path class=\"point\" transform=\"translate(135,208.82)\" d=\"M3,0A3,3 0 1,1 0,-3A3,3 0 0,1 3,0Z\" style=\"opacity: 1; stroke-width: 0px; fill: rgb(99, 110, 250); fill-opacity: 1;\"/><path class=\"point\" transform=\"translate(135,208.82)\" d=\"M3,0A3,3 0 1,1 0,-3A3,3 0 0,1 3,0Z\" style=\"opacity: 1; stroke-width: 0px; fill: rgb(99, 110, 250); fill-opacity: 1;\"/><path class=\"point\" transform=\"translate(135,206.61)\" d=\"M3,0A3,3 0 1,1 0,-3A3,3 0 0,1 3,0Z\" style=\"opacity: 1; stroke-width: 0px; fill: rgb(99, 110, 250); fill-opacity: 1;\"/><path class=\"point\" transform=\"translate(135,206.61)\" d=\"M3,0A3,3 0 1,1 0,-3A3,3 0 0,1 3,0Z\" style=\"opacity: 1; stroke-width: 0px; fill: rgb(99, 110, 250); fill-opacity: 1;\"/><path class=\"point\" transform=\"translate(135,206.61)\" d=\"M3,0A3,3 0 1,1 0,-3A3,3 0 0,1 3,0Z\" style=\"opacity: 1; stroke-width: 0px; fill: rgb(99, 110, 250); fill-opacity: 1;\"/><path class=\"point\" transform=\"translate(135,206.61)\" d=\"M3,0A3,3 0 1,1 0,-3A3,3 0 0,1 3,0Z\" style=\"opacity: 1; stroke-width: 0px; fill: rgb(99, 110, 250); fill-opacity: 1;\"/><path class=\"point\" transform=\"translate(135,206.61)\" d=\"M3,0A3,3 0 1,1 0,-3A3,3 0 0,1 3,0Z\" style=\"opacity: 1; stroke-width: 0px; fill: rgb(99, 110, 250); fill-opacity: 1;\"/><path class=\"point\" transform=\"translate(135,206.61)\" d=\"M3,0A3,3 0 1,1 0,-3A3,3 0 0,1 3,0Z\" style=\"opacity: 1; stroke-width: 0px; fill: rgb(99, 110, 250); fill-opacity: 1;\"/><path class=\"point\" transform=\"translate(135,206.61)\" d=\"M3,0A3,3 0 1,1 0,-3A3,3 0 0,1 3,0Z\" style=\"opacity: 1; stroke-width: 0px; fill: rgb(99, 110, 250); fill-opacity: 1;\"/><path class=\"point\" transform=\"translate(135,206.61)\" d=\"M3,0A3,3 0 1,1 0,-3A3,3 0 0,1 3,0Z\" style=\"opacity: 1; stroke-width: 0px; fill: rgb(99, 110, 250); fill-opacity: 1;\"/><path class=\"point\" transform=\"translate(135,206.61)\" d=\"M3,0A3,3 0 1,1 0,-3A3,3 0 0,1 3,0Z\" style=\"opacity: 1; stroke-width: 0px; fill: rgb(99, 110, 250); fill-opacity: 1;\"/><path class=\"point\" transform=\"translate(135,206.61)\" d=\"M3,0A3,3 0 1,1 0,-3A3,3 0 0,1 3,0Z\" style=\"opacity: 1; stroke-width: 0px; fill: rgb(99, 110, 250); fill-opacity: 1;\"/><path class=\"point\" transform=\"translate(135,206.61)\" d=\"M3,0A3,3 0 1,1 0,-3A3,3 0 0,1 3,0Z\" style=\"opacity: 1; stroke-width: 0px; fill: rgb(99, 110, 250); fill-opacity: 1;\"/><path class=\"point\" transform=\"translate(135,206.61)\" d=\"M3,0A3,3 0 1,1 0,-3A3,3 0 0,1 3,0Z\" style=\"opacity: 1; stroke-width: 0px; fill: rgb(99, 110, 250); fill-opacity: 1;\"/><path class=\"point\" transform=\"translate(135,206.61)\" d=\"M3,0A3,3 0 1,1 0,-3A3,3 0 0,1 3,0Z\" style=\"opacity: 1; stroke-width: 0px; fill: rgb(99, 110, 250); fill-opacity: 1;\"/><path class=\"point\" transform=\"translate(135,206.61)\" d=\"M3,0A3,3 0 1,1 0,-3A3,3 0 0,1 3,0Z\" style=\"opacity: 1; stroke-width: 0px; fill: rgb(99, 110, 250); fill-opacity: 1;\"/><path class=\"point\" transform=\"translate(135,206.61)\" d=\"M3,0A3,3 0 1,1 0,-3A3,3 0 0,1 3,0Z\" style=\"opacity: 1; stroke-width: 0px; fill: rgb(99, 110, 250); fill-opacity: 1;\"/><path class=\"point\" transform=\"translate(135,206.61)\" d=\"M3,0A3,3 0 1,1 0,-3A3,3 0 0,1 3,0Z\" style=\"opacity: 1; stroke-width: 0px; fill: rgb(99, 110, 250); fill-opacity: 1;\"/><path class=\"point\" transform=\"translate(135,206.61)\" d=\"M3,0A3,3 0 1,1 0,-3A3,3 0 0,1 3,0Z\" style=\"opacity: 1; stroke-width: 0px; fill: rgb(99, 110, 250); fill-opacity: 1;\"/><path class=\"point\" transform=\"translate(135,206.61)\" d=\"M3,0A3,3 0 1,1 0,-3A3,3 0 0,1 3,0Z\" style=\"opacity: 1; stroke-width: 0px; fill: rgb(99, 110, 250); fill-opacity: 1;\"/><path class=\"point\" transform=\"translate(135,206.61)\" d=\"M3,0A3,3 0 1,1 0,-3A3,3 0 0,1 3,0Z\" style=\"opacity: 1; stroke-width: 0px; fill: rgb(99, 110, 250); fill-opacity: 1;\"/><path class=\"point\" transform=\"translate(135,206.61)\" d=\"M3,0A3,3 0 1,1 0,-3A3,3 0 0,1 3,0Z\" style=\"opacity: 1; stroke-width: 0px; fill: rgb(99, 110, 250); fill-opacity: 1;\"/><path class=\"point\" transform=\"translate(135,206.61)\" d=\"M3,0A3,3 0 1,1 0,-3A3,3 0 0,1 3,0Z\" style=\"opacity: 1; stroke-width: 0px; fill: rgb(99, 110, 250); fill-opacity: 1;\"/><path class=\"point\" transform=\"translate(135,206.61)\" d=\"M3,0A3,3 0 1,1 0,-3A3,3 0 0,1 3,0Z\" style=\"opacity: 1; stroke-width: 0px; fill: rgb(99, 110, 250); fill-opacity: 1;\"/><path class=\"point\" transform=\"translate(135,206.61)\" d=\"M3,0A3,3 0 1,1 0,-3A3,3 0 0,1 3,0Z\" style=\"opacity: 1; stroke-width: 0px; fill: rgb(99, 110, 250); fill-opacity: 1;\"/><path class=\"point\" transform=\"translate(135,204.4)\" d=\"M3,0A3,3 0 1,1 0,-3A3,3 0 0,1 3,0Z\" style=\"opacity: 1; stroke-width: 0px; fill: rgb(99, 110, 250); fill-opacity: 1;\"/><path class=\"point\" transform=\"translate(135,204.4)\" d=\"M3,0A3,3 0 1,1 0,-3A3,3 0 0,1 3,0Z\" style=\"opacity: 1; stroke-width: 0px; fill: rgb(99, 110, 250); fill-opacity: 1;\"/><path class=\"point\" transform=\"translate(135,204.4)\" d=\"M3,0A3,3 0 1,1 0,-3A3,3 0 0,1 3,0Z\" style=\"opacity: 1; stroke-width: 0px; fill: rgb(99, 110, 250); fill-opacity: 1;\"/><path class=\"point\" transform=\"translate(135,204.4)\" d=\"M3,0A3,3 0 1,1 0,-3A3,3 0 0,1 3,0Z\" style=\"opacity: 1; stroke-width: 0px; fill: rgb(99, 110, 250); fill-opacity: 1;\"/><path class=\"point\" transform=\"translate(135,204.4)\" d=\"M3,0A3,3 0 1,1 0,-3A3,3 0 0,1 3,0Z\" style=\"opacity: 1; stroke-width: 0px; fill: rgb(99, 110, 250); fill-opacity: 1;\"/><path class=\"point\" transform=\"translate(135,204.4)\" d=\"M3,0A3,3 0 1,1 0,-3A3,3 0 0,1 3,0Z\" style=\"opacity: 1; stroke-width: 0px; fill: rgb(99, 110, 250); fill-opacity: 1;\"/><path class=\"point\" transform=\"translate(135,204.4)\" d=\"M3,0A3,3 0 1,1 0,-3A3,3 0 0,1 3,0Z\" style=\"opacity: 1; stroke-width: 0px; fill: rgb(99, 110, 250); fill-opacity: 1;\"/><path class=\"point\" transform=\"translate(135,204.4)\" d=\"M3,0A3,3 0 1,1 0,-3A3,3 0 0,1 3,0Z\" style=\"opacity: 1; stroke-width: 0px; fill: rgb(99, 110, 250); fill-opacity: 1;\"/><path class=\"point\" transform=\"translate(135,204.4)\" d=\"M3,0A3,3 0 1,1 0,-3A3,3 0 0,1 3,0Z\" style=\"opacity: 1; stroke-width: 0px; fill: rgb(99, 110, 250); fill-opacity: 1;\"/><path class=\"point\" transform=\"translate(135,204.4)\" d=\"M3,0A3,3 0 1,1 0,-3A3,3 0 0,1 3,0Z\" style=\"opacity: 1; stroke-width: 0px; fill: rgb(99, 110, 250); fill-opacity: 1;\"/><path class=\"point\" transform=\"translate(135,204.4)\" d=\"M3,0A3,3 0 1,1 0,-3A3,3 0 0,1 3,0Z\" style=\"opacity: 1; stroke-width: 0px; fill: rgb(99, 110, 250); fill-opacity: 1;\"/><path class=\"point\" transform=\"translate(135,204.4)\" d=\"M3,0A3,3 0 1,1 0,-3A3,3 0 0,1 3,0Z\" style=\"opacity: 1; stroke-width: 0px; fill: rgb(99, 110, 250); fill-opacity: 1;\"/><path class=\"point\" transform=\"translate(135,204.4)\" d=\"M3,0A3,3 0 1,1 0,-3A3,3 0 0,1 3,0Z\" style=\"opacity: 1; stroke-width: 0px; fill: rgb(99, 110, 250); fill-opacity: 1;\"/><path class=\"point\" transform=\"translate(135,204.4)\" d=\"M3,0A3,3 0 1,1 0,-3A3,3 0 0,1 3,0Z\" style=\"opacity: 1; stroke-width: 0px; fill: rgb(99, 110, 250); fill-opacity: 1;\"/><path class=\"point\" transform=\"translate(135,204.4)\" d=\"M3,0A3,3 0 1,1 0,-3A3,3 0 0,1 3,0Z\" style=\"opacity: 1; stroke-width: 0px; fill: rgb(99, 110, 250); fill-opacity: 1;\"/><path class=\"point\" transform=\"translate(135,204.4)\" d=\"M3,0A3,3 0 1,1 0,-3A3,3 0 0,1 3,0Z\" style=\"opacity: 1; stroke-width: 0px; fill: rgb(99, 110, 250); fill-opacity: 1;\"/><path class=\"point\" transform=\"translate(135,204.4)\" d=\"M3,0A3,3 0 1,1 0,-3A3,3 0 0,1 3,0Z\" style=\"opacity: 1; stroke-width: 0px; fill: rgb(99, 110, 250); fill-opacity: 1;\"/><path class=\"point\" transform=\"translate(135,204.4)\" d=\"M3,0A3,3 0 1,1 0,-3A3,3 0 0,1 3,0Z\" style=\"opacity: 1; stroke-width: 0px; fill: rgb(99, 110, 250); fill-opacity: 1;\"/><path class=\"point\" transform=\"translate(135,204.4)\" d=\"M3,0A3,3 0 1,1 0,-3A3,3 0 0,1 3,0Z\" style=\"opacity: 1; stroke-width: 0px; fill: rgb(99, 110, 250); fill-opacity: 1;\"/><path class=\"point\" transform=\"translate(135,204.4)\" d=\"M3,0A3,3 0 1,1 0,-3A3,3 0 0,1 3,0Z\" style=\"opacity: 1; stroke-width: 0px; fill: rgb(99, 110, 250); fill-opacity: 1;\"/><path class=\"point\" transform=\"translate(135,202.18)\" d=\"M3,0A3,3 0 1,1 0,-3A3,3 0 0,1 3,0Z\" style=\"opacity: 1; stroke-width: 0px; fill: rgb(99, 110, 250); fill-opacity: 1;\"/><path class=\"point\" transform=\"translate(135,202.18)\" d=\"M3,0A3,3 0 1,1 0,-3A3,3 0 0,1 3,0Z\" style=\"opacity: 1; stroke-width: 0px; fill: rgb(99, 110, 250); fill-opacity: 1;\"/><path class=\"point\" transform=\"translate(135,202.18)\" d=\"M3,0A3,3 0 1,1 0,-3A3,3 0 0,1 3,0Z\" style=\"opacity: 1; stroke-width: 0px; fill: rgb(99, 110, 250); fill-opacity: 1;\"/><path class=\"point\" transform=\"translate(135,202.18)\" d=\"M3,0A3,3 0 1,1 0,-3A3,3 0 0,1 3,0Z\" style=\"opacity: 1; stroke-width: 0px; fill: rgb(99, 110, 250); fill-opacity: 1;\"/><path class=\"point\" transform=\"translate(135,202.18)\" d=\"M3,0A3,3 0 1,1 0,-3A3,3 0 0,1 3,0Z\" style=\"opacity: 1; stroke-width: 0px; fill: rgb(99, 110, 250); fill-opacity: 1;\"/><path class=\"point\" transform=\"translate(135,202.18)\" d=\"M3,0A3,3 0 1,1 0,-3A3,3 0 0,1 3,0Z\" style=\"opacity: 1; stroke-width: 0px; fill: rgb(99, 110, 250); fill-opacity: 1;\"/><path class=\"point\" transform=\"translate(135,202.18)\" d=\"M3,0A3,3 0 1,1 0,-3A3,3 0 0,1 3,0Z\" style=\"opacity: 1; stroke-width: 0px; fill: rgb(99, 110, 250); fill-opacity: 1;\"/><path class=\"point\" transform=\"translate(135,202.18)\" d=\"M3,0A3,3 0 1,1 0,-3A3,3 0 0,1 3,0Z\" style=\"opacity: 1; stroke-width: 0px; fill: rgb(99, 110, 250); fill-opacity: 1;\"/><path class=\"point\" transform=\"translate(135,202.18)\" d=\"M3,0A3,3 0 1,1 0,-3A3,3 0 0,1 3,0Z\" style=\"opacity: 1; stroke-width: 0px; fill: rgb(99, 110, 250); fill-opacity: 1;\"/><path class=\"point\" transform=\"translate(135,202.18)\" d=\"M3,0A3,3 0 1,1 0,-3A3,3 0 0,1 3,0Z\" style=\"opacity: 1; stroke-width: 0px; fill: rgb(99, 110, 250); fill-opacity: 1;\"/><path class=\"point\" transform=\"translate(135,202.18)\" d=\"M3,0A3,3 0 1,1 0,-3A3,3 0 0,1 3,0Z\" style=\"opacity: 1; stroke-width: 0px; fill: rgb(99, 110, 250); fill-opacity: 1;\"/><path class=\"point\" transform=\"translate(135,202.18)\" d=\"M3,0A3,3 0 1,1 0,-3A3,3 0 0,1 3,0Z\" style=\"opacity: 1; stroke-width: 0px; fill: rgb(99, 110, 250); fill-opacity: 1;\"/><path class=\"point\" transform=\"translate(135,202.18)\" d=\"M3,0A3,3 0 1,1 0,-3A3,3 0 0,1 3,0Z\" style=\"opacity: 1; stroke-width: 0px; fill: rgb(99, 110, 250); fill-opacity: 1;\"/><path class=\"point\" transform=\"translate(135,202.18)\" d=\"M3,0A3,3 0 1,1 0,-3A3,3 0 0,1 3,0Z\" style=\"opacity: 1; stroke-width: 0px; fill: rgb(99, 110, 250); fill-opacity: 1;\"/><path class=\"point\" transform=\"translate(135,202.18)\" d=\"M3,0A3,3 0 1,1 0,-3A3,3 0 0,1 3,0Z\" style=\"opacity: 1; stroke-width: 0px; fill: rgb(99, 110, 250); fill-opacity: 1;\"/><path class=\"point\" transform=\"translate(135,202.18)\" d=\"M3,0A3,3 0 1,1 0,-3A3,3 0 0,1 3,0Z\" style=\"opacity: 1; stroke-width: 0px; fill: rgb(99, 110, 250); fill-opacity: 1;\"/><path class=\"point\" transform=\"translate(135,202.18)\" d=\"M3,0A3,3 0 1,1 0,-3A3,3 0 0,1 3,0Z\" style=\"opacity: 1; stroke-width: 0px; fill: rgb(99, 110, 250); fill-opacity: 1;\"/><path class=\"point\" transform=\"translate(135,202.18)\" d=\"M3,0A3,3 0 1,1 0,-3A3,3 0 0,1 3,0Z\" style=\"opacity: 1; stroke-width: 0px; fill: rgb(99, 110, 250); fill-opacity: 1;\"/><path class=\"point\" transform=\"translate(135,202.18)\" d=\"M3,0A3,3 0 1,1 0,-3A3,3 0 0,1 3,0Z\" style=\"opacity: 1; stroke-width: 0px; fill: rgb(99, 110, 250); fill-opacity: 1;\"/><path class=\"point\" transform=\"translate(135,202.18)\" d=\"M3,0A3,3 0 1,1 0,-3A3,3 0 0,1 3,0Z\" style=\"opacity: 1; stroke-width: 0px; fill: rgb(99, 110, 250); fill-opacity: 1;\"/><path class=\"point\" transform=\"translate(135,202.18)\" d=\"M3,0A3,3 0 1,1 0,-3A3,3 0 0,1 3,0Z\" style=\"opacity: 1; stroke-width: 0px; fill: rgb(99, 110, 250); fill-opacity: 1;\"/><path class=\"point\" transform=\"translate(135,199.97)\" d=\"M3,0A3,3 0 1,1 0,-3A3,3 0 0,1 3,0Z\" style=\"opacity: 1; stroke-width: 0px; fill: rgb(99, 110, 250); fill-opacity: 1;\"/><path class=\"point\" transform=\"translate(135,199.97)\" d=\"M3,0A3,3 0 1,1 0,-3A3,3 0 0,1 3,0Z\" style=\"opacity: 1; stroke-width: 0px; fill: rgb(99, 110, 250); fill-opacity: 1;\"/><path class=\"point\" transform=\"translate(135,199.97)\" d=\"M3,0A3,3 0 1,1 0,-3A3,3 0 0,1 3,0Z\" style=\"opacity: 1; stroke-width: 0px; fill: rgb(99, 110, 250); fill-opacity: 1;\"/><path class=\"point\" transform=\"translate(135,199.97)\" d=\"M3,0A3,3 0 1,1 0,-3A3,3 0 0,1 3,0Z\" style=\"opacity: 1; stroke-width: 0px; fill: rgb(99, 110, 250); fill-opacity: 1;\"/><path class=\"point\" transform=\"translate(135,199.97)\" d=\"M3,0A3,3 0 1,1 0,-3A3,3 0 0,1 3,0Z\" style=\"opacity: 1; stroke-width: 0px; fill: rgb(99, 110, 250); fill-opacity: 1;\"/><path class=\"point\" transform=\"translate(135,199.97)\" d=\"M3,0A3,3 0 1,1 0,-3A3,3 0 0,1 3,0Z\" style=\"opacity: 1; stroke-width: 0px; fill: rgb(99, 110, 250); fill-opacity: 1;\"/><path class=\"point\" transform=\"translate(135,199.97)\" d=\"M3,0A3,3 0 1,1 0,-3A3,3 0 0,1 3,0Z\" style=\"opacity: 1; stroke-width: 0px; fill: rgb(99, 110, 250); fill-opacity: 1;\"/><path class=\"point\" transform=\"translate(135,199.97)\" d=\"M3,0A3,3 0 1,1 0,-3A3,3 0 0,1 3,0Z\" style=\"opacity: 1; stroke-width: 0px; fill: rgb(99, 110, 250); fill-opacity: 1;\"/><path class=\"point\" transform=\"translate(135,199.97)\" d=\"M3,0A3,3 0 1,1 0,-3A3,3 0 0,1 3,0Z\" style=\"opacity: 1; stroke-width: 0px; fill: rgb(99, 110, 250); fill-opacity: 1;\"/><path class=\"point\" transform=\"translate(135,199.97)\" d=\"M3,0A3,3 0 1,1 0,-3A3,3 0 0,1 3,0Z\" style=\"opacity: 1; stroke-width: 0px; fill: rgb(99, 110, 250); fill-opacity: 1;\"/><path class=\"point\" transform=\"translate(135,199.97)\" d=\"M3,0A3,3 0 1,1 0,-3A3,3 0 0,1 3,0Z\" style=\"opacity: 1; stroke-width: 0px; fill: rgb(99, 110, 250); fill-opacity: 1;\"/><path class=\"point\" transform=\"translate(135,199.97)\" d=\"M3,0A3,3 0 1,1 0,-3A3,3 0 0,1 3,0Z\" style=\"opacity: 1; stroke-width: 0px; fill: rgb(99, 110, 250); fill-opacity: 1;\"/><path class=\"point\" transform=\"translate(135,199.97)\" d=\"M3,0A3,3 0 1,1 0,-3A3,3 0 0,1 3,0Z\" style=\"opacity: 1; stroke-width: 0px; fill: rgb(99, 110, 250); fill-opacity: 1;\"/><path class=\"point\" transform=\"translate(135,199.97)\" d=\"M3,0A3,3 0 1,1 0,-3A3,3 0 0,1 3,0Z\" style=\"opacity: 1; stroke-width: 0px; fill: rgb(99, 110, 250); fill-opacity: 1;\"/><path class=\"point\" transform=\"translate(135,199.97)\" d=\"M3,0A3,3 0 1,1 0,-3A3,3 0 0,1 3,0Z\" style=\"opacity: 1; stroke-width: 0px; fill: rgb(99, 110, 250); fill-opacity: 1;\"/><path class=\"point\" transform=\"translate(135,199.97)\" d=\"M3,0A3,3 0 1,1 0,-3A3,3 0 0,1 3,0Z\" style=\"opacity: 1; stroke-width: 0px; fill: rgb(99, 110, 250); fill-opacity: 1;\"/><path class=\"point\" transform=\"translate(135,199.97)\" d=\"M3,0A3,3 0 1,1 0,-3A3,3 0 0,1 3,0Z\" style=\"opacity: 1; stroke-width: 0px; fill: rgb(99, 110, 250); fill-opacity: 1;\"/><path class=\"point\" transform=\"translate(135,199.97)\" d=\"M3,0A3,3 0 1,1 0,-3A3,3 0 0,1 3,0Z\" style=\"opacity: 1; stroke-width: 0px; fill: rgb(99, 110, 250); fill-opacity: 1;\"/><path class=\"point\" transform=\"translate(135,199.97)\" d=\"M3,0A3,3 0 1,1 0,-3A3,3 0 0,1 3,0Z\" style=\"opacity: 1; stroke-width: 0px; fill: rgb(99, 110, 250); fill-opacity: 1;\"/><path class=\"point\" transform=\"translate(135,199.97)\" d=\"M3,0A3,3 0 1,1 0,-3A3,3 0 0,1 3,0Z\" style=\"opacity: 1; stroke-width: 0px; fill: rgb(99, 110, 250); fill-opacity: 1;\"/><path class=\"point\" transform=\"translate(135,199.97)\" d=\"M3,0A3,3 0 1,1 0,-3A3,3 0 0,1 3,0Z\" style=\"opacity: 1; stroke-width: 0px; fill: rgb(99, 110, 250); fill-opacity: 1;\"/><path class=\"point\" transform=\"translate(135,199.97)\" d=\"M3,0A3,3 0 1,1 0,-3A3,3 0 0,1 3,0Z\" style=\"opacity: 1; stroke-width: 0px; fill: rgb(99, 110, 250); fill-opacity: 1;\"/><path class=\"point\" transform=\"translate(135,199.97)\" d=\"M3,0A3,3 0 1,1 0,-3A3,3 0 0,1 3,0Z\" style=\"opacity: 1; stroke-width: 0px; fill: rgb(99, 110, 250); fill-opacity: 1;\"/><path class=\"point\" transform=\"translate(135,199.97)\" d=\"M3,0A3,3 0 1,1 0,-3A3,3 0 0,1 3,0Z\" style=\"opacity: 1; stroke-width: 0px; fill: rgb(99, 110, 250); fill-opacity: 1;\"/><path class=\"point\" transform=\"translate(135,199.97)\" d=\"M3,0A3,3 0 1,1 0,-3A3,3 0 0,1 3,0Z\" style=\"opacity: 1; stroke-width: 0px; fill: rgb(99, 110, 250); fill-opacity: 1;\"/><path class=\"point\" transform=\"translate(135,199.97)\" d=\"M3,0A3,3 0 1,1 0,-3A3,3 0 0,1 3,0Z\" style=\"opacity: 1; stroke-width: 0px; fill: rgb(99, 110, 250); fill-opacity: 1;\"/><path class=\"point\" transform=\"translate(135,199.97)\" d=\"M3,0A3,3 0 1,1 0,-3A3,3 0 0,1 3,0Z\" style=\"opacity: 1; stroke-width: 0px; fill: rgb(99, 110, 250); fill-opacity: 1;\"/><path class=\"point\" transform=\"translate(135,199.97)\" d=\"M3,0A3,3 0 1,1 0,-3A3,3 0 0,1 3,0Z\" style=\"opacity: 1; stroke-width: 0px; fill: rgb(99, 110, 250); fill-opacity: 1;\"/><path class=\"point\" transform=\"translate(135,197.75)\" d=\"M3,0A3,3 0 1,1 0,-3A3,3 0 0,1 3,0Z\" style=\"opacity: 1; stroke-width: 0px; fill: rgb(99, 110, 250); fill-opacity: 1;\"/><path class=\"point\" transform=\"translate(135,197.75)\" d=\"M3,0A3,3 0 1,1 0,-3A3,3 0 0,1 3,0Z\" style=\"opacity: 1; stroke-width: 0px; fill: rgb(99, 110, 250); fill-opacity: 1;\"/><path class=\"point\" transform=\"translate(135,197.75)\" d=\"M3,0A3,3 0 1,1 0,-3A3,3 0 0,1 3,0Z\" style=\"opacity: 1; stroke-width: 0px; fill: rgb(99, 110, 250); fill-opacity: 1;\"/><path class=\"point\" transform=\"translate(135,197.75)\" d=\"M3,0A3,3 0 1,1 0,-3A3,3 0 0,1 3,0Z\" style=\"opacity: 1; stroke-width: 0px; fill: rgb(99, 110, 250); fill-opacity: 1;\"/><path class=\"point\" transform=\"translate(135,197.75)\" d=\"M3,0A3,3 0 1,1 0,-3A3,3 0 0,1 3,0Z\" style=\"opacity: 1; stroke-width: 0px; fill: rgb(99, 110, 250); fill-opacity: 1;\"/><path class=\"point\" transform=\"translate(135,197.75)\" d=\"M3,0A3,3 0 1,1 0,-3A3,3 0 0,1 3,0Z\" style=\"opacity: 1; stroke-width: 0px; fill: rgb(99, 110, 250); fill-opacity: 1;\"/><path class=\"point\" transform=\"translate(135,197.75)\" d=\"M3,0A3,3 0 1,1 0,-3A3,3 0 0,1 3,0Z\" style=\"opacity: 1; stroke-width: 0px; fill: rgb(99, 110, 250); fill-opacity: 1;\"/><path class=\"point\" transform=\"translate(135,197.75)\" d=\"M3,0A3,3 0 1,1 0,-3A3,3 0 0,1 3,0Z\" style=\"opacity: 1; stroke-width: 0px; fill: rgb(99, 110, 250); fill-opacity: 1;\"/><path class=\"point\" transform=\"translate(135,197.75)\" d=\"M3,0A3,3 0 1,1 0,-3A3,3 0 0,1 3,0Z\" style=\"opacity: 1; stroke-width: 0px; fill: rgb(99, 110, 250); fill-opacity: 1;\"/><path class=\"point\" transform=\"translate(135,197.75)\" d=\"M3,0A3,3 0 1,1 0,-3A3,3 0 0,1 3,0Z\" style=\"opacity: 1; stroke-width: 0px; fill: rgb(99, 110, 250); fill-opacity: 1;\"/><path class=\"point\" transform=\"translate(135,197.75)\" d=\"M3,0A3,3 0 1,1 0,-3A3,3 0 0,1 3,0Z\" style=\"opacity: 1; stroke-width: 0px; fill: rgb(99, 110, 250); fill-opacity: 1;\"/><path class=\"point\" transform=\"translate(135,197.75)\" d=\"M3,0A3,3 0 1,1 0,-3A3,3 0 0,1 3,0Z\" style=\"opacity: 1; stroke-width: 0px; fill: rgb(99, 110, 250); fill-opacity: 1;\"/><path class=\"point\" transform=\"translate(135,197.75)\" d=\"M3,0A3,3 0 1,1 0,-3A3,3 0 0,1 3,0Z\" style=\"opacity: 1; stroke-width: 0px; fill: rgb(99, 110, 250); fill-opacity: 1;\"/><path class=\"point\" transform=\"translate(135,197.75)\" d=\"M3,0A3,3 0 1,1 0,-3A3,3 0 0,1 3,0Z\" style=\"opacity: 1; stroke-width: 0px; fill: rgb(99, 110, 250); fill-opacity: 1;\"/><path class=\"point\" transform=\"translate(135,197.75)\" d=\"M3,0A3,3 0 1,1 0,-3A3,3 0 0,1 3,0Z\" style=\"opacity: 1; stroke-width: 0px; fill: rgb(99, 110, 250); fill-opacity: 1;\"/><path class=\"point\" transform=\"translate(135,197.75)\" d=\"M3,0A3,3 0 1,1 0,-3A3,3 0 0,1 3,0Z\" style=\"opacity: 1; stroke-width: 0px; fill: rgb(99, 110, 250); fill-opacity: 1;\"/><path class=\"point\" transform=\"translate(135,197.75)\" d=\"M3,0A3,3 0 1,1 0,-3A3,3 0 0,1 3,0Z\" style=\"opacity: 1; stroke-width: 0px; fill: rgb(99, 110, 250); fill-opacity: 1;\"/><path class=\"point\" transform=\"translate(135,197.75)\" d=\"M3,0A3,3 0 1,1 0,-3A3,3 0 0,1 3,0Z\" style=\"opacity: 1; stroke-width: 0px; fill: rgb(99, 110, 250); fill-opacity: 1;\"/><path class=\"point\" transform=\"translate(135,197.75)\" d=\"M3,0A3,3 0 1,1 0,-3A3,3 0 0,1 3,0Z\" style=\"opacity: 1; stroke-width: 0px; fill: rgb(99, 110, 250); fill-opacity: 1;\"/><path class=\"point\" transform=\"translate(135,197.75)\" d=\"M3,0A3,3 0 1,1 0,-3A3,3 0 0,1 3,0Z\" style=\"opacity: 1; stroke-width: 0px; fill: rgb(99, 110, 250); fill-opacity: 1;\"/><path class=\"point\" transform=\"translate(135,197.75)\" d=\"M3,0A3,3 0 1,1 0,-3A3,3 0 0,1 3,0Z\" style=\"opacity: 1; stroke-width: 0px; fill: rgb(99, 110, 250); fill-opacity: 1;\"/><path class=\"point\" transform=\"translate(135,197.75)\" d=\"M3,0A3,3 0 1,1 0,-3A3,3 0 0,1 3,0Z\" style=\"opacity: 1; stroke-width: 0px; fill: rgb(99, 110, 250); fill-opacity: 1;\"/><path class=\"point\" transform=\"translate(135,197.75)\" d=\"M3,0A3,3 0 1,1 0,-3A3,3 0 0,1 3,0Z\" style=\"opacity: 1; stroke-width: 0px; fill: rgb(99, 110, 250); fill-opacity: 1;\"/><path class=\"point\" transform=\"translate(135,195.54)\" d=\"M3,0A3,3 0 1,1 0,-3A3,3 0 0,1 3,0Z\" style=\"opacity: 1; stroke-width: 0px; fill: rgb(99, 110, 250); fill-opacity: 1;\"/><path class=\"point\" transform=\"translate(135,195.54)\" d=\"M3,0A3,3 0 1,1 0,-3A3,3 0 0,1 3,0Z\" style=\"opacity: 1; stroke-width: 0px; fill: rgb(99, 110, 250); fill-opacity: 1;\"/><path class=\"point\" transform=\"translate(135,195.54)\" d=\"M3,0A3,3 0 1,1 0,-3A3,3 0 0,1 3,0Z\" style=\"opacity: 1; stroke-width: 0px; fill: rgb(99, 110, 250); fill-opacity: 1;\"/><path class=\"point\" transform=\"translate(135,195.54)\" d=\"M3,0A3,3 0 1,1 0,-3A3,3 0 0,1 3,0Z\" style=\"opacity: 1; stroke-width: 0px; fill: rgb(99, 110, 250); fill-opacity: 1;\"/><path class=\"point\" transform=\"translate(135,195.54)\" d=\"M3,0A3,3 0 1,1 0,-3A3,3 0 0,1 3,0Z\" style=\"opacity: 1; stroke-width: 0px; fill: rgb(99, 110, 250); fill-opacity: 1;\"/><path class=\"point\" transform=\"translate(135,195.54)\" d=\"M3,0A3,3 0 1,1 0,-3A3,3 0 0,1 3,0Z\" style=\"opacity: 1; stroke-width: 0px; fill: rgb(99, 110, 250); fill-opacity: 1;\"/><path class=\"point\" transform=\"translate(135,195.54)\" d=\"M3,0A3,3 0 1,1 0,-3A3,3 0 0,1 3,0Z\" style=\"opacity: 1; stroke-width: 0px; fill: rgb(99, 110, 250); fill-opacity: 1;\"/><path class=\"point\" transform=\"translate(135,195.54)\" d=\"M3,0A3,3 0 1,1 0,-3A3,3 0 0,1 3,0Z\" style=\"opacity: 1; stroke-width: 0px; fill: rgb(99, 110, 250); fill-opacity: 1;\"/><path class=\"point\" transform=\"translate(135,195.54)\" d=\"M3,0A3,3 0 1,1 0,-3A3,3 0 0,1 3,0Z\" style=\"opacity: 1; stroke-width: 0px; fill: rgb(99, 110, 250); fill-opacity: 1;\"/><path class=\"point\" transform=\"translate(135,195.54)\" d=\"M3,0A3,3 0 1,1 0,-3A3,3 0 0,1 3,0Z\" style=\"opacity: 1; stroke-width: 0px; fill: rgb(99, 110, 250); fill-opacity: 1;\"/><path class=\"point\" transform=\"translate(135,195.54)\" d=\"M3,0A3,3 0 1,1 0,-3A3,3 0 0,1 3,0Z\" style=\"opacity: 1; stroke-width: 0px; fill: rgb(99, 110, 250); fill-opacity: 1;\"/><path class=\"point\" transform=\"translate(135,195.54)\" d=\"M3,0A3,3 0 1,1 0,-3A3,3 0 0,1 3,0Z\" style=\"opacity: 1; stroke-width: 0px; fill: rgb(99, 110, 250); fill-opacity: 1;\"/><path class=\"point\" transform=\"translate(135,195.54)\" d=\"M3,0A3,3 0 1,1 0,-3A3,3 0 0,1 3,0Z\" style=\"opacity: 1; stroke-width: 0px; fill: rgb(99, 110, 250); fill-opacity: 1;\"/><path class=\"point\" transform=\"translate(135,195.54)\" d=\"M3,0A3,3 0 1,1 0,-3A3,3 0 0,1 3,0Z\" style=\"opacity: 1; stroke-width: 0px; fill: rgb(99, 110, 250); fill-opacity: 1;\"/><path class=\"point\" transform=\"translate(135,195.54)\" d=\"M3,0A3,3 0 1,1 0,-3A3,3 0 0,1 3,0Z\" style=\"opacity: 1; stroke-width: 0px; fill: rgb(99, 110, 250); fill-opacity: 1;\"/><path class=\"point\" transform=\"translate(135,195.54)\" d=\"M3,0A3,3 0 1,1 0,-3A3,3 0 0,1 3,0Z\" style=\"opacity: 1; stroke-width: 0px; fill: rgb(99, 110, 250); fill-opacity: 1;\"/><path class=\"point\" transform=\"translate(135,195.54)\" d=\"M3,0A3,3 0 1,1 0,-3A3,3 0 0,1 3,0Z\" style=\"opacity: 1; stroke-width: 0px; fill: rgb(99, 110, 250); fill-opacity: 1;\"/><path class=\"point\" transform=\"translate(135,193.33)\" d=\"M3,0A3,3 0 1,1 0,-3A3,3 0 0,1 3,0Z\" style=\"opacity: 1; stroke-width: 0px; fill: rgb(99, 110, 250); fill-opacity: 1;\"/><path class=\"point\" transform=\"translate(135,193.33)\" d=\"M3,0A3,3 0 1,1 0,-3A3,3 0 0,1 3,0Z\" style=\"opacity: 1; stroke-width: 0px; fill: rgb(99, 110, 250); fill-opacity: 1;\"/><path class=\"point\" transform=\"translate(135,193.33)\" d=\"M3,0A3,3 0 1,1 0,-3A3,3 0 0,1 3,0Z\" style=\"opacity: 1; stroke-width: 0px; fill: rgb(99, 110, 250); fill-opacity: 1;\"/><path class=\"point\" transform=\"translate(135,193.33)\" d=\"M3,0A3,3 0 1,1 0,-3A3,3 0 0,1 3,0Z\" style=\"opacity: 1; stroke-width: 0px; fill: rgb(99, 110, 250); fill-opacity: 1;\"/><path class=\"point\" transform=\"translate(135,193.33)\" d=\"M3,0A3,3 0 1,1 0,-3A3,3 0 0,1 3,0Z\" style=\"opacity: 1; stroke-width: 0px; fill: rgb(99, 110, 250); fill-opacity: 1;\"/><path class=\"point\" transform=\"translate(135,193.33)\" d=\"M3,0A3,3 0 1,1 0,-3A3,3 0 0,1 3,0Z\" style=\"opacity: 1; stroke-width: 0px; fill: rgb(99, 110, 250); fill-opacity: 1;\"/><path class=\"point\" transform=\"translate(135,193.33)\" d=\"M3,0A3,3 0 1,1 0,-3A3,3 0 0,1 3,0Z\" style=\"opacity: 1; stroke-width: 0px; fill: rgb(99, 110, 250); fill-opacity: 1;\"/><path class=\"point\" transform=\"translate(135,193.33)\" d=\"M3,0A3,3 0 1,1 0,-3A3,3 0 0,1 3,0Z\" style=\"opacity: 1; stroke-width: 0px; fill: rgb(99, 110, 250); fill-opacity: 1;\"/><path class=\"point\" transform=\"translate(135,193.33)\" d=\"M3,0A3,3 0 1,1 0,-3A3,3 0 0,1 3,0Z\" style=\"opacity: 1; stroke-width: 0px; fill: rgb(99, 110, 250); fill-opacity: 1;\"/><path class=\"point\" transform=\"translate(135,193.33)\" d=\"M3,0A3,3 0 1,1 0,-3A3,3 0 0,1 3,0Z\" style=\"opacity: 1; stroke-width: 0px; fill: rgb(99, 110, 250); fill-opacity: 1;\"/><path class=\"point\" transform=\"translate(135,193.33)\" d=\"M3,0A3,3 0 1,1 0,-3A3,3 0 0,1 3,0Z\" style=\"opacity: 1; stroke-width: 0px; fill: rgb(99, 110, 250); fill-opacity: 1;\"/><path class=\"point\" transform=\"translate(135,193.33)\" d=\"M3,0A3,3 0 1,1 0,-3A3,3 0 0,1 3,0Z\" style=\"opacity: 1; stroke-width: 0px; fill: rgb(99, 110, 250); fill-opacity: 1;\"/><path class=\"point\" transform=\"translate(135,193.33)\" d=\"M3,0A3,3 0 1,1 0,-3A3,3 0 0,1 3,0Z\" style=\"opacity: 1; stroke-width: 0px; fill: rgb(99, 110, 250); fill-opacity: 1;\"/><path class=\"point\" transform=\"translate(135,193.33)\" d=\"M3,0A3,3 0 1,1 0,-3A3,3 0 0,1 3,0Z\" style=\"opacity: 1; stroke-width: 0px; fill: rgb(99, 110, 250); fill-opacity: 1;\"/><path class=\"point\" transform=\"translate(135,193.33)\" d=\"M3,0A3,3 0 1,1 0,-3A3,3 0 0,1 3,0Z\" style=\"opacity: 1; stroke-width: 0px; fill: rgb(99, 110, 250); fill-opacity: 1;\"/><path class=\"point\" transform=\"translate(135,193.33)\" d=\"M3,0A3,3 0 1,1 0,-3A3,3 0 0,1 3,0Z\" style=\"opacity: 1; stroke-width: 0px; fill: rgb(99, 110, 250); fill-opacity: 1;\"/><path class=\"point\" transform=\"translate(135,193.33)\" d=\"M3,0A3,3 0 1,1 0,-3A3,3 0 0,1 3,0Z\" style=\"opacity: 1; stroke-width: 0px; fill: rgb(99, 110, 250); fill-opacity: 1;\"/><path class=\"point\" transform=\"translate(135,193.33)\" d=\"M3,0A3,3 0 1,1 0,-3A3,3 0 0,1 3,0Z\" style=\"opacity: 1; stroke-width: 0px; fill: rgb(99, 110, 250); fill-opacity: 1;\"/><path class=\"point\" transform=\"translate(135,191.11)\" d=\"M3,0A3,3 0 1,1 0,-3A3,3 0 0,1 3,0Z\" style=\"opacity: 1; stroke-width: 0px; fill: rgb(99, 110, 250); fill-opacity: 1;\"/><path class=\"point\" transform=\"translate(135,191.11)\" d=\"M3,0A3,3 0 1,1 0,-3A3,3 0 0,1 3,0Z\" style=\"opacity: 1; stroke-width: 0px; fill: rgb(99, 110, 250); fill-opacity: 1;\"/><path class=\"point\" transform=\"translate(135,191.11)\" d=\"M3,0A3,3 0 1,1 0,-3A3,3 0 0,1 3,0Z\" style=\"opacity: 1; stroke-width: 0px; fill: rgb(99, 110, 250); fill-opacity: 1;\"/><path class=\"point\" transform=\"translate(135,191.11)\" d=\"M3,0A3,3 0 1,1 0,-3A3,3 0 0,1 3,0Z\" style=\"opacity: 1; stroke-width: 0px; fill: rgb(99, 110, 250); fill-opacity: 1;\"/><path class=\"point\" transform=\"translate(135,191.11)\" d=\"M3,0A3,3 0 1,1 0,-3A3,3 0 0,1 3,0Z\" style=\"opacity: 1; stroke-width: 0px; fill: rgb(99, 110, 250); fill-opacity: 1;\"/><path class=\"point\" transform=\"translate(135,191.11)\" d=\"M3,0A3,3 0 1,1 0,-3A3,3 0 0,1 3,0Z\" style=\"opacity: 1; stroke-width: 0px; fill: rgb(99, 110, 250); fill-opacity: 1;\"/><path class=\"point\" transform=\"translate(135,191.11)\" d=\"M3,0A3,3 0 1,1 0,-3A3,3 0 0,1 3,0Z\" style=\"opacity: 1; stroke-width: 0px; fill: rgb(99, 110, 250); fill-opacity: 1;\"/><path class=\"point\" transform=\"translate(135,191.11)\" d=\"M3,0A3,3 0 1,1 0,-3A3,3 0 0,1 3,0Z\" style=\"opacity: 1; stroke-width: 0px; fill: rgb(99, 110, 250); fill-opacity: 1;\"/><path class=\"point\" transform=\"translate(135,191.11)\" d=\"M3,0A3,3 0 1,1 0,-3A3,3 0 0,1 3,0Z\" style=\"opacity: 1; stroke-width: 0px; fill: rgb(99, 110, 250); fill-opacity: 1;\"/><path class=\"point\" transform=\"translate(135,191.11)\" d=\"M3,0A3,3 0 1,1 0,-3A3,3 0 0,1 3,0Z\" style=\"opacity: 1; stroke-width: 0px; fill: rgb(99, 110, 250); fill-opacity: 1;\"/><path class=\"point\" transform=\"translate(135,191.11)\" d=\"M3,0A3,3 0 1,1 0,-3A3,3 0 0,1 3,0Z\" style=\"opacity: 1; stroke-width: 0px; fill: rgb(99, 110, 250); fill-opacity: 1;\"/><path class=\"point\" transform=\"translate(135,191.11)\" d=\"M3,0A3,3 0 1,1 0,-3A3,3 0 0,1 3,0Z\" style=\"opacity: 1; stroke-width: 0px; fill: rgb(99, 110, 250); fill-opacity: 1;\"/><path class=\"point\" transform=\"translate(135,191.11)\" d=\"M3,0A3,3 0 1,1 0,-3A3,3 0 0,1 3,0Z\" style=\"opacity: 1; stroke-width: 0px; fill: rgb(99, 110, 250); fill-opacity: 1;\"/><path class=\"point\" transform=\"translate(135,191.11)\" d=\"M3,0A3,3 0 1,1 0,-3A3,3 0 0,1 3,0Z\" style=\"opacity: 1; stroke-width: 0px; fill: rgb(99, 110, 250); fill-opacity: 1;\"/><path class=\"point\" transform=\"translate(135,191.11)\" d=\"M3,0A3,3 0 1,1 0,-3A3,3 0 0,1 3,0Z\" style=\"opacity: 1; stroke-width: 0px; fill: rgb(99, 110, 250); fill-opacity: 1;\"/><path class=\"point\" transform=\"translate(135,191.11)\" d=\"M3,0A3,3 0 1,1 0,-3A3,3 0 0,1 3,0Z\" style=\"opacity: 1; stroke-width: 0px; fill: rgb(99, 110, 250); fill-opacity: 1;\"/><path class=\"point\" transform=\"translate(135,191.11)\" d=\"M3,0A3,3 0 1,1 0,-3A3,3 0 0,1 3,0Z\" style=\"opacity: 1; stroke-width: 0px; fill: rgb(99, 110, 250); fill-opacity: 1;\"/><path class=\"point\" transform=\"translate(135,191.11)\" d=\"M3,0A3,3 0 1,1 0,-3A3,3 0 0,1 3,0Z\" style=\"opacity: 1; stroke-width: 0px; fill: rgb(99, 110, 250); fill-opacity: 1;\"/><path class=\"point\" transform=\"translate(135,188.9)\" d=\"M3,0A3,3 0 1,1 0,-3A3,3 0 0,1 3,0Z\" style=\"opacity: 1; stroke-width: 0px; fill: rgb(99, 110, 250); fill-opacity: 1;\"/><path class=\"point\" transform=\"translate(135,188.9)\" d=\"M3,0A3,3 0 1,1 0,-3A3,3 0 0,1 3,0Z\" style=\"opacity: 1; stroke-width: 0px; fill: rgb(99, 110, 250); fill-opacity: 1;\"/><path class=\"point\" transform=\"translate(135,188.9)\" d=\"M3,0A3,3 0 1,1 0,-3A3,3 0 0,1 3,0Z\" style=\"opacity: 1; stroke-width: 0px; fill: rgb(99, 110, 250); fill-opacity: 1;\"/><path class=\"point\" transform=\"translate(135,188.9)\" d=\"M3,0A3,3 0 1,1 0,-3A3,3 0 0,1 3,0Z\" style=\"opacity: 1; stroke-width: 0px; fill: rgb(99, 110, 250); fill-opacity: 1;\"/><path class=\"point\" transform=\"translate(135,188.9)\" d=\"M3,0A3,3 0 1,1 0,-3A3,3 0 0,1 3,0Z\" style=\"opacity: 1; stroke-width: 0px; fill: rgb(99, 110, 250); fill-opacity: 1;\"/><path class=\"point\" transform=\"translate(135,188.9)\" d=\"M3,0A3,3 0 1,1 0,-3A3,3 0 0,1 3,0Z\" style=\"opacity: 1; stroke-width: 0px; fill: rgb(99, 110, 250); fill-opacity: 1;\"/><path class=\"point\" transform=\"translate(135,188.9)\" d=\"M3,0A3,3 0 1,1 0,-3A3,3 0 0,1 3,0Z\" style=\"opacity: 1; stroke-width: 0px; fill: rgb(99, 110, 250); fill-opacity: 1;\"/><path class=\"point\" transform=\"translate(135,188.9)\" d=\"M3,0A3,3 0 1,1 0,-3A3,3 0 0,1 3,0Z\" style=\"opacity: 1; stroke-width: 0px; fill: rgb(99, 110, 250); fill-opacity: 1;\"/><path class=\"point\" transform=\"translate(135,188.9)\" d=\"M3,0A3,3 0 1,1 0,-3A3,3 0 0,1 3,0Z\" style=\"opacity: 1; stroke-width: 0px; fill: rgb(99, 110, 250); fill-opacity: 1;\"/><path class=\"point\" transform=\"translate(135,188.9)\" d=\"M3,0A3,3 0 1,1 0,-3A3,3 0 0,1 3,0Z\" style=\"opacity: 1; stroke-width: 0px; fill: rgb(99, 110, 250); fill-opacity: 1;\"/><path class=\"point\" transform=\"translate(135,186.68)\" d=\"M3,0A3,3 0 1,1 0,-3A3,3 0 0,1 3,0Z\" style=\"opacity: 1; stroke-width: 0px; fill: rgb(99, 110, 250); fill-opacity: 1;\"/><path class=\"point\" transform=\"translate(135,186.68)\" d=\"M3,0A3,3 0 1,1 0,-3A3,3 0 0,1 3,0Z\" style=\"opacity: 1; stroke-width: 0px; fill: rgb(99, 110, 250); fill-opacity: 1;\"/><path class=\"point\" transform=\"translate(135,186.68)\" d=\"M3,0A3,3 0 1,1 0,-3A3,3 0 0,1 3,0Z\" style=\"opacity: 1; stroke-width: 0px; fill: rgb(99, 110, 250); fill-opacity: 1;\"/><path class=\"point\" transform=\"translate(135,186.68)\" d=\"M3,0A3,3 0 1,1 0,-3A3,3 0 0,1 3,0Z\" style=\"opacity: 1; stroke-width: 0px; fill: rgb(99, 110, 250); fill-opacity: 1;\"/><path class=\"point\" transform=\"translate(135,186.68)\" d=\"M3,0A3,3 0 1,1 0,-3A3,3 0 0,1 3,0Z\" style=\"opacity: 1; stroke-width: 0px; fill: rgb(99, 110, 250); fill-opacity: 1;\"/><path class=\"point\" transform=\"translate(135,186.68)\" d=\"M3,0A3,3 0 1,1 0,-3A3,3 0 0,1 3,0Z\" style=\"opacity: 1; stroke-width: 0px; fill: rgb(99, 110, 250); fill-opacity: 1;\"/><path class=\"point\" transform=\"translate(135,186.68)\" d=\"M3,0A3,3 0 1,1 0,-3A3,3 0 0,1 3,0Z\" style=\"opacity: 1; stroke-width: 0px; fill: rgb(99, 110, 250); fill-opacity: 1;\"/><path class=\"point\" transform=\"translate(135,186.68)\" d=\"M3,0A3,3 0 1,1 0,-3A3,3 0 0,1 3,0Z\" style=\"opacity: 1; stroke-width: 0px; fill: rgb(99, 110, 250); fill-opacity: 1;\"/><path class=\"point\" transform=\"translate(135,186.68)\" d=\"M3,0A3,3 0 1,1 0,-3A3,3 0 0,1 3,0Z\" style=\"opacity: 1; stroke-width: 0px; fill: rgb(99, 110, 250); fill-opacity: 1;\"/><path class=\"point\" transform=\"translate(135,186.68)\" d=\"M3,0A3,3 0 1,1 0,-3A3,3 0 0,1 3,0Z\" style=\"opacity: 1; stroke-width: 0px; fill: rgb(99, 110, 250); fill-opacity: 1;\"/><path class=\"point\" transform=\"translate(135,186.68)\" d=\"M3,0A3,3 0 1,1 0,-3A3,3 0 0,1 3,0Z\" style=\"opacity: 1; stroke-width: 0px; fill: rgb(99, 110, 250); fill-opacity: 1;\"/><path class=\"point\" transform=\"translate(135,186.68)\" d=\"M3,0A3,3 0 1,1 0,-3A3,3 0 0,1 3,0Z\" style=\"opacity: 1; stroke-width: 0px; fill: rgb(99, 110, 250); fill-opacity: 1;\"/><path class=\"point\" transform=\"translate(135,186.68)\" d=\"M3,0A3,3 0 1,1 0,-3A3,3 0 0,1 3,0Z\" style=\"opacity: 1; stroke-width: 0px; fill: rgb(99, 110, 250); fill-opacity: 1;\"/><path class=\"point\" transform=\"translate(135,186.68)\" d=\"M3,0A3,3 0 1,1 0,-3A3,3 0 0,1 3,0Z\" style=\"opacity: 1; stroke-width: 0px; fill: rgb(99, 110, 250); fill-opacity: 1;\"/><path class=\"point\" transform=\"translate(135,186.68)\" d=\"M3,0A3,3 0 1,1 0,-3A3,3 0 0,1 3,0Z\" style=\"opacity: 1; stroke-width: 0px; fill: rgb(99, 110, 250); fill-opacity: 1;\"/><path class=\"point\" transform=\"translate(135,186.68)\" d=\"M3,0A3,3 0 1,1 0,-3A3,3 0 0,1 3,0Z\" style=\"opacity: 1; stroke-width: 0px; fill: rgb(99, 110, 250); fill-opacity: 1;\"/><path class=\"point\" transform=\"translate(135,186.68)\" d=\"M3,0A3,3 0 1,1 0,-3A3,3 0 0,1 3,0Z\" style=\"opacity: 1; stroke-width: 0px; fill: rgb(99, 110, 250); fill-opacity: 1;\"/><path class=\"point\" transform=\"translate(135,186.68)\" d=\"M3,0A3,3 0 1,1 0,-3A3,3 0 0,1 3,0Z\" style=\"opacity: 1; stroke-width: 0px; fill: rgb(99, 110, 250); fill-opacity: 1;\"/><path class=\"point\" transform=\"translate(135,186.68)\" d=\"M3,0A3,3 0 1,1 0,-3A3,3 0 0,1 3,0Z\" style=\"opacity: 1; stroke-width: 0px; fill: rgb(99, 110, 250); fill-opacity: 1;\"/><path class=\"point\" transform=\"translate(135,186.68)\" d=\"M3,0A3,3 0 1,1 0,-3A3,3 0 0,1 3,0Z\" style=\"opacity: 1; stroke-width: 0px; fill: rgb(99, 110, 250); fill-opacity: 1;\"/><path class=\"point\" transform=\"translate(135,186.68)\" d=\"M3,0A3,3 0 1,1 0,-3A3,3 0 0,1 3,0Z\" style=\"opacity: 1; stroke-width: 0px; fill: rgb(99, 110, 250); fill-opacity: 1;\"/><path class=\"point\" transform=\"translate(135,184.47)\" d=\"M3,0A3,3 0 1,1 0,-3A3,3 0 0,1 3,0Z\" style=\"opacity: 1; stroke-width: 0px; fill: rgb(99, 110, 250); fill-opacity: 1;\"/><path class=\"point\" transform=\"translate(135,184.47)\" d=\"M3,0A3,3 0 1,1 0,-3A3,3 0 0,1 3,0Z\" style=\"opacity: 1; stroke-width: 0px; fill: rgb(99, 110, 250); fill-opacity: 1;\"/><path class=\"point\" transform=\"translate(135,184.47)\" d=\"M3,0A3,3 0 1,1 0,-3A3,3 0 0,1 3,0Z\" style=\"opacity: 1; stroke-width: 0px; fill: rgb(99, 110, 250); fill-opacity: 1;\"/><path class=\"point\" transform=\"translate(135,184.47)\" d=\"M3,0A3,3 0 1,1 0,-3A3,3 0 0,1 3,0Z\" style=\"opacity: 1; stroke-width: 0px; fill: rgb(99, 110, 250); fill-opacity: 1;\"/><path class=\"point\" transform=\"translate(135,184.47)\" d=\"M3,0A3,3 0 1,1 0,-3A3,3 0 0,1 3,0Z\" style=\"opacity: 1; stroke-width: 0px; fill: rgb(99, 110, 250); fill-opacity: 1;\"/><path class=\"point\" transform=\"translate(135,184.47)\" d=\"M3,0A3,3 0 1,1 0,-3A3,3 0 0,1 3,0Z\" style=\"opacity: 1; stroke-width: 0px; fill: rgb(99, 110, 250); fill-opacity: 1;\"/><path class=\"point\" transform=\"translate(135,184.47)\" d=\"M3,0A3,3 0 1,1 0,-3A3,3 0 0,1 3,0Z\" style=\"opacity: 1; stroke-width: 0px; fill: rgb(99, 110, 250); fill-opacity: 1;\"/><path class=\"point\" transform=\"translate(135,184.47)\" d=\"M3,0A3,3 0 1,1 0,-3A3,3 0 0,1 3,0Z\" style=\"opacity: 1; stroke-width: 0px; fill: rgb(99, 110, 250); fill-opacity: 1;\"/><path class=\"point\" transform=\"translate(135,184.47)\" d=\"M3,0A3,3 0 1,1 0,-3A3,3 0 0,1 3,0Z\" style=\"opacity: 1; stroke-width: 0px; fill: rgb(99, 110, 250); fill-opacity: 1;\"/><path class=\"point\" transform=\"translate(135,184.47)\" d=\"M3,0A3,3 0 1,1 0,-3A3,3 0 0,1 3,0Z\" style=\"opacity: 1; stroke-width: 0px; fill: rgb(99, 110, 250); fill-opacity: 1;\"/><path class=\"point\" transform=\"translate(135,184.47)\" d=\"M3,0A3,3 0 1,1 0,-3A3,3 0 0,1 3,0Z\" style=\"opacity: 1; stroke-width: 0px; fill: rgb(99, 110, 250); fill-opacity: 1;\"/><path class=\"point\" transform=\"translate(135,184.47)\" d=\"M3,0A3,3 0 1,1 0,-3A3,3 0 0,1 3,0Z\" style=\"opacity: 1; stroke-width: 0px; fill: rgb(99, 110, 250); fill-opacity: 1;\"/><path class=\"point\" transform=\"translate(135,182.26)\" d=\"M3,0A3,3 0 1,1 0,-3A3,3 0 0,1 3,0Z\" style=\"opacity: 1; stroke-width: 0px; fill: rgb(99, 110, 250); fill-opacity: 1;\"/><path class=\"point\" transform=\"translate(135,182.26)\" d=\"M3,0A3,3 0 1,1 0,-3A3,3 0 0,1 3,0Z\" style=\"opacity: 1; stroke-width: 0px; fill: rgb(99, 110, 250); fill-opacity: 1;\"/><path class=\"point\" transform=\"translate(135,182.26)\" d=\"M3,0A3,3 0 1,1 0,-3A3,3 0 0,1 3,0Z\" style=\"opacity: 1; stroke-width: 0px; fill: rgb(99, 110, 250); fill-opacity: 1;\"/><path class=\"point\" transform=\"translate(135,182.26)\" d=\"M3,0A3,3 0 1,1 0,-3A3,3 0 0,1 3,0Z\" style=\"opacity: 1; stroke-width: 0px; fill: rgb(99, 110, 250); fill-opacity: 1;\"/><path class=\"point\" transform=\"translate(135,182.26)\" d=\"M3,0A3,3 0 1,1 0,-3A3,3 0 0,1 3,0Z\" style=\"opacity: 1; stroke-width: 0px; fill: rgb(99, 110, 250); fill-opacity: 1;\"/><path class=\"point\" transform=\"translate(135,182.26)\" d=\"M3,0A3,3 0 1,1 0,-3A3,3 0 0,1 3,0Z\" style=\"opacity: 1; stroke-width: 0px; fill: rgb(99, 110, 250); fill-opacity: 1;\"/><path class=\"point\" transform=\"translate(135,182.26)\" d=\"M3,0A3,3 0 1,1 0,-3A3,3 0 0,1 3,0Z\" style=\"opacity: 1; stroke-width: 0px; fill: rgb(99, 110, 250); fill-opacity: 1;\"/><path class=\"point\" transform=\"translate(135,180.04)\" d=\"M3,0A3,3 0 1,1 0,-3A3,3 0 0,1 3,0Z\" style=\"opacity: 1; stroke-width: 0px; fill: rgb(99, 110, 250); fill-opacity: 1;\"/><path class=\"point\" transform=\"translate(135,180.04)\" d=\"M3,0A3,3 0 1,1 0,-3A3,3 0 0,1 3,0Z\" style=\"opacity: 1; stroke-width: 0px; fill: rgb(99, 110, 250); fill-opacity: 1;\"/><path class=\"point\" transform=\"translate(135,180.04)\" d=\"M3,0A3,3 0 1,1 0,-3A3,3 0 0,1 3,0Z\" style=\"opacity: 1; stroke-width: 0px; fill: rgb(99, 110, 250); fill-opacity: 1;\"/><path class=\"point\" transform=\"translate(135,180.04)\" d=\"M3,0A3,3 0 1,1 0,-3A3,3 0 0,1 3,0Z\" style=\"opacity: 1; stroke-width: 0px; fill: rgb(99, 110, 250); fill-opacity: 1;\"/><path class=\"point\" transform=\"translate(135,180.04)\" d=\"M3,0A3,3 0 1,1 0,-3A3,3 0 0,1 3,0Z\" style=\"opacity: 1; stroke-width: 0px; fill: rgb(99, 110, 250); fill-opacity: 1;\"/><path class=\"point\" transform=\"translate(135,180.04)\" d=\"M3,0A3,3 0 1,1 0,-3A3,3 0 0,1 3,0Z\" style=\"opacity: 1; stroke-width: 0px; fill: rgb(99, 110, 250); fill-opacity: 1;\"/><path class=\"point\" transform=\"translate(135,180.04)\" d=\"M3,0A3,3 0 1,1 0,-3A3,3 0 0,1 3,0Z\" style=\"opacity: 1; stroke-width: 0px; fill: rgb(99, 110, 250); fill-opacity: 1;\"/><path class=\"point\" transform=\"translate(135,180.04)\" d=\"M3,0A3,3 0 1,1 0,-3A3,3 0 0,1 3,0Z\" style=\"opacity: 1; stroke-width: 0px; fill: rgb(99, 110, 250); fill-opacity: 1;\"/><path class=\"point\" transform=\"translate(135,180.04)\" d=\"M3,0A3,3 0 1,1 0,-3A3,3 0 0,1 3,0Z\" style=\"opacity: 1; stroke-width: 0px; fill: rgb(99, 110, 250); fill-opacity: 1;\"/><path class=\"point\" transform=\"translate(135,180.04)\" d=\"M3,0A3,3 0 1,1 0,-3A3,3 0 0,1 3,0Z\" style=\"opacity: 1; stroke-width: 0px; fill: rgb(99, 110, 250); fill-opacity: 1;\"/><path class=\"point\" transform=\"translate(135,180.04)\" d=\"M3,0A3,3 0 1,1 0,-3A3,3 0 0,1 3,0Z\" style=\"opacity: 1; stroke-width: 0px; fill: rgb(99, 110, 250); fill-opacity: 1;\"/><path class=\"point\" transform=\"translate(135,180.04)\" d=\"M3,0A3,3 0 1,1 0,-3A3,3 0 0,1 3,0Z\" style=\"opacity: 1; stroke-width: 0px; fill: rgb(99, 110, 250); fill-opacity: 1;\"/><path class=\"point\" transform=\"translate(135,180.04)\" d=\"M3,0A3,3 0 1,1 0,-3A3,3 0 0,1 3,0Z\" style=\"opacity: 1; stroke-width: 0px; fill: rgb(99, 110, 250); fill-opacity: 1;\"/><path class=\"point\" transform=\"translate(135,180.04)\" d=\"M3,0A3,3 0 1,1 0,-3A3,3 0 0,1 3,0Z\" style=\"opacity: 1; stroke-width: 0px; fill: rgb(99, 110, 250); fill-opacity: 1;\"/><path class=\"point\" transform=\"translate(135,180.04)\" d=\"M3,0A3,3 0 1,1 0,-3A3,3 0 0,1 3,0Z\" style=\"opacity: 1; stroke-width: 0px; fill: rgb(99, 110, 250); fill-opacity: 1;\"/><path class=\"point\" transform=\"translate(135,180.04)\" d=\"M3,0A3,3 0 1,1 0,-3A3,3 0 0,1 3,0Z\" style=\"opacity: 1; stroke-width: 0px; fill: rgb(99, 110, 250); fill-opacity: 1;\"/><path class=\"point\" transform=\"translate(135,177.83)\" d=\"M3,0A3,3 0 1,1 0,-3A3,3 0 0,1 3,0Z\" style=\"opacity: 1; stroke-width: 0px; fill: rgb(99, 110, 250); fill-opacity: 1;\"/><path class=\"point\" transform=\"translate(135,177.83)\" d=\"M3,0A3,3 0 1,1 0,-3A3,3 0 0,1 3,0Z\" style=\"opacity: 1; stroke-width: 0px; fill: rgb(99, 110, 250); fill-opacity: 1;\"/><path class=\"point\" transform=\"translate(135,177.83)\" d=\"M3,0A3,3 0 1,1 0,-3A3,3 0 0,1 3,0Z\" style=\"opacity: 1; stroke-width: 0px; fill: rgb(99, 110, 250); fill-opacity: 1;\"/><path class=\"point\" transform=\"translate(135,177.83)\" d=\"M3,0A3,3 0 1,1 0,-3A3,3 0 0,1 3,0Z\" style=\"opacity: 1; stroke-width: 0px; fill: rgb(99, 110, 250); fill-opacity: 1;\"/><path class=\"point\" transform=\"translate(135,177.83)\" d=\"M3,0A3,3 0 1,1 0,-3A3,3 0 0,1 3,0Z\" style=\"opacity: 1; stroke-width: 0px; fill: rgb(99, 110, 250); fill-opacity: 1;\"/><path class=\"point\" transform=\"translate(135,175.61)\" d=\"M3,0A3,3 0 1,1 0,-3A3,3 0 0,1 3,0Z\" style=\"opacity: 1; stroke-width: 0px; fill: rgb(99, 110, 250); fill-opacity: 1;\"/><path class=\"point\" transform=\"translate(135,175.61)\" d=\"M3,0A3,3 0 1,1 0,-3A3,3 0 0,1 3,0Z\" style=\"opacity: 1; stroke-width: 0px; fill: rgb(99, 110, 250); fill-opacity: 1;\"/><path class=\"point\" transform=\"translate(135,175.61)\" d=\"M3,0A3,3 0 1,1 0,-3A3,3 0 0,1 3,0Z\" style=\"opacity: 1; stroke-width: 0px; fill: rgb(99, 110, 250); fill-opacity: 1;\"/><path class=\"point\" transform=\"translate(135,175.61)\" d=\"M3,0A3,3 0 1,1 0,-3A3,3 0 0,1 3,0Z\" style=\"opacity: 1; stroke-width: 0px; fill: rgb(99, 110, 250); fill-opacity: 1;\"/><path class=\"point\" transform=\"translate(135,175.61)\" d=\"M3,0A3,3 0 1,1 0,-3A3,3 0 0,1 3,0Z\" style=\"opacity: 1; stroke-width: 0px; fill: rgb(99, 110, 250); fill-opacity: 1;\"/><path class=\"point\" transform=\"translate(135,175.61)\" d=\"M3,0A3,3 0 1,1 0,-3A3,3 0 0,1 3,0Z\" style=\"opacity: 1; stroke-width: 0px; fill: rgb(99, 110, 250); fill-opacity: 1;\"/><path class=\"point\" transform=\"translate(135,175.61)\" d=\"M3,0A3,3 0 1,1 0,-3A3,3 0 0,1 3,0Z\" style=\"opacity: 1; stroke-width: 0px; fill: rgb(99, 110, 250); fill-opacity: 1;\"/><path class=\"point\" transform=\"translate(135,175.61)\" d=\"M3,0A3,3 0 1,1 0,-3A3,3 0 0,1 3,0Z\" style=\"opacity: 1; stroke-width: 0px; fill: rgb(99, 110, 250); fill-opacity: 1;\"/><path class=\"point\" transform=\"translate(135,175.61)\" d=\"M3,0A3,3 0 1,1 0,-3A3,3 0 0,1 3,0Z\" style=\"opacity: 1; stroke-width: 0px; fill: rgb(99, 110, 250); fill-opacity: 1;\"/><path class=\"point\" transform=\"translate(135,175.61)\" d=\"M3,0A3,3 0 1,1 0,-3A3,3 0 0,1 3,0Z\" style=\"opacity: 1; stroke-width: 0px; fill: rgb(99, 110, 250); fill-opacity: 1;\"/><path class=\"point\" transform=\"translate(135,175.61)\" d=\"M3,0A3,3 0 1,1 0,-3A3,3 0 0,1 3,0Z\" style=\"opacity: 1; stroke-width: 0px; fill: rgb(99, 110, 250); fill-opacity: 1;\"/><path class=\"point\" transform=\"translate(135,175.61)\" d=\"M3,0A3,3 0 1,1 0,-3A3,3 0 0,1 3,0Z\" style=\"opacity: 1; stroke-width: 0px; fill: rgb(99, 110, 250); fill-opacity: 1;\"/><path class=\"point\" transform=\"translate(135,173.4)\" d=\"M3,0A3,3 0 1,1 0,-3A3,3 0 0,1 3,0Z\" style=\"opacity: 1; stroke-width: 0px; fill: rgb(99, 110, 250); fill-opacity: 1;\"/><path class=\"point\" transform=\"translate(135,173.4)\" d=\"M3,0A3,3 0 1,1 0,-3A3,3 0 0,1 3,0Z\" style=\"opacity: 1; stroke-width: 0px; fill: rgb(99, 110, 250); fill-opacity: 1;\"/><path class=\"point\" transform=\"translate(135,173.4)\" d=\"M3,0A3,3 0 1,1 0,-3A3,3 0 0,1 3,0Z\" style=\"opacity: 1; stroke-width: 0px; fill: rgb(99, 110, 250); fill-opacity: 1;\"/><path class=\"point\" transform=\"translate(135,173.4)\" d=\"M3,0A3,3 0 1,1 0,-3A3,3 0 0,1 3,0Z\" style=\"opacity: 1; stroke-width: 0px; fill: rgb(99, 110, 250); fill-opacity: 1;\"/><path class=\"point\" transform=\"translate(135,173.4)\" d=\"M3,0A3,3 0 1,1 0,-3A3,3 0 0,1 3,0Z\" style=\"opacity: 1; stroke-width: 0px; fill: rgb(99, 110, 250); fill-opacity: 1;\"/><path class=\"point\" transform=\"translate(135,173.4)\" d=\"M3,0A3,3 0 1,1 0,-3A3,3 0 0,1 3,0Z\" style=\"opacity: 1; stroke-width: 0px; fill: rgb(99, 110, 250); fill-opacity: 1;\"/><path class=\"point\" transform=\"translate(135,173.4)\" d=\"M3,0A3,3 0 1,1 0,-3A3,3 0 0,1 3,0Z\" style=\"opacity: 1; stroke-width: 0px; fill: rgb(99, 110, 250); fill-opacity: 1;\"/><path class=\"point\" transform=\"translate(135,173.4)\" d=\"M3,0A3,3 0 1,1 0,-3A3,3 0 0,1 3,0Z\" style=\"opacity: 1; stroke-width: 0px; fill: rgb(99, 110, 250); fill-opacity: 1;\"/><path class=\"point\" transform=\"translate(135,173.4)\" d=\"M3,0A3,3 0 1,1 0,-3A3,3 0 0,1 3,0Z\" style=\"opacity: 1; stroke-width: 0px; fill: rgb(99, 110, 250); fill-opacity: 1;\"/><path class=\"point\" transform=\"translate(135,173.4)\" d=\"M3,0A3,3 0 1,1 0,-3A3,3 0 0,1 3,0Z\" style=\"opacity: 1; stroke-width: 0px; fill: rgb(99, 110, 250); fill-opacity: 1;\"/><path class=\"point\" transform=\"translate(135,173.4)\" d=\"M3,0A3,3 0 1,1 0,-3A3,3 0 0,1 3,0Z\" style=\"opacity: 1; stroke-width: 0px; fill: rgb(99, 110, 250); fill-opacity: 1;\"/><path class=\"point\" transform=\"translate(135,173.4)\" d=\"M3,0A3,3 0 1,1 0,-3A3,3 0 0,1 3,0Z\" style=\"opacity: 1; stroke-width: 0px; fill: rgb(99, 110, 250); fill-opacity: 1;\"/><path class=\"point\" transform=\"translate(135,173.4)\" d=\"M3,0A3,3 0 1,1 0,-3A3,3 0 0,1 3,0Z\" style=\"opacity: 1; stroke-width: 0px; fill: rgb(99, 110, 250); fill-opacity: 1;\"/><path class=\"point\" transform=\"translate(135,173.4)\" d=\"M3,0A3,3 0 1,1 0,-3A3,3 0 0,1 3,0Z\" style=\"opacity: 1; stroke-width: 0px; fill: rgb(99, 110, 250); fill-opacity: 1;\"/><path class=\"point\" transform=\"translate(135,173.4)\" d=\"M3,0A3,3 0 1,1 0,-3A3,3 0 0,1 3,0Z\" style=\"opacity: 1; stroke-width: 0px; fill: rgb(99, 110, 250); fill-opacity: 1;\"/><path class=\"point\" transform=\"translate(135,173.4)\" d=\"M3,0A3,3 0 1,1 0,-3A3,3 0 0,1 3,0Z\" style=\"opacity: 1; stroke-width: 0px; fill: rgb(99, 110, 250); fill-opacity: 1;\"/><path class=\"point\" transform=\"translate(135,171.19)\" d=\"M3,0A3,3 0 1,1 0,-3A3,3 0 0,1 3,0Z\" style=\"opacity: 1; stroke-width: 0px; fill: rgb(99, 110, 250); fill-opacity: 1;\"/><path class=\"point\" transform=\"translate(135,171.19)\" d=\"M3,0A3,3 0 1,1 0,-3A3,3 0 0,1 3,0Z\" style=\"opacity: 1; stroke-width: 0px; fill: rgb(99, 110, 250); fill-opacity: 1;\"/><path class=\"point\" transform=\"translate(135,171.19)\" d=\"M3,0A3,3 0 1,1 0,-3A3,3 0 0,1 3,0Z\" style=\"opacity: 1; stroke-width: 0px; fill: rgb(99, 110, 250); fill-opacity: 1;\"/><path class=\"point\" transform=\"translate(135,171.19)\" d=\"M3,0A3,3 0 1,1 0,-3A3,3 0 0,1 3,0Z\" style=\"opacity: 1; stroke-width: 0px; fill: rgb(99, 110, 250); fill-opacity: 1;\"/><path class=\"point\" transform=\"translate(135,171.19)\" d=\"M3,0A3,3 0 1,1 0,-3A3,3 0 0,1 3,0Z\" style=\"opacity: 1; stroke-width: 0px; fill: rgb(99, 110, 250); fill-opacity: 1;\"/><path class=\"point\" transform=\"translate(135,171.19)\" d=\"M3,0A3,3 0 1,1 0,-3A3,3 0 0,1 3,0Z\" style=\"opacity: 1; stroke-width: 0px; fill: rgb(99, 110, 250); fill-opacity: 1;\"/><path class=\"point\" transform=\"translate(135,171.19)\" d=\"M3,0A3,3 0 1,1 0,-3A3,3 0 0,1 3,0Z\" style=\"opacity: 1; stroke-width: 0px; fill: rgb(99, 110, 250); fill-opacity: 1;\"/><path class=\"point\" transform=\"translate(135,171.19)\" d=\"M3,0A3,3 0 1,1 0,-3A3,3 0 0,1 3,0Z\" style=\"opacity: 1; stroke-width: 0px; fill: rgb(99, 110, 250); fill-opacity: 1;\"/><path class=\"point\" transform=\"translate(135,168.97)\" d=\"M3,0A3,3 0 1,1 0,-3A3,3 0 0,1 3,0Z\" style=\"opacity: 1; stroke-width: 0px; fill: rgb(99, 110, 250); fill-opacity: 1;\"/><path class=\"point\" transform=\"translate(135,168.97)\" d=\"M3,0A3,3 0 1,1 0,-3A3,3 0 0,1 3,0Z\" style=\"opacity: 1; stroke-width: 0px; fill: rgb(99, 110, 250); fill-opacity: 1;\"/><path class=\"point\" transform=\"translate(135,168.97)\" d=\"M3,0A3,3 0 1,1 0,-3A3,3 0 0,1 3,0Z\" style=\"opacity: 1; stroke-width: 0px; fill: rgb(99, 110, 250); fill-opacity: 1;\"/><path class=\"point\" transform=\"translate(135,168.97)\" d=\"M3,0A3,3 0 1,1 0,-3A3,3 0 0,1 3,0Z\" style=\"opacity: 1; stroke-width: 0px; fill: rgb(99, 110, 250); fill-opacity: 1;\"/><path class=\"point\" transform=\"translate(135,168.97)\" d=\"M3,0A3,3 0 1,1 0,-3A3,3 0 0,1 3,0Z\" style=\"opacity: 1; stroke-width: 0px; fill: rgb(99, 110, 250); fill-opacity: 1;\"/><path class=\"point\" transform=\"translate(135,168.97)\" d=\"M3,0A3,3 0 1,1 0,-3A3,3 0 0,1 3,0Z\" style=\"opacity: 1; stroke-width: 0px; fill: rgb(99, 110, 250); fill-opacity: 1;\"/><path class=\"point\" transform=\"translate(135,168.97)\" d=\"M3,0A3,3 0 1,1 0,-3A3,3 0 0,1 3,0Z\" style=\"opacity: 1; stroke-width: 0px; fill: rgb(99, 110, 250); fill-opacity: 1;\"/><path class=\"point\" transform=\"translate(135,168.97)\" d=\"M3,0A3,3 0 1,1 0,-3A3,3 0 0,1 3,0Z\" style=\"opacity: 1; stroke-width: 0px; fill: rgb(99, 110, 250); fill-opacity: 1;\"/><path class=\"point\" transform=\"translate(135,168.97)\" d=\"M3,0A3,3 0 1,1 0,-3A3,3 0 0,1 3,0Z\" style=\"opacity: 1; stroke-width: 0px; fill: rgb(99, 110, 250); fill-opacity: 1;\"/><path class=\"point\" transform=\"translate(135,168.97)\" d=\"M3,0A3,3 0 1,1 0,-3A3,3 0 0,1 3,0Z\" style=\"opacity: 1; stroke-width: 0px; fill: rgb(99, 110, 250); fill-opacity: 1;\"/><path class=\"point\" transform=\"translate(135,168.97)\" d=\"M3,0A3,3 0 1,1 0,-3A3,3 0 0,1 3,0Z\" style=\"opacity: 1; stroke-width: 0px; fill: rgb(99, 110, 250); fill-opacity: 1;\"/><path class=\"point\" transform=\"translate(135,168.97)\" d=\"M3,0A3,3 0 1,1 0,-3A3,3 0 0,1 3,0Z\" style=\"opacity: 1; stroke-width: 0px; fill: rgb(99, 110, 250); fill-opacity: 1;\"/><path class=\"point\" transform=\"translate(135,166.76)\" d=\"M3,0A3,3 0 1,1 0,-3A3,3 0 0,1 3,0Z\" style=\"opacity: 1; stroke-width: 0px; fill: rgb(99, 110, 250); fill-opacity: 1;\"/><path class=\"point\" transform=\"translate(135,166.76)\" d=\"M3,0A3,3 0 1,1 0,-3A3,3 0 0,1 3,0Z\" style=\"opacity: 1; stroke-width: 0px; fill: rgb(99, 110, 250); fill-opacity: 1;\"/><path class=\"point\" transform=\"translate(135,166.76)\" d=\"M3,0A3,3 0 1,1 0,-3A3,3 0 0,1 3,0Z\" style=\"opacity: 1; stroke-width: 0px; fill: rgb(99, 110, 250); fill-opacity: 1;\"/><path class=\"point\" transform=\"translate(135,166.76)\" d=\"M3,0A3,3 0 1,1 0,-3A3,3 0 0,1 3,0Z\" style=\"opacity: 1; stroke-width: 0px; fill: rgb(99, 110, 250); fill-opacity: 1;\"/><path class=\"point\" transform=\"translate(135,166.76)\" d=\"M3,0A3,3 0 1,1 0,-3A3,3 0 0,1 3,0Z\" style=\"opacity: 1; stroke-width: 0px; fill: rgb(99, 110, 250); fill-opacity: 1;\"/><path class=\"point\" transform=\"translate(135,166.76)\" d=\"M3,0A3,3 0 1,1 0,-3A3,3 0 0,1 3,0Z\" style=\"opacity: 1; stroke-width: 0px; fill: rgb(99, 110, 250); fill-opacity: 1;\"/><path class=\"point\" transform=\"translate(135,164.55)\" d=\"M3,0A3,3 0 1,1 0,-3A3,3 0 0,1 3,0Z\" style=\"opacity: 1; stroke-width: 0px; fill: rgb(99, 110, 250); fill-opacity: 1;\"/><path class=\"point\" transform=\"translate(135,164.55)\" d=\"M3,0A3,3 0 1,1 0,-3A3,3 0 0,1 3,0Z\" style=\"opacity: 1; stroke-width: 0px; fill: rgb(99, 110, 250); fill-opacity: 1;\"/><path class=\"point\" transform=\"translate(135,164.55)\" d=\"M3,0A3,3 0 1,1 0,-3A3,3 0 0,1 3,0Z\" style=\"opacity: 1; stroke-width: 0px; fill: rgb(99, 110, 250); fill-opacity: 1;\"/><path class=\"point\" transform=\"translate(135,164.55)\" d=\"M3,0A3,3 0 1,1 0,-3A3,3 0 0,1 3,0Z\" style=\"opacity: 1; stroke-width: 0px; fill: rgb(99, 110, 250); fill-opacity: 1;\"/><path class=\"point\" transform=\"translate(135,164.55)\" d=\"M3,0A3,3 0 1,1 0,-3A3,3 0 0,1 3,0Z\" style=\"opacity: 1; stroke-width: 0px; fill: rgb(99, 110, 250); fill-opacity: 1;\"/><path class=\"point\" transform=\"translate(135,164.55)\" d=\"M3,0A3,3 0 1,1 0,-3A3,3 0 0,1 3,0Z\" style=\"opacity: 1; stroke-width: 0px; fill: rgb(99, 110, 250); fill-opacity: 1;\"/><path class=\"point\" transform=\"translate(135,164.55)\" d=\"M3,0A3,3 0 1,1 0,-3A3,3 0 0,1 3,0Z\" style=\"opacity: 1; stroke-width: 0px; fill: rgb(99, 110, 250); fill-opacity: 1;\"/><path class=\"point\" transform=\"translate(135,162.33)\" d=\"M3,0A3,3 0 1,1 0,-3A3,3 0 0,1 3,0Z\" style=\"opacity: 1; stroke-width: 0px; fill: rgb(99, 110, 250); fill-opacity: 1;\"/><path class=\"point\" transform=\"translate(135,162.33)\" d=\"M3,0A3,3 0 1,1 0,-3A3,3 0 0,1 3,0Z\" style=\"opacity: 1; stroke-width: 0px; fill: rgb(99, 110, 250); fill-opacity: 1;\"/><path class=\"point\" transform=\"translate(135,162.33)\" d=\"M3,0A3,3 0 1,1 0,-3A3,3 0 0,1 3,0Z\" style=\"opacity: 1; stroke-width: 0px; fill: rgb(99, 110, 250); fill-opacity: 1;\"/><path class=\"point\" transform=\"translate(135,162.33)\" d=\"M3,0A3,3 0 1,1 0,-3A3,3 0 0,1 3,0Z\" style=\"opacity: 1; stroke-width: 0px; fill: rgb(99, 110, 250); fill-opacity: 1;\"/><path class=\"point\" transform=\"translate(135,162.33)\" d=\"M3,0A3,3 0 1,1 0,-3A3,3 0 0,1 3,0Z\" style=\"opacity: 1; stroke-width: 0px; fill: rgb(99, 110, 250); fill-opacity: 1;\"/><path class=\"point\" transform=\"translate(135,162.33)\" d=\"M3,0A3,3 0 1,1 0,-3A3,3 0 0,1 3,0Z\" style=\"opacity: 1; stroke-width: 0px; fill: rgb(99, 110, 250); fill-opacity: 1;\"/><path class=\"point\" transform=\"translate(135,160.12)\" d=\"M3,0A3,3 0 1,1 0,-3A3,3 0 0,1 3,0Z\" style=\"opacity: 1; stroke-width: 0px; fill: rgb(99, 110, 250); fill-opacity: 1;\"/><path class=\"point\" transform=\"translate(135,160.12)\" d=\"M3,0A3,3 0 1,1 0,-3A3,3 0 0,1 3,0Z\" style=\"opacity: 1; stroke-width: 0px; fill: rgb(99, 110, 250); fill-opacity: 1;\"/><path class=\"point\" transform=\"translate(135,160.12)\" d=\"M3,0A3,3 0 1,1 0,-3A3,3 0 0,1 3,0Z\" style=\"opacity: 1; stroke-width: 0px; fill: rgb(99, 110, 250); fill-opacity: 1;\"/><path class=\"point\" transform=\"translate(135,160.12)\" d=\"M3,0A3,3 0 1,1 0,-3A3,3 0 0,1 3,0Z\" style=\"opacity: 1; stroke-width: 0px; fill: rgb(99, 110, 250); fill-opacity: 1;\"/><path class=\"point\" transform=\"translate(135,160.12)\" d=\"M3,0A3,3 0 1,1 0,-3A3,3 0 0,1 3,0Z\" style=\"opacity: 1; stroke-width: 0px; fill: rgb(99, 110, 250); fill-opacity: 1;\"/><path class=\"point\" transform=\"translate(135,160.12)\" d=\"M3,0A3,3 0 1,1 0,-3A3,3 0 0,1 3,0Z\" style=\"opacity: 1; stroke-width: 0px; fill: rgb(99, 110, 250); fill-opacity: 1;\"/><path class=\"point\" transform=\"translate(135,160.12)\" d=\"M3,0A3,3 0 1,1 0,-3A3,3 0 0,1 3,0Z\" style=\"opacity: 1; stroke-width: 0px; fill: rgb(99, 110, 250); fill-opacity: 1;\"/><path class=\"point\" transform=\"translate(135,160.12)\" d=\"M3,0A3,3 0 1,1 0,-3A3,3 0 0,1 3,0Z\" style=\"opacity: 1; stroke-width: 0px; fill: rgb(99, 110, 250); fill-opacity: 1;\"/><path class=\"point\" transform=\"translate(135,160.12)\" d=\"M3,0A3,3 0 1,1 0,-3A3,3 0 0,1 3,0Z\" style=\"opacity: 1; stroke-width: 0px; fill: rgb(99, 110, 250); fill-opacity: 1;\"/><path class=\"point\" transform=\"translate(135,157.9)\" d=\"M3,0A3,3 0 1,1 0,-3A3,3 0 0,1 3,0Z\" style=\"opacity: 1; stroke-width: 0px; fill: rgb(99, 110, 250); fill-opacity: 1;\"/><path class=\"point\" transform=\"translate(135,157.9)\" d=\"M3,0A3,3 0 1,1 0,-3A3,3 0 0,1 3,0Z\" style=\"opacity: 1; stroke-width: 0px; fill: rgb(99, 110, 250); fill-opacity: 1;\"/><path class=\"point\" transform=\"translate(135,157.9)\" d=\"M3,0A3,3 0 1,1 0,-3A3,3 0 0,1 3,0Z\" style=\"opacity: 1; stroke-width: 0px; fill: rgb(99, 110, 250); fill-opacity: 1;\"/><path class=\"point\" transform=\"translate(135,157.9)\" d=\"M3,0A3,3 0 1,1 0,-3A3,3 0 0,1 3,0Z\" style=\"opacity: 1; stroke-width: 0px; fill: rgb(99, 110, 250); fill-opacity: 1;\"/><path class=\"point\" transform=\"translate(135,157.9)\" d=\"M3,0A3,3 0 1,1 0,-3A3,3 0 0,1 3,0Z\" style=\"opacity: 1; stroke-width: 0px; fill: rgb(99, 110, 250); fill-opacity: 1;\"/><path class=\"point\" transform=\"translate(135,157.9)\" d=\"M3,0A3,3 0 1,1 0,-3A3,3 0 0,1 3,0Z\" style=\"opacity: 1; stroke-width: 0px; fill: rgb(99, 110, 250); fill-opacity: 1;\"/><path class=\"point\" transform=\"translate(135,155.69)\" d=\"M3,0A3,3 0 1,1 0,-3A3,3 0 0,1 3,0Z\" style=\"opacity: 1; stroke-width: 0px; fill: rgb(99, 110, 250); fill-opacity: 1;\"/><path class=\"point\" transform=\"translate(135,155.69)\" d=\"M3,0A3,3 0 1,1 0,-3A3,3 0 0,1 3,0Z\" style=\"opacity: 1; stroke-width: 0px; fill: rgb(99, 110, 250); fill-opacity: 1;\"/><path class=\"point\" transform=\"translate(135,153.48)\" d=\"M3,0A3,3 0 1,1 0,-3A3,3 0 0,1 3,0Z\" style=\"opacity: 1; stroke-width: 0px; fill: rgb(99, 110, 250); fill-opacity: 1;\"/><path class=\"point\" transform=\"translate(135,153.48)\" d=\"M3,0A3,3 0 1,1 0,-3A3,3 0 0,1 3,0Z\" style=\"opacity: 1; stroke-width: 0px; fill: rgb(99, 110, 250); fill-opacity: 1;\"/><path class=\"point\" transform=\"translate(135,153.48)\" d=\"M3,0A3,3 0 1,1 0,-3A3,3 0 0,1 3,0Z\" style=\"opacity: 1; stroke-width: 0px; fill: rgb(99, 110, 250); fill-opacity: 1;\"/><path class=\"point\" transform=\"translate(135,153.48)\" d=\"M3,0A3,3 0 1,1 0,-3A3,3 0 0,1 3,0Z\" style=\"opacity: 1; stroke-width: 0px; fill: rgb(99, 110, 250); fill-opacity: 1;\"/><path class=\"point\" transform=\"translate(135,153.48)\" d=\"M3,0A3,3 0 1,1 0,-3A3,3 0 0,1 3,0Z\" style=\"opacity: 1; stroke-width: 0px; fill: rgb(99, 110, 250); fill-opacity: 1;\"/><path class=\"point\" transform=\"translate(135,153.48)\" d=\"M3,0A3,3 0 1,1 0,-3A3,3 0 0,1 3,0Z\" style=\"opacity: 1; stroke-width: 0px; fill: rgb(99, 110, 250); fill-opacity: 1;\"/><path class=\"point\" transform=\"translate(135,153.48)\" d=\"M3,0A3,3 0 1,1 0,-3A3,3 0 0,1 3,0Z\" style=\"opacity: 1; stroke-width: 0px; fill: rgb(99, 110, 250); fill-opacity: 1;\"/><path class=\"point\" transform=\"translate(135,151.26)\" d=\"M3,0A3,3 0 1,1 0,-3A3,3 0 0,1 3,0Z\" style=\"opacity: 1; stroke-width: 0px; fill: rgb(99, 110, 250); fill-opacity: 1;\"/><path class=\"point\" transform=\"translate(135,151.26)\" d=\"M3,0A3,3 0 1,1 0,-3A3,3 0 0,1 3,0Z\" style=\"opacity: 1; stroke-width: 0px; fill: rgb(99, 110, 250); fill-opacity: 1;\"/><path class=\"point\" transform=\"translate(135,151.26)\" d=\"M3,0A3,3 0 1,1 0,-3A3,3 0 0,1 3,0Z\" style=\"opacity: 1; stroke-width: 0px; fill: rgb(99, 110, 250); fill-opacity: 1;\"/><path class=\"point\" transform=\"translate(135,151.26)\" d=\"M3,0A3,3 0 1,1 0,-3A3,3 0 0,1 3,0Z\" style=\"opacity: 1; stroke-width: 0px; fill: rgb(99, 110, 250); fill-opacity: 1;\"/><path class=\"point\" transform=\"translate(135,149.05)\" d=\"M3,0A3,3 0 1,1 0,-3A3,3 0 0,1 3,0Z\" style=\"opacity: 1; stroke-width: 0px; fill: rgb(99, 110, 250); fill-opacity: 1;\"/><path class=\"point\" transform=\"translate(135,149.05)\" d=\"M3,0A3,3 0 1,1 0,-3A3,3 0 0,1 3,0Z\" style=\"opacity: 1; stroke-width: 0px; fill: rgb(99, 110, 250); fill-opacity: 1;\"/><path class=\"point\" transform=\"translate(135,149.05)\" d=\"M3,0A3,3 0 1,1 0,-3A3,3 0 0,1 3,0Z\" style=\"opacity: 1; stroke-width: 0px; fill: rgb(99, 110, 250); fill-opacity: 1;\"/><path class=\"point\" transform=\"translate(135,149.05)\" d=\"M3,0A3,3 0 1,1 0,-3A3,3 0 0,1 3,0Z\" style=\"opacity: 1; stroke-width: 0px; fill: rgb(99, 110, 250); fill-opacity: 1;\"/><path class=\"point\" transform=\"translate(135,149.05)\" d=\"M3,0A3,3 0 1,1 0,-3A3,3 0 0,1 3,0Z\" style=\"opacity: 1; stroke-width: 0px; fill: rgb(99, 110, 250); fill-opacity: 1;\"/><path class=\"point\" transform=\"translate(135,149.05)\" d=\"M3,0A3,3 0 1,1 0,-3A3,3 0 0,1 3,0Z\" style=\"opacity: 1; stroke-width: 0px; fill: rgb(99, 110, 250); fill-opacity: 1;\"/><path class=\"point\" transform=\"translate(135,146.83)\" d=\"M3,0A3,3 0 1,1 0,-3A3,3 0 0,1 3,0Z\" style=\"opacity: 1; stroke-width: 0px; fill: rgb(99, 110, 250); fill-opacity: 1;\"/><path class=\"point\" transform=\"translate(135,146.83)\" d=\"M3,0A3,3 0 1,1 0,-3A3,3 0 0,1 3,0Z\" style=\"opacity: 1; stroke-width: 0px; fill: rgb(99, 110, 250); fill-opacity: 1;\"/><path class=\"point\" transform=\"translate(135,144.62)\" d=\"M3,0A3,3 0 1,1 0,-3A3,3 0 0,1 3,0Z\" style=\"opacity: 1; stroke-width: 0px; fill: rgb(99, 110, 250); fill-opacity: 1;\"/><path class=\"point\" transform=\"translate(135,144.62)\" d=\"M3,0A3,3 0 1,1 0,-3A3,3 0 0,1 3,0Z\" style=\"opacity: 1; stroke-width: 0px; fill: rgb(99, 110, 250); fill-opacity: 1;\"/><path class=\"point\" transform=\"translate(135,144.62)\" d=\"M3,0A3,3 0 1,1 0,-3A3,3 0 0,1 3,0Z\" style=\"opacity: 1; stroke-width: 0px; fill: rgb(99, 110, 250); fill-opacity: 1;\"/><path class=\"point\" transform=\"translate(135,144.62)\" d=\"M3,0A3,3 0 1,1 0,-3A3,3 0 0,1 3,0Z\" style=\"opacity: 1; stroke-width: 0px; fill: rgb(99, 110, 250); fill-opacity: 1;\"/><path class=\"point\" transform=\"translate(135,142.41)\" d=\"M3,0A3,3 0 1,1 0,-3A3,3 0 0,1 3,0Z\" style=\"opacity: 1; stroke-width: 0px; fill: rgb(99, 110, 250); fill-opacity: 1;\"/><path class=\"point\" transform=\"translate(135,142.41)\" d=\"M3,0A3,3 0 1,1 0,-3A3,3 0 0,1 3,0Z\" style=\"opacity: 1; stroke-width: 0px; fill: rgb(99, 110, 250); fill-opacity: 1;\"/><path class=\"point\" transform=\"translate(135,142.41)\" d=\"M3,0A3,3 0 1,1 0,-3A3,3 0 0,1 3,0Z\" style=\"opacity: 1; stroke-width: 0px; fill: rgb(99, 110, 250); fill-opacity: 1;\"/><path class=\"point\" transform=\"translate(135,142.41)\" d=\"M3,0A3,3 0 1,1 0,-3A3,3 0 0,1 3,0Z\" style=\"opacity: 1; stroke-width: 0px; fill: rgb(99, 110, 250); fill-opacity: 1;\"/><path class=\"point\" transform=\"translate(135,142.41)\" d=\"M3,0A3,3 0 1,1 0,-3A3,3 0 0,1 3,0Z\" style=\"opacity: 1; stroke-width: 0px; fill: rgb(99, 110, 250); fill-opacity: 1;\"/><path class=\"point\" transform=\"translate(135,142.41)\" d=\"M3,0A3,3 0 1,1 0,-3A3,3 0 0,1 3,0Z\" style=\"opacity: 1; stroke-width: 0px; fill: rgb(99, 110, 250); fill-opacity: 1;\"/><path class=\"point\" transform=\"translate(135,140.19)\" d=\"M3,0A3,3 0 1,1 0,-3A3,3 0 0,1 3,0Z\" style=\"opacity: 1; stroke-width: 0px; fill: rgb(99, 110, 250); fill-opacity: 1;\"/><path class=\"point\" transform=\"translate(135,140.19)\" d=\"M3,0A3,3 0 1,1 0,-3A3,3 0 0,1 3,0Z\" style=\"opacity: 1; stroke-width: 0px; fill: rgb(99, 110, 250); fill-opacity: 1;\"/><path class=\"point\" transform=\"translate(135,140.19)\" d=\"M3,0A3,3 0 1,1 0,-3A3,3 0 0,1 3,0Z\" style=\"opacity: 1; stroke-width: 0px; fill: rgb(99, 110, 250); fill-opacity: 1;\"/><path class=\"point\" transform=\"translate(135,140.19)\" d=\"M3,0A3,3 0 1,1 0,-3A3,3 0 0,1 3,0Z\" style=\"opacity: 1; stroke-width: 0px; fill: rgb(99, 110, 250); fill-opacity: 1;\"/><path class=\"point\" transform=\"translate(135,140.19)\" d=\"M3,0A3,3 0 1,1 0,-3A3,3 0 0,1 3,0Z\" style=\"opacity: 1; stroke-width: 0px; fill: rgb(99, 110, 250); fill-opacity: 1;\"/><path class=\"point\" transform=\"translate(135,137.98)\" d=\"M3,0A3,3 0 1,1 0,-3A3,3 0 0,1 3,0Z\" style=\"opacity: 1; stroke-width: 0px; fill: rgb(99, 110, 250); fill-opacity: 1;\"/><path class=\"point\" transform=\"translate(135,137.98)\" d=\"M3,0A3,3 0 1,1 0,-3A3,3 0 0,1 3,0Z\" style=\"opacity: 1; stroke-width: 0px; fill: rgb(99, 110, 250); fill-opacity: 1;\"/><path class=\"point\" transform=\"translate(135,135.76)\" d=\"M3,0A3,3 0 1,1 0,-3A3,3 0 0,1 3,0Z\" style=\"opacity: 1; stroke-width: 0px; fill: rgb(99, 110, 250); fill-opacity: 1;\"/><path class=\"point\" transform=\"translate(135,133.55)\" d=\"M3,0A3,3 0 1,1 0,-3A3,3 0 0,1 3,0Z\" style=\"opacity: 1; stroke-width: 0px; fill: rgb(99, 110, 250); fill-opacity: 1;\"/><path class=\"point\" transform=\"translate(135,133.55)\" d=\"M3,0A3,3 0 1,1 0,-3A3,3 0 0,1 3,0Z\" style=\"opacity: 1; stroke-width: 0px; fill: rgb(99, 110, 250); fill-opacity: 1;\"/><path class=\"point\" transform=\"translate(135,133.55)\" d=\"M3,0A3,3 0 1,1 0,-3A3,3 0 0,1 3,0Z\" style=\"opacity: 1; stroke-width: 0px; fill: rgb(99, 110, 250); fill-opacity: 1;\"/><path class=\"point\" transform=\"translate(135,133.55)\" d=\"M3,0A3,3 0 1,1 0,-3A3,3 0 0,1 3,0Z\" style=\"opacity: 1; stroke-width: 0px; fill: rgb(99, 110, 250); fill-opacity: 1;\"/><path class=\"point\" transform=\"translate(135,133.55)\" d=\"M3,0A3,3 0 1,1 0,-3A3,3 0 0,1 3,0Z\" style=\"opacity: 1; stroke-width: 0px; fill: rgb(99, 110, 250); fill-opacity: 1;\"/><path class=\"point\" transform=\"translate(135,131.34)\" d=\"M3,0A3,3 0 1,1 0,-3A3,3 0 0,1 3,0Z\" style=\"opacity: 1; stroke-width: 0px; fill: rgb(99, 110, 250); fill-opacity: 1;\"/><path class=\"point\" transform=\"translate(135,131.34)\" d=\"M3,0A3,3 0 1,1 0,-3A3,3 0 0,1 3,0Z\" style=\"opacity: 1; stroke-width: 0px; fill: rgb(99, 110, 250); fill-opacity: 1;\"/><path class=\"point\" transform=\"translate(135,131.34)\" d=\"M3,0A3,3 0 1,1 0,-3A3,3 0 0,1 3,0Z\" style=\"opacity: 1; stroke-width: 0px; fill: rgb(99, 110, 250); fill-opacity: 1;\"/><path class=\"point\" transform=\"translate(135,131.34)\" d=\"M3,0A3,3 0 1,1 0,-3A3,3 0 0,1 3,0Z\" style=\"opacity: 1; stroke-width: 0px; fill: rgb(99, 110, 250); fill-opacity: 1;\"/><path class=\"point\" transform=\"translate(135,129.12)\" d=\"M3,0A3,3 0 1,1 0,-3A3,3 0 0,1 3,0Z\" style=\"opacity: 1; stroke-width: 0px; fill: rgb(99, 110, 250); fill-opacity: 1;\"/><path class=\"point\" transform=\"translate(135,126.91)\" d=\"M3,0A3,3 0 1,1 0,-3A3,3 0 0,1 3,0Z\" style=\"opacity: 1; stroke-width: 0px; fill: rgb(99, 110, 250); fill-opacity: 1;\"/><path class=\"point\" transform=\"translate(135,126.91)\" d=\"M3,0A3,3 0 1,1 0,-3A3,3 0 0,1 3,0Z\" style=\"opacity: 1; stroke-width: 0px; fill: rgb(99, 110, 250); fill-opacity: 1;\"/><path class=\"point\" transform=\"translate(135,126.91)\" d=\"M3,0A3,3 0 1,1 0,-3A3,3 0 0,1 3,0Z\" style=\"opacity: 1; stroke-width: 0px; fill: rgb(99, 110, 250); fill-opacity: 1;\"/><path class=\"point\" transform=\"translate(135,124.69)\" d=\"M3,0A3,3 0 1,1 0,-3A3,3 0 0,1 3,0Z\" style=\"opacity: 1; stroke-width: 0px; fill: rgb(99, 110, 250); fill-opacity: 1;\"/><path class=\"point\" transform=\"translate(135,124.69)\" d=\"M3,0A3,3 0 1,1 0,-3A3,3 0 0,1 3,0Z\" style=\"opacity: 1; stroke-width: 0px; fill: rgb(99, 110, 250); fill-opacity: 1;\"/><path class=\"point\" transform=\"translate(135,122.48)\" d=\"M3,0A3,3 0 1,1 0,-3A3,3 0 0,1 3,0Z\" style=\"opacity: 1; stroke-width: 0px; fill: rgb(99, 110, 250); fill-opacity: 1;\"/><path class=\"point\" transform=\"translate(135,118.05)\" d=\"M3,0A3,3 0 1,1 0,-3A3,3 0 0,1 3,0Z\" style=\"opacity: 1; stroke-width: 0px; fill: rgb(99, 110, 250); fill-opacity: 1;\"/><path class=\"point\" transform=\"translate(135,115.84)\" d=\"M3,0A3,3 0 1,1 0,-3A3,3 0 0,1 3,0Z\" style=\"opacity: 1; stroke-width: 0px; fill: rgb(99, 110, 250); fill-opacity: 1;\"/><path class=\"point\" transform=\"translate(135,115.84)\" d=\"M3,0A3,3 0 1,1 0,-3A3,3 0 0,1 3,0Z\" style=\"opacity: 1; stroke-width: 0px; fill: rgb(99, 110, 250); fill-opacity: 1;\"/><path class=\"point\" transform=\"translate(135,115.84)\" d=\"M3,0A3,3 0 1,1 0,-3A3,3 0 0,1 3,0Z\" style=\"opacity: 1; stroke-width: 0px; fill: rgb(99, 110, 250); fill-opacity: 1;\"/><path class=\"point\" transform=\"translate(135,115.84)\" d=\"M3,0A3,3 0 1,1 0,-3A3,3 0 0,1 3,0Z\" style=\"opacity: 1; stroke-width: 0px; fill: rgb(99, 110, 250); fill-opacity: 1;\"/><path class=\"point\" transform=\"translate(135,115.84)\" d=\"M3,0A3,3 0 1,1 0,-3A3,3 0 0,1 3,0Z\" style=\"opacity: 1; stroke-width: 0px; fill: rgb(99, 110, 250); fill-opacity: 1;\"/><path class=\"point\" transform=\"translate(135,109.2)\" d=\"M3,0A3,3 0 1,1 0,-3A3,3 0 0,1 3,0Z\" style=\"opacity: 1; stroke-width: 0px; fill: rgb(99, 110, 250); fill-opacity: 1;\"/><path class=\"point\" transform=\"translate(135,102.56)\" d=\"M3,0A3,3 0 1,1 0,-3A3,3 0 0,1 3,0Z\" style=\"opacity: 1; stroke-width: 0px; fill: rgb(99, 110, 250); fill-opacity: 1;\"/><path class=\"point\" transform=\"translate(135,100.34)\" d=\"M3,0A3,3 0 1,1 0,-3A3,3 0 0,1 3,0Z\" style=\"opacity: 1; stroke-width: 0px; fill: rgb(99, 110, 250); fill-opacity: 1;\"/><path class=\"point\" transform=\"translate(135,95.91)\" d=\"M3,0A3,3 0 1,1 0,-3A3,3 0 0,1 3,0Z\" style=\"opacity: 1; stroke-width: 0px; fill: rgb(99, 110, 250); fill-opacity: 1;\"/><path class=\"point\" transform=\"translate(135,93.7)\" d=\"M3,0A3,3 0 1,1 0,-3A3,3 0 0,1 3,0Z\" style=\"opacity: 1; stroke-width: 0px; fill: rgb(99, 110, 250); fill-opacity: 1;\"/><path class=\"point\" transform=\"translate(135,91.49)\" d=\"M3,0A3,3 0 1,1 0,-3A3,3 0 0,1 3,0Z\" style=\"opacity: 1; stroke-width: 0px; fill: rgb(99, 110, 250); fill-opacity: 1;\"/><path class=\"point\" transform=\"translate(135,91.49)\" d=\"M3,0A3,3 0 1,1 0,-3A3,3 0 0,1 3,0Z\" style=\"opacity: 1; stroke-width: 0px; fill: rgb(99, 110, 250); fill-opacity: 1;\"/><path class=\"point\" transform=\"translate(135,87.06)\" d=\"M3,0A3,3 0 1,1 0,-3A3,3 0 0,1 3,0Z\" style=\"opacity: 1; stroke-width: 0px; fill: rgb(99, 110, 250); fill-opacity: 1;\"/><path class=\"point\" transform=\"translate(135,75.99)\" d=\"M3,0A3,3 0 1,1 0,-3A3,3 0 0,1 3,0Z\" style=\"opacity: 1; stroke-width: 0px; fill: rgb(99, 110, 250); fill-opacity: 1;\"/><path class=\"point\" transform=\"translate(135,73.77)\" d=\"M3,0A3,3 0 1,1 0,-3A3,3 0 0,1 3,0Z\" style=\"opacity: 1; stroke-width: 0px; fill: rgb(99, 110, 250); fill-opacity: 1;\"/><path class=\"point\" transform=\"translate(135,73.77)\" d=\"M3,0A3,3 0 1,1 0,-3A3,3 0 0,1 3,0Z\" style=\"opacity: 1; stroke-width: 0px; fill: rgb(99, 110, 250); fill-opacity: 1;\"/><path class=\"point\" transform=\"translate(135,71.56)\" d=\"M3,0A3,3 0 1,1 0,-3A3,3 0 0,1 3,0Z\" style=\"opacity: 1; stroke-width: 0px; fill: rgb(99, 110, 250); fill-opacity: 1;\"/><path class=\"point\" transform=\"translate(135,62.7)\" d=\"M3,0A3,3 0 1,1 0,-3A3,3 0 0,1 3,0Z\" style=\"opacity: 1; stroke-width: 0px; fill: rgb(99, 110, 250); fill-opacity: 1;\"/><path class=\"point\" transform=\"translate(135,58.28)\" d=\"M3,0A3,3 0 1,1 0,-3A3,3 0 0,1 3,0Z\" style=\"opacity: 1; stroke-width: 0px; fill: rgb(99, 110, 250); fill-opacity: 1;\"/><path class=\"point\" transform=\"translate(135,56.06)\" d=\"M3,0A3,3 0 1,1 0,-3A3,3 0 0,1 3,0Z\" style=\"opacity: 1; stroke-width: 0px; fill: rgb(99, 110, 250); fill-opacity: 1;\"/><path class=\"point\" transform=\"translate(135,53.85)\" d=\"M3,0A3,3 0 1,1 0,-3A3,3 0 0,1 3,0Z\" style=\"opacity: 1; stroke-width: 0px; fill: rgb(99, 110, 250); fill-opacity: 1;\"/><path class=\"point\" transform=\"translate(135,44.99)\" d=\"M3,0A3,3 0 1,1 0,-3A3,3 0 0,1 3,0Z\" style=\"opacity: 1; stroke-width: 0px; fill: rgb(99, 110, 250); fill-opacity: 1;\"/><path class=\"point\" transform=\"translate(135,40.57)\" d=\"M3,0A3,3 0 1,1 0,-3A3,3 0 0,1 3,0Z\" style=\"opacity: 1; stroke-width: 0px; fill: rgb(99, 110, 250); fill-opacity: 1;\"/><path class=\"point\" transform=\"translate(135,27.28)\" d=\"M3,0A3,3 0 1,1 0,-3A3,3 0 0,1 3,0Z\" style=\"opacity: 1; stroke-width: 0px; fill: rgb(99, 110, 250); fill-opacity: 1;\"/></g></g><g class=\"trace violins\" style=\"opacity: 1;\"><path class=\"violin\" d=\"M405.1,342Q405.18,340.01 405.24,339.01C405.31,338.01 405.37,337.01 405.49,336.02C405.61,335.02 405.75,334.03 405.95,333.04C406.16,332.04 406.4,331.04 406.72,330.05C407.05,329.04 407.43,328.04 407.9,327.06C408.39,326.05 408.96,325.05 409.6,324.07C410.27,323.05 411.03,322.05 411.86,321.08C412.73,320.06 413.7,319.07 414.71,318.1C415.77,317.08 416.91,316.09 418.08,315.11C419.3,314.09 420.59,313.11 421.89,312.12C423.22,311.11 424.6,310.12 425.97,309.13C427.35,308.13 428.77,307.15 430.15,306.15C431.52,305.16 432.91,304.17 434.23,303.16C435.52,302.18 436.81,301.19 438.01,300.17C439.16,299.19 440.28,298.2 441.29,297.18C442.25,296.21 443.16,295.22 443.93,294.19C444.66,293.22 445.32,292.23 445.84,291.21C446.34,290.24 446.74,289.23 447.03,288.22C447.31,287.24 447.48,286.23 447.57,285.23C447.66,284.24 447.64,283.23 447.58,282.24C447.52,281.24 447.37,280.24 447.19,279.25C447.01,278.25 446.77,277.26 446.51,276.27C446.25,275.27 445.96,274.27 445.64,273.28C445.32,272.28 444.97,271.28 444.6,270.29C444.23,269.29 443.84,268.29 443.42,267.3C443,266.3 442.55,265.31 442.07,264.32C441.58,263.32 441.07,262.32 440.52,261.33C439.96,260.33 439.37,259.33 438.76,258.34C438.14,257.34 437.48,256.34 436.82,255.35C436.16,254.35 435.47,253.36 434.8,252.36C434.14,251.37 433.46,250.38 432.83,249.38C432.21,248.39 431.61,247.4 431.05,246.39C430.5,245.4 430,244.4 429.52,243.4C429.05,242.41 428.63,241.41 428.21,240.41C427.79,239.42 427.41,238.42 427.01,237.42C426.61,236.43 426.23,235.43 425.81,234.44C425.39,233.44 424.95,232.44 424.5,231.45C424.04,230.45 423.56,229.45 423.07,228.46C422.58,227.46 422.07,226.47 421.56,225.47C421.05,224.47 420.53,223.48 420.03,222.48C419.53,221.49 419.03,220.5 418.55,219.5C418.07,218.51 417.6,217.51 417.16,216.51C416.72,215.52 416.29,214.52 415.9,213.52C415.51,212.53 415.13,211.53 414.8,210.53C414.47,209.54 414.18,208.55 413.92,207.55C413.67,206.56 413.45,205.56 413.27,204.56C413.09,203.57 412.95,202.57 412.82,201.57C412.69,200.57 412.61,199.58 412.51,198.58C412.41,197.58 412.33,196.59 412.22,195.59C412.12,194.6 412.01,193.6 411.88,192.61C411.75,191.61 411.59,190.62 411.42,189.62C411.25,188.62 411.05,187.63 410.85,186.63C410.65,185.63 410.42,184.64 410.2,183.64C409.98,182.64 409.75,181.65 409.54,180.65C409.33,179.66 409.11,178.67 408.92,177.67C408.73,176.68 408.55,175.68 408.39,174.68C408.23,173.68 408.09,172.69 407.96,171.69C407.83,170.69 407.72,169.7 407.62,168.7C407.52,167.71 407.43,166.71 407.34,165.72C407.25,164.72 407.18,163.73 407.1,162.73C407.02,161.73 406.94,160.74 406.87,159.74C406.8,158.74 406.73,157.75 406.66,156.75C406.59,155.75 406.52,154.76 406.46,153.76C406.4,152.77 406.34,151.77 406.29,150.78C406.24,149.78 406.19,148.79 406.16,147.79C406.13,146.79 406.11,145.8 406.09,144.8C406.07,143.8 406.07,142.81 406.06,141.81C406.05,140.81 406.06,139.82 406.05,138.82C406.05,137.83 406.04,136.83 406.03,135.84C406.02,134.84 406.01,133.85 405.98,132.85C405.95,131.85 405.9,130.86 405.86,129.86C405.81,128.86 405.76,127.87 405.71,126.87C405.65,125.87 405.59,124.88 405.53,123.88C405.47,122.89 405.42,121.89 405.37,120.9C405.32,119.9 405.27,118.91 405.23,117.91C405.19,116.91 405.16,115.92 405.13,114.92C405.11,113.92 405.09,112.93 405.08,111.93C405.07,110.94 405.06,109.94 405.06,108.95C405.06,107.95 405.06,106.96 405.07,105.96C405.08,104.96 405.09,103.97 405.11,102.97C405.13,101.97 405.16,100.98 405.18,99.98C405.21,98.98 405.23,97.99 405.26,96.99C405.29,96 405.32,95 405.34,94.01C405.37,93.01 405.39,92.02 405.41,91.02C405.43,90.02 405.44,89.03 405.45,88.03C405.46,87.03 405.46,86.04 405.46,85.04C405.46,84.04 405.44,83.05 405.43,82.05C405.42,81.06 405.4,80.06 405.39,79.07C405.37,78.07 405.36,77.08 405.34,76.08C405.32,75.08 405.31,74.09 405.29,73.09C405.28,72.09 405.26,71.1 405.25,70.1C405.24,69.11 405.24,68.11 405.23,67.12C405.22,66.12 405.22,65.13 405.21,64.13C405.2,63.13 405.2,62.14 405.19,61.14C405.18,60.14 405.18,59.15 405.17,58.15C405.16,57.15 405.16,56.16 405.15,55.16C405.14,54.17 405.13,53.17 405.12,52.18C405.11,51.18 405.1,50.19 405.09,49.19C405.08,48.19 405.07,47.2 405.06,46.2C405.05,45.2 405.05,44.21 405.04,43.21Q405.03,42.21 405.02,40.22L404.98,40.22Q404.97,42.21 404.96,43.21C404.95,44.21 404.95,45.2 404.94,46.2C404.93,47.2 404.92,48.19 404.91,49.19C404.9,50.19 404.89,51.18 404.88,52.18C404.87,53.17 404.86,54.17 404.85,55.16C404.84,56.16 404.84,57.15 404.83,58.15C404.82,59.15 404.82,60.14 404.81,61.14C404.8,62.14 404.8,63.13 404.79,64.13C404.78,65.13 404.78,66.12 404.77,67.12C404.76,68.11 404.76,69.11 404.75,70.1C404.74,71.1 404.72,72.09 404.71,73.09C404.69,74.09 404.68,75.08 404.66,76.08C404.64,77.08 404.63,78.07 404.61,79.07C404.6,80.06 404.58,81.06 404.57,82.05C404.56,83.05 404.54,84.04 404.54,85.04C404.54,86.04 404.54,87.03 404.55,88.03C404.56,89.03 404.57,90.02 404.59,91.02C404.61,92.02 404.63,93.01 404.66,94.01C404.68,95 404.71,96 404.74,96.99C404.77,97.99 404.79,98.98 404.82,99.98C404.84,100.98 404.87,101.97 404.89,102.97C404.91,103.97 404.92,104.96 404.93,105.96C404.94,106.96 404.94,107.95 404.94,108.95C404.94,109.94 404.93,110.94 404.92,111.93C404.91,112.93 404.89,113.92 404.87,114.92C404.84,115.92 404.81,116.91 404.77,117.91C404.73,118.91 404.68,119.9 404.63,120.9C404.58,121.89 404.53,122.89 404.47,123.88C404.41,124.88 404.35,125.87 404.29,126.87C404.24,127.87 404.19,128.86 404.14,129.86C404.1,130.86 404.05,131.85 404.02,132.85C403.99,133.85 403.98,134.84 403.97,135.84C403.96,136.83 403.95,137.83 403.95,138.82C403.94,139.82 403.95,140.81 403.94,141.81C403.93,142.81 403.93,143.8 403.91,144.8C403.89,145.8 403.87,146.79 403.84,147.79C403.81,148.79 403.76,149.78 403.71,150.78C403.66,151.77 403.6,152.77 403.54,153.76C403.48,154.76 403.41,155.75 403.34,156.75C403.27,157.75 403.2,158.74 403.13,159.74C403.06,160.74 402.98,161.73 402.9,162.73C402.82,163.73 402.75,164.72 402.66,165.72C402.57,166.71 402.48,167.71 402.38,168.7C402.28,169.7 402.17,170.69 402.04,171.69C401.91,172.69 401.77,173.68 401.61,174.68C401.45,175.68 401.27,176.68 401.08,177.67C400.89,178.67 400.67,179.66 400.46,180.65C400.25,181.65 400.02,182.64 399.8,183.64C399.58,184.64 399.35,185.63 399.15,186.63C398.95,187.63 398.75,188.62 398.58,189.62C398.41,190.62 398.25,191.61 398.12,192.61C397.99,193.6 397.88,194.6 397.78,195.59C397.67,196.59 397.59,197.58 397.49,198.58C397.39,199.58 397.31,200.57 397.18,201.57C397.05,202.57 396.91,203.57 396.73,204.56C396.55,205.56 396.33,206.56 396.08,207.55C395.82,208.55 395.53,209.54 395.2,210.53C394.87,211.53 394.49,212.53 394.1,213.52C393.71,214.52 393.28,215.52 392.84,216.51C392.4,217.51 391.93,218.51 391.45,219.5C390.97,220.5 390.47,221.49 389.97,222.48C389.47,223.48 388.95,224.47 388.44,225.47C387.93,226.47 387.42,227.46 386.93,228.46C386.44,229.45 385.96,230.45 385.5,231.45C385.05,232.44 384.61,233.44 384.19,234.44C383.77,235.43 383.39,236.43 382.99,237.42C382.59,238.42 382.21,239.42 381.79,240.41C381.37,241.41 380.95,242.41 380.48,243.4C380,244.4 379.5,245.4 378.95,246.39C378.39,247.4 377.79,248.39 377.17,249.38C376.54,250.38 375.86,251.37 375.2,252.36C374.53,253.36 373.84,254.35 373.18,255.35C372.52,256.34 371.86,257.34 371.24,258.34C370.63,259.33 370.04,260.33 369.48,261.33C368.93,262.32 368.42,263.32 367.93,264.32C367.45,265.31 367,266.3 366.58,267.3C366.16,268.29 365.77,269.29 365.4,270.29C365.03,271.28 364.68,272.28 364.36,273.28C364.04,274.27 363.75,275.27 363.49,276.27C363.23,277.26 362.99,278.25 362.81,279.25C362.63,280.24 362.48,281.24 362.42,282.24C362.36,283.23 362.34,284.24 362.43,285.23C362.52,286.23 362.69,287.24 362.97,288.22C363.26,289.23 363.66,290.24 364.16,291.21C364.68,292.23 365.34,293.22 366.07,294.19C366.84,295.22 367.75,296.21 368.71,297.18C369.72,298.2 370.84,299.19 371.99,300.17C373.19,301.19 374.48,302.18 375.77,303.16C377.09,304.17 378.48,305.16 379.85,306.15C381.23,307.15 382.65,308.13 384.03,309.13C385.4,310.12 386.78,311.11 388.11,312.12C389.41,313.11 390.7,314.09 391.92,315.11C393.09,316.09 394.23,317.08 395.29,318.1C396.3,319.07 397.27,320.06 398.14,321.08C398.97,322.05 399.73,323.05 400.4,324.07C401.04,325.05 401.61,326.05 402.1,327.06C402.57,328.04 402.95,329.04 403.28,330.05C403.6,331.04 403.84,332.04 404.05,333.04C404.25,334.03 404.39,335.02 404.51,336.02C404.63,337.01 404.69,338.01 404.76,339.01Q404.82,340.01 404.9,342Z\" style=\"vector-effect: non-scaling-stroke; stroke-width: 2px; stroke: rgb(239, 85, 59); stroke-opacity: 1; fill: rgb(239, 85, 59); fill-opacity: 0.5;\"/><path class=\"box\" d=\"M388.46,268.6H421.54M388.46,288.52H421.54V242.03H388.46ZM405,288.52V323.95M405,242.03V173.4\" style=\"vector-effect: non-scaling-stroke; stroke-width: 2px; stroke: rgb(239, 85, 59); stroke-opacity: 1; fill: rgb(239, 85, 59); fill-opacity: 0.5;\"/><g class=\"points\"><path class=\"point\" transform=\"translate(405,171.19)\" d=\"M3,0A3,3 0 1,1 0,-3A3,3 0 0,1 3,0Z\" style=\"opacity: 1; stroke-width: 0px; fill: rgb(239, 85, 59); fill-opacity: 1;\"/><path class=\"point\" transform=\"translate(405,168.97)\" d=\"M3,0A3,3 0 1,1 0,-3A3,3 0 0,1 3,0Z\" style=\"opacity: 1; stroke-width: 0px; fill: rgb(239, 85, 59); fill-opacity: 1;\"/><path class=\"point\" transform=\"translate(405,168.97)\" d=\"M3,0A3,3 0 1,1 0,-3A3,3 0 0,1 3,0Z\" style=\"opacity: 1; stroke-width: 0px; fill: rgb(239, 85, 59); fill-opacity: 1;\"/><path class=\"point\" transform=\"translate(405,168.97)\" d=\"M3,0A3,3 0 1,1 0,-3A3,3 0 0,1 3,0Z\" style=\"opacity: 1; stroke-width: 0px; fill: rgb(239, 85, 59); fill-opacity: 1;\"/><path class=\"point\" transform=\"translate(405,166.76)\" d=\"M3,0A3,3 0 1,1 0,-3A3,3 0 0,1 3,0Z\" style=\"opacity: 1; stroke-width: 0px; fill: rgb(239, 85, 59); fill-opacity: 1;\"/><path class=\"point\" transform=\"translate(405,166.76)\" d=\"M3,0A3,3 0 1,1 0,-3A3,3 0 0,1 3,0Z\" style=\"opacity: 1; stroke-width: 0px; fill: rgb(239, 85, 59); fill-opacity: 1;\"/><path class=\"point\" transform=\"translate(405,164.55)\" d=\"M3,0A3,3 0 1,1 0,-3A3,3 0 0,1 3,0Z\" style=\"opacity: 1; stroke-width: 0px; fill: rgb(239, 85, 59); fill-opacity: 1;\"/><path class=\"point\" transform=\"translate(405,160.12)\" d=\"M3,0A3,3 0 1,1 0,-3A3,3 0 0,1 3,0Z\" style=\"opacity: 1; stroke-width: 0px; fill: rgb(239, 85, 59); fill-opacity: 1;\"/><path class=\"point\" transform=\"translate(405,160.12)\" d=\"M3,0A3,3 0 1,1 0,-3A3,3 0 0,1 3,0Z\" style=\"opacity: 1; stroke-width: 0px; fill: rgb(239, 85, 59); fill-opacity: 1;\"/><path class=\"point\" transform=\"translate(405,157.9)\" d=\"M3,0A3,3 0 1,1 0,-3A3,3 0 0,1 3,0Z\" style=\"opacity: 1; stroke-width: 0px; fill: rgb(239, 85, 59); fill-opacity: 1;\"/><path class=\"point\" transform=\"translate(405,157.9)\" d=\"M3,0A3,3 0 1,1 0,-3A3,3 0 0,1 3,0Z\" style=\"opacity: 1; stroke-width: 0px; fill: rgb(239, 85, 59); fill-opacity: 1;\"/><path class=\"point\" transform=\"translate(405,155.69)\" d=\"M3,0A3,3 0 1,1 0,-3A3,3 0 0,1 3,0Z\" style=\"opacity: 1; stroke-width: 0px; fill: rgb(239, 85, 59); fill-opacity: 1;\"/><path class=\"point\" transform=\"translate(405,153.48)\" d=\"M3,0A3,3 0 1,1 0,-3A3,3 0 0,1 3,0Z\" style=\"opacity: 1; stroke-width: 0px; fill: rgb(239, 85, 59); fill-opacity: 1;\"/><path class=\"point\" transform=\"translate(405,153.48)\" d=\"M3,0A3,3 0 1,1 0,-3A3,3 0 0,1 3,0Z\" style=\"opacity: 1; stroke-width: 0px; fill: rgb(239, 85, 59); fill-opacity: 1;\"/><path class=\"point\" transform=\"translate(405,146.83)\" d=\"M3,0A3,3 0 1,1 0,-3A3,3 0 0,1 3,0Z\" style=\"opacity: 1; stroke-width: 0px; fill: rgb(239, 85, 59); fill-opacity: 1;\"/><path class=\"point\" transform=\"translate(405,140.19)\" d=\"M3,0A3,3 0 1,1 0,-3A3,3 0 0,1 3,0Z\" style=\"opacity: 1; stroke-width: 0px; fill: rgb(239, 85, 59); fill-opacity: 1;\"/><path class=\"point\" transform=\"translate(405,137.98)\" d=\"M3,0A3,3 0 1,1 0,-3A3,3 0 0,1 3,0Z\" style=\"opacity: 1; stroke-width: 0px; fill: rgb(239, 85, 59); fill-opacity: 1;\"/><path class=\"point\" transform=\"translate(405,135.76)\" d=\"M3,0A3,3 0 1,1 0,-3A3,3 0 0,1 3,0Z\" style=\"opacity: 1; stroke-width: 0px; fill: rgb(239, 85, 59); fill-opacity: 1;\"/><path class=\"point\" transform=\"translate(405,133.55)\" d=\"M3,0A3,3 0 1,1 0,-3A3,3 0 0,1 3,0Z\" style=\"opacity: 1; stroke-width: 0px; fill: rgb(239, 85, 59); fill-opacity: 1;\"/><path class=\"point\" transform=\"translate(405,131.34)\" d=\"M3,0A3,3 0 1,1 0,-3A3,3 0 0,1 3,0Z\" style=\"opacity: 1; stroke-width: 0px; fill: rgb(239, 85, 59); fill-opacity: 1;\"/><path class=\"point\" transform=\"translate(405,131.34)\" d=\"M3,0A3,3 0 1,1 0,-3A3,3 0 0,1 3,0Z\" style=\"opacity: 1; stroke-width: 0px; fill: rgb(239, 85, 59); fill-opacity: 1;\"/><path class=\"point\" transform=\"translate(405,129.12)\" d=\"M3,0A3,3 0 1,1 0,-3A3,3 0 0,1 3,0Z\" style=\"opacity: 1; stroke-width: 0px; fill: rgb(239, 85, 59); fill-opacity: 1;\"/><path class=\"point\" transform=\"translate(405,89.27)\" d=\"M3,0A3,3 0 1,1 0,-3A3,3 0 0,1 3,0Z\" style=\"opacity: 1; stroke-width: 0px; fill: rgb(239, 85, 59); fill-opacity: 1;\"/><path class=\"point\" transform=\"translate(405,89.27)\" d=\"M3,0A3,3 0 1,1 0,-3A3,3 0 0,1 3,0Z\" style=\"opacity: 1; stroke-width: 0px; fill: rgb(239, 85, 59); fill-opacity: 1;\"/><path class=\"point\" transform=\"translate(405,84.84)\" d=\"M3,0A3,3 0 1,1 0,-3A3,3 0 0,1 3,0Z\" style=\"opacity: 1; stroke-width: 0px; fill: rgb(239, 85, 59); fill-opacity: 1;\"/><path class=\"point\" transform=\"translate(405,73.77)\" d=\"M3,0A3,3 0 1,1 0,-3A3,3 0 0,1 3,0Z\" style=\"opacity: 1; stroke-width: 0px; fill: rgb(239, 85, 59); fill-opacity: 1;\"/><path class=\"point\" transform=\"translate(405,58.28)\" d=\"M3,0A3,3 0 1,1 0,-3A3,3 0 0,1 3,0Z\" style=\"opacity: 1; stroke-width: 0px; fill: rgb(239, 85, 59); fill-opacity: 1;\"/></g></g></g></g><g class=\"overplot\"/><path class=\"xlines-above crisp\" d=\"M0,0\" style=\"fill: none;\"/><path class=\"ylines-above crisp\" d=\"M0,0\" style=\"fill: none;\"/><g class=\"overlines-above\"/><g class=\"xaxislayer-above\"><g class=\"xtick\"><text text-anchor=\"middle\" x=\"0\" y=\"433\" transform=\"translate(215,0)\" style=\"font-family: 'Open Sans', verdana, arial, sans-serif; font-size: 12px; fill: rgb(42, 63, 95); fill-opacity: 1; white-space: pre; opacity: 1;\">0</text></g><g class=\"xtick\"><text text-anchor=\"middle\" x=\"0\" y=\"433\" style=\"font-family: 'Open Sans', verdana, arial, sans-serif; font-size: 12px; fill: rgb(42, 63, 95); fill-opacity: 1; white-space: pre; opacity: 1;\" transform=\"translate(485,0)\">1</text></g></g><g class=\"yaxislayer-above\"><g class=\"ytick\"><text text-anchor=\"end\" x=\"79\" y=\"4.199999999999999\" transform=\"translate(0,388.38)\" style=\"font-family: 'Open Sans', verdana, arial, sans-serif; font-size: 12px; fill: rgb(42, 63, 95); fill-opacity: 1; white-space: pre; opacity: 1;\">0</text></g><g class=\"ytick\"><text text-anchor=\"end\" x=\"79\" y=\"4.199999999999999\" style=\"font-family: 'Open Sans', verdana, arial, sans-serif; font-size: 12px; fill: rgb(42, 63, 95); fill-opacity: 1; white-space: pre; opacity: 1;\" transform=\"translate(0,344.1)\">20</text></g><g class=\"ytick\"><text text-anchor=\"end\" x=\"79\" y=\"4.199999999999999\" style=\"font-family: 'Open Sans', verdana, arial, sans-serif; font-size: 12px; fill: rgb(42, 63, 95); fill-opacity: 1; white-space: pre; opacity: 1;\" transform=\"translate(0,299.82)\">40</text></g><g class=\"ytick\"><text text-anchor=\"end\" x=\"79\" y=\"4.199999999999999\" style=\"font-family: 'Open Sans', verdana, arial, sans-serif; font-size: 12px; fill: rgb(42, 63, 95); fill-opacity: 1; white-space: pre; opacity: 1;\" transform=\"translate(0,255.54)\">60</text></g><g class=\"ytick\"><text text-anchor=\"end\" x=\"79\" y=\"4.199999999999999\" style=\"font-family: 'Open Sans', verdana, arial, sans-serif; font-size: 12px; fill: rgb(42, 63, 95); fill-opacity: 1; white-space: pre; opacity: 1;\" transform=\"translate(0,211.26)\">80</text></g><g class=\"ytick\"><text text-anchor=\"end\" x=\"79\" y=\"4.199999999999999\" style=\"font-family: 'Open Sans', verdana, arial, sans-serif; font-size: 12px; fill: rgb(42, 63, 95); fill-opacity: 1; white-space: pre; opacity: 1;\" transform=\"translate(0,166.98000000000002)\">100</text></g><g class=\"ytick\"><text text-anchor=\"end\" x=\"79\" y=\"4.199999999999999\" style=\"font-family: 'Open Sans', verdana, arial, sans-serif; font-size: 12px; fill: rgb(42, 63, 95); fill-opacity: 1; white-space: pre; opacity: 1;\" transform=\"translate(0,122.7)\">120</text></g><g class=\"ytick\"><text text-anchor=\"end\" x=\"79\" y=\"4.199999999999999\" style=\"font-family: 'Open Sans', verdana, arial, sans-serif; font-size: 12px; fill: rgb(42, 63, 95); fill-opacity: 1; white-space: pre; opacity: 1;\" transform=\"translate(0,78.43)\">140</text></g></g><g class=\"overaxes-above\"/></g></g><g class=\"polarlayer\"/><g class=\"ternarylayer\"/><g class=\"geolayer\"/><g class=\"funnelarealayer\"/><g class=\"pielayer\"/><g class=\"iciclelayer\"/><g class=\"treemaplayer\"/><g class=\"sunburstlayer\"/><g class=\"glimages\"/><defs id=\"topdefs-cb1850\"><g class=\"clips\"/><clipPath id=\"legendcb1850\"><rect width=\"52\" height=\"67\" x=\"0\" y=\"0\"/></clipPath></defs><g class=\"layer-above\"><g class=\"imagelayer\"/><g class=\"shapelayer\"/></g><g class=\"infolayer\"><g class=\"legend\" pointer-events=\"all\" transform=\"translate(630.8,60)\"><rect class=\"bg\" shape-rendering=\"crispEdges\" style=\"stroke: rgb(68, 68, 68); stroke-opacity: 1; fill: rgb(255, 255, 255); fill-opacity: 1; stroke-width: 0px;\" width=\"52\" height=\"67\" x=\"0\" y=\"0\"/><g class=\"scrollbox\" transform=\"\" clip-path=\"url(#legendcb1850)\"><text class=\"legendtitletext\" text-anchor=\"start\" x=\"2\" y=\"18.2\" style=\"font-family: 'Open Sans', verdana, arial, sans-serif; font-size: 14px; fill: rgb(42, 63, 95); fill-opacity: 1; white-space: pre;\">claim</text><g class=\"groups\" transform=\"\"><g class=\"traces\" transform=\"translate(0,32.7)\" style=\"opacity: 1;\"><text class=\"legendtext\" text-anchor=\"start\" x=\"40\" y=\"4.680000000000001\" style=\"font-family: 'Open Sans', verdana, arial, sans-serif; font-size: 12px; fill: rgb(42, 63, 95); fill-opacity: 1; white-space: pre;\">0</text><g class=\"layers\" style=\"opacity: 1;\"><g class=\"legendfill\"/><g class=\"legendlines\"/><g class=\"legendsymbols\"><g class=\"legendpoints\"><path class=\"legendbox\" d=\"M6,6H-6V-6H6Z\" transform=\"translate(20,0)\" style=\"stroke-width: 2px; fill: rgb(99, 110, 250); fill-opacity: 0.5; stroke: rgb(99, 110, 250); stroke-opacity: 1;\"/></g></g></g><rect class=\"legendtoggle\" x=\"0\" y=\"-9.5\" width=\"47\" height=\"19\" style=\"fill: rgb(0, 0, 0); fill-opacity: 0;\"/></g></g><g class=\"groups\" transform=\"\"><g class=\"traces\" transform=\"translate(0,51.7)\" style=\"opacity: 1;\"><text class=\"legendtext\" text-anchor=\"start\" x=\"40\" y=\"4.680000000000001\" style=\"font-family: 'Open Sans', verdana, arial, sans-serif; font-size: 12px; fill: rgb(42, 63, 95); fill-opacity: 1; white-space: pre;\">1</text><g class=\"layers\" style=\"opacity: 1;\"><g class=\"legendfill\"/><g class=\"legendlines\"/><g class=\"legendsymbols\"><g class=\"legendpoints\"><path class=\"legendbox\" d=\"M6,6H-6V-6H6Z\" transform=\"translate(20,0)\" style=\"stroke-width: 2px; fill: rgb(239, 85, 59); fill-opacity: 0.5; stroke: rgb(239, 85, 59); stroke-opacity: 1;\"/></g></g></g><rect class=\"legendtoggle\" x=\"0\" y=\"-9.5\" width=\"47\" height=\"19\" style=\"fill: rgb(0, 0, 0); fill-opacity: 0;\"/></g></g></g><rect class=\"scrollbar\" rx=\"20\" ry=\"3\" width=\"0\" height=\"0\" style=\"fill: rgb(128, 139, 164); fill-opacity: 1;\" x=\"0\" y=\"0\"/></g><g class=\"g-gtitle\"><text class=\"gtitle\" x=\"35\" y=\"30\" text-anchor=\"start\" dy=\"0em\" style=\"font-family: 'Open Sans', verdana, arial, sans-serif; font-size: 17px; fill: rgb(42, 63, 95); opacity: 1; font-weight: normal; white-space: pre;\">Word count distribution</text></g><g class=\"g-xtitle\"><text class=\"xtitle\" x=\"350\" y=\"460.8\" text-anchor=\"middle\" style=\"font-family: 'Open Sans', verdana, arial, sans-serif; font-size: 14px; fill: rgb(42, 63, 95); opacity: 1; font-weight: normal; white-space: pre;\">claim</text></g><g class=\"g-ytitle\"><text class=\"ytitle\" transform=\"rotate(-90,34.16875,240)\" x=\"34.16875\" y=\"240\" text-anchor=\"middle\" style=\"font-family: 'Open Sans', verdana, arial, sans-serif; font-size: 14px; fill: rgb(42, 63, 95); opacity: 1; font-weight: normal; white-space: pre;\"># of words</text></g></g></svg>"
      ]
     },
     "metadata": {},
     "output_type": "display_data"
    }
   ],
   "source": [
    "fig = px.violin(claim_df, x=\"claim\", y=\"num_words\", color=\"claim\", box=True)\n",
    "fig.update_layout(title=\"Word count distribution\", yaxis_title=\"# of words\")\n",
    "fig.show(\"svg\")"
   ]
  },
  {
   "cell_type": "code",
   "execution_count": 11,
   "metadata": {},
   "outputs": [
    {
     "data": {
      "image/svg+xml": [
       "<svg class=\"main-svg\" xmlns=\"http://www.w3.org/2000/svg\" xmlns:xlink=\"http://www.w3.org/1999/xlink\" width=\"700\" height=\"500\" style=\"\" viewBox=\"0 0 700 500\"><rect x=\"0\" y=\"0\" width=\"700\" height=\"500\" style=\"fill: rgb(255, 255, 255); fill-opacity: 1;\"/><defs id=\"defs-01fe1c\"><g class=\"clips\"><clipPath id=\"clip01fe1cxyplot\" class=\"plotclip\"><rect width=\"540\" height=\"360\"/></clipPath><clipPath class=\"axesclip\" id=\"clip01fe1cx\"><rect x=\"80\" y=\"0\" width=\"540\" height=\"500\"/></clipPath><clipPath class=\"axesclip\" id=\"clip01fe1cy\"><rect x=\"0\" y=\"60\" width=\"700\" height=\"360\"/></clipPath><clipPath class=\"axesclip\" id=\"clip01fe1cxy\"><rect x=\"80\" y=\"60\" width=\"540\" height=\"360\"/></clipPath></g><g class=\"gradients\"/><g class=\"patterns\"/></defs><g class=\"bglayer\"><rect class=\"bg\" x=\"80\" y=\"60\" width=\"540\" height=\"360\" style=\"fill: rgb(229, 236, 246); fill-opacity: 1; stroke-width: 0;\"/></g><g class=\"layer-below\"><g class=\"imagelayer\"/><g class=\"shapelayer\"/></g><g class=\"cartesianlayer\"><g class=\"subplot xy\"><g class=\"layer-subplot\"><g class=\"shapelayer\"/><g class=\"imagelayer\"/></g><g class=\"gridlayer\"><g class=\"x\"/><g class=\"y\"><path class=\"ygrid crisp\" transform=\"translate(0,338.69)\" d=\"M80,0h540\" style=\"stroke: rgb(255, 255, 255); stroke-opacity: 1; stroke-width: 1px;\"/><path class=\"ygrid crisp\" transform=\"translate(0,286.4)\" d=\"M80,0h540\" style=\"stroke: rgb(255, 255, 255); stroke-opacity: 1; stroke-width: 1px;\"/><path class=\"ygrid crisp\" transform=\"translate(0,234.1)\" d=\"M80,0h540\" style=\"stroke: rgb(255, 255, 255); stroke-opacity: 1; stroke-width: 1px;\"/><path class=\"ygrid crisp\" transform=\"translate(0,181.81)\" d=\"M80,0h540\" style=\"stroke: rgb(255, 255, 255); stroke-opacity: 1; stroke-width: 1px;\"/><path class=\"ygrid crisp\" transform=\"translate(0,129.51)\" d=\"M80,0h540\" style=\"stroke: rgb(255, 255, 255); stroke-opacity: 1; stroke-width: 1px;\"/><path class=\"ygrid crisp\" transform=\"translate(0,77.22)\" d=\"M80,0h540\" style=\"stroke: rgb(255, 255, 255); stroke-opacity: 1; stroke-width: 1px;\"/></g></g><g class=\"zerolinelayer\"><path class=\"yzl zl crisp\" transform=\"translate(0,390.99)\" d=\"M80,0h540\" style=\"stroke: rgb(255, 255, 255); stroke-opacity: 1; stroke-width: 2px;\"/></g><path class=\"xlines-below\"/><path class=\"ylines-below\"/><g class=\"overlines-below\"/><g class=\"xaxislayer-below\"/><g class=\"yaxislayer-below\"/><g class=\"overaxes-below\"/><g class=\"plot\" transform=\"translate(80,60)\" clip-path=\"url(#clip01fe1cxyplot)\"><g class=\"violinlayer mlayer\"><g class=\"trace violins\" style=\"opacity: 1;\"><path class=\"violin\" d=\"M135.96,340.66Q136.51,339.57 136.91,339.06C137.35,338.5 137.89,337.96 138.51,337.45C139.22,336.88 140.06,336.35 140.97,335.85C142.02,335.27 143.21,334.75 144.47,334.24C145.9,333.67 147.48,333.15 149.12,332.64C150.93,332.08 152.88,331.55 154.87,331.03C157.01,330.48 159.27,329.96 161.54,329.43C163.9,328.88 166.35,328.35 168.76,327.82C171.19,327.28 173.67,326.76 176.07,326.22C178.41,325.69 180.75,325.16 182.97,324.61C185.06,324.09 187.12,323.56 189.02,323C190.74,322.49 192.41,321.98 193.89,321.4C195.18,320.9 196.42,320.38 197.45,319.79C198.32,319.29 199.13,318.78 199.72,318.19C200.22,317.69 200.64,317.14 200.88,316.58C201.09,316.07 201.17,315.51 201.15,314.98C201.13,314.44 200.95,313.89 200.74,313.37C200.52,312.82 200.18,312.29 199.82,311.77C199.44,311.22 198.96,310.68 198.48,310.16C197.98,309.61 197.42,309.09 196.86,308.56C196.29,308.02 195.67,307.49 195.08,306.95C194.49,306.42 193.88,305.89 193.3,305.35C192.73,304.82 192.17,304.28 191.64,303.74C191.13,303.21 190.63,302.68 190.17,302.14C189.72,301.61 189.3,301.07 188.89,300.53C188.49,300 188.11,299.46 187.72,298.93C187.33,298.39 186.95,297.85 186.55,297.32C186.14,296.78 185.72,296.24 185.27,295.71C184.81,295.17 184.32,294.64 183.81,294.11C183.28,293.57 182.73,293.03 182.15,292.5C181.56,291.96 180.93,291.43 180.31,290.9C179.68,290.36 179.03,289.82 178.38,289.29C177.73,288.75 177.07,288.23 176.43,287.69C175.79,287.16 175.16,286.62 174.54,286.08C173.93,285.55 173.33,285.02 172.76,284.48C172.2,283.95 171.66,283.41 171.14,282.87C170.63,282.34 170.14,281.81 169.68,281.27C169.23,280.74 168.8,280.2 168.38,279.66C167.97,279.13 167.59,278.6 167.21,278.06C166.84,277.53 166.49,276.99 166.13,276.45C165.77,275.92 165.42,275.38 165.06,274.85C164.7,274.31 164.34,273.77 163.98,273.24C163.61,272.7 163.24,272.17 162.87,271.64C162.49,271.1 162.11,270.57 161.73,270.03C161.35,269.49 160.98,268.96 160.6,268.42C160.23,267.89 159.85,267.35 159.48,266.82C159.1,266.28 158.73,265.74 158.35,265.21C157.96,264.67 157.57,264.14 157.17,263.61C156.77,263.07 156.35,262.53 155.94,262C155.52,261.46 155.1,260.94 154.68,260.4C154.27,259.87 153.84,259.33 153.45,258.79C153.06,258.26 152.69,257.73 152.34,257.19C152,256.66 151.67,256.12 151.38,255.58C151.09,255.05 150.83,254.52 150.59,253.98C150.35,253.45 150.14,252.91 149.93,252.37C149.72,251.84 149.54,251.3 149.34,250.77C149.14,250.23 148.95,249.69 148.75,249.16C148.55,248.62 148.34,248.09 148.12,247.56C147.9,247.02 147.67,246.48 147.43,245.95C147.19,245.41 146.94,244.88 146.69,244.35C146.44,243.81 146.19,243.28 145.95,242.74C145.71,242.2 145.46,241.67 145.24,241.13C145.02,240.6 144.81,240.07 144.61,239.53C144.41,239 144.23,238.46 144.06,237.92C143.89,237.39 143.75,236.86 143.6,236.32C143.46,235.79 143.33,235.25 143.19,234.71C143.06,234.18 142.92,233.64 142.79,233.11C142.65,232.57 142.52,232.04 142.38,231.5C142.24,230.97 142.09,230.43 141.95,229.9C141.81,229.36 141.66,228.83 141.52,228.29C141.38,227.76 141.25,227.22 141.12,226.69C140.99,226.15 140.87,225.62 140.75,225.08C140.63,224.55 140.53,224.01 140.42,223.48C140.31,222.94 140.21,222.41 140.11,221.87C140.01,221.34 139.9,220.8 139.8,220.27C139.69,219.73 139.59,219.2 139.48,218.66C139.37,218.13 139.26,217.59 139.15,217.06C139.04,216.52 138.93,215.99 138.83,215.45C138.73,214.92 138.63,214.38 138.54,213.85C138.45,213.31 138.35,212.78 138.27,212.24C138.19,211.7 138.11,211.17 138.04,210.63C137.97,210.1 137.9,209.56 137.83,209.03C137.76,208.49 137.7,207.96 137.63,207.42C137.57,206.89 137.5,206.35 137.44,205.82C137.38,205.28 137.31,204.75 137.25,204.21C137.19,203.68 137.12,203.14 137.06,202.61C137,202.07 136.95,201.54 136.9,201C136.85,200.47 136.79,199.93 136.75,199.4C136.71,198.86 136.67,198.33 136.64,197.79C136.61,197.26 136.57,196.72 136.55,196.19C136.53,195.65 136.51,195.12 136.5,194.58C136.49,194.05 136.48,193.51 136.47,192.98C136.46,192.44 136.46,191.91 136.46,191.37C136.46,190.84 136.46,190.3 136.46,189.77C136.46,189.23 136.47,188.7 136.47,188.16C136.47,187.63 136.47,187.09 136.46,186.56C136.45,186.02 136.44,185.49 136.43,184.95C136.42,184.41 136.4,183.88 136.38,183.34C136.36,182.81 136.33,182.27 136.3,181.74C136.27,181.2 136.23,180.67 136.19,180.13C136.15,179.6 136.11,179.06 136.08,178.53C136.04,177.99 136.01,177.46 135.98,176.92C135.95,176.39 135.92,175.85 135.89,175.32C135.86,174.78 135.84,174.25 135.82,173.71C135.8,173.18 135.78,172.64 135.77,172.11C135.76,171.57 135.75,171.04 135.74,170.5C135.73,169.97 135.73,169.43 135.72,168.9C135.71,168.36 135.7,167.83 135.69,167.29C135.68,166.76 135.67,166.22 135.66,165.69C135.65,165.15 135.63,164.62 135.62,164.08C135.61,163.55 135.6,163.01 135.59,162.48C135.58,161.94 135.56,161.41 135.55,160.87C135.54,160.34 135.53,159.8 135.52,159.27C135.51,158.73 135.51,158.2 135.5,157.66C135.49,157.12 135.49,156.59 135.48,156.05C135.48,155.52 135.47,154.98 135.47,154.45C135.46,153.91 135.46,153.38 135.45,152.84C135.44,152.31 135.43,151.77 135.42,151.24C135.41,150.7 135.39,150.17 135.38,149.63C135.37,149.1 135.35,148.56 135.34,148.03C135.33,147.49 135.31,146.96 135.3,146.42C135.29,145.89 135.27,145.35 135.26,144.82C135.25,144.28 135.23,143.75 135.22,143.21C135.21,142.68 135.19,142.14 135.18,141.61C135.17,141.07 135.17,140.54 135.16,140C135.15,139.47 135.15,138.93 135.14,138.4C135.13,137.86 135.12,137.33 135.12,136.79C135.12,136.26 135.12,135.72 135.12,135.19C135.12,134.65 135.12,134.12 135.12,133.58C135.12,133.05 135.12,132.51 135.12,131.98C135.12,131.44 135.13,130.91 135.13,130.37C135.13,129.83 135.13,129.3 135.13,128.76C135.13,128.23 135.14,127.69 135.14,127.16C135.14,126.62 135.14,126.09 135.14,125.55C135.14,125.02 135.14,124.48 135.14,123.95C135.14,123.41 135.13,122.88 135.13,122.34C135.13,121.81 135.12,121.27 135.12,120.74C135.12,120.2 135.12,119.67 135.11,119.13C135.11,118.6 135.1,118.06 135.09,117.53C135.08,116.99 135.08,116.46 135.07,115.92C135.06,115.39 135.05,114.85 135.05,114.32C135.04,113.78 135.04,113.25 135.04,112.71C135.04,112.18 135.04,111.64 135.04,111.11C135.04,110.57 135.04,110.04 135.04,109.5C135.04,108.97 135.04,108.43 135.04,107.9C135.04,107.36 135.05,106.83 135.05,106.29C135.05,105.76 135.06,105.22 135.06,104.69C135.06,104.15 135.07,103.62 135.07,103.08C135.07,102.54 135.07,102.01 135.07,101.47C135.07,100.94 135.07,100.4 135.07,99.87C135.07,99.33 135.06,98.8 135.06,98.26C135.06,97.73 135.06,97.19 135.06,96.66C135.06,96.12 135.06,95.59 135.05,95.05C135.05,94.52 135.03,93.98 135.03,93.45C135.03,92.91 135.03,92.38 135.03,91.84C135.03,91.31 135.02,90.77 135.02,90.24C135.02,89.7 135.01,89.17 135.01,88.63C135.01,88.1 135.01,87.56 135.01,87.03C135.01,86.49 135.01,85.96 135.01,85.42C135.01,84.89 135.02,84.35 135.02,83.82C135.02,83.28 135.02,82.75 135.02,82.21C135.02,81.68 135.02,81.14 135.02,80.61C135.02,80.07 135.02,79.54 135.02,79C135.02,78.47 135.03,77.93 135.03,77.4C135.03,76.86 135.02,76.33 135.02,75.79C135.02,75.26 135.02,74.72 135.02,74.19C135.02,73.65 135.02,73.12 135.02,72.58C135.02,72.04 135.03,71.51 135.03,70.97C135.03,70.44 135.02,69.9 135.02,69.37C135.02,68.83 135.02,68.3 135.02,67.76C135.02,67.23 135.02,66.69 135.02,66.16C135.02,65.62 135.01,65.09 135.01,64.55C135.01,64.02 135.01,63.48 135.01,62.95C135.01,62.41 135.01,61.88 135.01,61.34C135.01,60.81 135,60.27 135,59.74C135,59.2 135,58.67 135,58.13C135,57.6 135,57.06 135,56.53C135,55.99 135,55.46 135,54.92C135,54.39 135,53.85 135,53.32C135,52.78 135,52.25 135,51.71C135,51.18 135,50.64 135,50.11C135,49.57 135,49.04 135,48.5C135,47.97 135,47.43 135,46.9C135,46.36 135,45.83 135,45.29C135,44.75 135,44.22 135,43.68C135,43.15 135,42.61 135,42.08C135,41.54 135,41.01 135,40.47C135,39.94 135,39.4 135,38.87C135,38.33 135,37.8 135,37.26C135,36.73 135.01,36.19 135.01,35.66C135.01,35.12 135.01,34.59 135.01,34.05C135.01,33.52 135.01,32.98 135.01,32.45C135.01,31.91 135.02,31.38 135.02,30.84C135.02,30.31 135.02,29.77 135.02,29.24C135.02,28.7 135.02,28.17 135.02,27.63C135.02,27.1 135.02,26.56 135.02,26.03C135.02,25.49 135.02,24.96 135.02,24.42C135.02,23.89 135.01,23.35 135.01,22.82C135.01,22.28 135.01,21.75 135.01,21.21C135.01,20.68 135.01,20.14 135.01,19.61Q135.01,19.07 135,18L135,18Q134.99,19.07 134.99,19.61C134.99,20.14 134.99,20.68 134.99,21.21C134.99,21.75 134.99,22.28 134.99,22.82C134.99,23.35 134.98,23.89 134.98,24.42C134.98,24.96 134.98,25.49 134.98,26.03C134.98,26.56 134.98,27.1 134.98,27.63C134.98,28.17 134.98,28.7 134.98,29.24C134.98,29.77 134.98,30.31 134.98,30.84C134.98,31.38 134.99,31.91 134.99,32.45C134.99,32.98 134.99,33.52 134.99,34.05C134.99,34.59 134.99,35.12 134.99,35.66C134.99,36.19 135,36.73 135,37.26C135,37.8 135,38.33 135,38.87C135,39.4 135,39.94 135,40.47C135,41.01 135,41.54 135,42.08C135,42.61 135,43.15 135,43.68C135,44.22 135,44.75 135,45.29C135,45.83 135,46.36 135,46.9C135,47.43 135,47.97 135,48.5C135,49.04 135,49.57 135,50.11C135,50.64 135,51.18 135,51.71C135,52.25 135,52.78 135,53.32C135,53.85 135,54.39 135,54.92C135,55.46 135,55.99 135,56.53C135,57.06 135,57.6 135,58.13C135,58.67 135,59.2 135,59.74C135,60.27 134.99,60.81 134.99,61.34C134.99,61.88 134.99,62.41 134.99,62.95C134.99,63.48 134.99,64.02 134.99,64.55C134.99,65.09 134.98,65.62 134.98,66.16C134.98,66.69 134.98,67.23 134.98,67.76C134.98,68.3 134.98,68.83 134.98,69.37C134.98,69.9 134.97,70.44 134.97,70.97C134.97,71.51 134.98,72.04 134.98,72.58C134.98,73.12 134.98,73.65 134.98,74.19C134.98,74.72 134.98,75.26 134.98,75.79C134.98,76.33 134.97,76.86 134.97,77.4C134.97,77.93 134.98,78.47 134.98,79C134.98,79.54 134.98,80.07 134.98,80.61C134.98,81.14 134.98,81.68 134.98,82.21C134.98,82.75 134.98,83.28 134.98,83.82C134.98,84.35 134.99,84.89 134.99,85.42C134.99,85.96 134.99,86.49 134.99,87.03C134.99,87.56 134.99,88.1 134.99,88.63C134.99,89.17 134.98,89.7 134.98,90.24C134.98,90.77 134.97,91.31 134.97,91.84C134.97,92.38 134.97,92.91 134.97,93.45C134.97,93.98 134.95,94.52 134.95,95.05C134.94,95.59 134.94,96.12 134.94,96.66C134.94,97.19 134.94,97.73 134.94,98.26C134.94,98.8 134.93,99.33 134.93,99.87C134.93,100.4 134.93,100.94 134.93,101.47C134.93,102.01 134.93,102.54 134.93,103.08C134.93,103.62 134.94,104.15 134.94,104.69C134.94,105.22 134.95,105.76 134.95,106.29C134.95,106.83 134.96,107.36 134.96,107.9C134.96,108.43 134.96,108.97 134.96,109.5C134.96,110.04 134.96,110.57 134.96,111.11C134.96,111.64 134.96,112.18 134.96,112.71C134.96,113.25 134.96,113.78 134.95,114.32C134.95,114.85 134.94,115.39 134.93,115.92C134.92,116.46 134.92,116.99 134.91,117.53C134.9,118.06 134.89,118.6 134.89,119.13C134.88,119.67 134.88,120.2 134.88,120.74C134.88,121.27 134.87,121.81 134.87,122.34C134.87,122.88 134.86,123.41 134.86,123.95C134.86,124.48 134.86,125.02 134.86,125.55C134.86,126.09 134.86,126.62 134.86,127.16C134.86,127.69 134.87,128.23 134.87,128.76C134.87,129.3 134.87,129.83 134.87,130.37C134.87,130.91 134.88,131.44 134.88,131.98C134.88,132.51 134.88,133.05 134.88,133.58C134.88,134.12 134.88,134.65 134.88,135.19C134.88,135.72 134.88,136.26 134.88,136.79C134.88,137.33 134.87,137.86 134.86,138.4C134.85,138.93 134.85,139.47 134.84,140C134.83,140.54 134.83,141.07 134.82,141.61C134.81,142.14 134.79,142.68 134.78,143.21C134.77,143.75 134.75,144.28 134.74,144.82C134.73,145.35 134.71,145.89 134.7,146.42C134.69,146.96 134.67,147.49 134.66,148.03C134.65,148.56 134.63,149.1 134.62,149.63C134.61,150.17 134.59,150.7 134.58,151.24C134.57,151.77 134.56,152.31 134.55,152.84C134.54,153.38 134.54,153.91 134.53,154.45C134.53,154.98 134.52,155.52 134.52,156.05C134.51,156.59 134.51,157.12 134.5,157.66C134.49,158.2 134.49,158.73 134.48,159.27C134.47,159.8 134.46,160.34 134.45,160.87C134.44,161.41 134.42,161.94 134.41,162.48C134.4,163.01 134.39,163.55 134.38,164.08C134.37,164.62 134.35,165.15 134.34,165.69C134.33,166.22 134.32,166.76 134.31,167.29C134.3,167.83 134.29,168.36 134.28,168.9C134.27,169.43 134.27,169.97 134.26,170.5C134.25,171.04 134.24,171.57 134.23,172.11C134.22,172.64 134.2,173.18 134.18,173.71C134.16,174.25 134.14,174.78 134.11,175.32C134.08,175.85 134.05,176.39 134.02,176.92C133.99,177.46 133.96,177.99 133.92,178.53C133.89,179.06 133.85,179.6 133.81,180.13C133.77,180.67 133.73,181.2 133.7,181.74C133.67,182.27 133.64,182.81 133.62,183.34C133.6,183.88 133.58,184.41 133.57,184.95C133.56,185.49 133.55,186.02 133.54,186.56C133.53,187.09 133.53,187.63 133.53,188.16C133.53,188.7 133.54,189.23 133.54,189.77C133.54,190.3 133.54,190.84 133.54,191.37C133.54,191.91 133.54,192.44 133.53,192.98C133.52,193.51 133.51,194.05 133.5,194.58C133.49,195.12 133.47,195.65 133.45,196.19C133.43,196.72 133.39,197.26 133.36,197.79C133.33,198.33 133.29,198.86 133.25,199.4C133.21,199.93 133.15,200.47 133.1,201C133.05,201.54 133,202.07 132.94,202.61C132.88,203.14 132.81,203.68 132.75,204.21C132.69,204.75 132.62,205.28 132.56,205.82C132.5,206.35 132.43,206.89 132.37,207.42C132.3,207.96 132.24,208.49 132.17,209.03C132.1,209.56 132.03,210.1 131.96,210.63C131.89,211.17 131.81,211.7 131.73,212.24C131.65,212.78 131.55,213.31 131.46,213.85C131.37,214.38 131.27,214.92 131.17,215.45C131.07,215.99 130.96,216.52 130.85,217.06C130.74,217.59 130.63,218.13 130.52,218.66C130.41,219.2 130.31,219.73 130.2,220.27C130.1,220.8 129.99,221.34 129.89,221.87C129.79,222.41 129.69,222.94 129.58,223.48C129.47,224.01 129.37,224.55 129.25,225.08C129.13,225.62 129.01,226.15 128.88,226.69C128.75,227.22 128.62,227.76 128.48,228.29C128.34,228.83 128.19,229.36 128.05,229.9C127.91,230.43 127.76,230.97 127.62,231.5C127.48,232.04 127.35,232.57 127.21,233.11C127.08,233.64 126.94,234.18 126.81,234.71C126.67,235.25 126.54,235.79 126.4,236.32C126.25,236.86 126.11,237.39 125.94,237.92C125.77,238.46 125.59,239 125.39,239.53C125.19,240.07 124.98,240.6 124.76,241.13C124.54,241.67 124.29,242.2 124.05,242.74C123.81,243.28 123.56,243.81 123.31,244.35C123.06,244.88 122.81,245.41 122.57,245.95C122.33,246.48 122.1,247.02 121.88,247.56C121.66,248.09 121.45,248.62 121.25,249.16C121.05,249.69 120.86,250.23 120.66,250.77C120.46,251.3 120.28,251.84 120.07,252.37C119.86,252.91 119.65,253.45 119.41,253.98C119.17,254.52 118.91,255.05 118.62,255.58C118.33,256.12 118,256.66 117.66,257.19C117.31,257.73 116.94,258.26 116.55,258.79C116.16,259.33 115.73,259.87 115.32,260.4C114.9,260.94 114.48,261.46 114.06,262C113.65,262.53 113.23,263.07 112.83,263.61C112.43,264.14 112.04,264.67 111.65,265.21C111.27,265.74 110.9,266.28 110.52,266.82C110.15,267.35 109.77,267.89 109.4,268.42C109.02,268.96 108.65,269.49 108.27,270.03C107.89,270.57 107.51,271.1 107.13,271.64C106.76,272.17 106.39,272.7 106.02,273.24C105.66,273.77 105.3,274.31 104.94,274.85C104.58,275.38 104.23,275.92 103.87,276.45C103.51,276.99 103.16,277.53 102.79,278.06C102.41,278.6 102.03,279.13 101.62,279.66C101.2,280.2 100.77,280.74 100.32,281.27C99.86,281.81 99.37,282.34 98.86,282.87C98.34,283.41 97.8,283.95 97.24,284.48C96.67,285.02 96.07,285.55 95.46,286.08C94.84,286.62 94.21,287.16 93.57,287.69C92.93,288.23 92.27,288.75 91.62,289.29C90.97,289.82 90.32,290.36 89.69,290.9C89.07,291.43 88.44,291.96 87.85,292.5C87.27,293.03 86.72,293.57 86.19,294.11C85.68,294.64 85.19,295.17 84.73,295.71C84.28,296.24 83.86,296.78 83.45,297.32C83.05,297.85 82.67,298.39 82.28,298.93C81.89,299.46 81.51,300 81.11,300.53C80.7,301.07 80.28,301.61 79.83,302.14C79.37,302.68 78.87,303.21 78.36,303.74C77.83,304.28 77.27,304.82 76.7,305.35C76.12,305.89 75.51,306.42 74.92,306.95C74.33,307.49 73.71,308.02 73.14,308.56C72.58,309.09 72.02,309.61 71.52,310.16C71.04,310.68 70.56,311.22 70.18,311.77C69.82,312.29 69.48,312.82 69.26,313.37C69.05,313.89 68.87,314.44 68.85,314.98C68.83,315.51 68.91,316.07 69.12,316.58C69.36,317.14 69.78,317.69 70.28,318.19C70.87,318.78 71.68,319.29 72.55,319.79C73.58,320.38 74.82,320.9 76.11,321.4C77.59,321.98 79.26,322.49 80.98,323C82.88,323.56 84.94,324.09 87.03,324.61C89.25,325.16 91.59,325.69 93.93,326.22C96.33,326.76 98.81,327.28 101.24,327.82C103.65,328.35 106.1,328.88 108.46,329.43C110.73,329.96 112.99,330.48 115.13,331.03C117.12,331.55 119.07,332.08 120.88,332.64C122.52,333.15 124.1,333.67 125.53,334.24C126.79,334.75 127.98,335.27 129.03,335.85C129.94,336.35 130.78,336.88 131.49,337.45C132.11,337.96 132.65,338.5 133.09,339.06Q133.49,339.57 134.04,340.66Z\" style=\"vector-effect: non-scaling-stroke; stroke-width: 2px; stroke: rgb(99, 110, 250); stroke-opacity: 1; fill: rgb(99, 110, 250); fill-opacity: 0.5;\"/><path class=\"box\" d=\"M118.46,299.61H151.54M118.46,315.3H151.54V273.46H118.46ZM135,315.3V330.99M135,273.46V210.71\" style=\"vector-effect: non-scaling-stroke; stroke-width: 2px; stroke: rgb(99, 110, 250); stroke-opacity: 1; fill: rgb(99, 110, 250); fill-opacity: 0.5;\"/><g class=\"points\"><path class=\"point\" transform=\"translate(135,205.48)\" d=\"M3,0A3,3 0 1,1 0,-3A3,3 0 0,1 3,0Z\" style=\"opacity: 1; stroke-width: 0px; fill: rgb(99, 110, 250); fill-opacity: 1;\"/><path class=\"point\" transform=\"translate(135,205.48)\" d=\"M3,0A3,3 0 1,1 0,-3A3,3 0 0,1 3,0Z\" style=\"opacity: 1; stroke-width: 0px; fill: rgb(99, 110, 250); fill-opacity: 1;\"/><path class=\"point\" transform=\"translate(135,205.48)\" d=\"M3,0A3,3 0 1,1 0,-3A3,3 0 0,1 3,0Z\" style=\"opacity: 1; stroke-width: 0px; fill: rgb(99, 110, 250); fill-opacity: 1;\"/><path class=\"point\" transform=\"translate(135,205.48)\" d=\"M3,0A3,3 0 1,1 0,-3A3,3 0 0,1 3,0Z\" style=\"opacity: 1; stroke-width: 0px; fill: rgb(99, 110, 250); fill-opacity: 1;\"/><path class=\"point\" transform=\"translate(135,205.48)\" d=\"M3,0A3,3 0 1,1 0,-3A3,3 0 0,1 3,0Z\" style=\"opacity: 1; stroke-width: 0px; fill: rgb(99, 110, 250); fill-opacity: 1;\"/><path class=\"point\" transform=\"translate(135,205.48)\" d=\"M3,0A3,3 0 1,1 0,-3A3,3 0 0,1 3,0Z\" style=\"opacity: 1; stroke-width: 0px; fill: rgb(99, 110, 250); fill-opacity: 1;\"/><path class=\"point\" transform=\"translate(135,205.48)\" d=\"M3,0A3,3 0 1,1 0,-3A3,3 0 0,1 3,0Z\" style=\"opacity: 1; stroke-width: 0px; fill: rgb(99, 110, 250); fill-opacity: 1;\"/><path class=\"point\" transform=\"translate(135,205.48)\" d=\"M3,0A3,3 0 1,1 0,-3A3,3 0 0,1 3,0Z\" style=\"opacity: 1; stroke-width: 0px; fill: rgb(99, 110, 250); fill-opacity: 1;\"/><path class=\"point\" transform=\"translate(135,205.48)\" d=\"M3,0A3,3 0 1,1 0,-3A3,3 0 0,1 3,0Z\" style=\"opacity: 1; stroke-width: 0px; fill: rgb(99, 110, 250); fill-opacity: 1;\"/><path class=\"point\" transform=\"translate(135,205.48)\" d=\"M3,0A3,3 0 1,1 0,-3A3,3 0 0,1 3,0Z\" style=\"opacity: 1; stroke-width: 0px; fill: rgb(99, 110, 250); fill-opacity: 1;\"/><path class=\"point\" transform=\"translate(135,205.48)\" d=\"M3,0A3,3 0 1,1 0,-3A3,3 0 0,1 3,0Z\" style=\"opacity: 1; stroke-width: 0px; fill: rgb(99, 110, 250); fill-opacity: 1;\"/><path class=\"point\" transform=\"translate(135,205.48)\" d=\"M3,0A3,3 0 1,1 0,-3A3,3 0 0,1 3,0Z\" style=\"opacity: 1; stroke-width: 0px; fill: rgb(99, 110, 250); fill-opacity: 1;\"/><path class=\"point\" transform=\"translate(135,205.48)\" d=\"M3,0A3,3 0 1,1 0,-3A3,3 0 0,1 3,0Z\" style=\"opacity: 1; stroke-width: 0px; fill: rgb(99, 110, 250); fill-opacity: 1;\"/><path class=\"point\" transform=\"translate(135,205.48)\" d=\"M3,0A3,3 0 1,1 0,-3A3,3 0 0,1 3,0Z\" style=\"opacity: 1; stroke-width: 0px; fill: rgb(99, 110, 250); fill-opacity: 1;\"/><path class=\"point\" transform=\"translate(135,205.48)\" d=\"M3,0A3,3 0 1,1 0,-3A3,3 0 0,1 3,0Z\" style=\"opacity: 1; stroke-width: 0px; fill: rgb(99, 110, 250); fill-opacity: 1;\"/><path class=\"point\" transform=\"translate(135,205.48)\" d=\"M3,0A3,3 0 1,1 0,-3A3,3 0 0,1 3,0Z\" style=\"opacity: 1; stroke-width: 0px; fill: rgb(99, 110, 250); fill-opacity: 1;\"/><path class=\"point\" transform=\"translate(135,205.48)\" d=\"M3,0A3,3 0 1,1 0,-3A3,3 0 0,1 3,0Z\" style=\"opacity: 1; stroke-width: 0px; fill: rgb(99, 110, 250); fill-opacity: 1;\"/><path class=\"point\" transform=\"translate(135,205.48)\" d=\"M3,0A3,3 0 1,1 0,-3A3,3 0 0,1 3,0Z\" style=\"opacity: 1; stroke-width: 0px; fill: rgb(99, 110, 250); fill-opacity: 1;\"/><path class=\"point\" transform=\"translate(135,205.48)\" d=\"M3,0A3,3 0 1,1 0,-3A3,3 0 0,1 3,0Z\" style=\"opacity: 1; stroke-width: 0px; fill: rgb(99, 110, 250); fill-opacity: 1;\"/><path class=\"point\" transform=\"translate(135,205.48)\" d=\"M3,0A3,3 0 1,1 0,-3A3,3 0 0,1 3,0Z\" style=\"opacity: 1; stroke-width: 0px; fill: rgb(99, 110, 250); fill-opacity: 1;\"/><path class=\"point\" transform=\"translate(135,205.48)\" d=\"M3,0A3,3 0 1,1 0,-3A3,3 0 0,1 3,0Z\" style=\"opacity: 1; stroke-width: 0px; fill: rgb(99, 110, 250); fill-opacity: 1;\"/><path class=\"point\" transform=\"translate(135,205.48)\" d=\"M3,0A3,3 0 1,1 0,-3A3,3 0 0,1 3,0Z\" style=\"opacity: 1; stroke-width: 0px; fill: rgb(99, 110, 250); fill-opacity: 1;\"/><path class=\"point\" transform=\"translate(135,205.48)\" d=\"M3,0A3,3 0 1,1 0,-3A3,3 0 0,1 3,0Z\" style=\"opacity: 1; stroke-width: 0px; fill: rgb(99, 110, 250); fill-opacity: 1;\"/><path class=\"point\" transform=\"translate(135,205.48)\" d=\"M3,0A3,3 0 1,1 0,-3A3,3 0 0,1 3,0Z\" style=\"opacity: 1; stroke-width: 0px; fill: rgb(99, 110, 250); fill-opacity: 1;\"/><path class=\"point\" transform=\"translate(135,205.48)\" d=\"M3,0A3,3 0 1,1 0,-3A3,3 0 0,1 3,0Z\" style=\"opacity: 1; stroke-width: 0px; fill: rgb(99, 110, 250); fill-opacity: 1;\"/><path class=\"point\" transform=\"translate(135,205.48)\" d=\"M3,0A3,3 0 1,1 0,-3A3,3 0 0,1 3,0Z\" style=\"opacity: 1; stroke-width: 0px; fill: rgb(99, 110, 250); fill-opacity: 1;\"/><path class=\"point\" transform=\"translate(135,205.48)\" d=\"M3,0A3,3 0 1,1 0,-3A3,3 0 0,1 3,0Z\" style=\"opacity: 1; stroke-width: 0px; fill: rgb(99, 110, 250); fill-opacity: 1;\"/><path class=\"point\" transform=\"translate(135,205.48)\" d=\"M3,0A3,3 0 1,1 0,-3A3,3 0 0,1 3,0Z\" style=\"opacity: 1; stroke-width: 0px; fill: rgb(99, 110, 250); fill-opacity: 1;\"/><path class=\"point\" transform=\"translate(135,205.48)\" d=\"M3,0A3,3 0 1,1 0,-3A3,3 0 0,1 3,0Z\" style=\"opacity: 1; stroke-width: 0px; fill: rgb(99, 110, 250); fill-opacity: 1;\"/><path class=\"point\" transform=\"translate(135,205.48)\" d=\"M3,0A3,3 0 1,1 0,-3A3,3 0 0,1 3,0Z\" style=\"opacity: 1; stroke-width: 0px; fill: rgb(99, 110, 250); fill-opacity: 1;\"/><path class=\"point\" transform=\"translate(135,205.48)\" d=\"M3,0A3,3 0 1,1 0,-3A3,3 0 0,1 3,0Z\" style=\"opacity: 1; stroke-width: 0px; fill: rgb(99, 110, 250); fill-opacity: 1;\"/><path class=\"point\" transform=\"translate(135,205.48)\" d=\"M3,0A3,3 0 1,1 0,-3A3,3 0 0,1 3,0Z\" style=\"opacity: 1; stroke-width: 0px; fill: rgb(99, 110, 250); fill-opacity: 1;\"/><path class=\"point\" transform=\"translate(135,205.48)\" d=\"M3,0A3,3 0 1,1 0,-3A3,3 0 0,1 3,0Z\" style=\"opacity: 1; stroke-width: 0px; fill: rgb(99, 110, 250); fill-opacity: 1;\"/><path class=\"point\" transform=\"translate(135,205.48)\" d=\"M3,0A3,3 0 1,1 0,-3A3,3 0 0,1 3,0Z\" style=\"opacity: 1; stroke-width: 0px; fill: rgb(99, 110, 250); fill-opacity: 1;\"/><path class=\"point\" transform=\"translate(135,205.48)\" d=\"M3,0A3,3 0 1,1 0,-3A3,3 0 0,1 3,0Z\" style=\"opacity: 1; stroke-width: 0px; fill: rgb(99, 110, 250); fill-opacity: 1;\"/><path class=\"point\" transform=\"translate(135,205.48)\" d=\"M3,0A3,3 0 1,1 0,-3A3,3 0 0,1 3,0Z\" style=\"opacity: 1; stroke-width: 0px; fill: rgb(99, 110, 250); fill-opacity: 1;\"/><path class=\"point\" transform=\"translate(135,205.48)\" d=\"M3,0A3,3 0 1,1 0,-3A3,3 0 0,1 3,0Z\" style=\"opacity: 1; stroke-width: 0px; fill: rgb(99, 110, 250); fill-opacity: 1;\"/><path class=\"point\" transform=\"translate(135,205.48)\" d=\"M3,0A3,3 0 1,1 0,-3A3,3 0 0,1 3,0Z\" style=\"opacity: 1; stroke-width: 0px; fill: rgb(99, 110, 250); fill-opacity: 1;\"/><path class=\"point\" transform=\"translate(135,205.48)\" d=\"M3,0A3,3 0 1,1 0,-3A3,3 0 0,1 3,0Z\" style=\"opacity: 1; stroke-width: 0px; fill: rgb(99, 110, 250); fill-opacity: 1;\"/><path class=\"point\" transform=\"translate(135,205.48)\" d=\"M3,0A3,3 0 1,1 0,-3A3,3 0 0,1 3,0Z\" style=\"opacity: 1; stroke-width: 0px; fill: rgb(99, 110, 250); fill-opacity: 1;\"/><path class=\"point\" transform=\"translate(135,205.48)\" d=\"M3,0A3,3 0 1,1 0,-3A3,3 0 0,1 3,0Z\" style=\"opacity: 1; stroke-width: 0px; fill: rgb(99, 110, 250); fill-opacity: 1;\"/><path class=\"point\" transform=\"translate(135,205.48)\" d=\"M3,0A3,3 0 1,1 0,-3A3,3 0 0,1 3,0Z\" style=\"opacity: 1; stroke-width: 0px; fill: rgb(99, 110, 250); fill-opacity: 1;\"/><path class=\"point\" transform=\"translate(135,205.48)\" d=\"M3,0A3,3 0 1,1 0,-3A3,3 0 0,1 3,0Z\" style=\"opacity: 1; stroke-width: 0px; fill: rgb(99, 110, 250); fill-opacity: 1;\"/><path class=\"point\" transform=\"translate(135,205.48)\" d=\"M3,0A3,3 0 1,1 0,-3A3,3 0 0,1 3,0Z\" style=\"opacity: 1; stroke-width: 0px; fill: rgb(99, 110, 250); fill-opacity: 1;\"/><path class=\"point\" transform=\"translate(135,205.48)\" d=\"M3,0A3,3 0 1,1 0,-3A3,3 0 0,1 3,0Z\" style=\"opacity: 1; stroke-width: 0px; fill: rgb(99, 110, 250); fill-opacity: 1;\"/><path class=\"point\" transform=\"translate(135,205.48)\" d=\"M3,0A3,3 0 1,1 0,-3A3,3 0 0,1 3,0Z\" style=\"opacity: 1; stroke-width: 0px; fill: rgb(99, 110, 250); fill-opacity: 1;\"/><path class=\"point\" transform=\"translate(135,205.48)\" d=\"M3,0A3,3 0 1,1 0,-3A3,3 0 0,1 3,0Z\" style=\"opacity: 1; stroke-width: 0px; fill: rgb(99, 110, 250); fill-opacity: 1;\"/><path class=\"point\" transform=\"translate(135,205.48)\" d=\"M3,0A3,3 0 1,1 0,-3A3,3 0 0,1 3,0Z\" style=\"opacity: 1; stroke-width: 0px; fill: rgb(99, 110, 250); fill-opacity: 1;\"/><path class=\"point\" transform=\"translate(135,200.25)\" d=\"M3,0A3,3 0 1,1 0,-3A3,3 0 0,1 3,0Z\" style=\"opacity: 1; stroke-width: 0px; fill: rgb(99, 110, 250); fill-opacity: 1;\"/><path class=\"point\" transform=\"translate(135,200.25)\" d=\"M3,0A3,3 0 1,1 0,-3A3,3 0 0,1 3,0Z\" style=\"opacity: 1; stroke-width: 0px; fill: rgb(99, 110, 250); fill-opacity: 1;\"/><path class=\"point\" transform=\"translate(135,200.25)\" d=\"M3,0A3,3 0 1,1 0,-3A3,3 0 0,1 3,0Z\" style=\"opacity: 1; stroke-width: 0px; fill: rgb(99, 110, 250); fill-opacity: 1;\"/><path class=\"point\" transform=\"translate(135,200.25)\" d=\"M3,0A3,3 0 1,1 0,-3A3,3 0 0,1 3,0Z\" style=\"opacity: 1; stroke-width: 0px; fill: rgb(99, 110, 250); fill-opacity: 1;\"/><path class=\"point\" transform=\"translate(135,200.25)\" d=\"M3,0A3,3 0 1,1 0,-3A3,3 0 0,1 3,0Z\" style=\"opacity: 1; stroke-width: 0px; fill: rgb(99, 110, 250); fill-opacity: 1;\"/><path class=\"point\" transform=\"translate(135,200.25)\" d=\"M3,0A3,3 0 1,1 0,-3A3,3 0 0,1 3,0Z\" style=\"opacity: 1; stroke-width: 0px; fill: rgb(99, 110, 250); fill-opacity: 1;\"/><path class=\"point\" transform=\"translate(135,200.25)\" d=\"M3,0A3,3 0 1,1 0,-3A3,3 0 0,1 3,0Z\" style=\"opacity: 1; stroke-width: 0px; fill: rgb(99, 110, 250); fill-opacity: 1;\"/><path class=\"point\" transform=\"translate(135,200.25)\" d=\"M3,0A3,3 0 1,1 0,-3A3,3 0 0,1 3,0Z\" style=\"opacity: 1; stroke-width: 0px; fill: rgb(99, 110, 250); fill-opacity: 1;\"/><path class=\"point\" transform=\"translate(135,200.25)\" d=\"M3,0A3,3 0 1,1 0,-3A3,3 0 0,1 3,0Z\" style=\"opacity: 1; stroke-width: 0px; fill: rgb(99, 110, 250); fill-opacity: 1;\"/><path class=\"point\" transform=\"translate(135,200.25)\" d=\"M3,0A3,3 0 1,1 0,-3A3,3 0 0,1 3,0Z\" style=\"opacity: 1; stroke-width: 0px; fill: rgb(99, 110, 250); fill-opacity: 1;\"/><path class=\"point\" transform=\"translate(135,200.25)\" d=\"M3,0A3,3 0 1,1 0,-3A3,3 0 0,1 3,0Z\" style=\"opacity: 1; stroke-width: 0px; fill: rgb(99, 110, 250); fill-opacity: 1;\"/><path class=\"point\" transform=\"translate(135,200.25)\" d=\"M3,0A3,3 0 1,1 0,-3A3,3 0 0,1 3,0Z\" style=\"opacity: 1; stroke-width: 0px; fill: rgb(99, 110, 250); fill-opacity: 1;\"/><path class=\"point\" transform=\"translate(135,200.25)\" d=\"M3,0A3,3 0 1,1 0,-3A3,3 0 0,1 3,0Z\" style=\"opacity: 1; stroke-width: 0px; fill: rgb(99, 110, 250); fill-opacity: 1;\"/><path class=\"point\" transform=\"translate(135,200.25)\" d=\"M3,0A3,3 0 1,1 0,-3A3,3 0 0,1 3,0Z\" style=\"opacity: 1; stroke-width: 0px; fill: rgb(99, 110, 250); fill-opacity: 1;\"/><path class=\"point\" transform=\"translate(135,200.25)\" d=\"M3,0A3,3 0 1,1 0,-3A3,3 0 0,1 3,0Z\" style=\"opacity: 1; stroke-width: 0px; fill: rgb(99, 110, 250); fill-opacity: 1;\"/><path class=\"point\" transform=\"translate(135,200.25)\" d=\"M3,0A3,3 0 1,1 0,-3A3,3 0 0,1 3,0Z\" style=\"opacity: 1; stroke-width: 0px; fill: rgb(99, 110, 250); fill-opacity: 1;\"/><path class=\"point\" transform=\"translate(135,200.25)\" d=\"M3,0A3,3 0 1,1 0,-3A3,3 0 0,1 3,0Z\" style=\"opacity: 1; stroke-width: 0px; fill: rgb(99, 110, 250); fill-opacity: 1;\"/><path class=\"point\" transform=\"translate(135,200.25)\" d=\"M3,0A3,3 0 1,1 0,-3A3,3 0 0,1 3,0Z\" style=\"opacity: 1; stroke-width: 0px; fill: rgb(99, 110, 250); fill-opacity: 1;\"/><path class=\"point\" transform=\"translate(135,200.25)\" d=\"M3,0A3,3 0 1,1 0,-3A3,3 0 0,1 3,0Z\" style=\"opacity: 1; stroke-width: 0px; fill: rgb(99, 110, 250); fill-opacity: 1;\"/><path class=\"point\" transform=\"translate(135,200.25)\" d=\"M3,0A3,3 0 1,1 0,-3A3,3 0 0,1 3,0Z\" style=\"opacity: 1; stroke-width: 0px; fill: rgb(99, 110, 250); fill-opacity: 1;\"/><path class=\"point\" transform=\"translate(135,200.25)\" d=\"M3,0A3,3 0 1,1 0,-3A3,3 0 0,1 3,0Z\" style=\"opacity: 1; stroke-width: 0px; fill: rgb(99, 110, 250); fill-opacity: 1;\"/><path class=\"point\" transform=\"translate(135,200.25)\" d=\"M3,0A3,3 0 1,1 0,-3A3,3 0 0,1 3,0Z\" style=\"opacity: 1; stroke-width: 0px; fill: rgb(99, 110, 250); fill-opacity: 1;\"/><path class=\"point\" transform=\"translate(135,200.25)\" d=\"M3,0A3,3 0 1,1 0,-3A3,3 0 0,1 3,0Z\" style=\"opacity: 1; stroke-width: 0px; fill: rgb(99, 110, 250); fill-opacity: 1;\"/><path class=\"point\" transform=\"translate(135,200.25)\" d=\"M3,0A3,3 0 1,1 0,-3A3,3 0 0,1 3,0Z\" style=\"opacity: 1; stroke-width: 0px; fill: rgb(99, 110, 250); fill-opacity: 1;\"/><path class=\"point\" transform=\"translate(135,200.25)\" d=\"M3,0A3,3 0 1,1 0,-3A3,3 0 0,1 3,0Z\" style=\"opacity: 1; stroke-width: 0px; fill: rgb(99, 110, 250); fill-opacity: 1;\"/><path class=\"point\" transform=\"translate(135,200.25)\" d=\"M3,0A3,3 0 1,1 0,-3A3,3 0 0,1 3,0Z\" style=\"opacity: 1; stroke-width: 0px; fill: rgb(99, 110, 250); fill-opacity: 1;\"/><path class=\"point\" transform=\"translate(135,200.25)\" d=\"M3,0A3,3 0 1,1 0,-3A3,3 0 0,1 3,0Z\" style=\"opacity: 1; stroke-width: 0px; fill: rgb(99, 110, 250); fill-opacity: 1;\"/><path class=\"point\" transform=\"translate(135,200.25)\" d=\"M3,0A3,3 0 1,1 0,-3A3,3 0 0,1 3,0Z\" style=\"opacity: 1; stroke-width: 0px; fill: rgb(99, 110, 250); fill-opacity: 1;\"/><path class=\"point\" transform=\"translate(135,200.25)\" d=\"M3,0A3,3 0 1,1 0,-3A3,3 0 0,1 3,0Z\" style=\"opacity: 1; stroke-width: 0px; fill: rgb(99, 110, 250); fill-opacity: 1;\"/><path class=\"point\" transform=\"translate(135,200.25)\" d=\"M3,0A3,3 0 1,1 0,-3A3,3 0 0,1 3,0Z\" style=\"opacity: 1; stroke-width: 0px; fill: rgb(99, 110, 250); fill-opacity: 1;\"/><path class=\"point\" transform=\"translate(135,200.25)\" d=\"M3,0A3,3 0 1,1 0,-3A3,3 0 0,1 3,0Z\" style=\"opacity: 1; stroke-width: 0px; fill: rgb(99, 110, 250); fill-opacity: 1;\"/><path class=\"point\" transform=\"translate(135,200.25)\" d=\"M3,0A3,3 0 1,1 0,-3A3,3 0 0,1 3,0Z\" style=\"opacity: 1; stroke-width: 0px; fill: rgb(99, 110, 250); fill-opacity: 1;\"/><path class=\"point\" transform=\"translate(135,195.02)\" d=\"M3,0A3,3 0 1,1 0,-3A3,3 0 0,1 3,0Z\" style=\"opacity: 1; stroke-width: 0px; fill: rgb(99, 110, 250); fill-opacity: 1;\"/><path class=\"point\" transform=\"translate(135,195.02)\" d=\"M3,0A3,3 0 1,1 0,-3A3,3 0 0,1 3,0Z\" style=\"opacity: 1; stroke-width: 0px; fill: rgb(99, 110, 250); fill-opacity: 1;\"/><path class=\"point\" transform=\"translate(135,195.02)\" d=\"M3,0A3,3 0 1,1 0,-3A3,3 0 0,1 3,0Z\" style=\"opacity: 1; stroke-width: 0px; fill: rgb(99, 110, 250); fill-opacity: 1;\"/><path class=\"point\" transform=\"translate(135,195.02)\" d=\"M3,0A3,3 0 1,1 0,-3A3,3 0 0,1 3,0Z\" style=\"opacity: 1; stroke-width: 0px; fill: rgb(99, 110, 250); fill-opacity: 1;\"/><path class=\"point\" transform=\"translate(135,195.02)\" d=\"M3,0A3,3 0 1,1 0,-3A3,3 0 0,1 3,0Z\" style=\"opacity: 1; stroke-width: 0px; fill: rgb(99, 110, 250); fill-opacity: 1;\"/><path class=\"point\" transform=\"translate(135,195.02)\" d=\"M3,0A3,3 0 1,1 0,-3A3,3 0 0,1 3,0Z\" style=\"opacity: 1; stroke-width: 0px; fill: rgb(99, 110, 250); fill-opacity: 1;\"/><path class=\"point\" transform=\"translate(135,195.02)\" d=\"M3,0A3,3 0 1,1 0,-3A3,3 0 0,1 3,0Z\" style=\"opacity: 1; stroke-width: 0px; fill: rgb(99, 110, 250); fill-opacity: 1;\"/><path class=\"point\" transform=\"translate(135,195.02)\" d=\"M3,0A3,3 0 1,1 0,-3A3,3 0 0,1 3,0Z\" style=\"opacity: 1; stroke-width: 0px; fill: rgb(99, 110, 250); fill-opacity: 1;\"/><path class=\"point\" transform=\"translate(135,195.02)\" d=\"M3,0A3,3 0 1,1 0,-3A3,3 0 0,1 3,0Z\" style=\"opacity: 1; stroke-width: 0px; fill: rgb(99, 110, 250); fill-opacity: 1;\"/><path class=\"point\" transform=\"translate(135,195.02)\" d=\"M3,0A3,3 0 1,1 0,-3A3,3 0 0,1 3,0Z\" style=\"opacity: 1; stroke-width: 0px; fill: rgb(99, 110, 250); fill-opacity: 1;\"/><path class=\"point\" transform=\"translate(135,195.02)\" d=\"M3,0A3,3 0 1,1 0,-3A3,3 0 0,1 3,0Z\" style=\"opacity: 1; stroke-width: 0px; fill: rgb(99, 110, 250); fill-opacity: 1;\"/><path class=\"point\" transform=\"translate(135,195.02)\" d=\"M3,0A3,3 0 1,1 0,-3A3,3 0 0,1 3,0Z\" style=\"opacity: 1; stroke-width: 0px; fill: rgb(99, 110, 250); fill-opacity: 1;\"/><path class=\"point\" transform=\"translate(135,195.02)\" d=\"M3,0A3,3 0 1,1 0,-3A3,3 0 0,1 3,0Z\" style=\"opacity: 1; stroke-width: 0px; fill: rgb(99, 110, 250); fill-opacity: 1;\"/><path class=\"point\" transform=\"translate(135,195.02)\" d=\"M3,0A3,3 0 1,1 0,-3A3,3 0 0,1 3,0Z\" style=\"opacity: 1; stroke-width: 0px; fill: rgb(99, 110, 250); fill-opacity: 1;\"/><path class=\"point\" transform=\"translate(135,195.02)\" d=\"M3,0A3,3 0 1,1 0,-3A3,3 0 0,1 3,0Z\" style=\"opacity: 1; stroke-width: 0px; fill: rgb(99, 110, 250); fill-opacity: 1;\"/><path class=\"point\" transform=\"translate(135,195.02)\" d=\"M3,0A3,3 0 1,1 0,-3A3,3 0 0,1 3,0Z\" style=\"opacity: 1; stroke-width: 0px; fill: rgb(99, 110, 250); fill-opacity: 1;\"/><path class=\"point\" transform=\"translate(135,195.02)\" d=\"M3,0A3,3 0 1,1 0,-3A3,3 0 0,1 3,0Z\" style=\"opacity: 1; stroke-width: 0px; fill: rgb(99, 110, 250); fill-opacity: 1;\"/><path class=\"point\" transform=\"translate(135,195.02)\" d=\"M3,0A3,3 0 1,1 0,-3A3,3 0 0,1 3,0Z\" style=\"opacity: 1; stroke-width: 0px; fill: rgb(99, 110, 250); fill-opacity: 1;\"/><path class=\"point\" transform=\"translate(135,195.02)\" d=\"M3,0A3,3 0 1,1 0,-3A3,3 0 0,1 3,0Z\" style=\"opacity: 1; stroke-width: 0px; fill: rgb(99, 110, 250); fill-opacity: 1;\"/><path class=\"point\" transform=\"translate(135,195.02)\" d=\"M3,0A3,3 0 1,1 0,-3A3,3 0 0,1 3,0Z\" style=\"opacity: 1; stroke-width: 0px; fill: rgb(99, 110, 250); fill-opacity: 1;\"/><path class=\"point\" transform=\"translate(135,195.02)\" d=\"M3,0A3,3 0 1,1 0,-3A3,3 0 0,1 3,0Z\" style=\"opacity: 1; stroke-width: 0px; fill: rgb(99, 110, 250); fill-opacity: 1;\"/><path class=\"point\" transform=\"translate(135,195.02)\" d=\"M3,0A3,3 0 1,1 0,-3A3,3 0 0,1 3,0Z\" style=\"opacity: 1; stroke-width: 0px; fill: rgb(99, 110, 250); fill-opacity: 1;\"/><path class=\"point\" transform=\"translate(135,195.02)\" d=\"M3,0A3,3 0 1,1 0,-3A3,3 0 0,1 3,0Z\" style=\"opacity: 1; stroke-width: 0px; fill: rgb(99, 110, 250); fill-opacity: 1;\"/><path class=\"point\" transform=\"translate(135,195.02)\" d=\"M3,0A3,3 0 1,1 0,-3A3,3 0 0,1 3,0Z\" style=\"opacity: 1; stroke-width: 0px; fill: rgb(99, 110, 250); fill-opacity: 1;\"/><path class=\"point\" transform=\"translate(135,195.02)\" d=\"M3,0A3,3 0 1,1 0,-3A3,3 0 0,1 3,0Z\" style=\"opacity: 1; stroke-width: 0px; fill: rgb(99, 110, 250); fill-opacity: 1;\"/><path class=\"point\" transform=\"translate(135,195.02)\" d=\"M3,0A3,3 0 1,1 0,-3A3,3 0 0,1 3,0Z\" style=\"opacity: 1; stroke-width: 0px; fill: rgb(99, 110, 250); fill-opacity: 1;\"/><path class=\"point\" transform=\"translate(135,195.02)\" d=\"M3,0A3,3 0 1,1 0,-3A3,3 0 0,1 3,0Z\" style=\"opacity: 1; stroke-width: 0px; fill: rgb(99, 110, 250); fill-opacity: 1;\"/><path class=\"point\" transform=\"translate(135,189.79)\" d=\"M3,0A3,3 0 1,1 0,-3A3,3 0 0,1 3,0Z\" style=\"opacity: 1; stroke-width: 0px; fill: rgb(99, 110, 250); fill-opacity: 1;\"/><path class=\"point\" transform=\"translate(135,189.79)\" d=\"M3,0A3,3 0 1,1 0,-3A3,3 0 0,1 3,0Z\" style=\"opacity: 1; stroke-width: 0px; fill: rgb(99, 110, 250); fill-opacity: 1;\"/><path class=\"point\" transform=\"translate(135,189.79)\" d=\"M3,0A3,3 0 1,1 0,-3A3,3 0 0,1 3,0Z\" style=\"opacity: 1; stroke-width: 0px; fill: rgb(99, 110, 250); fill-opacity: 1;\"/><path class=\"point\" transform=\"translate(135,189.79)\" d=\"M3,0A3,3 0 1,1 0,-3A3,3 0 0,1 3,0Z\" style=\"opacity: 1; stroke-width: 0px; fill: rgb(99, 110, 250); fill-opacity: 1;\"/><path class=\"point\" transform=\"translate(135,189.79)\" d=\"M3,0A3,3 0 1,1 0,-3A3,3 0 0,1 3,0Z\" style=\"opacity: 1; stroke-width: 0px; fill: rgb(99, 110, 250); fill-opacity: 1;\"/><path class=\"point\" transform=\"translate(135,189.79)\" d=\"M3,0A3,3 0 1,1 0,-3A3,3 0 0,1 3,0Z\" style=\"opacity: 1; stroke-width: 0px; fill: rgb(99, 110, 250); fill-opacity: 1;\"/><path class=\"point\" transform=\"translate(135,189.79)\" d=\"M3,0A3,3 0 1,1 0,-3A3,3 0 0,1 3,0Z\" style=\"opacity: 1; stroke-width: 0px; fill: rgb(99, 110, 250); fill-opacity: 1;\"/><path class=\"point\" transform=\"translate(135,189.79)\" d=\"M3,0A3,3 0 1,1 0,-3A3,3 0 0,1 3,0Z\" style=\"opacity: 1; stroke-width: 0px; fill: rgb(99, 110, 250); fill-opacity: 1;\"/><path class=\"point\" transform=\"translate(135,189.79)\" d=\"M3,0A3,3 0 1,1 0,-3A3,3 0 0,1 3,0Z\" style=\"opacity: 1; stroke-width: 0px; fill: rgb(99, 110, 250); fill-opacity: 1;\"/><path class=\"point\" transform=\"translate(135,189.79)\" d=\"M3,0A3,3 0 1,1 0,-3A3,3 0 0,1 3,0Z\" style=\"opacity: 1; stroke-width: 0px; fill: rgb(99, 110, 250); fill-opacity: 1;\"/><path class=\"point\" transform=\"translate(135,189.79)\" d=\"M3,0A3,3 0 1,1 0,-3A3,3 0 0,1 3,0Z\" style=\"opacity: 1; stroke-width: 0px; fill: rgb(99, 110, 250); fill-opacity: 1;\"/><path class=\"point\" transform=\"translate(135,189.79)\" d=\"M3,0A3,3 0 1,1 0,-3A3,3 0 0,1 3,0Z\" style=\"opacity: 1; stroke-width: 0px; fill: rgb(99, 110, 250); fill-opacity: 1;\"/><path class=\"point\" transform=\"translate(135,189.79)\" d=\"M3,0A3,3 0 1,1 0,-3A3,3 0 0,1 3,0Z\" style=\"opacity: 1; stroke-width: 0px; fill: rgb(99, 110, 250); fill-opacity: 1;\"/><path class=\"point\" transform=\"translate(135,189.79)\" d=\"M3,0A3,3 0 1,1 0,-3A3,3 0 0,1 3,0Z\" style=\"opacity: 1; stroke-width: 0px; fill: rgb(99, 110, 250); fill-opacity: 1;\"/><path class=\"point\" transform=\"translate(135,189.79)\" d=\"M3,0A3,3 0 1,1 0,-3A3,3 0 0,1 3,0Z\" style=\"opacity: 1; stroke-width: 0px; fill: rgb(99, 110, 250); fill-opacity: 1;\"/><path class=\"point\" transform=\"translate(135,189.79)\" d=\"M3,0A3,3 0 1,1 0,-3A3,3 0 0,1 3,0Z\" style=\"opacity: 1; stroke-width: 0px; fill: rgb(99, 110, 250); fill-opacity: 1;\"/><path class=\"point\" transform=\"translate(135,189.79)\" d=\"M3,0A3,3 0 1,1 0,-3A3,3 0 0,1 3,0Z\" style=\"opacity: 1; stroke-width: 0px; fill: rgb(99, 110, 250); fill-opacity: 1;\"/><path class=\"point\" transform=\"translate(135,189.79)\" d=\"M3,0A3,3 0 1,1 0,-3A3,3 0 0,1 3,0Z\" style=\"opacity: 1; stroke-width: 0px; fill: rgb(99, 110, 250); fill-opacity: 1;\"/><path class=\"point\" transform=\"translate(135,189.79)\" d=\"M3,0A3,3 0 1,1 0,-3A3,3 0 0,1 3,0Z\" style=\"opacity: 1; stroke-width: 0px; fill: rgb(99, 110, 250); fill-opacity: 1;\"/><path class=\"point\" transform=\"translate(135,189.79)\" d=\"M3,0A3,3 0 1,1 0,-3A3,3 0 0,1 3,0Z\" style=\"opacity: 1; stroke-width: 0px; fill: rgb(99, 110, 250); fill-opacity: 1;\"/><path class=\"point\" transform=\"translate(135,189.79)\" d=\"M3,0A3,3 0 1,1 0,-3A3,3 0 0,1 3,0Z\" style=\"opacity: 1; stroke-width: 0px; fill: rgb(99, 110, 250); fill-opacity: 1;\"/><path class=\"point\" transform=\"translate(135,189.79)\" d=\"M3,0A3,3 0 1,1 0,-3A3,3 0 0,1 3,0Z\" style=\"opacity: 1; stroke-width: 0px; fill: rgb(99, 110, 250); fill-opacity: 1;\"/><path class=\"point\" transform=\"translate(135,189.79)\" d=\"M3,0A3,3 0 1,1 0,-3A3,3 0 0,1 3,0Z\" style=\"opacity: 1; stroke-width: 0px; fill: rgb(99, 110, 250); fill-opacity: 1;\"/><path class=\"point\" transform=\"translate(135,189.79)\" d=\"M3,0A3,3 0 1,1 0,-3A3,3 0 0,1 3,0Z\" style=\"opacity: 1; stroke-width: 0px; fill: rgb(99, 110, 250); fill-opacity: 1;\"/><path class=\"point\" transform=\"translate(135,189.79)\" d=\"M3,0A3,3 0 1,1 0,-3A3,3 0 0,1 3,0Z\" style=\"opacity: 1; stroke-width: 0px; fill: rgb(99, 110, 250); fill-opacity: 1;\"/><path class=\"point\" transform=\"translate(135,189.79)\" d=\"M3,0A3,3 0 1,1 0,-3A3,3 0 0,1 3,0Z\" style=\"opacity: 1; stroke-width: 0px; fill: rgb(99, 110, 250); fill-opacity: 1;\"/><path class=\"point\" transform=\"translate(135,189.79)\" d=\"M3,0A3,3 0 1,1 0,-3A3,3 0 0,1 3,0Z\" style=\"opacity: 1; stroke-width: 0px; fill: rgb(99, 110, 250); fill-opacity: 1;\"/><path class=\"point\" transform=\"translate(135,184.56)\" d=\"M3,0A3,3 0 1,1 0,-3A3,3 0 0,1 3,0Z\" style=\"opacity: 1; stroke-width: 0px; fill: rgb(99, 110, 250); fill-opacity: 1;\"/><path class=\"point\" transform=\"translate(135,184.56)\" d=\"M3,0A3,3 0 1,1 0,-3A3,3 0 0,1 3,0Z\" style=\"opacity: 1; stroke-width: 0px; fill: rgb(99, 110, 250); fill-opacity: 1;\"/><path class=\"point\" transform=\"translate(135,184.56)\" d=\"M3,0A3,3 0 1,1 0,-3A3,3 0 0,1 3,0Z\" style=\"opacity: 1; stroke-width: 0px; fill: rgb(99, 110, 250); fill-opacity: 1;\"/><path class=\"point\" transform=\"translate(135,184.56)\" d=\"M3,0A3,3 0 1,1 0,-3A3,3 0 0,1 3,0Z\" style=\"opacity: 1; stroke-width: 0px; fill: rgb(99, 110, 250); fill-opacity: 1;\"/><path class=\"point\" transform=\"translate(135,184.56)\" d=\"M3,0A3,3 0 1,1 0,-3A3,3 0 0,1 3,0Z\" style=\"opacity: 1; stroke-width: 0px; fill: rgb(99, 110, 250); fill-opacity: 1;\"/><path class=\"point\" transform=\"translate(135,184.56)\" d=\"M3,0A3,3 0 1,1 0,-3A3,3 0 0,1 3,0Z\" style=\"opacity: 1; stroke-width: 0px; fill: rgb(99, 110, 250); fill-opacity: 1;\"/><path class=\"point\" transform=\"translate(135,184.56)\" d=\"M3,0A3,3 0 1,1 0,-3A3,3 0 0,1 3,0Z\" style=\"opacity: 1; stroke-width: 0px; fill: rgb(99, 110, 250); fill-opacity: 1;\"/><path class=\"point\" transform=\"translate(135,184.56)\" d=\"M3,0A3,3 0 1,1 0,-3A3,3 0 0,1 3,0Z\" style=\"opacity: 1; stroke-width: 0px; fill: rgb(99, 110, 250); fill-opacity: 1;\"/><path class=\"point\" transform=\"translate(135,184.56)\" d=\"M3,0A3,3 0 1,1 0,-3A3,3 0 0,1 3,0Z\" style=\"opacity: 1; stroke-width: 0px; fill: rgb(99, 110, 250); fill-opacity: 1;\"/><path class=\"point\" transform=\"translate(135,184.56)\" d=\"M3,0A3,3 0 1,1 0,-3A3,3 0 0,1 3,0Z\" style=\"opacity: 1; stroke-width: 0px; fill: rgb(99, 110, 250); fill-opacity: 1;\"/><path class=\"point\" transform=\"translate(135,184.56)\" d=\"M3,0A3,3 0 1,1 0,-3A3,3 0 0,1 3,0Z\" style=\"opacity: 1; stroke-width: 0px; fill: rgb(99, 110, 250); fill-opacity: 1;\"/><path class=\"point\" transform=\"translate(135,184.56)\" d=\"M3,0A3,3 0 1,1 0,-3A3,3 0 0,1 3,0Z\" style=\"opacity: 1; stroke-width: 0px; fill: rgb(99, 110, 250); fill-opacity: 1;\"/><path class=\"point\" transform=\"translate(135,184.56)\" d=\"M3,0A3,3 0 1,1 0,-3A3,3 0 0,1 3,0Z\" style=\"opacity: 1; stroke-width: 0px; fill: rgb(99, 110, 250); fill-opacity: 1;\"/><path class=\"point\" transform=\"translate(135,184.56)\" d=\"M3,0A3,3 0 1,1 0,-3A3,3 0 0,1 3,0Z\" style=\"opacity: 1; stroke-width: 0px; fill: rgb(99, 110, 250); fill-opacity: 1;\"/><path class=\"point\" transform=\"translate(135,184.56)\" d=\"M3,0A3,3 0 1,1 0,-3A3,3 0 0,1 3,0Z\" style=\"opacity: 1; stroke-width: 0px; fill: rgb(99, 110, 250); fill-opacity: 1;\"/><path class=\"point\" transform=\"translate(135,184.56)\" d=\"M3,0A3,3 0 1,1 0,-3A3,3 0 0,1 3,0Z\" style=\"opacity: 1; stroke-width: 0px; fill: rgb(99, 110, 250); fill-opacity: 1;\"/><path class=\"point\" transform=\"translate(135,184.56)\" d=\"M3,0A3,3 0 1,1 0,-3A3,3 0 0,1 3,0Z\" style=\"opacity: 1; stroke-width: 0px; fill: rgb(99, 110, 250); fill-opacity: 1;\"/><path class=\"point\" transform=\"translate(135,184.56)\" d=\"M3,0A3,3 0 1,1 0,-3A3,3 0 0,1 3,0Z\" style=\"opacity: 1; stroke-width: 0px; fill: rgb(99, 110, 250); fill-opacity: 1;\"/><path class=\"point\" transform=\"translate(135,184.56)\" d=\"M3,0A3,3 0 1,1 0,-3A3,3 0 0,1 3,0Z\" style=\"opacity: 1; stroke-width: 0px; fill: rgb(99, 110, 250); fill-opacity: 1;\"/><path class=\"point\" transform=\"translate(135,184.56)\" d=\"M3,0A3,3 0 1,1 0,-3A3,3 0 0,1 3,0Z\" style=\"opacity: 1; stroke-width: 0px; fill: rgb(99, 110, 250); fill-opacity: 1;\"/><path class=\"point\" transform=\"translate(135,184.56)\" d=\"M3,0A3,3 0 1,1 0,-3A3,3 0 0,1 3,0Z\" style=\"opacity: 1; stroke-width: 0px; fill: rgb(99, 110, 250); fill-opacity: 1;\"/><path class=\"point\" transform=\"translate(135,184.56)\" d=\"M3,0A3,3 0 1,1 0,-3A3,3 0 0,1 3,0Z\" style=\"opacity: 1; stroke-width: 0px; fill: rgb(99, 110, 250); fill-opacity: 1;\"/><path class=\"point\" transform=\"translate(135,184.56)\" d=\"M3,0A3,3 0 1,1 0,-3A3,3 0 0,1 3,0Z\" style=\"opacity: 1; stroke-width: 0px; fill: rgb(99, 110, 250); fill-opacity: 1;\"/><path class=\"point\" transform=\"translate(135,184.56)\" d=\"M3,0A3,3 0 1,1 0,-3A3,3 0 0,1 3,0Z\" style=\"opacity: 1; stroke-width: 0px; fill: rgb(99, 110, 250); fill-opacity: 1;\"/><path class=\"point\" transform=\"translate(135,184.56)\" d=\"M3,0A3,3 0 1,1 0,-3A3,3 0 0,1 3,0Z\" style=\"opacity: 1; stroke-width: 0px; fill: rgb(99, 110, 250); fill-opacity: 1;\"/><path class=\"point\" transform=\"translate(135,184.56)\" d=\"M3,0A3,3 0 1,1 0,-3A3,3 0 0,1 3,0Z\" style=\"opacity: 1; stroke-width: 0px; fill: rgb(99, 110, 250); fill-opacity: 1;\"/><path class=\"point\" transform=\"translate(135,184.56)\" d=\"M3,0A3,3 0 1,1 0,-3A3,3 0 0,1 3,0Z\" style=\"opacity: 1; stroke-width: 0px; fill: rgb(99, 110, 250); fill-opacity: 1;\"/><path class=\"point\" transform=\"translate(135,184.56)\" d=\"M3,0A3,3 0 1,1 0,-3A3,3 0 0,1 3,0Z\" style=\"opacity: 1; stroke-width: 0px; fill: rgb(99, 110, 250); fill-opacity: 1;\"/><path class=\"point\" transform=\"translate(135,184.56)\" d=\"M3,0A3,3 0 1,1 0,-3A3,3 0 0,1 3,0Z\" style=\"opacity: 1; stroke-width: 0px; fill: rgb(99, 110, 250); fill-opacity: 1;\"/><path class=\"point\" transform=\"translate(135,184.56)\" d=\"M3,0A3,3 0 1,1 0,-3A3,3 0 0,1 3,0Z\" style=\"opacity: 1; stroke-width: 0px; fill: rgb(99, 110, 250); fill-opacity: 1;\"/><path class=\"point\" transform=\"translate(135,184.56)\" d=\"M3,0A3,3 0 1,1 0,-3A3,3 0 0,1 3,0Z\" style=\"opacity: 1; stroke-width: 0px; fill: rgb(99, 110, 250); fill-opacity: 1;\"/><path class=\"point\" transform=\"translate(135,184.56)\" d=\"M3,0A3,3 0 1,1 0,-3A3,3 0 0,1 3,0Z\" style=\"opacity: 1; stroke-width: 0px; fill: rgb(99, 110, 250); fill-opacity: 1;\"/><path class=\"point\" transform=\"translate(135,184.56)\" d=\"M3,0A3,3 0 1,1 0,-3A3,3 0 0,1 3,0Z\" style=\"opacity: 1; stroke-width: 0px; fill: rgb(99, 110, 250); fill-opacity: 1;\"/><path class=\"point\" transform=\"translate(135,179.33)\" d=\"M3,0A3,3 0 1,1 0,-3A3,3 0 0,1 3,0Z\" style=\"opacity: 1; stroke-width: 0px; fill: rgb(99, 110, 250); fill-opacity: 1;\"/><path class=\"point\" transform=\"translate(135,179.33)\" d=\"M3,0A3,3 0 1,1 0,-3A3,3 0 0,1 3,0Z\" style=\"opacity: 1; stroke-width: 0px; fill: rgb(99, 110, 250); fill-opacity: 1;\"/><path class=\"point\" transform=\"translate(135,179.33)\" d=\"M3,0A3,3 0 1,1 0,-3A3,3 0 0,1 3,0Z\" style=\"opacity: 1; stroke-width: 0px; fill: rgb(99, 110, 250); fill-opacity: 1;\"/><path class=\"point\" transform=\"translate(135,179.33)\" d=\"M3,0A3,3 0 1,1 0,-3A3,3 0 0,1 3,0Z\" style=\"opacity: 1; stroke-width: 0px; fill: rgb(99, 110, 250); fill-opacity: 1;\"/><path class=\"point\" transform=\"translate(135,179.33)\" d=\"M3,0A3,3 0 1,1 0,-3A3,3 0 0,1 3,0Z\" style=\"opacity: 1; stroke-width: 0px; fill: rgb(99, 110, 250); fill-opacity: 1;\"/><path class=\"point\" transform=\"translate(135,179.33)\" d=\"M3,0A3,3 0 1,1 0,-3A3,3 0 0,1 3,0Z\" style=\"opacity: 1; stroke-width: 0px; fill: rgb(99, 110, 250); fill-opacity: 1;\"/><path class=\"point\" transform=\"translate(135,179.33)\" d=\"M3,0A3,3 0 1,1 0,-3A3,3 0 0,1 3,0Z\" style=\"opacity: 1; stroke-width: 0px; fill: rgb(99, 110, 250); fill-opacity: 1;\"/><path class=\"point\" transform=\"translate(135,179.33)\" d=\"M3,0A3,3 0 1,1 0,-3A3,3 0 0,1 3,0Z\" style=\"opacity: 1; stroke-width: 0px; fill: rgb(99, 110, 250); fill-opacity: 1;\"/><path class=\"point\" transform=\"translate(135,179.33)\" d=\"M3,0A3,3 0 1,1 0,-3A3,3 0 0,1 3,0Z\" style=\"opacity: 1; stroke-width: 0px; fill: rgb(99, 110, 250); fill-opacity: 1;\"/><path class=\"point\" transform=\"translate(135,179.33)\" d=\"M3,0A3,3 0 1,1 0,-3A3,3 0 0,1 3,0Z\" style=\"opacity: 1; stroke-width: 0px; fill: rgb(99, 110, 250); fill-opacity: 1;\"/><path class=\"point\" transform=\"translate(135,179.33)\" d=\"M3,0A3,3 0 1,1 0,-3A3,3 0 0,1 3,0Z\" style=\"opacity: 1; stroke-width: 0px; fill: rgb(99, 110, 250); fill-opacity: 1;\"/><path class=\"point\" transform=\"translate(135,179.33)\" d=\"M3,0A3,3 0 1,1 0,-3A3,3 0 0,1 3,0Z\" style=\"opacity: 1; stroke-width: 0px; fill: rgb(99, 110, 250); fill-opacity: 1;\"/><path class=\"point\" transform=\"translate(135,179.33)\" d=\"M3,0A3,3 0 1,1 0,-3A3,3 0 0,1 3,0Z\" style=\"opacity: 1; stroke-width: 0px; fill: rgb(99, 110, 250); fill-opacity: 1;\"/><path class=\"point\" transform=\"translate(135,179.33)\" d=\"M3,0A3,3 0 1,1 0,-3A3,3 0 0,1 3,0Z\" style=\"opacity: 1; stroke-width: 0px; fill: rgb(99, 110, 250); fill-opacity: 1;\"/><path class=\"point\" transform=\"translate(135,179.33)\" d=\"M3,0A3,3 0 1,1 0,-3A3,3 0 0,1 3,0Z\" style=\"opacity: 1; stroke-width: 0px; fill: rgb(99, 110, 250); fill-opacity: 1;\"/><path class=\"point\" transform=\"translate(135,179.33)\" d=\"M3,0A3,3 0 1,1 0,-3A3,3 0 0,1 3,0Z\" style=\"opacity: 1; stroke-width: 0px; fill: rgb(99, 110, 250); fill-opacity: 1;\"/><path class=\"point\" transform=\"translate(135,179.33)\" d=\"M3,0A3,3 0 1,1 0,-3A3,3 0 0,1 3,0Z\" style=\"opacity: 1; stroke-width: 0px; fill: rgb(99, 110, 250); fill-opacity: 1;\"/><path class=\"point\" transform=\"translate(135,179.33)\" d=\"M3,0A3,3 0 1,1 0,-3A3,3 0 0,1 3,0Z\" style=\"opacity: 1; stroke-width: 0px; fill: rgb(99, 110, 250); fill-opacity: 1;\"/><path class=\"point\" transform=\"translate(135,179.33)\" d=\"M3,0A3,3 0 1,1 0,-3A3,3 0 0,1 3,0Z\" style=\"opacity: 1; stroke-width: 0px; fill: rgb(99, 110, 250); fill-opacity: 1;\"/><path class=\"point\" transform=\"translate(135,179.33)\" d=\"M3,0A3,3 0 1,1 0,-3A3,3 0 0,1 3,0Z\" style=\"opacity: 1; stroke-width: 0px; fill: rgb(99, 110, 250); fill-opacity: 1;\"/><path class=\"point\" transform=\"translate(135,179.33)\" d=\"M3,0A3,3 0 1,1 0,-3A3,3 0 0,1 3,0Z\" style=\"opacity: 1; stroke-width: 0px; fill: rgb(99, 110, 250); fill-opacity: 1;\"/><path class=\"point\" transform=\"translate(135,179.33)\" d=\"M3,0A3,3 0 1,1 0,-3A3,3 0 0,1 3,0Z\" style=\"opacity: 1; stroke-width: 0px; fill: rgb(99, 110, 250); fill-opacity: 1;\"/><path class=\"point\" transform=\"translate(135,174.1)\" d=\"M3,0A3,3 0 1,1 0,-3A3,3 0 0,1 3,0Z\" style=\"opacity: 1; stroke-width: 0px; fill: rgb(99, 110, 250); fill-opacity: 1;\"/><path class=\"point\" transform=\"translate(135,174.1)\" d=\"M3,0A3,3 0 1,1 0,-3A3,3 0 0,1 3,0Z\" style=\"opacity: 1; stroke-width: 0px; fill: rgb(99, 110, 250); fill-opacity: 1;\"/><path class=\"point\" transform=\"translate(135,174.1)\" d=\"M3,0A3,3 0 1,1 0,-3A3,3 0 0,1 3,0Z\" style=\"opacity: 1; stroke-width: 0px; fill: rgb(99, 110, 250); fill-opacity: 1;\"/><path class=\"point\" transform=\"translate(135,174.1)\" d=\"M3,0A3,3 0 1,1 0,-3A3,3 0 0,1 3,0Z\" style=\"opacity: 1; stroke-width: 0px; fill: rgb(99, 110, 250); fill-opacity: 1;\"/><path class=\"point\" transform=\"translate(135,174.1)\" d=\"M3,0A3,3 0 1,1 0,-3A3,3 0 0,1 3,0Z\" style=\"opacity: 1; stroke-width: 0px; fill: rgb(99, 110, 250); fill-opacity: 1;\"/><path class=\"point\" transform=\"translate(135,174.1)\" d=\"M3,0A3,3 0 1,1 0,-3A3,3 0 0,1 3,0Z\" style=\"opacity: 1; stroke-width: 0px; fill: rgb(99, 110, 250); fill-opacity: 1;\"/><path class=\"point\" transform=\"translate(135,174.1)\" d=\"M3,0A3,3 0 1,1 0,-3A3,3 0 0,1 3,0Z\" style=\"opacity: 1; stroke-width: 0px; fill: rgb(99, 110, 250); fill-opacity: 1;\"/><path class=\"point\" transform=\"translate(135,174.1)\" d=\"M3,0A3,3 0 1,1 0,-3A3,3 0 0,1 3,0Z\" style=\"opacity: 1; stroke-width: 0px; fill: rgb(99, 110, 250); fill-opacity: 1;\"/><path class=\"point\" transform=\"translate(135,174.1)\" d=\"M3,0A3,3 0 1,1 0,-3A3,3 0 0,1 3,0Z\" style=\"opacity: 1; stroke-width: 0px; fill: rgb(99, 110, 250); fill-opacity: 1;\"/><path class=\"point\" transform=\"translate(135,174.1)\" d=\"M3,0A3,3 0 1,1 0,-3A3,3 0 0,1 3,0Z\" style=\"opacity: 1; stroke-width: 0px; fill: rgb(99, 110, 250); fill-opacity: 1;\"/><path class=\"point\" transform=\"translate(135,174.1)\" d=\"M3,0A3,3 0 1,1 0,-3A3,3 0 0,1 3,0Z\" style=\"opacity: 1; stroke-width: 0px; fill: rgb(99, 110, 250); fill-opacity: 1;\"/><path class=\"point\" transform=\"translate(135,174.1)\" d=\"M3,0A3,3 0 1,1 0,-3A3,3 0 0,1 3,0Z\" style=\"opacity: 1; stroke-width: 0px; fill: rgb(99, 110, 250); fill-opacity: 1;\"/><path class=\"point\" transform=\"translate(135,168.87)\" d=\"M3,0A3,3 0 1,1 0,-3A3,3 0 0,1 3,0Z\" style=\"opacity: 1; stroke-width: 0px; fill: rgb(99, 110, 250); fill-opacity: 1;\"/><path class=\"point\" transform=\"translate(135,168.87)\" d=\"M3,0A3,3 0 1,1 0,-3A3,3 0 0,1 3,0Z\" style=\"opacity: 1; stroke-width: 0px; fill: rgb(99, 110, 250); fill-opacity: 1;\"/><path class=\"point\" transform=\"translate(135,168.87)\" d=\"M3,0A3,3 0 1,1 0,-3A3,3 0 0,1 3,0Z\" style=\"opacity: 1; stroke-width: 0px; fill: rgb(99, 110, 250); fill-opacity: 1;\"/><path class=\"point\" transform=\"translate(135,168.87)\" d=\"M3,0A3,3 0 1,1 0,-3A3,3 0 0,1 3,0Z\" style=\"opacity: 1; stroke-width: 0px; fill: rgb(99, 110, 250); fill-opacity: 1;\"/><path class=\"point\" transform=\"translate(135,168.87)\" d=\"M3,0A3,3 0 1,1 0,-3A3,3 0 0,1 3,0Z\" style=\"opacity: 1; stroke-width: 0px; fill: rgb(99, 110, 250); fill-opacity: 1;\"/><path class=\"point\" transform=\"translate(135,168.87)\" d=\"M3,0A3,3 0 1,1 0,-3A3,3 0 0,1 3,0Z\" style=\"opacity: 1; stroke-width: 0px; fill: rgb(99, 110, 250); fill-opacity: 1;\"/><path class=\"point\" transform=\"translate(135,168.87)\" d=\"M3,0A3,3 0 1,1 0,-3A3,3 0 0,1 3,0Z\" style=\"opacity: 1; stroke-width: 0px; fill: rgb(99, 110, 250); fill-opacity: 1;\"/><path class=\"point\" transform=\"translate(135,168.87)\" d=\"M3,0A3,3 0 1,1 0,-3A3,3 0 0,1 3,0Z\" style=\"opacity: 1; stroke-width: 0px; fill: rgb(99, 110, 250); fill-opacity: 1;\"/><path class=\"point\" transform=\"translate(135,168.87)\" d=\"M3,0A3,3 0 1,1 0,-3A3,3 0 0,1 3,0Z\" style=\"opacity: 1; stroke-width: 0px; fill: rgb(99, 110, 250); fill-opacity: 1;\"/><path class=\"point\" transform=\"translate(135,168.87)\" d=\"M3,0A3,3 0 1,1 0,-3A3,3 0 0,1 3,0Z\" style=\"opacity: 1; stroke-width: 0px; fill: rgb(99, 110, 250); fill-opacity: 1;\"/><path class=\"point\" transform=\"translate(135,168.87)\" d=\"M3,0A3,3 0 1,1 0,-3A3,3 0 0,1 3,0Z\" style=\"opacity: 1; stroke-width: 0px; fill: rgb(99, 110, 250); fill-opacity: 1;\"/><path class=\"point\" transform=\"translate(135,168.87)\" d=\"M3,0A3,3 0 1,1 0,-3A3,3 0 0,1 3,0Z\" style=\"opacity: 1; stroke-width: 0px; fill: rgb(99, 110, 250); fill-opacity: 1;\"/><path class=\"point\" transform=\"translate(135,168.87)\" d=\"M3,0A3,3 0 1,1 0,-3A3,3 0 0,1 3,0Z\" style=\"opacity: 1; stroke-width: 0px; fill: rgb(99, 110, 250); fill-opacity: 1;\"/><path class=\"point\" transform=\"translate(135,168.87)\" d=\"M3,0A3,3 0 1,1 0,-3A3,3 0 0,1 3,0Z\" style=\"opacity: 1; stroke-width: 0px; fill: rgb(99, 110, 250); fill-opacity: 1;\"/><path class=\"point\" transform=\"translate(135,168.87)\" d=\"M3,0A3,3 0 1,1 0,-3A3,3 0 0,1 3,0Z\" style=\"opacity: 1; stroke-width: 0px; fill: rgb(99, 110, 250); fill-opacity: 1;\"/><path class=\"point\" transform=\"translate(135,168.87)\" d=\"M3,0A3,3 0 1,1 0,-3A3,3 0 0,1 3,0Z\" style=\"opacity: 1; stroke-width: 0px; fill: rgb(99, 110, 250); fill-opacity: 1;\"/><path class=\"point\" transform=\"translate(135,163.64)\" d=\"M3,0A3,3 0 1,1 0,-3A3,3 0 0,1 3,0Z\" style=\"opacity: 1; stroke-width: 0px; fill: rgb(99, 110, 250); fill-opacity: 1;\"/><path class=\"point\" transform=\"translate(135,163.64)\" d=\"M3,0A3,3 0 1,1 0,-3A3,3 0 0,1 3,0Z\" style=\"opacity: 1; stroke-width: 0px; fill: rgb(99, 110, 250); fill-opacity: 1;\"/><path class=\"point\" transform=\"translate(135,163.64)\" d=\"M3,0A3,3 0 1,1 0,-3A3,3 0 0,1 3,0Z\" style=\"opacity: 1; stroke-width: 0px; fill: rgb(99, 110, 250); fill-opacity: 1;\"/><path class=\"point\" transform=\"translate(135,163.64)\" d=\"M3,0A3,3 0 1,1 0,-3A3,3 0 0,1 3,0Z\" style=\"opacity: 1; stroke-width: 0px; fill: rgb(99, 110, 250); fill-opacity: 1;\"/><path class=\"point\" transform=\"translate(135,163.64)\" d=\"M3,0A3,3 0 1,1 0,-3A3,3 0 0,1 3,0Z\" style=\"opacity: 1; stroke-width: 0px; fill: rgb(99, 110, 250); fill-opacity: 1;\"/><path class=\"point\" transform=\"translate(135,163.64)\" d=\"M3,0A3,3 0 1,1 0,-3A3,3 0 0,1 3,0Z\" style=\"opacity: 1; stroke-width: 0px; fill: rgb(99, 110, 250); fill-opacity: 1;\"/><path class=\"point\" transform=\"translate(135,163.64)\" d=\"M3,0A3,3 0 1,1 0,-3A3,3 0 0,1 3,0Z\" style=\"opacity: 1; stroke-width: 0px; fill: rgb(99, 110, 250); fill-opacity: 1;\"/><path class=\"point\" transform=\"translate(135,163.64)\" d=\"M3,0A3,3 0 1,1 0,-3A3,3 0 0,1 3,0Z\" style=\"opacity: 1; stroke-width: 0px; fill: rgb(99, 110, 250); fill-opacity: 1;\"/><path class=\"point\" transform=\"translate(135,163.64)\" d=\"M3,0A3,3 0 1,1 0,-3A3,3 0 0,1 3,0Z\" style=\"opacity: 1; stroke-width: 0px; fill: rgb(99, 110, 250); fill-opacity: 1;\"/><path class=\"point\" transform=\"translate(135,163.64)\" d=\"M3,0A3,3 0 1,1 0,-3A3,3 0 0,1 3,0Z\" style=\"opacity: 1; stroke-width: 0px; fill: rgb(99, 110, 250); fill-opacity: 1;\"/><path class=\"point\" transform=\"translate(135,163.64)\" d=\"M3,0A3,3 0 1,1 0,-3A3,3 0 0,1 3,0Z\" style=\"opacity: 1; stroke-width: 0px; fill: rgb(99, 110, 250); fill-opacity: 1;\"/><path class=\"point\" transform=\"translate(135,163.64)\" d=\"M3,0A3,3 0 1,1 0,-3A3,3 0 0,1 3,0Z\" style=\"opacity: 1; stroke-width: 0px; fill: rgb(99, 110, 250); fill-opacity: 1;\"/><path class=\"point\" transform=\"translate(135,158.41)\" d=\"M3,0A3,3 0 1,1 0,-3A3,3 0 0,1 3,0Z\" style=\"opacity: 1; stroke-width: 0px; fill: rgb(99, 110, 250); fill-opacity: 1;\"/><path class=\"point\" transform=\"translate(135,158.41)\" d=\"M3,0A3,3 0 1,1 0,-3A3,3 0 0,1 3,0Z\" style=\"opacity: 1; stroke-width: 0px; fill: rgb(99, 110, 250); fill-opacity: 1;\"/><path class=\"point\" transform=\"translate(135,158.41)\" d=\"M3,0A3,3 0 1,1 0,-3A3,3 0 0,1 3,0Z\" style=\"opacity: 1; stroke-width: 0px; fill: rgb(99, 110, 250); fill-opacity: 1;\"/><path class=\"point\" transform=\"translate(135,158.41)\" d=\"M3,0A3,3 0 1,1 0,-3A3,3 0 0,1 3,0Z\" style=\"opacity: 1; stroke-width: 0px; fill: rgb(99, 110, 250); fill-opacity: 1;\"/><path class=\"point\" transform=\"translate(135,158.41)\" d=\"M3,0A3,3 0 1,1 0,-3A3,3 0 0,1 3,0Z\" style=\"opacity: 1; stroke-width: 0px; fill: rgb(99, 110, 250); fill-opacity: 1;\"/><path class=\"point\" transform=\"translate(135,158.41)\" d=\"M3,0A3,3 0 1,1 0,-3A3,3 0 0,1 3,0Z\" style=\"opacity: 1; stroke-width: 0px; fill: rgb(99, 110, 250); fill-opacity: 1;\"/><path class=\"point\" transform=\"translate(135,158.41)\" d=\"M3,0A3,3 0 1,1 0,-3A3,3 0 0,1 3,0Z\" style=\"opacity: 1; stroke-width: 0px; fill: rgb(99, 110, 250); fill-opacity: 1;\"/><path class=\"point\" transform=\"translate(135,158.41)\" d=\"M3,0A3,3 0 1,1 0,-3A3,3 0 0,1 3,0Z\" style=\"opacity: 1; stroke-width: 0px; fill: rgb(99, 110, 250); fill-opacity: 1;\"/><path class=\"point\" transform=\"translate(135,153.18)\" d=\"M3,0A3,3 0 1,1 0,-3A3,3 0 0,1 3,0Z\" style=\"opacity: 1; stroke-width: 0px; fill: rgb(99, 110, 250); fill-opacity: 1;\"/><path class=\"point\" transform=\"translate(135,153.18)\" d=\"M3,0A3,3 0 1,1 0,-3A3,3 0 0,1 3,0Z\" style=\"opacity: 1; stroke-width: 0px; fill: rgb(99, 110, 250); fill-opacity: 1;\"/><path class=\"point\" transform=\"translate(135,153.18)\" d=\"M3,0A3,3 0 1,1 0,-3A3,3 0 0,1 3,0Z\" style=\"opacity: 1; stroke-width: 0px; fill: rgb(99, 110, 250); fill-opacity: 1;\"/><path class=\"point\" transform=\"translate(135,153.18)\" d=\"M3,0A3,3 0 1,1 0,-3A3,3 0 0,1 3,0Z\" style=\"opacity: 1; stroke-width: 0px; fill: rgb(99, 110, 250); fill-opacity: 1;\"/><path class=\"point\" transform=\"translate(135,153.18)\" d=\"M3,0A3,3 0 1,1 0,-3A3,3 0 0,1 3,0Z\" style=\"opacity: 1; stroke-width: 0px; fill: rgb(99, 110, 250); fill-opacity: 1;\"/><path class=\"point\" transform=\"translate(135,153.18)\" d=\"M3,0A3,3 0 1,1 0,-3A3,3 0 0,1 3,0Z\" style=\"opacity: 1; stroke-width: 0px; fill: rgb(99, 110, 250); fill-opacity: 1;\"/><path class=\"point\" transform=\"translate(135,153.18)\" d=\"M3,0A3,3 0 1,1 0,-3A3,3 0 0,1 3,0Z\" style=\"opacity: 1; stroke-width: 0px; fill: rgb(99, 110, 250); fill-opacity: 1;\"/><path class=\"point\" transform=\"translate(135,153.18)\" d=\"M3,0A3,3 0 1,1 0,-3A3,3 0 0,1 3,0Z\" style=\"opacity: 1; stroke-width: 0px; fill: rgb(99, 110, 250); fill-opacity: 1;\"/><path class=\"point\" transform=\"translate(135,153.18)\" d=\"M3,0A3,3 0 1,1 0,-3A3,3 0 0,1 3,0Z\" style=\"opacity: 1; stroke-width: 0px; fill: rgb(99, 110, 250); fill-opacity: 1;\"/><path class=\"point\" transform=\"translate(135,153.18)\" d=\"M3,0A3,3 0 1,1 0,-3A3,3 0 0,1 3,0Z\" style=\"opacity: 1; stroke-width: 0px; fill: rgb(99, 110, 250); fill-opacity: 1;\"/><path class=\"point\" transform=\"translate(135,153.18)\" d=\"M3,0A3,3 0 1,1 0,-3A3,3 0 0,1 3,0Z\" style=\"opacity: 1; stroke-width: 0px; fill: rgb(99, 110, 250); fill-opacity: 1;\"/><path class=\"point\" transform=\"translate(135,147.95)\" d=\"M3,0A3,3 0 1,1 0,-3A3,3 0 0,1 3,0Z\" style=\"opacity: 1; stroke-width: 0px; fill: rgb(99, 110, 250); fill-opacity: 1;\"/><path class=\"point\" transform=\"translate(135,147.95)\" d=\"M3,0A3,3 0 1,1 0,-3A3,3 0 0,1 3,0Z\" style=\"opacity: 1; stroke-width: 0px; fill: rgb(99, 110, 250); fill-opacity: 1;\"/><path class=\"point\" transform=\"translate(135,147.95)\" d=\"M3,0A3,3 0 1,1 0,-3A3,3 0 0,1 3,0Z\" style=\"opacity: 1; stroke-width: 0px; fill: rgb(99, 110, 250); fill-opacity: 1;\"/><path class=\"point\" transform=\"translate(135,147.95)\" d=\"M3,0A3,3 0 1,1 0,-3A3,3 0 0,1 3,0Z\" style=\"opacity: 1; stroke-width: 0px; fill: rgb(99, 110, 250); fill-opacity: 1;\"/><path class=\"point\" transform=\"translate(135,147.95)\" d=\"M3,0A3,3 0 1,1 0,-3A3,3 0 0,1 3,0Z\" style=\"opacity: 1; stroke-width: 0px; fill: rgb(99, 110, 250); fill-opacity: 1;\"/><path class=\"point\" transform=\"translate(135,147.95)\" d=\"M3,0A3,3 0 1,1 0,-3A3,3 0 0,1 3,0Z\" style=\"opacity: 1; stroke-width: 0px; fill: rgb(99, 110, 250); fill-opacity: 1;\"/><path class=\"point\" transform=\"translate(135,142.73)\" d=\"M3,0A3,3 0 1,1 0,-3A3,3 0 0,1 3,0Z\" style=\"opacity: 1; stroke-width: 0px; fill: rgb(99, 110, 250); fill-opacity: 1;\"/><path class=\"point\" transform=\"translate(135,142.73)\" d=\"M3,0A3,3 0 1,1 0,-3A3,3 0 0,1 3,0Z\" style=\"opacity: 1; stroke-width: 0px; fill: rgb(99, 110, 250); fill-opacity: 1;\"/><path class=\"point\" transform=\"translate(135,142.73)\" d=\"M3,0A3,3 0 1,1 0,-3A3,3 0 0,1 3,0Z\" style=\"opacity: 1; stroke-width: 0px; fill: rgb(99, 110, 250); fill-opacity: 1;\"/><path class=\"point\" transform=\"translate(135,142.73)\" d=\"M3,0A3,3 0 1,1 0,-3A3,3 0 0,1 3,0Z\" style=\"opacity: 1; stroke-width: 0px; fill: rgb(99, 110, 250); fill-opacity: 1;\"/><path class=\"point\" transform=\"translate(135,137.5)\" d=\"M3,0A3,3 0 1,1 0,-3A3,3 0 0,1 3,0Z\" style=\"opacity: 1; stroke-width: 0px; fill: rgb(99, 110, 250); fill-opacity: 1;\"/><path class=\"point\" transform=\"translate(135,132.27)\" d=\"M3,0A3,3 0 1,1 0,-3A3,3 0 0,1 3,0Z\" style=\"opacity: 1; stroke-width: 0px; fill: rgb(99, 110, 250); fill-opacity: 1;\"/><path class=\"point\" transform=\"translate(135,132.27)\" d=\"M3,0A3,3 0 1,1 0,-3A3,3 0 0,1 3,0Z\" style=\"opacity: 1; stroke-width: 0px; fill: rgb(99, 110, 250); fill-opacity: 1;\"/><path class=\"point\" transform=\"translate(135,132.27)\" d=\"M3,0A3,3 0 1,1 0,-3A3,3 0 0,1 3,0Z\" style=\"opacity: 1; stroke-width: 0px; fill: rgb(99, 110, 250); fill-opacity: 1;\"/><path class=\"point\" transform=\"translate(135,127.04)\" d=\"M3,0A3,3 0 1,1 0,-3A3,3 0 0,1 3,0Z\" style=\"opacity: 1; stroke-width: 0px; fill: rgb(99, 110, 250); fill-opacity: 1;\"/><path class=\"point\" transform=\"translate(135,127.04)\" d=\"M3,0A3,3 0 1,1 0,-3A3,3 0 0,1 3,0Z\" style=\"opacity: 1; stroke-width: 0px; fill: rgb(99, 110, 250); fill-opacity: 1;\"/><path class=\"point\" transform=\"translate(135,121.81)\" d=\"M3,0A3,3 0 1,1 0,-3A3,3 0 0,1 3,0Z\" style=\"opacity: 1; stroke-width: 0px; fill: rgb(99, 110, 250); fill-opacity: 1;\"/><path class=\"point\" transform=\"translate(135,121.81)\" d=\"M3,0A3,3 0 1,1 0,-3A3,3 0 0,1 3,0Z\" style=\"opacity: 1; stroke-width: 0px; fill: rgb(99, 110, 250); fill-opacity: 1;\"/><path class=\"point\" transform=\"translate(135,121.81)\" d=\"M3,0A3,3 0 1,1 0,-3A3,3 0 0,1 3,0Z\" style=\"opacity: 1; stroke-width: 0px; fill: rgb(99, 110, 250); fill-opacity: 1;\"/><path class=\"point\" transform=\"translate(135,121.81)\" d=\"M3,0A3,3 0 1,1 0,-3A3,3 0 0,1 3,0Z\" style=\"opacity: 1; stroke-width: 0px; fill: rgb(99, 110, 250); fill-opacity: 1;\"/><path class=\"point\" transform=\"translate(135,116.58)\" d=\"M3,0A3,3 0 1,1 0,-3A3,3 0 0,1 3,0Z\" style=\"opacity: 1; stroke-width: 0px; fill: rgb(99, 110, 250); fill-opacity: 1;\"/><path class=\"point\" transform=\"translate(135,106.12)\" d=\"M3,0A3,3 0 1,1 0,-3A3,3 0 0,1 3,0Z\" style=\"opacity: 1; stroke-width: 0px; fill: rgb(99, 110, 250); fill-opacity: 1;\"/><path class=\"point\" transform=\"translate(135,100.89)\" d=\"M3,0A3,3 0 1,1 0,-3A3,3 0 0,1 3,0Z\" style=\"opacity: 1; stroke-width: 0px; fill: rgb(99, 110, 250); fill-opacity: 1;\"/><path class=\"point\" transform=\"translate(135,100.89)\" d=\"M3,0A3,3 0 1,1 0,-3A3,3 0 0,1 3,0Z\" style=\"opacity: 1; stroke-width: 0px; fill: rgb(99, 110, 250); fill-opacity: 1;\"/><path class=\"point\" transform=\"translate(135,95.66)\" d=\"M3,0A3,3 0 1,1 0,-3A3,3 0 0,1 3,0Z\" style=\"opacity: 1; stroke-width: 0px; fill: rgb(99, 110, 250); fill-opacity: 1;\"/><path class=\"point\" transform=\"translate(135,79.97)\" d=\"M3,0A3,3 0 1,1 0,-3A3,3 0 0,1 3,0Z\" style=\"opacity: 1; stroke-width: 0px; fill: rgb(99, 110, 250); fill-opacity: 1;\"/><path class=\"point\" transform=\"translate(135,69.51)\" d=\"M3,0A3,3 0 1,1 0,-3A3,3 0 0,1 3,0Z\" style=\"opacity: 1; stroke-width: 0px; fill: rgb(99, 110, 250); fill-opacity: 1;\"/><path class=\"point\" transform=\"translate(135,27.68)\" d=\"M3,0A3,3 0 1,1 0,-3A3,3 0 0,1 3,0Z\" style=\"opacity: 1; stroke-width: 0px; fill: rgb(99, 110, 250); fill-opacity: 1;\"/></g></g><g class=\"trace violins\" style=\"opacity: 1;\"><path class=\"violin\" d=\"M405.13,342Q405.21,340.19 405.28,339.29C405.36,338.39 405.45,337.49 405.58,336.59C405.72,335.68 405.87,334.78 406.09,333.88C406.31,332.97 406.57,332.06 406.89,331.17C407.22,330.26 407.61,329.35 408.06,328.46C408.52,327.54 409.06,326.65 409.65,325.76C410.26,324.84 410.95,323.94 411.67,323.05C412.42,322.13 413.23,321.23 414.08,320.34C414.95,319.42 415.88,318.53 416.83,317.64C417.8,316.73 418.81,315.83 419.83,314.93C420.87,314.02 421.94,313.12 423.03,312.22C424.13,311.31 425.26,310.41 426.4,309.52C427.56,308.61 428.74,307.71 429.94,306.81C431.16,305.9 432.41,305 433.67,304.1C434.94,303.19 436.23,302.29 437.51,301.39C438.79,300.49 440.09,299.6 441.33,298.69C442.55,297.8 443.77,296.9 444.9,295.98C445.98,295.1 447.04,294.2 447.98,293.27C448.86,292.4 449.69,291.5 450.37,290.57C451.01,289.7 451.57,288.79 451.99,287.86C452.39,286.98 452.69,286.06 452.87,285.15C453.05,284.26 453.11,283.34 453.1,282.44C453.09,281.54 452.96,280.63 452.79,279.74C452.62,278.83 452.36,277.93 452.08,277.03C451.79,276.12 451.44,275.22 451.08,274.32C450.71,273.41 450.31,272.52 449.89,271.62C449.47,270.71 449.02,269.81 448.56,268.91C448.1,268 447.61,267.1 447.12,266.2C446.63,265.3 446.12,264.4 445.61,263.5C445.1,262.6 444.58,261.69 444.06,260.79C443.54,259.89 443.01,258.98 442.49,258.08C441.97,257.18 441.45,256.27 440.93,255.37C440.41,254.47 439.89,253.57 439.35,252.67C438.81,251.77 438.26,250.86 437.7,249.96C437.13,249.05 436.55,248.15 435.96,247.25C435.37,246.35 434.75,245.45 434.14,244.55C433.53,243.65 432.91,242.74 432.3,241.84C431.69,240.94 431.09,240.03 430.5,239.13C429.91,238.23 429.33,237.33 428.77,236.43C428.21,235.53 427.67,234.63 427.14,233.72C426.61,232.82 426.1,231.92 425.59,231.01C425.09,230.11 424.59,229.2 424.11,228.3C423.63,227.4 423.16,226.5 422.69,225.6C422.22,224.7 421.76,223.8 421.31,222.89C420.86,221.99 420.42,221.08 419.99,220.18C419.56,219.28 419.15,218.38 418.75,217.48C418.36,216.58 417.98,215.68 417.62,214.77C417.26,213.87 416.92,212.97 416.6,212.06C416.28,211.16 415.98,210.25 415.68,209.35C415.38,208.45 415.1,207.55 414.81,206.65C414.52,205.75 414.24,204.84 413.96,203.94C413.68,203.04 413.4,202.13 413.11,201.23C412.83,200.33 412.53,199.43 412.25,198.53C411.97,197.63 411.68,196.72 411.41,195.82C411.14,194.92 410.87,194.01 410.62,193.11C410.37,192.21 410.14,191.31 409.93,190.41C409.72,189.51 409.52,188.61 409.35,187.7C409.18,186.8 409.04,185.89 408.92,184.99C408.8,184.09 408.7,183.18 408.61,182.28C408.53,181.38 408.46,180.48 408.41,179.58C408.35,178.68 408.32,177.77 408.28,176.87C408.24,175.97 408.22,175.06 408.19,174.16C408.16,173.26 408.13,172.36 408.09,171.46C408.05,170.56 408,169.65 407.95,168.75C407.89,167.85 407.83,166.94 407.76,166.04C407.68,165.14 407.59,164.23 407.5,163.33C407.41,162.43 407.31,161.53 407.21,160.63C407.11,159.73 407.01,158.82 406.91,157.92C406.82,157.02 406.73,156.11 406.64,155.21C406.56,154.31 406.47,153.41 406.4,152.51C406.33,151.61 406.26,150.7 406.2,149.8C406.14,148.9 406.09,147.99 406.05,147.09C406.01,146.19 405.97,145.29 405.94,144.39C405.91,143.49 405.89,142.58 405.87,141.68C405.85,140.78 405.83,139.87 405.82,138.97C405.81,138.07 405.81,137.16 405.8,136.26C405.79,135.36 405.79,134.46 405.78,133.56C405.77,132.66 405.77,131.75 405.76,130.85C405.75,129.95 405.75,129.04 405.74,128.14C405.73,127.24 405.73,126.34 405.72,125.44C405.71,124.54 405.7,123.63 405.68,122.73C405.66,121.83 405.64,120.92 405.62,120.02C405.6,119.12 405.57,118.21 405.54,117.31C405.51,116.41 405.47,115.51 405.44,114.61C405.41,113.71 405.37,112.8 405.34,111.9C405.31,111 405.28,110.09 405.26,109.19C405.24,108.29 405.22,107.39 405.21,106.49C405.2,105.59 405.18,104.68 405.18,103.78C405.18,102.88 405.18,101.97 405.18,101.07C405.18,100.17 405.18,99.27 405.18,98.37C405.18,97.47 405.18,96.56 405.18,95.66C405.18,94.76 405.17,93.85 405.16,92.95C405.15,92.05 405.15,91.14 405.14,90.24C405.13,89.34 405.11,88.44 405.1,87.54C405.09,86.64 405.08,85.73 405.07,84.83C405.06,83.93 405.05,83.02 405.04,82.12Q405.03,81.22 405.02,79.42L404.98,79.42Q404.97,81.22 404.96,82.12C404.95,83.02 404.94,83.93 404.93,84.83C404.92,85.73 404.91,86.64 404.9,87.54C404.89,88.44 404.87,89.34 404.86,90.24C404.85,91.14 404.85,92.05 404.84,92.95C404.83,93.85 404.82,94.76 404.82,95.66C404.82,96.56 404.82,97.47 404.82,98.37C404.82,99.27 404.82,100.17 404.82,101.07C404.82,101.97 404.82,102.88 404.82,103.78C404.82,104.68 404.8,105.59 404.79,106.49C404.78,107.39 404.76,108.29 404.74,109.19C404.72,110.09 404.69,111 404.66,111.9C404.63,112.8 404.59,113.71 404.56,114.61C404.53,115.51 404.49,116.41 404.46,117.31C404.43,118.21 404.4,119.12 404.38,120.02C404.36,120.92 404.34,121.83 404.32,122.73C404.3,123.63 404.29,124.54 404.28,125.44C404.27,126.34 404.27,127.24 404.26,128.14C404.25,129.04 404.25,129.95 404.24,130.85C404.23,131.75 404.23,132.66 404.22,133.56C404.21,134.46 404.21,135.36 404.2,136.26C404.19,137.16 404.19,138.07 404.18,138.97C404.17,139.87 404.15,140.78 404.13,141.68C404.11,142.58 404.09,143.49 404.06,144.39C404.03,145.29 403.99,146.19 403.95,147.09C403.91,147.99 403.86,148.9 403.8,149.8C403.74,150.7 403.67,151.61 403.6,152.51C403.53,153.41 403.44,154.31 403.36,155.21C403.27,156.11 403.18,157.02 403.09,157.92C402.99,158.82 402.89,159.73 402.79,160.63C402.69,161.53 402.59,162.43 402.5,163.33C402.41,164.23 402.32,165.14 402.24,166.04C402.17,166.94 402.11,167.85 402.05,168.75C402,169.65 401.95,170.56 401.91,171.46C401.87,172.36 401.84,173.26 401.81,174.16C401.78,175.06 401.76,175.97 401.72,176.87C401.68,177.77 401.65,178.68 401.59,179.58C401.54,180.48 401.47,181.38 401.39,182.28C401.3,183.18 401.2,184.09 401.08,184.99C400.96,185.89 400.82,186.8 400.65,187.7C400.48,188.61 400.28,189.51 400.07,190.41C399.86,191.31 399.63,192.21 399.38,193.11C399.13,194.01 398.86,194.92 398.59,195.82C398.32,196.72 398.03,197.63 397.75,198.53C397.47,199.43 397.17,200.33 396.89,201.23C396.6,202.13 396.32,203.04 396.04,203.94C395.76,204.84 395.48,205.75 395.19,206.65C394.9,207.55 394.62,208.45 394.32,209.35C394.02,210.25 393.72,211.16 393.4,212.06C393.08,212.97 392.74,213.87 392.38,214.77C392.02,215.68 391.64,216.58 391.25,217.48C390.85,218.38 390.44,219.28 390.01,220.18C389.58,221.08 389.14,221.99 388.69,222.89C388.24,223.8 387.78,224.7 387.31,225.6C386.84,226.5 386.37,227.4 385.89,228.3C385.41,229.2 384.91,230.11 384.41,231.01C383.9,231.92 383.39,232.82 382.86,233.72C382.33,234.63 381.79,235.53 381.23,236.43C380.67,237.33 380.09,238.23 379.5,239.13C378.91,240.03 378.31,240.94 377.7,241.84C377.09,242.74 376.47,243.65 375.86,244.55C375.25,245.45 374.63,246.35 374.04,247.25C373.45,248.15 372.87,249.05 372.3,249.96C371.74,250.86 371.19,251.77 370.65,252.67C370.11,253.57 369.59,254.47 369.07,255.37C368.55,256.27 368.03,257.18 367.51,258.08C366.99,258.98 366.46,259.89 365.94,260.79C365.42,261.69 364.9,262.6 364.39,263.5C363.88,264.4 363.37,265.3 362.88,266.2C362.39,267.1 361.9,268 361.44,268.91C360.98,269.81 360.53,270.71 360.11,271.62C359.69,272.52 359.29,273.41 358.92,274.32C358.56,275.22 358.21,276.12 357.92,277.03C357.64,277.93 357.38,278.83 357.21,279.74C357.04,280.63 356.91,281.54 356.9,282.44C356.89,283.34 356.95,284.26 357.13,285.15C357.31,286.06 357.61,286.98 358.01,287.86C358.43,288.79 358.99,289.7 359.63,290.57C360.31,291.5 361.14,292.4 362.02,293.27C362.96,294.2 364.02,295.1 365.1,295.98C366.23,296.9 367.45,297.8 368.67,298.69C369.91,299.6 371.21,300.49 372.49,301.39C373.77,302.29 375.06,303.19 376.33,304.1C377.59,305 378.84,305.9 380.06,306.81C381.26,307.71 382.44,308.61 383.6,309.52C384.74,310.41 385.87,311.31 386.97,312.22C388.06,313.12 389.13,314.02 390.17,314.93C391.19,315.83 392.2,316.73 393.17,317.64C394.12,318.53 395.05,319.42 395.92,320.34C396.77,321.23 397.58,322.13 398.33,323.05C399.05,323.94 399.74,324.84 400.35,325.76C400.94,326.65 401.48,327.54 401.94,328.46C402.39,329.35 402.78,330.26 403.11,331.17C403.43,332.06 403.69,332.97 403.91,333.88C404.13,334.78 404.28,335.68 404.42,336.59C404.55,337.49 404.64,338.39 404.72,339.29Q404.79,340.19 404.87,342Z\" style=\"vector-effect: non-scaling-stroke; stroke-width: 2px; stroke: rgb(239, 85, 59); stroke-opacity: 1; fill: rgb(239, 85, 59); fill-opacity: 0.5;\"/><path class=\"box\" d=\"M388.46,268.23H421.54M388.46,289.15H421.54V247.31H388.46ZM405,289.15V325.76M405,247.31V184.56\" style=\"vector-effect: non-scaling-stroke; stroke-width: 2px; stroke: rgb(239, 85, 59); stroke-opacity: 1; fill: rgb(239, 85, 59); fill-opacity: 0.5;\"/><g class=\"points\"><path class=\"point\" transform=\"translate(405,179.33)\" d=\"M3,0A3,3 0 1,1 0,-3A3,3 0 0,1 3,0Z\" style=\"opacity: 1; stroke-width: 0px; fill: rgb(239, 85, 59); fill-opacity: 1;\"/><path class=\"point\" transform=\"translate(405,179.33)\" d=\"M3,0A3,3 0 1,1 0,-3A3,3 0 0,1 3,0Z\" style=\"opacity: 1; stroke-width: 0px; fill: rgb(239, 85, 59); fill-opacity: 1;\"/><path class=\"point\" transform=\"translate(405,179.33)\" d=\"M3,0A3,3 0 1,1 0,-3A3,3 0 0,1 3,0Z\" style=\"opacity: 1; stroke-width: 0px; fill: rgb(239, 85, 59); fill-opacity: 1;\"/><path class=\"point\" transform=\"translate(405,179.33)\" d=\"M3,0A3,3 0 1,1 0,-3A3,3 0 0,1 3,0Z\" style=\"opacity: 1; stroke-width: 0px; fill: rgb(239, 85, 59); fill-opacity: 1;\"/><path class=\"point\" transform=\"translate(405,179.33)\" d=\"M3,0A3,3 0 1,1 0,-3A3,3 0 0,1 3,0Z\" style=\"opacity: 1; stroke-width: 0px; fill: rgb(239, 85, 59); fill-opacity: 1;\"/><path class=\"point\" transform=\"translate(405,174.1)\" d=\"M3,0A3,3 0 1,1 0,-3A3,3 0 0,1 3,0Z\" style=\"opacity: 1; stroke-width: 0px; fill: rgb(239, 85, 59); fill-opacity: 1;\"/><path class=\"point\" transform=\"translate(405,174.1)\" d=\"M3,0A3,3 0 1,1 0,-3A3,3 0 0,1 3,0Z\" style=\"opacity: 1; stroke-width: 0px; fill: rgb(239, 85, 59); fill-opacity: 1;\"/><path class=\"point\" transform=\"translate(405,174.1)\" d=\"M3,0A3,3 0 1,1 0,-3A3,3 0 0,1 3,0Z\" style=\"opacity: 1; stroke-width: 0px; fill: rgb(239, 85, 59); fill-opacity: 1;\"/><path class=\"point\" transform=\"translate(405,174.1)\" d=\"M3,0A3,3 0 1,1 0,-3A3,3 0 0,1 3,0Z\" style=\"opacity: 1; stroke-width: 0px; fill: rgb(239, 85, 59); fill-opacity: 1;\"/><path class=\"point\" transform=\"translate(405,168.87)\" d=\"M3,0A3,3 0 1,1 0,-3A3,3 0 0,1 3,0Z\" style=\"opacity: 1; stroke-width: 0px; fill: rgb(239, 85, 59); fill-opacity: 1;\"/><path class=\"point\" transform=\"translate(405,168.87)\" d=\"M3,0A3,3 0 1,1 0,-3A3,3 0 0,1 3,0Z\" style=\"opacity: 1; stroke-width: 0px; fill: rgb(239, 85, 59); fill-opacity: 1;\"/><path class=\"point\" transform=\"translate(405,168.87)\" d=\"M3,0A3,3 0 1,1 0,-3A3,3 0 0,1 3,0Z\" style=\"opacity: 1; stroke-width: 0px; fill: rgb(239, 85, 59); fill-opacity: 1;\"/><path class=\"point\" transform=\"translate(405,168.87)\" d=\"M3,0A3,3 0 1,1 0,-3A3,3 0 0,1 3,0Z\" style=\"opacity: 1; stroke-width: 0px; fill: rgb(239, 85, 59); fill-opacity: 1;\"/><path class=\"point\" transform=\"translate(405,168.87)\" d=\"M3,0A3,3 0 1,1 0,-3A3,3 0 0,1 3,0Z\" style=\"opacity: 1; stroke-width: 0px; fill: rgb(239, 85, 59); fill-opacity: 1;\"/><path class=\"point\" transform=\"translate(405,168.87)\" d=\"M3,0A3,3 0 1,1 0,-3A3,3 0 0,1 3,0Z\" style=\"opacity: 1; stroke-width: 0px; fill: rgb(239, 85, 59); fill-opacity: 1;\"/><path class=\"point\" transform=\"translate(405,163.64)\" d=\"M3,0A3,3 0 1,1 0,-3A3,3 0 0,1 3,0Z\" style=\"opacity: 1; stroke-width: 0px; fill: rgb(239, 85, 59); fill-opacity: 1;\"/><path class=\"point\" transform=\"translate(405,163.64)\" d=\"M3,0A3,3 0 1,1 0,-3A3,3 0 0,1 3,0Z\" style=\"opacity: 1; stroke-width: 0px; fill: rgb(239, 85, 59); fill-opacity: 1;\"/><path class=\"point\" transform=\"translate(405,163.64)\" d=\"M3,0A3,3 0 1,1 0,-3A3,3 0 0,1 3,0Z\" style=\"opacity: 1; stroke-width: 0px; fill: rgb(239, 85, 59); fill-opacity: 1;\"/><path class=\"point\" transform=\"translate(405,163.64)\" d=\"M3,0A3,3 0 1,1 0,-3A3,3 0 0,1 3,0Z\" style=\"opacity: 1; stroke-width: 0px; fill: rgb(239, 85, 59); fill-opacity: 1;\"/><path class=\"point\" transform=\"translate(405,163.64)\" d=\"M3,0A3,3 0 1,1 0,-3A3,3 0 0,1 3,0Z\" style=\"opacity: 1; stroke-width: 0px; fill: rgb(239, 85, 59); fill-opacity: 1;\"/><path class=\"point\" transform=\"translate(405,158.41)\" d=\"M3,0A3,3 0 1,1 0,-3A3,3 0 0,1 3,0Z\" style=\"opacity: 1; stroke-width: 0px; fill: rgb(239, 85, 59); fill-opacity: 1;\"/><path class=\"point\" transform=\"translate(405,153.18)\" d=\"M3,0A3,3 0 1,1 0,-3A3,3 0 0,1 3,0Z\" style=\"opacity: 1; stroke-width: 0px; fill: rgb(239, 85, 59); fill-opacity: 1;\"/><path class=\"point\" transform=\"translate(405,153.18)\" d=\"M3,0A3,3 0 1,1 0,-3A3,3 0 0,1 3,0Z\" style=\"opacity: 1; stroke-width: 0px; fill: rgb(239, 85, 59); fill-opacity: 1;\"/><path class=\"point\" transform=\"translate(405,153.18)\" d=\"M3,0A3,3 0 1,1 0,-3A3,3 0 0,1 3,0Z\" style=\"opacity: 1; stroke-width: 0px; fill: rgb(239, 85, 59); fill-opacity: 1;\"/><path class=\"point\" transform=\"translate(405,147.95)\" d=\"M3,0A3,3 0 1,1 0,-3A3,3 0 0,1 3,0Z\" style=\"opacity: 1; stroke-width: 0px; fill: rgb(239, 85, 59); fill-opacity: 1;\"/><path class=\"point\" transform=\"translate(405,142.73)\" d=\"M3,0A3,3 0 1,1 0,-3A3,3 0 0,1 3,0Z\" style=\"opacity: 1; stroke-width: 0px; fill: rgb(239, 85, 59); fill-opacity: 1;\"/><path class=\"point\" transform=\"translate(405,137.5)\" d=\"M3,0A3,3 0 1,1 0,-3A3,3 0 0,1 3,0Z\" style=\"opacity: 1; stroke-width: 0px; fill: rgb(239, 85, 59); fill-opacity: 1;\"/><path class=\"point\" transform=\"translate(405,132.27)\" d=\"M3,0A3,3 0 1,1 0,-3A3,3 0 0,1 3,0Z\" style=\"opacity: 1; stroke-width: 0px; fill: rgb(239, 85, 59); fill-opacity: 1;\"/><path class=\"point\" transform=\"translate(405,132.27)\" d=\"M3,0A3,3 0 1,1 0,-3A3,3 0 0,1 3,0Z\" style=\"opacity: 1; stroke-width: 0px; fill: rgb(239, 85, 59); fill-opacity: 1;\"/><path class=\"point\" transform=\"translate(405,121.81)\" d=\"M3,0A3,3 0 1,1 0,-3A3,3 0 0,1 3,0Z\" style=\"opacity: 1; stroke-width: 0px; fill: rgb(239, 85, 59); fill-opacity: 1;\"/><path class=\"point\" transform=\"translate(405,121.81)\" d=\"M3,0A3,3 0 1,1 0,-3A3,3 0 0,1 3,0Z\" style=\"opacity: 1; stroke-width: 0px; fill: rgb(239, 85, 59); fill-opacity: 1;\"/><path class=\"point\" transform=\"translate(405,116.58)\" d=\"M3,0A3,3 0 1,1 0,-3A3,3 0 0,1 3,0Z\" style=\"opacity: 1; stroke-width: 0px; fill: rgb(239, 85, 59); fill-opacity: 1;\"/><path class=\"point\" transform=\"translate(405,95.66)\" d=\"M3,0A3,3 0 1,1 0,-3A3,3 0 0,1 3,0Z\" style=\"opacity: 1; stroke-width: 0px; fill: rgb(239, 85, 59); fill-opacity: 1;\"/></g></g></g></g><g class=\"overplot\"/><path class=\"xlines-above crisp\" d=\"M0,0\" style=\"fill: none;\"/><path class=\"ylines-above crisp\" d=\"M0,0\" style=\"fill: none;\"/><g class=\"overlines-above\"/><g class=\"xaxislayer-above\"><g class=\"xtick\"><text text-anchor=\"middle\" x=\"0\" y=\"433\" transform=\"translate(215,0)\" style=\"font-family: 'Open Sans', verdana, arial, sans-serif; font-size: 12px; fill: rgb(42, 63, 95); fill-opacity: 1; white-space: pre; opacity: 1;\">0</text></g><g class=\"xtick\"><text text-anchor=\"middle\" x=\"0\" y=\"433\" style=\"font-family: 'Open Sans', verdana, arial, sans-serif; font-size: 12px; fill: rgb(42, 63, 95); fill-opacity: 1; white-space: pre; opacity: 1;\" transform=\"translate(485,0)\">1</text></g></g><g class=\"yaxislayer-above\"><g class=\"ytick\"><text text-anchor=\"end\" x=\"79\" y=\"4.199999999999999\" transform=\"translate(0,390.99)\" style=\"font-family: 'Open Sans', verdana, arial, sans-serif; font-size: 12px; fill: rgb(42, 63, 95); fill-opacity: 1; white-space: pre; opacity: 1;\">0</text></g><g class=\"ytick\"><text text-anchor=\"end\" x=\"79\" y=\"4.199999999999999\" style=\"font-family: 'Open Sans', verdana, arial, sans-serif; font-size: 12px; fill: rgb(42, 63, 95); fill-opacity: 1; white-space: pre; opacity: 1;\" transform=\"translate(0,338.69)\">10</text></g><g class=\"ytick\"><text text-anchor=\"end\" x=\"79\" y=\"4.199999999999999\" style=\"font-family: 'Open Sans', verdana, arial, sans-serif; font-size: 12px; fill: rgb(42, 63, 95); fill-opacity: 1; white-space: pre; opacity: 1;\" transform=\"translate(0,286.4)\">20</text></g><g class=\"ytick\"><text text-anchor=\"end\" x=\"79\" y=\"4.199999999999999\" style=\"font-family: 'Open Sans', verdana, arial, sans-serif; font-size: 12px; fill: rgb(42, 63, 95); fill-opacity: 1; white-space: pre; opacity: 1;\" transform=\"translate(0,234.1)\">30</text></g><g class=\"ytick\"><text text-anchor=\"end\" x=\"79\" y=\"4.199999999999999\" style=\"font-family: 'Open Sans', verdana, arial, sans-serif; font-size: 12px; fill: rgb(42, 63, 95); fill-opacity: 1; white-space: pre; opacity: 1;\" transform=\"translate(0,181.81)\">40</text></g><g class=\"ytick\"><text text-anchor=\"end\" x=\"79\" y=\"4.199999999999999\" style=\"font-family: 'Open Sans', verdana, arial, sans-serif; font-size: 12px; fill: rgb(42, 63, 95); fill-opacity: 1; white-space: pre; opacity: 1;\" transform=\"translate(0,129.51)\">50</text></g><g class=\"ytick\"><text text-anchor=\"end\" x=\"79\" y=\"4.199999999999999\" style=\"font-family: 'Open Sans', verdana, arial, sans-serif; font-size: 12px; fill: rgb(42, 63, 95); fill-opacity: 1; white-space: pre; opacity: 1;\" transform=\"translate(0,77.22)\">60</text></g></g><g class=\"overaxes-above\"/></g></g><g class=\"polarlayer\"/><g class=\"ternarylayer\"/><g class=\"geolayer\"/><g class=\"funnelarealayer\"/><g class=\"pielayer\"/><g class=\"iciclelayer\"/><g class=\"treemaplayer\"/><g class=\"sunburstlayer\"/><g class=\"glimages\"/><defs id=\"topdefs-01fe1c\"><g class=\"clips\"/><clipPath id=\"legend01fe1c\"><rect width=\"52\" height=\"67\" x=\"0\" y=\"0\"/></clipPath></defs><g class=\"layer-above\"><g class=\"imagelayer\"/><g class=\"shapelayer\"/></g><g class=\"infolayer\"><g class=\"legend\" pointer-events=\"all\" transform=\"translate(630.8,60)\"><rect class=\"bg\" shape-rendering=\"crispEdges\" width=\"52\" height=\"67\" x=\"0\" y=\"0\" style=\"stroke: rgb(68, 68, 68); stroke-opacity: 1; fill: rgb(255, 255, 255); fill-opacity: 1; stroke-width: 0px;\"/><g class=\"scrollbox\" transform=\"\" clip-path=\"url(#legend01fe1c)\"><text class=\"legendtitletext\" text-anchor=\"start\" x=\"2\" y=\"18.2\" style=\"font-family: 'Open Sans', verdana, arial, sans-serif; font-size: 14px; fill: rgb(42, 63, 95); fill-opacity: 1; white-space: pre;\">claim</text><g class=\"groups\" transform=\"\"><g class=\"traces\" transform=\"translate(0,32.7)\" style=\"opacity: 1;\"><text class=\"legendtext\" text-anchor=\"start\" x=\"40\" y=\"4.680000000000001\" style=\"font-family: 'Open Sans', verdana, arial, sans-serif; font-size: 12px; fill: rgb(42, 63, 95); fill-opacity: 1; white-space: pre;\">0</text><g class=\"layers\" style=\"opacity: 1;\"><g class=\"legendfill\"/><g class=\"legendlines\"/><g class=\"legendsymbols\"><g class=\"legendpoints\"><path class=\"legendbox\" d=\"M6,6H-6V-6H6Z\" transform=\"translate(20,0)\" style=\"stroke-width: 2px; fill: rgb(99, 110, 250); fill-opacity: 0.5; stroke: rgb(99, 110, 250); stroke-opacity: 1;\"/></g></g></g><rect class=\"legendtoggle\" x=\"0\" y=\"-9.5\" width=\"47\" height=\"19\" style=\"fill: rgb(0, 0, 0); fill-opacity: 0;\"/></g></g><g class=\"groups\" transform=\"\"><g class=\"traces\" transform=\"translate(0,51.7)\" style=\"opacity: 1;\"><text class=\"legendtext\" text-anchor=\"start\" x=\"40\" y=\"4.680000000000001\" style=\"font-family: 'Open Sans', verdana, arial, sans-serif; font-size: 12px; fill: rgb(42, 63, 95); fill-opacity: 1; white-space: pre;\">1</text><g class=\"layers\" style=\"opacity: 1;\"><g class=\"legendfill\"/><g class=\"legendlines\"/><g class=\"legendsymbols\"><g class=\"legendpoints\"><path class=\"legendbox\" d=\"M6,6H-6V-6H6Z\" transform=\"translate(20,0)\" style=\"stroke-width: 2px; fill: rgb(239, 85, 59); fill-opacity: 0.5; stroke: rgb(239, 85, 59); stroke-opacity: 1;\"/></g></g></g><rect class=\"legendtoggle\" x=\"0\" y=\"-9.5\" width=\"47\" height=\"19\" style=\"fill: rgb(0, 0, 0); fill-opacity: 0;\"/></g></g></g><rect class=\"scrollbar\" rx=\"20\" ry=\"3\" width=\"0\" height=\"0\" x=\"0\" y=\"0\" style=\"fill: rgb(128, 139, 164); fill-opacity: 1;\"/></g><g class=\"g-gtitle\"><text class=\"gtitle\" x=\"35\" y=\"30\" text-anchor=\"start\" dy=\"0em\" style=\"font-family: 'Open Sans', verdana, arial, sans-serif; font-size: 17px; fill: rgb(42, 63, 95); opacity: 1; font-weight: normal; white-space: pre;\">Significant word count distribution</text></g><g class=\"g-xtitle\"><text class=\"xtitle\" x=\"350\" y=\"460.8\" text-anchor=\"middle\" style=\"font-family: 'Open Sans', verdana, arial, sans-serif; font-size: 14px; fill: rgb(42, 63, 95); opacity: 1; font-weight: normal; white-space: pre;\">claim</text></g><g class=\"g-ytitle\"><text class=\"ytitle\" transform=\"rotate(-90,40.840625,240)\" x=\"40.840625\" y=\"240\" text-anchor=\"middle\" style=\"font-family: 'Open Sans', verdana, arial, sans-serif; font-size: 14px; fill: rgb(42, 63, 95); opacity: 1; font-weight: normal; white-space: pre;\"># of words</text></g></g></svg>"
      ]
     },
     "metadata": {},
     "output_type": "display_data"
    }
   ],
   "source": [
    "fig = px.violin(claim_df, x=\"claim\", y=\"num_significant_words\", color=\"claim\", box=True)\n",
    "fig.update_layout(title=\"Significant word count distribution\", yaxis_title=\"# of words\")\n",
    "fig.show(\"svg\")"
   ]
  },
  {
   "cell_type": "markdown",
   "metadata": {},
   "source": [
    "Ya en las gráficas de caja podemos observar que las frases verificables suelen tener mayor longitud y mayor numero de palabras significativas. Este es un dato importante a la hora de preparar los datos de entrenamiento del modelo."
   ]
  },
  {
   "cell_type": "code",
   "execution_count": 12,
   "metadata": {},
   "outputs": [
    {
     "name": "stdout",
     "output_type": "stream",
     "text": [
      "2 positive claims with few significant words\n",
      "\n",
      "5718               La ciudadanía.\n",
      "11463    Son de las más modernas.\n",
      "Name: text, dtype: object\n"
     ]
    }
   ],
   "source": [
    "# Sample of claims (positive sentences) with few significant words.\n",
    "pos_claim_with_few_sigwords = claim_df.loc[(claim_df[\"num_significant_words\"] <= 1) & (claim_df[\"claim\"] == 1)]\n",
    "print(\"{} positive claims with few significant words\\n\".format(\n",
    "    pos_claim_with_few_sigwords.shape[0]))\n",
    "print(pos_claim_with_few_sigwords.text)"
   ]
  },
  {
   "cell_type": "markdown",
   "metadata": {},
   "source": [
    "En la clase positiva nos encontramos algunas frases con pocas palabras significativas que no favorecen el aprendizaje del modelo. Sin embargo, al tener un numero tan bajo de frases verificables, optamos por no eliminarlas del dataset."
   ]
  },
  {
   "cell_type": "markdown",
   "metadata": {},
   "source": [
    "### 1.3 Análisis del idioma"
   ]
  },
  {
   "cell_type": "markdown",
   "metadata": {},
   "source": [
    "El objetivo del modelo es detectar automáticamente frases verificables únicamente en <strong>español</strong>. Por lo tanto, resulta interesante analizar el idioma de los documentos. "
   ]
  },
  {
   "cell_type": "markdown",
   "metadata": {},
   "source": [
    "<strong>Detección automática del idioma con Google Cloud Platform</strong>"
   ]
  },
  {
   "cell_type": "code",
   "execution_count": 13,
   "metadata": {},
   "outputs": [],
   "source": [
    "os.environ[\"GOOGLE_APPLICATION_CREDENTIALS\"] = \"./speech2text-323505-6f8076112948.json\"\n",
    "translate_client = translator.get_translation_client()"
   ]
  },
  {
   "cell_type": "code",
   "execution_count": 14,
   "metadata": {},
   "outputs": [
    {
     "name": "stdout",
     "output_type": "stream",
     "text": [
      "96.63% of texts whose language has been perfectly detected\n"
     ]
    }
   ],
   "source": [
    "# Detect language of all texts\n",
    "claim_df[\"language\"], claim_df[\"language_detection_confidence\"] = zip(*claim_df[\"text\"].map(\n",
    "    lambda x: translator.detect_language(translate_client, x)))\n",
    "\n",
    "print(\"{}% of texts whose language has been perfectly detected\".format(\n",
    "    round(claim_df.loc[claim_df[\"language_detection_confidence\"] == 1].shape[0]/claim_df.shape[0] * 100, 2)\n",
    "))"
   ]
  },
  {
   "cell_type": "code",
   "execution_count": 15,
   "metadata": {},
   "outputs": [
    {
     "name": "stdout",
     "output_type": "stream",
     "text": [
      "Language list: Spanish, Catalan, Galician, Portuguese, Somali, Italian, Undetermined, English, Romanian, Polish, Danish, French, Indonesian, Swedish, Latvian, Japanese, Hindi, Finnish, Lithuanian, Malagasy\n"
     ]
    }
   ],
   "source": [
    "# Get list of dataset languages\n",
    "language_iso_list = list(claim_df[\"language\"].unique())\n",
    "language_list = translator.get_language_names(language_iso_list)\n",
    "print(\"Language list:\", \", \".join(language_list))"
   ]
  },
  {
   "cell_type": "code",
   "execution_count": 17,
   "metadata": {},
   "outputs": [
    {
     "name": "stdout",
     "output_type": "stream",
     "text": [
      "Are there claims in other languages? True\n"
     ]
    }
   ],
   "source": [
    "# Are there claims in other languages?\n",
    "text_to_replace = claim_df.loc[(claim_df[\"language\"] != \"es\") & (claim_df[\"claim\"] == 1)][[\"text\", \"language\"]]\n",
    "print(\"Are there claims in other languages?\", True if text_to_replace.shape[0] > 0 else False)"
   ]
  },
  {
   "cell_type": "markdown",
   "metadata": {},
   "source": [
    "Para poder hacer uso del máximo número de muestras de la clase positiva, se procede a traducir las frases verificables en otros idiomas que se han encontrado durante la realización del análisis."
   ]
  },
  {
   "cell_type": "code",
   "execution_count": 19,
   "metadata": {},
   "outputs": [],
   "source": [
    "# Replace text translating into spanish (only claims in other languages)\n",
    "translated_text = list(text_to_replace.apply(\n",
    "    lambda x: translator.translate(translate_client, x[\"text\"], x[\"language\"], \"es\"), axis=1).values)\n",
    "claim_df.replace(list(text_to_replace[\"text\"]), translated_text, inplace=True)"
   ]
  },
  {
   "cell_type": "markdown",
   "metadata": {},
   "source": [
    "Ahora se quiere saber cuál es la distribución del número de documentos que no han sido perfectamente traducidos."
   ]
  },
  {
   "cell_type": "code",
   "execution_count": 20,
   "metadata": {},
   "outputs": [
    {
     "name": "stdout",
     "output_type": "stream",
     "text": [
      "Number of documents with very low language detection confidence (c < 0.8): 165\n"
     ]
    },
    {
     "data": {
      "image/svg+xml": [
       "<svg class=\"main-svg\" xmlns=\"http://www.w3.org/2000/svg\" xmlns:xlink=\"http://www.w3.org/1999/xlink\" width=\"700\" height=\"500\" style=\"\" viewBox=\"0 0 700 500\"><rect x=\"0\" y=\"0\" width=\"700\" height=\"500\" style=\"fill: rgb(255, 255, 255); fill-opacity: 1;\"/><defs id=\"defs-f834a6\"><g class=\"clips\"><clipPath id=\"clipf834a6xyplot\" class=\"plotclip\"><rect width=\"540\" height=\"360\"/></clipPath><clipPath class=\"axesclip\" id=\"clipf834a6x\"><rect x=\"80\" y=\"0\" width=\"540\" height=\"500\"/></clipPath><clipPath class=\"axesclip\" id=\"clipf834a6y\"><rect x=\"0\" y=\"60\" width=\"700\" height=\"360\"/></clipPath><clipPath class=\"axesclip\" id=\"clipf834a6xy\"><rect x=\"80\" y=\"60\" width=\"540\" height=\"360\"/></clipPath></g><g class=\"gradients\"/><g class=\"patterns\"/></defs><g class=\"bglayer\"><rect class=\"bg\" x=\"80\" y=\"60\" width=\"540\" height=\"360\" style=\"fill: rgb(229, 236, 246); fill-opacity: 1; stroke-width: 0;\"/></g><g class=\"layer-below\"><g class=\"imagelayer\"/><g class=\"shapelayer\"/></g><g class=\"cartesianlayer\"><g class=\"subplot xy\"><g class=\"layer-subplot\"><g class=\"shapelayer\"/><g class=\"imagelayer\"/></g><g class=\"gridlayer\"><g class=\"x\"/><g class=\"y\"><path class=\"ygrid crisp\" transform=\"translate(0,336.99)\" d=\"M80,0h540\" style=\"stroke: rgb(255, 255, 255); stroke-opacity: 1; stroke-width: 1px;\"/><path class=\"ygrid crisp\" transform=\"translate(0,253.98)\" d=\"M80,0h540\" style=\"stroke: rgb(255, 255, 255); stroke-opacity: 1; stroke-width: 1px;\"/><path class=\"ygrid crisp\" transform=\"translate(0,170.97)\" d=\"M80,0h540\" style=\"stroke: rgb(255, 255, 255); stroke-opacity: 1; stroke-width: 1px;\"/><path class=\"ygrid crisp\" transform=\"translate(0,87.96000000000001)\" d=\"M80,0h540\" style=\"stroke: rgb(255, 255, 255); stroke-opacity: 1; stroke-width: 1px;\"/></g></g><g class=\"zerolinelayer\"><path class=\"yzl zl crisp\" transform=\"translate(0,420)\" d=\"M80,0h540\" style=\"stroke: rgb(255, 255, 255); stroke-opacity: 1; stroke-width: 2px;\"/></g><path class=\"xlines-below\"/><path class=\"ylines-below\"/><g class=\"overlines-below\"/><g class=\"xaxislayer-below\"/><g class=\"yaxislayer-below\"/><g class=\"overaxes-below\"/><g class=\"plot\" transform=\"translate(80,60)\" clip-path=\"url(#clipf834a6xyplot)\"><g class=\"barlayer mlayer\"><g class=\"trace bars\" shape-rendering=\"crispEdges\" style=\"opacity: 1;\"><g class=\"points\"><g class=\"point\"><path d=\"M0,360V356.68H33.75V360Z\" style=\"vector-effect: non-scaling-stroke; opacity: 1; stroke-width: 0px; fill: rgb(99, 110, 250); fill-opacity: 1;\"/></g><g class=\"point\"><path d=\"M33.75,360V358.34H67.5V360Z\" style=\"vector-effect: non-scaling-stroke; opacity: 1; stroke-width: 0px; fill: rgb(99, 110, 250); fill-opacity: 1;\"/></g><g class=\"point\"><path d=\"M67.5,360V355.02H101.25V360Z\" style=\"vector-effect: non-scaling-stroke; opacity: 1; stroke-width: 0px; fill: rgb(99, 110, 250); fill-opacity: 1;\"/></g><g class=\"point\"><path d=\"M101.25,360V340.08H135V360Z\" style=\"vector-effect: non-scaling-stroke; opacity: 1; stroke-width: 0px; fill: rgb(99, 110, 250); fill-opacity: 1;\"/></g><g class=\"point\"><path d=\"M135,360V345.06H168.75V360Z\" style=\"vector-effect: non-scaling-stroke; opacity: 1; stroke-width: 0px; fill: rgb(99, 110, 250); fill-opacity: 1;\"/></g><g class=\"point\"><path d=\"M168.75,360V350.04H202.5V360Z\" style=\"vector-effect: non-scaling-stroke; opacity: 1; stroke-width: 0px; fill: rgb(99, 110, 250); fill-opacity: 1;\"/></g><g class=\"point\"><path d=\"M202.5,360V308.53H236.25V360Z\" style=\"vector-effect: non-scaling-stroke; opacity: 1; stroke-width: 0px; fill: rgb(99, 110, 250); fill-opacity: 1;\"/></g><g class=\"point\"><path d=\"M236.25,360V315.17H270V360Z\" style=\"vector-effect: non-scaling-stroke; opacity: 1; stroke-width: 0px; fill: rgb(99, 110, 250); fill-opacity: 1;\"/></g><g class=\"point\"><path d=\"M270,360V323.48H303.75V360Z\" style=\"vector-effect: non-scaling-stroke; opacity: 1; stroke-width: 0px; fill: rgb(99, 110, 250); fill-opacity: 1;\"/></g><g class=\"point\"><path d=\"M303.75,360V331.78H337.5V360Z\" style=\"vector-effect: non-scaling-stroke; opacity: 1; stroke-width: 0px; fill: rgb(99, 110, 250); fill-opacity: 1;\"/></g><g class=\"point\"><path d=\"M337.5,360V331.78H371.25V360Z\" style=\"vector-effect: non-scaling-stroke; opacity: 1; stroke-width: 0px; fill: rgb(99, 110, 250); fill-opacity: 1;\"/></g><g class=\"point\"><path d=\"M371.25,360V330.12H405V360Z\" style=\"vector-effect: non-scaling-stroke; opacity: 1; stroke-width: 0px; fill: rgb(99, 110, 250); fill-opacity: 1;\"/></g><g class=\"point\"><path d=\"M405,360V311.85H438.75V360Z\" style=\"vector-effect: non-scaling-stroke; opacity: 1; stroke-width: 0px; fill: rgb(99, 110, 250); fill-opacity: 1;\"/></g><g class=\"point\"><path d=\"M438.75,360V298.57H472.5V360Z\" style=\"vector-effect: non-scaling-stroke; opacity: 1; stroke-width: 0px; fill: rgb(99, 110, 250); fill-opacity: 1;\"/></g><g class=\"point\"><path d=\"M472.5,360V245.45H506.25V360Z\" style=\"vector-effect: non-scaling-stroke; opacity: 1; stroke-width: 0px; fill: rgb(99, 110, 250); fill-opacity: 1;\"/></g><g class=\"point\"><path d=\"M506.25,360V18H540V360Z\" style=\"vector-effect: non-scaling-stroke; opacity: 1; stroke-width: 0px; fill: rgb(99, 110, 250); fill-opacity: 1;\"/></g></g></g></g></g><g class=\"overplot\"/><path class=\"xlines-above crisp\" d=\"M0,0\" style=\"fill: none;\"/><path class=\"ylines-above crisp\" d=\"M0,0\" style=\"fill: none;\"/><g class=\"overlines-above\"/><g class=\"xaxislayer-above\"><g class=\"xtick\"><text text-anchor=\"middle\" x=\"0\" y=\"433\" transform=\"translate(80,0)\" style=\"font-family: 'Open Sans', verdana, arial, sans-serif; font-size: 12px; fill: rgb(42, 63, 95); fill-opacity: 1; white-space: pre; opacity: 1;\">0.2</text></g><g class=\"xtick\"><text text-anchor=\"middle\" x=\"0\" y=\"433\" style=\"font-family: 'Open Sans', verdana, arial, sans-serif; font-size: 12px; fill: rgb(42, 63, 95); fill-opacity: 1; white-space: pre; opacity: 1;\" transform=\"translate(215,0)\">0.4</text></g><g class=\"xtick\"><text text-anchor=\"middle\" x=\"0\" y=\"433\" style=\"font-family: 'Open Sans', verdana, arial, sans-serif; font-size: 12px; fill: rgb(42, 63, 95); fill-opacity: 1; white-space: pre; opacity: 1;\" transform=\"translate(350,0)\">0.6</text></g><g class=\"xtick\"><text text-anchor=\"middle\" x=\"0\" y=\"433\" style=\"font-family: 'Open Sans', verdana, arial, sans-serif; font-size: 12px; fill: rgb(42, 63, 95); fill-opacity: 1; white-space: pre; opacity: 1;\" transform=\"translate(485,0)\">0.8</text></g><g class=\"xtick\"><text text-anchor=\"middle\" x=\"0\" y=\"433\" style=\"font-family: 'Open Sans', verdana, arial, sans-serif; font-size: 12px; fill: rgb(42, 63, 95); fill-opacity: 1; white-space: pre; opacity: 1;\" transform=\"translate(620,0)\">1</text></g></g><g class=\"yaxislayer-above\"><g class=\"ytick\"><text text-anchor=\"end\" x=\"79\" y=\"4.199999999999999\" transform=\"translate(0,420)\" style=\"font-family: 'Open Sans', verdana, arial, sans-serif; font-size: 12px; fill: rgb(42, 63, 95); fill-opacity: 1; white-space: pre; opacity: 1;\">0</text></g><g class=\"ytick\"><text text-anchor=\"end\" x=\"79\" y=\"4.199999999999999\" style=\"font-family: 'Open Sans', verdana, arial, sans-serif; font-size: 12px; fill: rgb(42, 63, 95); fill-opacity: 1; white-space: pre; opacity: 1;\" transform=\"translate(0,336.99)\">50</text></g><g class=\"ytick\"><text text-anchor=\"end\" x=\"79\" y=\"4.199999999999999\" style=\"font-family: 'Open Sans', verdana, arial, sans-serif; font-size: 12px; fill: rgb(42, 63, 95); fill-opacity: 1; white-space: pre; opacity: 1;\" transform=\"translate(0,253.98)\">100</text></g><g class=\"ytick\"><text text-anchor=\"end\" x=\"79\" y=\"4.199999999999999\" style=\"font-family: 'Open Sans', verdana, arial, sans-serif; font-size: 12px; fill: rgb(42, 63, 95); fill-opacity: 1; white-space: pre; opacity: 1;\" transform=\"translate(0,170.97)\">150</text></g><g class=\"ytick\"><text text-anchor=\"end\" x=\"79\" y=\"4.199999999999999\" style=\"font-family: 'Open Sans', verdana, arial, sans-serif; font-size: 12px; fill: rgb(42, 63, 95); fill-opacity: 1; white-space: pre; opacity: 1;\" transform=\"translate(0,87.96000000000001)\">200</text></g></g><g class=\"overaxes-above\"/></g></g><g class=\"polarlayer\"/><g class=\"ternarylayer\"/><g class=\"geolayer\"/><g class=\"funnelarealayer\"/><g class=\"pielayer\"/><g class=\"iciclelayer\"/><g class=\"treemaplayer\"/><g class=\"sunburstlayer\"/><g class=\"glimages\"/><defs id=\"topdefs-f834a6\"><g class=\"clips\"/></defs><g class=\"layer-above\"><g class=\"imagelayer\"/><g class=\"shapelayer\"/></g><g class=\"infolayer\"><g class=\"g-gtitle\"><text class=\"gtitle\" x=\"35\" y=\"30\" text-anchor=\"start\" dy=\"0em\" style=\"font-family: 'Open Sans', verdana, arial, sans-serif; font-size: 17px; fill: rgb(42, 63, 95); opacity: 1; font-weight: normal; white-space: pre;\">Distribution of texts whose language were NOT perfectly detected (c &#60; 1)</text></g><g class=\"g-xtitle\"><text class=\"xtitle\" x=\"350\" y=\"460.8\" text-anchor=\"middle\" style=\"font-family: 'Open Sans', verdana, arial, sans-serif; font-size: 14px; fill: rgb(42, 63, 95); opacity: 1; font-weight: normal; white-space: pre;\">language_detection_confidence</text></g><g class=\"g-ytitle\"><text class=\"ytitle\" transform=\"rotate(-90,34.16875,240)\" x=\"34.16875\" y=\"240\" text-anchor=\"middle\" style=\"font-family: 'Open Sans', verdana, arial, sans-serif; font-size: 14px; fill: rgb(42, 63, 95); opacity: 1; font-weight: normal; white-space: pre;\">count</text></g></g></svg>"
      ]
     },
     "metadata": {},
     "output_type": "display_data"
    }
   ],
   "source": [
    "not_well_langdet_df = claim_df.loc[claim_df[\"language_detection_confidence\"] < 0.8]\n",
    "print(\"Number of documents with very low language detection confidence (c < 0.8):\", not_well_langdet_df.shape[0])# Distribution of text whose language has NOT been perfectly detected (confidence < 1)\n",
    "langdet_confidence_distribution = claim_df.loc[claim_df[\"language_detection_confidence\"] != 1]\n",
    "fig = px.histogram(langdet_confidence_distribution, x=\"language_detection_confidence\")\n",
    "fig.update_layout(title=\"Distribution of texts whose language were NOT perfectly detected (c < 1)\")\n",
    "fig.show('svg')"
   ]
  },
  {
   "cell_type": "code",
   "execution_count": 24,
   "metadata": {},
   "outputs": [
    {
     "name": "stdout",
     "output_type": "stream",
     "text": [
      "Number of documents with very low language detection confidence (c < 0.8): 165\n",
      "\n",
      "Carlos. 0.44\n",
      "Borja. 0.54\n",
      "permanece. 0.54\n",
      "Está validada 0.49\n",
      "230 plazas Edwards. 0.69\n",
      "que 0.5\n",
      "Canadá. 0.7\n",
      "Por tanto, esta ciudad de administrativa de San Caetano da ose un paso importante licitando a remodelación completa de un dos edificios que data de 1975. 0.52\n",
      "Vamos a ver, vamos. 0.5\n",
      "Hartito. 0.52\n"
     ]
    }
   ],
   "source": [
    "print(\"Number of documents with very low language detection confidence (c < 0.8): {}\\n\".format(\n",
    "    not_well_langdet_df.shape[0]))\n",
    "dummy_df = not_well_langdet_df.sample(10).apply(\n",
    "    lambda x: print(x[\"text\"], round(x[\"language_detection_confidence\"], 2)), axis=1\n",
    ")"
   ]
  },
  {
   "cell_type": "markdown",
   "metadata": {},
   "source": [
    "Como podemos observar en la anterior celda, las frases que han sido detectadas con un nivel bajo de confianza tienen un menor número de palabras significativas y una calidad gramatical baja. Por tanto, podemos utilizar el ratio de confianza de la detección de idioma como otro criterio a la hora de balancear clases."
   ]
  },
  {
   "cell_type": "markdown",
   "metadata": {},
   "source": [
    "## 2. Entrenamiento"
   ]
  },
  {
   "cell_type": "markdown",
   "metadata": {},
   "source": [
    "### 2.1 Preparación de los datos de entrenamiento"
   ]
  },
  {
   "cell_type": "markdown",
   "metadata": {},
   "source": [
    "En la preparación de los datos optamos por aplicar diferentes técnicas de <strong>data augmentation</strong>:\n",
    "\n",
    " - reemplazo de sinónimos\n",
    " - inserción aleatoria de palabras\n",
    " - intercambio aleatorio de palabras\n",
    " - eliminación aleatoria de palabras\n",
    " - back-translation"
   ]
  },
  {
   "cell_type": "code",
   "execution_count": 22,
   "metadata": {},
   "outputs": [],
   "source": [
    "# Train and test split (with significant representations of both labels) before transformations\n",
    "# to avoid data leakage\n",
    "train_df, val_df, test_df = model_prep.train_val_test_split(claim_df, output_dirpath=data_dirpath)\n",
    "\n",
    "# Translate train claims into english for data augmentation purposes\n",
    "translator.prepare_for_data_augmentation(translate_client, train_df, output_dirpath=da_input_dirpath)"
   ]
  },
  {
   "cell_type": "code",
   "execution_count": 28,
   "metadata": {},
   "outputs": [
    {
     "name": "stdout",
     "output_type": "stream",
     "text": [
      "   claim                                               text\n",
      "0      1  ahora ya hablamos de cuatro generaciones de es...\n",
      "1      1  hoy ya hablamos de cuatro generaciones de espa...\n",
      "2      1  hoy ya hablamos de cuatro generaciones de espa...\n",
      "3      1  hoy estamos hablando de cuatro generaciones de...\n",
      "4      1  hoy ya hablamos de cuatro generaciones de espa...\n"
     ]
    }
   ],
   "source": [
    "# Back translate en-es for data augmentation (only claim sentences)\n",
    "# Execute EDA augment.py script before this.\n",
    "if exists(da_output_filepath):\n",
    "    output_da_df = pd.read_csv(da_output_filepath, names=[\"claim\", \"en_text\"], sep=\"\\t\")\n",
    "else:\n",
    "    print(\"The back-translation cannot be performed because the file is not found.\")\n",
    "    sys.exit()\n",
    "\n",
    "bt_train_df = translator.back_translate_claims(translate_client, output_da_df, output_dirpath=data_dirpath)\n",
    "print(bt_train_df.head())"
   ]
  },
  {
   "cell_type": "markdown",
   "metadata": {},
   "source": [
    "Estos son los pasos que se han seguido para preparar el conjunto de entrenamiento:  \n",
    "- Eliminar las frases negativas con pocas palabras significativas.  \n",
    "- Eliminar las frases negativas con peor confianza en la detección del lenguaje.  \n",
    "- Añadir más filas con las técnicas de data augmentation antes descritas.  \n",
    "- Aplicar el equilibrio de clases reduciendo la clase negativa de los datos restantes.     "
   ]
  },
  {
   "cell_type": "code",
   "execution_count": 29,
   "metadata": {},
   "outputs": [
    {
     "data": {
      "text/plain": [
       "1    8887\n",
       "0    8887\n",
       "Name: claim, dtype: int64"
      ]
     },
     "execution_count": 29,
     "metadata": {},
     "output_type": "execute_result"
    }
   ],
   "source": [
    "train = pd.read_csv(join(data_dirpath, \"raw_train.csv\"))\n",
    "bt_train = pd.read_csv(join(data_dirpath, \"bt_train.csv\"))\n",
    "prep_train = model_prep.prepare_training_data(claim_pipeline, train, bt_train, data_dirpath)\n",
    "prep_train[\"claim\"].value_counts()"
   ]
  },
  {
   "cell_type": "markdown",
   "metadata": {},
   "source": [
    "### 2.2 Entrenamiento"
   ]
  },
  {
   "cell_type": "code",
   "execution_count": 35,
   "metadata": {},
   "outputs": [],
   "source": [
    "train_dataset, val_dataset = trainer.get_hugging_datasets(prep_train, val_df,\n",
    "                                                          \"dccuchile/bert-base-spanish-wwm-cased\")"
   ]
  },
  {
   "cell_type": "code",
   "execution_count": 39,
   "metadata": {},
   "outputs": [
    {
     "name": "stderr",
     "output_type": "stream",
     "text": [
      "***** Running training *****\n",
      "  Num examples = 17774\n",
      "  Num Epochs = 3\n",
      "  Instantaneous batch size per device = 4\n",
      "  Total train batch size (w. parallel, distributed & accumulation) = 4\n",
      "  Gradient Accumulation steps = 1\n",
      "  Total optimization steps = 13332\n",
      "***** Running Evaluation *****\n",
      "  Num examples = 1500\n",
      "  Batch size = 4\n"
     ]
    },
    {
     "name": "stdout",
     "output_type": "stream",
     "text": [
      "{'loss': 0.4213, 'learning_rate': 1.984998499849985e-05, 'epoch': 0.02}\n"
     ]
    },
    {
     "name": "stderr",
     "output_type": "stream",
     "text": [
      "Saving model checkpoint to /home/agusriscos/verifiable-phrase-detection/training/bert/checkpoint-100\n",
      "Configuration saved in /home/agusriscos/verifiable-phrase-detection/training/bert/checkpoint-100/config.json\n"
     ]
    },
    {
     "name": "stdout",
     "output_type": "stream",
     "text": [
      "{'eval_loss': 0.6326109766960144, 'eval_accuracy': 0.8073333333333333, 'eval_f1': 0.335632183908046, 'eval_precision': 0.22324159021406728, 'eval_recall': 0.6759259259259259, 'eval_runtime': 7.3418, 'eval_samples_per_second': 204.31, 'eval_steps_per_second': 51.077, 'epoch': 0.02}\n"
     ]
    },
    {
     "name": "stderr",
     "output_type": "stream",
     "text": [
      "Model weights saved in /home/agusriscos/verifiable-phrase-detection/training/bert/checkpoint-100/pytorch_model.bin\n",
      "***** Running Evaluation *****\n",
      "  Num examples = 1500\n",
      "  Batch size = 4\n"
     ]
    },
    {
     "name": "stdout",
     "output_type": "stream",
     "text": [
      "{'loss': 0.3274, 'learning_rate': 1.96999699969997e-05, 'epoch': 0.05}\n"
     ]
    },
    {
     "name": "stderr",
     "output_type": "stream",
     "text": [
      "Saving model checkpoint to /home/agusriscos/verifiable-phrase-detection/training/bert/checkpoint-200\n",
      "Configuration saved in /home/agusriscos/verifiable-phrase-detection/training/bert/checkpoint-200/config.json\n"
     ]
    },
    {
     "name": "stdout",
     "output_type": "stream",
     "text": [
      "{'eval_loss': 0.32795193791389465, 'eval_accuracy': 0.9066666666666666, 'eval_f1': 0.48529411764705893, 'eval_precision': 0.4024390243902439, 'eval_recall': 0.6111111111111112, 'eval_runtime': 6.8887, 'eval_samples_per_second': 217.749, 'eval_steps_per_second': 54.437, 'epoch': 0.05}\n"
     ]
    },
    {
     "name": "stderr",
     "output_type": "stream",
     "text": [
      "Model weights saved in /home/agusriscos/verifiable-phrase-detection/training/bert/checkpoint-200/pytorch_model.bin\n",
      "***** Running Evaluation *****\n",
      "  Num examples = 1500\n",
      "  Batch size = 4\n"
     ]
    },
    {
     "name": "stdout",
     "output_type": "stream",
     "text": [
      "{'loss': 0.3202, 'learning_rate': 1.9549954995499552e-05, 'epoch': 0.07}\n"
     ]
    },
    {
     "name": "stderr",
     "output_type": "stream",
     "text": [
      "Saving model checkpoint to /home/agusriscos/verifiable-phrase-detection/training/bert/checkpoint-300\n",
      "Configuration saved in /home/agusriscos/verifiable-phrase-detection/training/bert/checkpoint-300/config.json\n"
     ]
    },
    {
     "name": "stdout",
     "output_type": "stream",
     "text": [
      "{'eval_loss': 0.23925240337848663, 'eval_accuracy': 0.9313333333333333, 'eval_f1': 0.4245810055865922, 'eval_precision': 0.5352112676056338, 'eval_recall': 0.35185185185185186, 'eval_runtime': 6.9089, 'eval_samples_per_second': 217.112, 'eval_steps_per_second': 54.278, 'epoch': 0.07}\n"
     ]
    },
    {
     "name": "stderr",
     "output_type": "stream",
     "text": [
      "Model weights saved in /home/agusriscos/verifiable-phrase-detection/training/bert/checkpoint-300/pytorch_model.bin\n",
      "***** Running Evaluation *****\n",
      "  Num examples = 1500\n",
      "  Batch size = 4\n"
     ]
    },
    {
     "name": "stdout",
     "output_type": "stream",
     "text": [
      "{'loss': 0.2978, 'learning_rate': 1.93999399939994e-05, 'epoch': 0.09}\n"
     ]
    },
    {
     "name": "stderr",
     "output_type": "stream",
     "text": [
      "Saving model checkpoint to /home/agusriscos/verifiable-phrase-detection/training/bert/checkpoint-400\n",
      "Configuration saved in /home/agusriscos/verifiable-phrase-detection/training/bert/checkpoint-400/config.json\n"
     ]
    },
    {
     "name": "stdout",
     "output_type": "stream",
     "text": [
      "{'eval_loss': 0.2862904965877533, 'eval_accuracy': 0.94, 'eval_f1': 0.5714285714285715, 'eval_precision': 0.5882352941176471, 'eval_recall': 0.5555555555555556, 'eval_runtime': 6.9322, 'eval_samples_per_second': 216.381, 'eval_steps_per_second': 54.095, 'epoch': 0.09}\n"
     ]
    },
    {
     "name": "stderr",
     "output_type": "stream",
     "text": [
      "Model weights saved in /home/agusriscos/verifiable-phrase-detection/training/bert/checkpoint-400/pytorch_model.bin\n",
      "***** Running Evaluation *****\n",
      "  Num examples = 1500\n",
      "  Batch size = 4\n"
     ]
    },
    {
     "name": "stdout",
     "output_type": "stream",
     "text": [
      "{'loss': 0.1406, 'learning_rate': 1.924992499249925e-05, 'epoch': 0.11}\n"
     ]
    },
    {
     "name": "stderr",
     "output_type": "stream",
     "text": [
      "Saving model checkpoint to /home/agusriscos/verifiable-phrase-detection/training/bert/checkpoint-500\n",
      "Configuration saved in /home/agusriscos/verifiable-phrase-detection/training/bert/checkpoint-500/config.json\n"
     ]
    },
    {
     "name": "stdout",
     "output_type": "stream",
     "text": [
      "{'eval_loss': 0.42962557077407837, 'eval_accuracy': 0.9353333333333333, 'eval_f1': 0.29197080291970806, 'eval_precision': 0.6896551724137931, 'eval_recall': 0.18518518518518517, 'eval_runtime': 6.902, 'eval_samples_per_second': 217.327, 'eval_steps_per_second': 54.332, 'epoch': 0.11}\n"
     ]
    },
    {
     "name": "stderr",
     "output_type": "stream",
     "text": [
      "Model weights saved in /home/agusriscos/verifiable-phrase-detection/training/bert/checkpoint-500/pytorch_model.bin\n",
      "***** Running Evaluation *****\n",
      "  Num examples = 1500\n",
      "  Batch size = 4\n"
     ]
    },
    {
     "name": "stdout",
     "output_type": "stream",
     "text": [
      "{'loss': 0.2511, 'learning_rate': 1.90999099909991e-05, 'epoch': 0.14}\n"
     ]
    },
    {
     "name": "stderr",
     "output_type": "stream",
     "text": [
      "Saving model checkpoint to /home/agusriscos/verifiable-phrase-detection/training/bert/checkpoint-600\n",
      "Configuration saved in /home/agusriscos/verifiable-phrase-detection/training/bert/checkpoint-600/config.json\n"
     ]
    },
    {
     "name": "stdout",
     "output_type": "stream",
     "text": [
      "{'eval_loss': 0.3908464312553406, 'eval_accuracy': 0.9146666666666666, 'eval_f1': 0.5704697986577182, 'eval_precision': 0.4473684210526316, 'eval_recall': 0.7870370370370371, 'eval_runtime': 7.017, 'eval_samples_per_second': 213.768, 'eval_steps_per_second': 53.442, 'epoch': 0.14}\n"
     ]
    },
    {
     "name": "stderr",
     "output_type": "stream",
     "text": [
      "Model weights saved in /home/agusriscos/verifiable-phrase-detection/training/bert/checkpoint-600/pytorch_model.bin\n",
      "***** Running Evaluation *****\n",
      "  Num examples = 1500\n",
      "  Batch size = 4\n"
     ]
    },
    {
     "name": "stdout",
     "output_type": "stream",
     "text": [
      "{'loss': 0.3027, 'learning_rate': 1.8949894989498952e-05, 'epoch': 0.16}\n"
     ]
    },
    {
     "name": "stderr",
     "output_type": "stream",
     "text": [
      "Saving model checkpoint to /home/agusriscos/verifiable-phrase-detection/training/bert/checkpoint-700\n",
      "Configuration saved in /home/agusriscos/verifiable-phrase-detection/training/bert/checkpoint-700/config.json\n"
     ]
    },
    {
     "name": "stdout",
     "output_type": "stream",
     "text": [
      "{'eval_loss': 0.3774386942386627, 'eval_accuracy': 0.906, 'eval_f1': 0.5466237942122187, 'eval_precision': 0.4187192118226601, 'eval_recall': 0.7870370370370371, 'eval_runtime': 7.0224, 'eval_samples_per_second': 213.602, 'eval_steps_per_second': 53.401, 'epoch': 0.16}\n"
     ]
    },
    {
     "name": "stderr",
     "output_type": "stream",
     "text": [
      "Model weights saved in /home/agusriscos/verifiable-phrase-detection/training/bert/checkpoint-700/pytorch_model.bin\n",
      "***** Running Evaluation *****\n",
      "  Num examples = 1500\n",
      "  Batch size = 4\n"
     ]
    },
    {
     "name": "stdout",
     "output_type": "stream",
     "text": [
      "{'loss': 0.2387, 'learning_rate': 1.87998799879988e-05, 'epoch': 0.18}\n"
     ]
    },
    {
     "name": "stderr",
     "output_type": "stream",
     "text": [
      "Saving model checkpoint to /home/agusriscos/verifiable-phrase-detection/training/bert/checkpoint-800\n",
      "Configuration saved in /home/agusriscos/verifiable-phrase-detection/training/bert/checkpoint-800/config.json\n"
     ]
    },
    {
     "name": "stdout",
     "output_type": "stream",
     "text": [
      "{'eval_loss': 0.3730827271938324, 'eval_accuracy': 0.9393333333333334, 'eval_f1': 0.3453237410071942, 'eval_precision': 0.7741935483870968, 'eval_recall': 0.2222222222222222, 'eval_runtime': 7.012, 'eval_samples_per_second': 213.919, 'eval_steps_per_second': 53.48, 'epoch': 0.18}\n"
     ]
    },
    {
     "name": "stderr",
     "output_type": "stream",
     "text": [
      "Model weights saved in /home/agusriscos/verifiable-phrase-detection/training/bert/checkpoint-800/pytorch_model.bin\n",
      "***** Running Evaluation *****\n",
      "  Num examples = 1500\n",
      "  Batch size = 4\n"
     ]
    },
    {
     "name": "stdout",
     "output_type": "stream",
     "text": [
      "{'loss': 0.1967, 'learning_rate': 1.864986498649865e-05, 'epoch': 0.2}\n"
     ]
    },
    {
     "name": "stderr",
     "output_type": "stream",
     "text": [
      "Saving model checkpoint to /home/agusriscos/verifiable-phrase-detection/training/bert/checkpoint-900\n",
      "Configuration saved in /home/agusriscos/verifiable-phrase-detection/training/bert/checkpoint-900/config.json\n"
     ]
    },
    {
     "name": "stdout",
     "output_type": "stream",
     "text": [
      "{'eval_loss': 0.2679630517959595, 'eval_accuracy': 0.9346666666666666, 'eval_f1': 0.449438202247191, 'eval_precision': 0.5714285714285714, 'eval_recall': 0.37037037037037035, 'eval_runtime': 7.0985, 'eval_samples_per_second': 211.312, 'eval_steps_per_second': 52.828, 'epoch': 0.2}\n"
     ]
    },
    {
     "name": "stderr",
     "output_type": "stream",
     "text": [
      "Model weights saved in /home/agusriscos/verifiable-phrase-detection/training/bert/checkpoint-900/pytorch_model.bin\n",
      "***** Running Evaluation *****\n",
      "  Num examples = 1500\n",
      "  Batch size = 4\n"
     ]
    },
    {
     "name": "stdout",
     "output_type": "stream",
     "text": [
      "{'loss': 0.2056, 'learning_rate': 1.84998499849985e-05, 'epoch': 0.23}\n"
     ]
    },
    {
     "name": "stderr",
     "output_type": "stream",
     "text": [
      "Saving model checkpoint to /home/agusriscos/verifiable-phrase-detection/training/bert/checkpoint-1000\n",
      "Configuration saved in /home/agusriscos/verifiable-phrase-detection/training/bert/checkpoint-1000/config.json\n"
     ]
    },
    {
     "name": "stdout",
     "output_type": "stream",
     "text": [
      "{'eval_loss': 0.288504421710968, 'eval_accuracy': 0.9393333333333334, 'eval_f1': 0.5185185185185186, 'eval_precision': 0.6049382716049383, 'eval_recall': 0.4537037037037037, 'eval_runtime': 7.0764, 'eval_samples_per_second': 211.972, 'eval_steps_per_second': 52.993, 'epoch': 0.23}\n"
     ]
    },
    {
     "name": "stderr",
     "output_type": "stream",
     "text": [
      "Model weights saved in /home/agusriscos/verifiable-phrase-detection/training/bert/checkpoint-1000/pytorch_model.bin\n",
      "***** Running Evaluation *****\n",
      "  Num examples = 1500\n",
      "  Batch size = 4\n"
     ]
    },
    {
     "name": "stdout",
     "output_type": "stream",
     "text": [
      "{'loss': 0.2767, 'learning_rate': 1.8349834983498352e-05, 'epoch': 0.25}\n"
     ]
    },
    {
     "name": "stderr",
     "output_type": "stream",
     "text": [
      "Saving model checkpoint to /home/agusriscos/verifiable-phrase-detection/training/bert/checkpoint-1100\n",
      "Configuration saved in /home/agusriscos/verifiable-phrase-detection/training/bert/checkpoint-1100/config.json\n"
     ]
    },
    {
     "name": "stdout",
     "output_type": "stream",
     "text": [
      "{'eval_loss': 0.28596532344818115, 'eval_accuracy': 0.9306666666666666, 'eval_f1': 0.5873015873015873, 'eval_precision': 0.5138888888888888, 'eval_recall': 0.6851851851851852, 'eval_runtime': 6.971, 'eval_samples_per_second': 215.177, 'eval_steps_per_second': 53.794, 'epoch': 0.25}\n"
     ]
    },
    {
     "name": "stderr",
     "output_type": "stream",
     "text": [
      "Model weights saved in /home/agusriscos/verifiable-phrase-detection/training/bert/checkpoint-1100/pytorch_model.bin\n",
      "***** Running Evaluation *****\n",
      "  Num examples = 1500\n",
      "  Batch size = 4\n"
     ]
    },
    {
     "name": "stdout",
     "output_type": "stream",
     "text": [
      "{'loss': 0.2146, 'learning_rate': 1.81998199819982e-05, 'epoch': 0.27}\n"
     ]
    },
    {
     "name": "stderr",
     "output_type": "stream",
     "text": [
      "Saving model checkpoint to /home/agusriscos/verifiable-phrase-detection/training/bert/checkpoint-1200\n",
      "Configuration saved in /home/agusriscos/verifiable-phrase-detection/training/bert/checkpoint-1200/config.json\n"
     ]
    },
    {
     "name": "stdout",
     "output_type": "stream",
     "text": [
      "{'eval_loss': 0.31155750155448914, 'eval_accuracy': 0.9273333333333333, 'eval_f1': 0.5439330543933054, 'eval_precision': 0.4961832061068702, 'eval_recall': 0.6018518518518519, 'eval_runtime': 7.1966, 'eval_samples_per_second': 208.431, 'eval_steps_per_second': 52.108, 'epoch': 0.27}\n"
     ]
    },
    {
     "name": "stderr",
     "output_type": "stream",
     "text": [
      "Model weights saved in /home/agusriscos/verifiable-phrase-detection/training/bert/checkpoint-1200/pytorch_model.bin\n",
      "***** Running Evaluation *****\n",
      "  Num examples = 1500\n",
      "  Batch size = 4\n"
     ]
    },
    {
     "name": "stdout",
     "output_type": "stream",
     "text": [
      "{'loss': 0.278, 'learning_rate': 1.804980498049805e-05, 'epoch': 0.29}\n"
     ]
    },
    {
     "name": "stderr",
     "output_type": "stream",
     "text": [
      "Saving model checkpoint to /home/agusriscos/verifiable-phrase-detection/training/bert/checkpoint-1300\n",
      "Configuration saved in /home/agusriscos/verifiable-phrase-detection/training/bert/checkpoint-1300/config.json\n"
     ]
    },
    {
     "name": "stdout",
     "output_type": "stream",
     "text": [
      "{'eval_loss': 0.27939164638519287, 'eval_accuracy': 0.9366666666666666, 'eval_f1': 0.4171779141104295, 'eval_precision': 0.6181818181818182, 'eval_recall': 0.3148148148148148, 'eval_runtime': 6.9149, 'eval_samples_per_second': 216.924, 'eval_steps_per_second': 54.231, 'epoch': 0.29}\n"
     ]
    },
    {
     "name": "stderr",
     "output_type": "stream",
     "text": [
      "Model weights saved in /home/agusriscos/verifiable-phrase-detection/training/bert/checkpoint-1300/pytorch_model.bin\n",
      "***** Running Evaluation *****\n",
      "  Num examples = 1500\n",
      "  Batch size = 4\n"
     ]
    },
    {
     "name": "stdout",
     "output_type": "stream",
     "text": [
      "{'loss': 0.2564, 'learning_rate': 1.78997899789979e-05, 'epoch': 0.32}\n"
     ]
    },
    {
     "name": "stderr",
     "output_type": "stream",
     "text": [
      "Saving model checkpoint to /home/agusriscos/verifiable-phrase-detection/training/bert/checkpoint-1400\n",
      "Configuration saved in /home/agusriscos/verifiable-phrase-detection/training/bert/checkpoint-1400/config.json\n"
     ]
    },
    {
     "name": "stdout",
     "output_type": "stream",
     "text": [
      "{'eval_loss': 0.24327176809310913, 'eval_accuracy': 0.9426666666666667, 'eval_f1': 0.5326086956521738, 'eval_precision': 0.6447368421052632, 'eval_recall': 0.4537037037037037, 'eval_runtime': 7.2512, 'eval_samples_per_second': 206.863, 'eval_steps_per_second': 51.716, 'epoch': 0.32}\n"
     ]
    },
    {
     "name": "stderr",
     "output_type": "stream",
     "text": [
      "Model weights saved in /home/agusriscos/verifiable-phrase-detection/training/bert/checkpoint-1400/pytorch_model.bin\n",
      "***** Running Evaluation *****\n",
      "  Num examples = 1500\n",
      "  Batch size = 4\n"
     ]
    },
    {
     "name": "stdout",
     "output_type": "stream",
     "text": [
      "{'loss': 0.2302, 'learning_rate': 1.7749774977497752e-05, 'epoch': 0.34}\n"
     ]
    },
    {
     "name": "stderr",
     "output_type": "stream",
     "text": [
      "Saving model checkpoint to /home/agusriscos/verifiable-phrase-detection/training/bert/checkpoint-1500\n",
      "Configuration saved in /home/agusriscos/verifiable-phrase-detection/training/bert/checkpoint-1500/config.json\n"
     ]
    },
    {
     "name": "stdout",
     "output_type": "stream",
     "text": [
      "{'eval_loss': 0.5130494236946106, 'eval_accuracy': 0.892, 'eval_f1': 0.5207100591715975, 'eval_precision': 0.3826086956521739, 'eval_recall': 0.8148148148148148, 'eval_runtime': 6.9187, 'eval_samples_per_second': 216.803, 'eval_steps_per_second': 54.201, 'epoch': 0.34}\n"
     ]
    },
    {
     "name": "stderr",
     "output_type": "stream",
     "text": [
      "Model weights saved in /home/agusriscos/verifiable-phrase-detection/training/bert/checkpoint-1500/pytorch_model.bin\n",
      "***** Running Evaluation *****\n",
      "  Num examples = 1500\n",
      "  Batch size = 4\n"
     ]
    },
    {
     "name": "stdout",
     "output_type": "stream",
     "text": [
      "{'loss': 0.2314, 'learning_rate': 1.75997599759976e-05, 'epoch': 0.36}\n"
     ]
    },
    {
     "name": "stderr",
     "output_type": "stream",
     "text": [
      "Saving model checkpoint to /home/agusriscos/verifiable-phrase-detection/training/bert/checkpoint-1600\n",
      "Configuration saved in /home/agusriscos/verifiable-phrase-detection/training/bert/checkpoint-1600/config.json\n"
     ]
    },
    {
     "name": "stdout",
     "output_type": "stream",
     "text": [
      "{'eval_loss': 0.28263139724731445, 'eval_accuracy': 0.928, 'eval_f1': 0.5221238938053098, 'eval_precision': 0.5, 'eval_recall': 0.5462962962962963, 'eval_runtime': 6.9368, 'eval_samples_per_second': 216.238, 'eval_steps_per_second': 54.059, 'epoch': 0.36}\n"
     ]
    },
    {
     "name": "stderr",
     "output_type": "stream",
     "text": [
      "Model weights saved in /home/agusriscos/verifiable-phrase-detection/training/bert/checkpoint-1600/pytorch_model.bin\n",
      "***** Running Evaluation *****\n",
      "  Num examples = 1500\n",
      "  Batch size = 4\n"
     ]
    },
    {
     "name": "stdout",
     "output_type": "stream",
     "text": [
      "{'loss': 0.2027, 'learning_rate': 1.744974497449745e-05, 'epoch': 0.38}\n"
     ]
    },
    {
     "name": "stderr",
     "output_type": "stream",
     "text": [
      "Saving model checkpoint to /home/agusriscos/verifiable-phrase-detection/training/bert/checkpoint-1700\n",
      "Configuration saved in /home/agusriscos/verifiable-phrase-detection/training/bert/checkpoint-1700/config.json\n"
     ]
    },
    {
     "name": "stdout",
     "output_type": "stream",
     "text": [
      "{'eval_loss': 0.27241939306259155, 'eval_accuracy': 0.938, 'eval_f1': 0.579185520361991, 'eval_precision': 0.5663716814159292, 'eval_recall': 0.5925925925925926, 'eval_runtime': 6.9169, 'eval_samples_per_second': 216.862, 'eval_steps_per_second': 54.215, 'epoch': 0.38}\n"
     ]
    },
    {
     "name": "stderr",
     "output_type": "stream",
     "text": [
      "Model weights saved in /home/agusriscos/verifiable-phrase-detection/training/bert/checkpoint-1700/pytorch_model.bin\n",
      "***** Running Evaluation *****\n",
      "  Num examples = 1500\n",
      "  Batch size = 4\n"
     ]
    },
    {
     "name": "stdout",
     "output_type": "stream",
     "text": [
      "{'loss': 0.1516, 'learning_rate': 1.72997299729973e-05, 'epoch': 0.41}\n"
     ]
    },
    {
     "name": "stderr",
     "output_type": "stream",
     "text": [
      "Saving model checkpoint to /home/agusriscos/verifiable-phrase-detection/training/bert/checkpoint-1800\n",
      "Configuration saved in /home/agusriscos/verifiable-phrase-detection/training/bert/checkpoint-1800/config.json\n"
     ]
    },
    {
     "name": "stdout",
     "output_type": "stream",
     "text": [
      "{'eval_loss': 0.3191613256931305, 'eval_accuracy': 0.9333333333333333, 'eval_f1': 0.5614035087719299, 'eval_precision': 0.5333333333333333, 'eval_recall': 0.5925925925925926, 'eval_runtime': 6.9104, 'eval_samples_per_second': 217.063, 'eval_steps_per_second': 54.266, 'epoch': 0.41}\n"
     ]
    },
    {
     "name": "stderr",
     "output_type": "stream",
     "text": [
      "Model weights saved in /home/agusriscos/verifiable-phrase-detection/training/bert/checkpoint-1800/pytorch_model.bin\n",
      "***** Running Evaluation *****\n",
      "  Num examples = 1500\n",
      "  Batch size = 4\n"
     ]
    },
    {
     "name": "stdout",
     "output_type": "stream",
     "text": [
      "{'loss': 0.1627, 'learning_rate': 1.7149714971497152e-05, 'epoch': 0.43}\n"
     ]
    },
    {
     "name": "stderr",
     "output_type": "stream",
     "text": [
      "Saving model checkpoint to /home/agusriscos/verifiable-phrase-detection/training/bert/checkpoint-1900\n",
      "Configuration saved in /home/agusriscos/verifiable-phrase-detection/training/bert/checkpoint-1900/config.json\n"
     ]
    },
    {
     "name": "stdout",
     "output_type": "stream",
     "text": [
      "{'eval_loss': 0.331205278635025, 'eval_accuracy': 0.9313333333333333, 'eval_f1': 0.6199261992619927, 'eval_precision': 0.5153374233128835, 'eval_recall': 0.7777777777777778, 'eval_runtime': 6.9192, 'eval_samples_per_second': 216.789, 'eval_steps_per_second': 54.197, 'epoch': 0.43}\n"
     ]
    },
    {
     "name": "stderr",
     "output_type": "stream",
     "text": [
      "Model weights saved in /home/agusriscos/verifiable-phrase-detection/training/bert/checkpoint-1900/pytorch_model.bin\n",
      "***** Running Evaluation *****\n",
      "  Num examples = 1500\n",
      "  Batch size = 4\n"
     ]
    },
    {
     "name": "stdout",
     "output_type": "stream",
     "text": [
      "{'loss': 0.2521, 'learning_rate': 1.6999699969997e-05, 'epoch': 0.45}\n"
     ]
    },
    {
     "name": "stderr",
     "output_type": "stream",
     "text": [
      "Saving model checkpoint to /home/agusriscos/verifiable-phrase-detection/training/bert/checkpoint-2000\n",
      "Configuration saved in /home/agusriscos/verifiable-phrase-detection/training/bert/checkpoint-2000/config.json\n"
     ]
    },
    {
     "name": "stdout",
     "output_type": "stream",
     "text": [
      "{'eval_loss': 0.27128714323043823, 'eval_accuracy': 0.9326666666666666, 'eval_f1': 0.47668393782383417, 'eval_precision': 0.5411764705882353, 'eval_recall': 0.42592592592592593, 'eval_runtime': 6.9194, 'eval_samples_per_second': 216.781, 'eval_steps_per_second': 54.195, 'epoch': 0.45}\n"
     ]
    },
    {
     "name": "stderr",
     "output_type": "stream",
     "text": [
      "Model weights saved in /home/agusriscos/verifiable-phrase-detection/training/bert/checkpoint-2000/pytorch_model.bin\n",
      "***** Running Evaluation *****\n",
      "  Num examples = 1500\n",
      "  Batch size = 4\n"
     ]
    },
    {
     "name": "stdout",
     "output_type": "stream",
     "text": [
      "{'loss': 0.2186, 'learning_rate': 1.684968496849685e-05, 'epoch': 0.47}\n"
     ]
    },
    {
     "name": "stderr",
     "output_type": "stream",
     "text": [
      "Saving model checkpoint to /home/agusriscos/verifiable-phrase-detection/training/bert/checkpoint-2100\n",
      "Configuration saved in /home/agusriscos/verifiable-phrase-detection/training/bert/checkpoint-2100/config.json\n"
     ]
    },
    {
     "name": "stdout",
     "output_type": "stream",
     "text": [
      "{'eval_loss': 0.3152908384799957, 'eval_accuracy': 0.9346666666666666, 'eval_f1': 0.5625, 'eval_precision': 0.5431034482758621, 'eval_recall': 0.5833333333333334, 'eval_runtime': 6.9173, 'eval_samples_per_second': 216.848, 'eval_steps_per_second': 54.212, 'epoch': 0.47}\n"
     ]
    },
    {
     "name": "stderr",
     "output_type": "stream",
     "text": [
      "Model weights saved in /home/agusriscos/verifiable-phrase-detection/training/bert/checkpoint-2100/pytorch_model.bin\n",
      "***** Running Evaluation *****\n",
      "  Num examples = 1500\n",
      "  Batch size = 4\n"
     ]
    },
    {
     "name": "stdout",
     "output_type": "stream",
     "text": [
      "{'loss': 0.18, 'learning_rate': 1.66996699669967e-05, 'epoch': 0.5}\n"
     ]
    },
    {
     "name": "stderr",
     "output_type": "stream",
     "text": [
      "Saving model checkpoint to /home/agusriscos/verifiable-phrase-detection/training/bert/checkpoint-2200\n",
      "Configuration saved in /home/agusriscos/verifiable-phrase-detection/training/bert/checkpoint-2200/config.json\n"
     ]
    },
    {
     "name": "stdout",
     "output_type": "stream",
     "text": [
      "{'eval_loss': 0.32345759868621826, 'eval_accuracy': 0.9426666666666667, 'eval_f1': 0.5168539325842697, 'eval_precision': 0.6571428571428571, 'eval_recall': 0.42592592592592593, 'eval_runtime': 6.9325, 'eval_samples_per_second': 216.373, 'eval_steps_per_second': 54.093, 'epoch': 0.5}\n"
     ]
    },
    {
     "name": "stderr",
     "output_type": "stream",
     "text": [
      "Model weights saved in /home/agusriscos/verifiable-phrase-detection/training/bert/checkpoint-2200/pytorch_model.bin\n",
      "***** Running Evaluation *****\n",
      "  Num examples = 1500\n",
      "  Batch size = 4\n"
     ]
    },
    {
     "name": "stdout",
     "output_type": "stream",
     "text": [
      "{'loss': 0.1471, 'learning_rate': 1.6549654965496552e-05, 'epoch': 0.52}\n"
     ]
    },
    {
     "name": "stderr",
     "output_type": "stream",
     "text": [
      "Saving model checkpoint to /home/agusriscos/verifiable-phrase-detection/training/bert/checkpoint-2300\n",
      "Configuration saved in /home/agusriscos/verifiable-phrase-detection/training/bert/checkpoint-2300/config.json\n"
     ]
    },
    {
     "name": "stdout",
     "output_type": "stream",
     "text": [
      "{'eval_loss': 0.2990776598453522, 'eval_accuracy': 0.9446666666666667, 'eval_f1': 0.5414364640883979, 'eval_precision': 0.6712328767123288, 'eval_recall': 0.4537037037037037, 'eval_runtime': 6.9609, 'eval_samples_per_second': 215.489, 'eval_steps_per_second': 53.872, 'epoch': 0.52}\n"
     ]
    },
    {
     "name": "stderr",
     "output_type": "stream",
     "text": [
      "Model weights saved in /home/agusriscos/verifiable-phrase-detection/training/bert/checkpoint-2300/pytorch_model.bin\n",
      "***** Running Evaluation *****\n",
      "  Num examples = 1500\n",
      "  Batch size = 4\n"
     ]
    },
    {
     "name": "stdout",
     "output_type": "stream",
     "text": [
      "{'loss': 0.1657, 'learning_rate': 1.63996399639964e-05, 'epoch': 0.54}\n"
     ]
    },
    {
     "name": "stderr",
     "output_type": "stream",
     "text": [
      "Saving model checkpoint to /home/agusriscos/verifiable-phrase-detection/training/bert/checkpoint-2400\n",
      "Configuration saved in /home/agusriscos/verifiable-phrase-detection/training/bert/checkpoint-2400/config.json\n"
     ]
    },
    {
     "name": "stdout",
     "output_type": "stream",
     "text": [
      "{'eval_loss': 0.2779251039028168, 'eval_accuracy': 0.926, 'eval_f1': 0.5992779783393503, 'eval_precision': 0.4911242603550296, 'eval_recall': 0.7685185185185185, 'eval_runtime': 7.1987, 'eval_samples_per_second': 208.371, 'eval_steps_per_second': 52.093, 'epoch': 0.54}\n"
     ]
    },
    {
     "name": "stderr",
     "output_type": "stream",
     "text": [
      "Model weights saved in /home/agusriscos/verifiable-phrase-detection/training/bert/checkpoint-2400/pytorch_model.bin\n",
      "***** Running Evaluation *****\n",
      "  Num examples = 1500\n",
      "  Batch size = 4\n"
     ]
    },
    {
     "name": "stdout",
     "output_type": "stream",
     "text": [
      "{'loss': 0.2554, 'learning_rate': 1.624962496249625e-05, 'epoch': 0.56}\n"
     ]
    },
    {
     "name": "stderr",
     "output_type": "stream",
     "text": [
      "Saving model checkpoint to /home/agusriscos/verifiable-phrase-detection/training/bert/checkpoint-2500\n",
      "Configuration saved in /home/agusriscos/verifiable-phrase-detection/training/bert/checkpoint-2500/config.json\n"
     ]
    },
    {
     "name": "stdout",
     "output_type": "stream",
     "text": [
      "{'eval_loss': 0.23473718762397766, 'eval_accuracy': 0.9446666666666667, 'eval_f1': 0.47798742138364786, 'eval_precision': 0.7450980392156863, 'eval_recall': 0.35185185185185186, 'eval_runtime': 6.9267, 'eval_samples_per_second': 216.555, 'eval_steps_per_second': 54.139, 'epoch': 0.56}\n"
     ]
    },
    {
     "name": "stderr",
     "output_type": "stream",
     "text": [
      "Model weights saved in /home/agusriscos/verifiable-phrase-detection/training/bert/checkpoint-2500/pytorch_model.bin\n",
      "***** Running Evaluation *****\n",
      "  Num examples = 1500\n",
      "  Batch size = 4\n"
     ]
    },
    {
     "name": "stdout",
     "output_type": "stream",
     "text": [
      "{'loss': 0.1983, 'learning_rate': 1.60996099609961e-05, 'epoch': 0.59}\n"
     ]
    },
    {
     "name": "stderr",
     "output_type": "stream",
     "text": [
      "Saving model checkpoint to /home/agusriscos/verifiable-phrase-detection/training/bert/checkpoint-2600\n",
      "Configuration saved in /home/agusriscos/verifiable-phrase-detection/training/bert/checkpoint-2600/config.json\n"
     ]
    },
    {
     "name": "stdout",
     "output_type": "stream",
     "text": [
      "{'eval_loss': 0.22965222597122192, 'eval_accuracy': 0.9346666666666666, 'eval_f1': 0.588235294117647, 'eval_precision': 0.5384615384615384, 'eval_recall': 0.6481481481481481, 'eval_runtime': 6.9194, 'eval_samples_per_second': 216.783, 'eval_steps_per_second': 54.196, 'epoch': 0.59}\n"
     ]
    },
    {
     "name": "stderr",
     "output_type": "stream",
     "text": [
      "Model weights saved in /home/agusriscos/verifiable-phrase-detection/training/bert/checkpoint-2600/pytorch_model.bin\n",
      "***** Running Evaluation *****\n",
      "  Num examples = 1500\n",
      "  Batch size = 4\n"
     ]
    },
    {
     "name": "stdout",
     "output_type": "stream",
     "text": [
      "{'loss': 0.1741, 'learning_rate': 1.5949594959495952e-05, 'epoch': 0.61}\n"
     ]
    },
    {
     "name": "stderr",
     "output_type": "stream",
     "text": [
      "Saving model checkpoint to /home/agusriscos/verifiable-phrase-detection/training/bert/checkpoint-2700\n",
      "Configuration saved in /home/agusriscos/verifiable-phrase-detection/training/bert/checkpoint-2700/config.json\n"
     ]
    },
    {
     "name": "stdout",
     "output_type": "stream",
     "text": [
      "{'eval_loss': 0.3027192950248718, 'eval_accuracy': 0.9346666666666666, 'eval_f1': 0.4235294117647058, 'eval_precision': 0.5806451612903226, 'eval_recall': 0.3333333333333333, 'eval_runtime': 6.9399, 'eval_samples_per_second': 216.14, 'eval_steps_per_second': 54.035, 'epoch': 0.61}\n"
     ]
    },
    {
     "name": "stderr",
     "output_type": "stream",
     "text": [
      "Model weights saved in /home/agusriscos/verifiable-phrase-detection/training/bert/checkpoint-2700/pytorch_model.bin\n",
      "***** Running Evaluation *****\n",
      "  Num examples = 1500\n",
      "  Batch size = 4\n"
     ]
    },
    {
     "name": "stdout",
     "output_type": "stream",
     "text": [
      "{'loss': 0.1335, 'learning_rate': 1.57995799579958e-05, 'epoch': 0.63}\n"
     ]
    },
    {
     "name": "stderr",
     "output_type": "stream",
     "text": [
      "Saving model checkpoint to /home/agusriscos/verifiable-phrase-detection/training/bert/checkpoint-2800\n",
      "Configuration saved in /home/agusriscos/verifiable-phrase-detection/training/bert/checkpoint-2800/config.json\n"
     ]
    },
    {
     "name": "stdout",
     "output_type": "stream",
     "text": [
      "{'eval_loss': 0.28817200660705566, 'eval_accuracy': 0.9406666666666667, 'eval_f1': 0.5291005291005291, 'eval_precision': 0.6172839506172839, 'eval_recall': 0.46296296296296297, 'eval_runtime': 6.9157, 'eval_samples_per_second': 216.898, 'eval_steps_per_second': 54.225, 'epoch': 0.63}\n"
     ]
    },
    {
     "name": "stderr",
     "output_type": "stream",
     "text": [
      "Model weights saved in /home/agusriscos/verifiable-phrase-detection/training/bert/checkpoint-2800/pytorch_model.bin\n",
      "***** Running Evaluation *****\n",
      "  Num examples = 1500\n",
      "  Batch size = 4\n"
     ]
    },
    {
     "name": "stdout",
     "output_type": "stream",
     "text": [
      "{'loss': 0.1911, 'learning_rate': 1.564956495649565e-05, 'epoch': 0.65}\n"
     ]
    },
    {
     "name": "stderr",
     "output_type": "stream",
     "text": [
      "Saving model checkpoint to /home/agusriscos/verifiable-phrase-detection/training/bert/checkpoint-2900\n",
      "Configuration saved in /home/agusriscos/verifiable-phrase-detection/training/bert/checkpoint-2900/config.json\n"
     ]
    },
    {
     "name": "stdout",
     "output_type": "stream",
     "text": [
      "{'eval_loss': 0.29684171080589294, 'eval_accuracy': 0.9413333333333334, 'eval_f1': 0.588785046728972, 'eval_precision': 0.5943396226415094, 'eval_recall': 0.5833333333333334, 'eval_runtime': 6.9257, 'eval_samples_per_second': 216.586, 'eval_steps_per_second': 54.147, 'epoch': 0.65}\n"
     ]
    },
    {
     "name": "stderr",
     "output_type": "stream",
     "text": [
      "Model weights saved in /home/agusriscos/verifiable-phrase-detection/training/bert/checkpoint-2900/pytorch_model.bin\n",
      "***** Running Evaluation *****\n",
      "  Num examples = 1500\n",
      "  Batch size = 4\n"
     ]
    },
    {
     "name": "stdout",
     "output_type": "stream",
     "text": [
      "{'loss': 0.1683, 'learning_rate': 1.54995499549955e-05, 'epoch': 0.68}\n"
     ]
    },
    {
     "name": "stderr",
     "output_type": "stream",
     "text": [
      "Saving model checkpoint to /home/agusriscos/verifiable-phrase-detection/training/bert/checkpoint-3000\n",
      "Configuration saved in /home/agusriscos/verifiable-phrase-detection/training/bert/checkpoint-3000/config.json\n"
     ]
    },
    {
     "name": "stdout",
     "output_type": "stream",
     "text": [
      "{'eval_loss': 0.2593868374824524, 'eval_accuracy': 0.9333333333333333, 'eval_f1': 0.5098039215686274, 'eval_precision': 0.5416666666666666, 'eval_recall': 0.48148148148148145, 'eval_runtime': 6.9204, 'eval_samples_per_second': 216.751, 'eval_steps_per_second': 54.188, 'epoch': 0.68}\n"
     ]
    },
    {
     "name": "stderr",
     "output_type": "stream",
     "text": [
      "Model weights saved in /home/agusriscos/verifiable-phrase-detection/training/bert/checkpoint-3000/pytorch_model.bin\n",
      "***** Running Evaluation *****\n",
      "  Num examples = 1500\n",
      "  Batch size = 4\n"
     ]
    },
    {
     "name": "stdout",
     "output_type": "stream",
     "text": [
      "{'loss': 0.1661, 'learning_rate': 1.5349534953495352e-05, 'epoch': 0.7}\n"
     ]
    },
    {
     "name": "stderr",
     "output_type": "stream",
     "text": [
      "Saving model checkpoint to /home/agusriscos/verifiable-phrase-detection/training/bert/checkpoint-3100\n",
      "Configuration saved in /home/agusriscos/verifiable-phrase-detection/training/bert/checkpoint-3100/config.json\n"
     ]
    },
    {
     "name": "stdout",
     "output_type": "stream",
     "text": [
      "{'eval_loss': 0.26555636525154114, 'eval_accuracy': 0.9353333333333333, 'eval_f1': 0.48677248677248675, 'eval_precision': 0.5679012345679012, 'eval_recall': 0.42592592592592593, 'eval_runtime': 6.9314, 'eval_samples_per_second': 216.406, 'eval_steps_per_second': 54.102, 'epoch': 0.7}\n"
     ]
    },
    {
     "name": "stderr",
     "output_type": "stream",
     "text": [
      "Model weights saved in /home/agusriscos/verifiable-phrase-detection/training/bert/checkpoint-3100/pytorch_model.bin\n",
      "***** Running Evaluation *****\n",
      "  Num examples = 1500\n",
      "  Batch size = 4\n"
     ]
    },
    {
     "name": "stdout",
     "output_type": "stream",
     "text": [
      "{'loss': 0.1906, 'learning_rate': 1.5199519951995201e-05, 'epoch': 0.72}\n"
     ]
    },
    {
     "name": "stderr",
     "output_type": "stream",
     "text": [
      "Saving model checkpoint to /home/agusriscos/verifiable-phrase-detection/training/bert/checkpoint-3200\n",
      "Configuration saved in /home/agusriscos/verifiable-phrase-detection/training/bert/checkpoint-3200/config.json\n"
     ]
    },
    {
     "name": "stdout",
     "output_type": "stream",
     "text": [
      "{'eval_loss': 0.26105669140815735, 'eval_accuracy': 0.9313333333333333, 'eval_f1': 0.5209302325581395, 'eval_precision': 0.5233644859813084, 'eval_recall': 0.5185185185185185, 'eval_runtime': 6.9248, 'eval_samples_per_second': 216.612, 'eval_steps_per_second': 54.153, 'epoch': 0.72}\n"
     ]
    },
    {
     "name": "stderr",
     "output_type": "stream",
     "text": [
      "Model weights saved in /home/agusriscos/verifiable-phrase-detection/training/bert/checkpoint-3200/pytorch_model.bin\n",
      "***** Running Evaluation *****\n",
      "  Num examples = 1500\n",
      "  Batch size = 4\n"
     ]
    },
    {
     "name": "stdout",
     "output_type": "stream",
     "text": [
      "{'loss': 0.1536, 'learning_rate': 1.504950495049505e-05, 'epoch': 0.74}\n"
     ]
    },
    {
     "name": "stderr",
     "output_type": "stream",
     "text": [
      "Saving model checkpoint to /home/agusriscos/verifiable-phrase-detection/training/bert/checkpoint-3300\n",
      "Configuration saved in /home/agusriscos/verifiable-phrase-detection/training/bert/checkpoint-3300/config.json\n"
     ]
    },
    {
     "name": "stdout",
     "output_type": "stream",
     "text": [
      "{'eval_loss': 0.25884419679641724, 'eval_accuracy': 0.936, 'eval_f1': 0.5384615384615384, 'eval_precision': 0.56, 'eval_recall': 0.5185185185185185, 'eval_runtime': 6.9257, 'eval_samples_per_second': 216.586, 'eval_steps_per_second': 54.146, 'epoch': 0.74}\n"
     ]
    },
    {
     "name": "stderr",
     "output_type": "stream",
     "text": [
      "Model weights saved in /home/agusriscos/verifiable-phrase-detection/training/bert/checkpoint-3300/pytorch_model.bin\n",
      "***** Running Evaluation *****\n",
      "  Num examples = 1500\n",
      "  Batch size = 4\n"
     ]
    },
    {
     "name": "stdout",
     "output_type": "stream",
     "text": [
      "{'loss': 0.1322, 'learning_rate': 1.4899489948994901e-05, 'epoch': 0.77}\n"
     ]
    },
    {
     "name": "stderr",
     "output_type": "stream",
     "text": [
      "Saving model checkpoint to /home/agusriscos/verifiable-phrase-detection/training/bert/checkpoint-3400\n",
      "Configuration saved in /home/agusriscos/verifiable-phrase-detection/training/bert/checkpoint-3400/config.json\n"
     ]
    },
    {
     "name": "stdout",
     "output_type": "stream",
     "text": [
      "{'eval_loss': 0.28105196356773376, 'eval_accuracy': 0.9273333333333333, 'eval_f1': 0.5725490196078432, 'eval_precision': 0.4965986394557823, 'eval_recall': 0.6759259259259259, 'eval_runtime': 6.9324, 'eval_samples_per_second': 216.375, 'eval_steps_per_second': 54.094, 'epoch': 0.77}\n"
     ]
    },
    {
     "name": "stderr",
     "output_type": "stream",
     "text": [
      "Model weights saved in /home/agusriscos/verifiable-phrase-detection/training/bert/checkpoint-3400/pytorch_model.bin\n",
      "***** Running Evaluation *****\n",
      "  Num examples = 1500\n",
      "  Batch size = 4\n"
     ]
    },
    {
     "name": "stdout",
     "output_type": "stream",
     "text": [
      "{'loss': 0.2064, 'learning_rate': 1.474947494749475e-05, 'epoch': 0.79}\n"
     ]
    },
    {
     "name": "stderr",
     "output_type": "stream",
     "text": [
      "Saving model checkpoint to /home/agusriscos/verifiable-phrase-detection/training/bert/checkpoint-3500\n",
      "Configuration saved in /home/agusriscos/verifiable-phrase-detection/training/bert/checkpoint-3500/config.json\n"
     ]
    },
    {
     "name": "stdout",
     "output_type": "stream",
     "text": [
      "{'eval_loss': 0.36128467321395874, 'eval_accuracy': 0.9073333333333333, 'eval_f1': 0.5530546623794212, 'eval_precision': 0.4236453201970443, 'eval_recall': 0.7962962962962963, 'eval_runtime': 6.9249, 'eval_samples_per_second': 216.609, 'eval_steps_per_second': 54.152, 'epoch': 0.79}\n"
     ]
    },
    {
     "name": "stderr",
     "output_type": "stream",
     "text": [
      "Model weights saved in /home/agusriscos/verifiable-phrase-detection/training/bert/checkpoint-3500/pytorch_model.bin\n",
      "***** Running Evaluation *****\n",
      "  Num examples = 1500\n",
      "  Batch size = 4\n"
     ]
    },
    {
     "name": "stdout",
     "output_type": "stream",
     "text": [
      "{'loss': 0.1139, 'learning_rate': 1.4599459945994601e-05, 'epoch': 0.81}\n"
     ]
    },
    {
     "name": "stderr",
     "output_type": "stream",
     "text": [
      "Saving model checkpoint to /home/agusriscos/verifiable-phrase-detection/training/bert/checkpoint-3600\n",
      "Configuration saved in /home/agusriscos/verifiable-phrase-detection/training/bert/checkpoint-3600/config.json\n"
     ]
    },
    {
     "name": "stdout",
     "output_type": "stream",
     "text": [
      "{'eval_loss': 0.31402045488357544, 'eval_accuracy': 0.938, 'eval_f1': 0.4861878453038674, 'eval_precision': 0.6027397260273972, 'eval_recall': 0.4074074074074074, 'eval_runtime': 7.0373, 'eval_samples_per_second': 213.15, 'eval_steps_per_second': 53.288, 'epoch': 0.81}\n"
     ]
    },
    {
     "name": "stderr",
     "output_type": "stream",
     "text": [
      "Model weights saved in /home/agusriscos/verifiable-phrase-detection/training/bert/checkpoint-3600/pytorch_model.bin\n",
      "***** Running Evaluation *****\n",
      "  Num examples = 1500\n",
      "  Batch size = 4\n"
     ]
    },
    {
     "name": "stdout",
     "output_type": "stream",
     "text": [
      "{'loss': 0.1961, 'learning_rate': 1.444944494449445e-05, 'epoch': 0.83}\n"
     ]
    },
    {
     "name": "stderr",
     "output_type": "stream",
     "text": [
      "Saving model checkpoint to /home/agusriscos/verifiable-phrase-detection/training/bert/checkpoint-3700\n",
      "Configuration saved in /home/agusriscos/verifiable-phrase-detection/training/bert/checkpoint-3700/config.json\n"
     ]
    },
    {
     "name": "stdout",
     "output_type": "stream",
     "text": [
      "{'eval_loss': 0.3766304552555084, 'eval_accuracy': 0.9026666666666666, 'eval_f1': 0.5379746835443039, 'eval_precision': 0.40865384615384615, 'eval_recall': 0.7870370370370371, 'eval_runtime': 6.9877, 'eval_samples_per_second': 214.662, 'eval_steps_per_second': 53.666, 'epoch': 0.83}\n"
     ]
    },
    {
     "name": "stderr",
     "output_type": "stream",
     "text": [
      "Model weights saved in /home/agusriscos/verifiable-phrase-detection/training/bert/checkpoint-3700/pytorch_model.bin\n",
      "***** Running Evaluation *****\n",
      "  Num examples = 1500\n",
      "  Batch size = 4\n"
     ]
    },
    {
     "name": "stdout",
     "output_type": "stream",
     "text": [
      "{'loss': 0.2087, 'learning_rate': 1.4299429942994301e-05, 'epoch': 0.86}\n"
     ]
    },
    {
     "name": "stderr",
     "output_type": "stream",
     "text": [
      "Saving model checkpoint to /home/agusriscos/verifiable-phrase-detection/training/bert/checkpoint-3800\n",
      "Configuration saved in /home/agusriscos/verifiable-phrase-detection/training/bert/checkpoint-3800/config.json\n"
     ]
    },
    {
     "name": "stdout",
     "output_type": "stream",
     "text": [
      "{'eval_loss': 0.26332390308380127, 'eval_accuracy': 0.9353333333333333, 'eval_f1': 0.40490797546012275, 'eval_precision': 0.6, 'eval_recall': 0.3055555555555556, 'eval_runtime': 7.0678, 'eval_samples_per_second': 212.231, 'eval_steps_per_second': 53.058, 'epoch': 0.86}\n"
     ]
    },
    {
     "name": "stderr",
     "output_type": "stream",
     "text": [
      "Model weights saved in /home/agusriscos/verifiable-phrase-detection/training/bert/checkpoint-3800/pytorch_model.bin\n",
      "***** Running Evaluation *****\n",
      "  Num examples = 1500\n",
      "  Batch size = 4\n"
     ]
    },
    {
     "name": "stdout",
     "output_type": "stream",
     "text": [
      "{'loss': 0.1539, 'learning_rate': 1.414941494149415e-05, 'epoch': 0.88}\n"
     ]
    },
    {
     "name": "stderr",
     "output_type": "stream",
     "text": [
      "Saving model checkpoint to /home/agusriscos/verifiable-phrase-detection/training/bert/checkpoint-3900\n",
      "Configuration saved in /home/agusriscos/verifiable-phrase-detection/training/bert/checkpoint-3900/config.json\n"
     ]
    },
    {
     "name": "stdout",
     "output_type": "stream",
     "text": [
      "{'eval_loss': 0.30798009037971497, 'eval_accuracy': 0.938, 'eval_f1': 0.5279187817258884, 'eval_precision': 0.5842696629213483, 'eval_recall': 0.48148148148148145, 'eval_runtime': 6.9159, 'eval_samples_per_second': 216.89, 'eval_steps_per_second': 54.223, 'epoch': 0.88}\n"
     ]
    },
    {
     "name": "stderr",
     "output_type": "stream",
     "text": [
      "Model weights saved in /home/agusriscos/verifiable-phrase-detection/training/bert/checkpoint-3900/pytorch_model.bin\n",
      "***** Running Evaluation *****\n",
      "  Num examples = 1500\n",
      "  Batch size = 4\n"
     ]
    },
    {
     "name": "stdout",
     "output_type": "stream",
     "text": [
      "{'loss': 0.2094, 'learning_rate': 1.3999399939994e-05, 'epoch': 0.9}\n"
     ]
    },
    {
     "name": "stderr",
     "output_type": "stream",
     "text": [
      "Saving model checkpoint to /home/agusriscos/verifiable-phrase-detection/training/bert/checkpoint-4000\n",
      "Configuration saved in /home/agusriscos/verifiable-phrase-detection/training/bert/checkpoint-4000/config.json\n"
     ]
    },
    {
     "name": "stdout",
     "output_type": "stream",
     "text": [
      "{'eval_loss': 0.27923864126205444, 'eval_accuracy': 0.9226666666666666, 'eval_f1': 0.5735294117647057, 'eval_precision': 0.47560975609756095, 'eval_recall': 0.7222222222222222, 'eval_runtime': 6.9224, 'eval_samples_per_second': 216.687, 'eval_steps_per_second': 54.172, 'epoch': 0.9}\n"
     ]
    },
    {
     "name": "stderr",
     "output_type": "stream",
     "text": [
      "Model weights saved in /home/agusriscos/verifiable-phrase-detection/training/bert/checkpoint-4000/pytorch_model.bin\n",
      "***** Running Evaluation *****\n",
      "  Num examples = 1500\n",
      "  Batch size = 4\n"
     ]
    },
    {
     "name": "stdout",
     "output_type": "stream",
     "text": [
      "{'loss': 0.1267, 'learning_rate': 1.384938493849385e-05, 'epoch': 0.92}\n"
     ]
    },
    {
     "name": "stderr",
     "output_type": "stream",
     "text": [
      "Saving model checkpoint to /home/agusriscos/verifiable-phrase-detection/training/bert/checkpoint-4100\n",
      "Configuration saved in /home/agusriscos/verifiable-phrase-detection/training/bert/checkpoint-4100/config.json\n"
     ]
    },
    {
     "name": "stdout",
     "output_type": "stream",
     "text": [
      "{'eval_loss': 0.36099162697792053, 'eval_accuracy': 0.94, 'eval_f1': 0.5161290322580646, 'eval_precision': 0.6153846153846154, 'eval_recall': 0.4444444444444444, 'eval_runtime': 6.9175, 'eval_samples_per_second': 216.841, 'eval_steps_per_second': 54.21, 'epoch': 0.92}\n"
     ]
    },
    {
     "name": "stderr",
     "output_type": "stream",
     "text": [
      "Model weights saved in /home/agusriscos/verifiable-phrase-detection/training/bert/checkpoint-4100/pytorch_model.bin\n",
      "***** Running Evaluation *****\n",
      "  Num examples = 1500\n",
      "  Batch size = 4\n"
     ]
    },
    {
     "name": "stdout",
     "output_type": "stream",
     "text": [
      "{'loss': 0.1692, 'learning_rate': 1.36993699369937e-05, 'epoch': 0.95}\n"
     ]
    },
    {
     "name": "stderr",
     "output_type": "stream",
     "text": [
      "Saving model checkpoint to /home/agusriscos/verifiable-phrase-detection/training/bert/checkpoint-4200\n",
      "Configuration saved in /home/agusriscos/verifiable-phrase-detection/training/bert/checkpoint-4200/config.json\n"
     ]
    },
    {
     "name": "stdout",
     "output_type": "stream",
     "text": [
      "{'eval_loss': 0.3445005714893341, 'eval_accuracy': 0.9286666666666666, 'eval_f1': 0.5485232067510548, 'eval_precision': 0.5038759689922481, 'eval_recall': 0.6018518518518519, 'eval_runtime': 6.9289, 'eval_samples_per_second': 216.483, 'eval_steps_per_second': 54.121, 'epoch': 0.95}\n"
     ]
    },
    {
     "name": "stderr",
     "output_type": "stream",
     "text": [
      "Model weights saved in /home/agusriscos/verifiable-phrase-detection/training/bert/checkpoint-4200/pytorch_model.bin\n",
      "***** Running Evaluation *****\n",
      "  Num examples = 1500\n",
      "  Batch size = 4\n"
     ]
    },
    {
     "name": "stdout",
     "output_type": "stream",
     "text": [
      "{'loss': 0.1864, 'learning_rate': 1.354935493549355e-05, 'epoch': 0.97}\n"
     ]
    },
    {
     "name": "stderr",
     "output_type": "stream",
     "text": [
      "Saving model checkpoint to /home/agusriscos/verifiable-phrase-detection/training/bert/checkpoint-4300\n",
      "Configuration saved in /home/agusriscos/verifiable-phrase-detection/training/bert/checkpoint-4300/config.json\n"
     ]
    },
    {
     "name": "stdout",
     "output_type": "stream",
     "text": [
      "{'eval_loss': 0.2801395654678345, 'eval_accuracy': 0.936, 'eval_f1': 0.6220472440944882, 'eval_precision': 0.541095890410959, 'eval_recall': 0.7314814814814815, 'eval_runtime': 6.9185, 'eval_samples_per_second': 216.809, 'eval_steps_per_second': 54.202, 'epoch': 0.97}\n"
     ]
    },
    {
     "name": "stderr",
     "output_type": "stream",
     "text": [
      "Model weights saved in /home/agusriscos/verifiable-phrase-detection/training/bert/checkpoint-4300/pytorch_model.bin\n",
      "***** Running Evaluation *****\n",
      "  Num examples = 1500\n",
      "  Batch size = 4\n"
     ]
    },
    {
     "name": "stdout",
     "output_type": "stream",
     "text": [
      "{'loss': 0.1275, 'learning_rate': 1.33993399339934e-05, 'epoch': 0.99}\n"
     ]
    },
    {
     "name": "stderr",
     "output_type": "stream",
     "text": [
      "Saving model checkpoint to /home/agusriscos/verifiable-phrase-detection/training/bert/checkpoint-4400\n",
      "Configuration saved in /home/agusriscos/verifiable-phrase-detection/training/bert/checkpoint-4400/config.json\n"
     ]
    },
    {
     "name": "stdout",
     "output_type": "stream",
     "text": [
      "{'eval_loss': 0.3050846755504608, 'eval_accuracy': 0.94, 'eval_f1': 0.5833333333333334, 'eval_precision': 0.5833333333333334, 'eval_recall': 0.5833333333333334, 'eval_runtime': 6.9222, 'eval_samples_per_second': 216.694, 'eval_steps_per_second': 54.173, 'epoch': 0.99}\n"
     ]
    },
    {
     "name": "stderr",
     "output_type": "stream",
     "text": [
      "Model weights saved in /home/agusriscos/verifiable-phrase-detection/training/bert/checkpoint-4400/pytorch_model.bin\n",
      "***** Running Evaluation *****\n",
      "  Num examples = 1500\n",
      "  Batch size = 4\n"
     ]
    },
    {
     "name": "stdout",
     "output_type": "stream",
     "text": [
      "{'loss': 0.0837, 'learning_rate': 1.324932493249325e-05, 'epoch': 1.01}\n"
     ]
    },
    {
     "name": "stderr",
     "output_type": "stream",
     "text": [
      "Saving model checkpoint to /home/agusriscos/verifiable-phrase-detection/training/bert/checkpoint-4500\n",
      "Configuration saved in /home/agusriscos/verifiable-phrase-detection/training/bert/checkpoint-4500/config.json\n"
     ]
    },
    {
     "name": "stdout",
     "output_type": "stream",
     "text": [
      "{'eval_loss': 0.29622119665145874, 'eval_accuracy': 0.938, 'eval_f1': 0.5829596412556053, 'eval_precision': 0.5652173913043478, 'eval_recall': 0.6018518518518519, 'eval_runtime': 6.9289, 'eval_samples_per_second': 216.485, 'eval_steps_per_second': 54.121, 'epoch': 1.01}\n"
     ]
    },
    {
     "name": "stderr",
     "output_type": "stream",
     "text": [
      "Model weights saved in /home/agusriscos/verifiable-phrase-detection/training/bert/checkpoint-4500/pytorch_model.bin\n",
      "***** Running Evaluation *****\n",
      "  Num examples = 1500\n",
      "  Batch size = 4\n"
     ]
    },
    {
     "name": "stdout",
     "output_type": "stream",
     "text": [
      "{'loss': 0.0967, 'learning_rate': 1.30993099309931e-05, 'epoch': 1.04}\n"
     ]
    },
    {
     "name": "stderr",
     "output_type": "stream",
     "text": [
      "Saving model checkpoint to /home/agusriscos/verifiable-phrase-detection/training/bert/checkpoint-4600\n",
      "Configuration saved in /home/agusriscos/verifiable-phrase-detection/training/bert/checkpoint-4600/config.json\n"
     ]
    },
    {
     "name": "stdout",
     "output_type": "stream",
     "text": [
      "{'eval_loss': 0.2674686014652252, 'eval_accuracy': 0.9506666666666667, 'eval_f1': 0.5978260869565218, 'eval_precision': 0.7236842105263158, 'eval_recall': 0.5092592592592593, 'eval_runtime': 6.9297, 'eval_samples_per_second': 216.46, 'eval_steps_per_second': 54.115, 'epoch': 1.04}\n"
     ]
    },
    {
     "name": "stderr",
     "output_type": "stream",
     "text": [
      "Model weights saved in /home/agusriscos/verifiable-phrase-detection/training/bert/checkpoint-4600/pytorch_model.bin\n",
      "***** Running Evaluation *****\n",
      "  Num examples = 1500\n",
      "  Batch size = 4\n"
     ]
    },
    {
     "name": "stdout",
     "output_type": "stream",
     "text": [
      "{'loss': 0.0834, 'learning_rate': 1.294929492949295e-05, 'epoch': 1.06}\n"
     ]
    },
    {
     "name": "stderr",
     "output_type": "stream",
     "text": [
      "Saving model checkpoint to /home/agusriscos/verifiable-phrase-detection/training/bert/checkpoint-4700\n",
      "Configuration saved in /home/agusriscos/verifiable-phrase-detection/training/bert/checkpoint-4700/config.json\n"
     ]
    },
    {
     "name": "stdout",
     "output_type": "stream",
     "text": [
      "{'eval_loss': 0.3315677046775818, 'eval_accuracy': 0.9393333333333334, 'eval_f1': 0.5687203791469194, 'eval_precision': 0.5825242718446602, 'eval_recall': 0.5555555555555556, 'eval_runtime': 6.9186, 'eval_samples_per_second': 216.805, 'eval_steps_per_second': 54.201, 'epoch': 1.06}\n"
     ]
    },
    {
     "name": "stderr",
     "output_type": "stream",
     "text": [
      "Model weights saved in /home/agusriscos/verifiable-phrase-detection/training/bert/checkpoint-4700/pytorch_model.bin\n",
      "***** Running Evaluation *****\n",
      "  Num examples = 1500\n",
      "  Batch size = 4\n"
     ]
    },
    {
     "name": "stdout",
     "output_type": "stream",
     "text": [
      "{'loss': 0.1212, 'learning_rate': 1.27992799279928e-05, 'epoch': 1.08}\n"
     ]
    },
    {
     "name": "stderr",
     "output_type": "stream",
     "text": [
      "Saving model checkpoint to /home/agusriscos/verifiable-phrase-detection/training/bert/checkpoint-4800\n",
      "Configuration saved in /home/agusriscos/verifiable-phrase-detection/training/bert/checkpoint-4800/config.json\n"
     ]
    },
    {
     "name": "stdout",
     "output_type": "stream",
     "text": [
      "{'eval_loss': 0.47140204906463623, 'eval_accuracy': 0.9153333333333333, 'eval_f1': 0.5836065573770493, 'eval_precision': 0.4517766497461929, 'eval_recall': 0.8240740740740741, 'eval_runtime': 6.9196, 'eval_samples_per_second': 216.777, 'eval_steps_per_second': 54.194, 'epoch': 1.08}\n"
     ]
    },
    {
     "name": "stderr",
     "output_type": "stream",
     "text": [
      "Model weights saved in /home/agusriscos/verifiable-phrase-detection/training/bert/checkpoint-4800/pytorch_model.bin\n",
      "***** Running Evaluation *****\n",
      "  Num examples = 1500\n",
      "  Batch size = 4\n"
     ]
    },
    {
     "name": "stdout",
     "output_type": "stream",
     "text": [
      "{'loss': 0.0613, 'learning_rate': 1.264926492649265e-05, 'epoch': 1.1}\n"
     ]
    },
    {
     "name": "stderr",
     "output_type": "stream",
     "text": [
      "Saving model checkpoint to /home/agusriscos/verifiable-phrase-detection/training/bert/checkpoint-4900\n",
      "Configuration saved in /home/agusriscos/verifiable-phrase-detection/training/bert/checkpoint-4900/config.json\n"
     ]
    },
    {
     "name": "stdout",
     "output_type": "stream",
     "text": [
      "{'eval_loss': 0.34136977791786194, 'eval_accuracy': 0.9406666666666667, 'eval_f1': 0.6079295154185022, 'eval_precision': 0.5798319327731093, 'eval_recall': 0.6388888888888888, 'eval_runtime': 6.9394, 'eval_samples_per_second': 216.157, 'eval_steps_per_second': 54.039, 'epoch': 1.1}\n"
     ]
    },
    {
     "name": "stderr",
     "output_type": "stream",
     "text": [
      "Model weights saved in /home/agusriscos/verifiable-phrase-detection/training/bert/checkpoint-4900/pytorch_model.bin\n",
      "***** Running Evaluation *****\n",
      "  Num examples = 1500\n",
      "  Batch size = 4\n"
     ]
    },
    {
     "name": "stdout",
     "output_type": "stream",
     "text": [
      "{'loss': 0.0011, 'learning_rate': 1.24992499249925e-05, 'epoch': 1.13}\n"
     ]
    },
    {
     "name": "stderr",
     "output_type": "stream",
     "text": [
      "Saving model checkpoint to /home/agusriscos/verifiable-phrase-detection/training/bert/checkpoint-5000\n",
      "Configuration saved in /home/agusriscos/verifiable-phrase-detection/training/bert/checkpoint-5000/config.json\n"
     ]
    },
    {
     "name": "stdout",
     "output_type": "stream",
     "text": [
      "{'eval_loss': 0.3485577702522278, 'eval_accuracy': 0.9473333333333334, 'eval_f1': 0.572972972972973, 'eval_precision': 0.6883116883116883, 'eval_recall': 0.49074074074074076, 'eval_runtime': 6.9144, 'eval_samples_per_second': 216.938, 'eval_steps_per_second': 54.235, 'epoch': 1.13}\n"
     ]
    },
    {
     "name": "stderr",
     "output_type": "stream",
     "text": [
      "Model weights saved in /home/agusriscos/verifiable-phrase-detection/training/bert/checkpoint-5000/pytorch_model.bin\n",
      "***** Running Evaluation *****\n",
      "  Num examples = 1500\n",
      "  Batch size = 4\n"
     ]
    },
    {
     "name": "stdout",
     "output_type": "stream",
     "text": [
      "{'loss': 0.0873, 'learning_rate': 1.234923492349235e-05, 'epoch': 1.15}\n"
     ]
    },
    {
     "name": "stderr",
     "output_type": "stream",
     "text": [
      "Saving model checkpoint to /home/agusriscos/verifiable-phrase-detection/training/bert/checkpoint-5100\n",
      "Configuration saved in /home/agusriscos/verifiable-phrase-detection/training/bert/checkpoint-5100/config.json\n"
     ]
    },
    {
     "name": "stdout",
     "output_type": "stream",
     "text": [
      "{'eval_loss': 0.37367260456085205, 'eval_accuracy': 0.9366666666666666, 'eval_f1': 0.6058091286307055, 'eval_precision': 0.5488721804511278, 'eval_recall': 0.6759259259259259, 'eval_runtime': 6.9234, 'eval_samples_per_second': 216.657, 'eval_steps_per_second': 54.164, 'epoch': 1.15}\n"
     ]
    },
    {
     "name": "stderr",
     "output_type": "stream",
     "text": [
      "Model weights saved in /home/agusriscos/verifiable-phrase-detection/training/bert/checkpoint-5100/pytorch_model.bin\n",
      "***** Running Evaluation *****\n",
      "  Num examples = 1500\n",
      "  Batch size = 4\n"
     ]
    },
    {
     "name": "stdout",
     "output_type": "stream",
     "text": [
      "{'loss': 0.0572, 'learning_rate': 1.21992199219922e-05, 'epoch': 1.17}\n"
     ]
    },
    {
     "name": "stderr",
     "output_type": "stream",
     "text": [
      "Saving model checkpoint to /home/agusriscos/verifiable-phrase-detection/training/bert/checkpoint-5200\n",
      "Configuration saved in /home/agusriscos/verifiable-phrase-detection/training/bert/checkpoint-5200/config.json\n"
     ]
    },
    {
     "name": "stdout",
     "output_type": "stream",
     "text": [
      "{'eval_loss': 0.34348955750465393, 'eval_accuracy': 0.944, 'eval_f1': 0.5714285714285714, 'eval_precision': 0.6363636363636364, 'eval_recall': 0.5185185185185185, 'eval_runtime': 6.9222, 'eval_samples_per_second': 216.693, 'eval_steps_per_second': 54.173, 'epoch': 1.17}\n"
     ]
    },
    {
     "name": "stderr",
     "output_type": "stream",
     "text": [
      "Model weights saved in /home/agusriscos/verifiable-phrase-detection/training/bert/checkpoint-5200/pytorch_model.bin\n",
      "***** Running Evaluation *****\n",
      "  Num examples = 1500\n",
      "  Batch size = 4\n"
     ]
    },
    {
     "name": "stdout",
     "output_type": "stream",
     "text": [
      "{'loss': 0.0476, 'learning_rate': 1.204920492049205e-05, 'epoch': 1.19}\n"
     ]
    },
    {
     "name": "stderr",
     "output_type": "stream",
     "text": [
      "Saving model checkpoint to /home/agusriscos/verifiable-phrase-detection/training/bert/checkpoint-5300\n",
      "Configuration saved in /home/agusriscos/verifiable-phrase-detection/training/bert/checkpoint-5300/config.json\n"
     ]
    },
    {
     "name": "stdout",
     "output_type": "stream",
     "text": [
      "{'eval_loss': 0.33259686827659607, 'eval_accuracy': 0.946, 'eval_f1': 0.6124401913875598, 'eval_precision': 0.6336633663366337, 'eval_recall': 0.5925925925925926, 'eval_runtime': 6.9471, 'eval_samples_per_second': 215.917, 'eval_steps_per_second': 53.979, 'epoch': 1.19}\n"
     ]
    },
    {
     "name": "stderr",
     "output_type": "stream",
     "text": [
      "Model weights saved in /home/agusriscos/verifiable-phrase-detection/training/bert/checkpoint-5300/pytorch_model.bin\n",
      "***** Running Evaluation *****\n",
      "  Num examples = 1500\n",
      "  Batch size = 4\n"
     ]
    },
    {
     "name": "stdout",
     "output_type": "stream",
     "text": [
      "{'loss': 0.0503, 'learning_rate': 1.18991899189919e-05, 'epoch': 1.22}\n"
     ]
    },
    {
     "name": "stderr",
     "output_type": "stream",
     "text": [
      "Saving model checkpoint to /home/agusriscos/verifiable-phrase-detection/training/bert/checkpoint-5400\n",
      "Configuration saved in /home/agusriscos/verifiable-phrase-detection/training/bert/checkpoint-5400/config.json\n"
     ]
    },
    {
     "name": "stdout",
     "output_type": "stream",
     "text": [
      "{'eval_loss': 0.3443741798400879, 'eval_accuracy': 0.9446666666666667, 'eval_f1': 0.5951219512195122, 'eval_precision': 0.6288659793814433, 'eval_recall': 0.5648148148148148, 'eval_runtime': 6.9431, 'eval_samples_per_second': 216.04, 'eval_steps_per_second': 54.01, 'epoch': 1.22}\n"
     ]
    },
    {
     "name": "stderr",
     "output_type": "stream",
     "text": [
      "Model weights saved in /home/agusriscos/verifiable-phrase-detection/training/bert/checkpoint-5400/pytorch_model.bin\n",
      "***** Running Evaluation *****\n",
      "  Num examples = 1500\n",
      "  Batch size = 4\n"
     ]
    },
    {
     "name": "stdout",
     "output_type": "stream",
     "text": [
      "{'loss': 0.0547, 'learning_rate': 1.174917491749175e-05, 'epoch': 1.24}\n"
     ]
    },
    {
     "name": "stderr",
     "output_type": "stream",
     "text": [
      "Saving model checkpoint to /home/agusriscos/verifiable-phrase-detection/training/bert/checkpoint-5500\n",
      "Configuration saved in /home/agusriscos/verifiable-phrase-detection/training/bert/checkpoint-5500/config.json\n"
     ]
    },
    {
     "name": "stdout",
     "output_type": "stream",
     "text": [
      "{'eval_loss': 0.4456839859485626, 'eval_accuracy': 0.9313333333333333, 'eval_f1': 0.5863453815261045, 'eval_precision': 0.5177304964539007, 'eval_recall': 0.6759259259259259, 'eval_runtime': 7.0864, 'eval_samples_per_second': 211.672, 'eval_steps_per_second': 52.918, 'epoch': 1.24}\n"
     ]
    },
    {
     "name": "stderr",
     "output_type": "stream",
     "text": [
      "Model weights saved in /home/agusriscos/verifiable-phrase-detection/training/bert/checkpoint-5500/pytorch_model.bin\n",
      "***** Running Evaluation *****\n",
      "  Num examples = 1500\n",
      "  Batch size = 4\n"
     ]
    },
    {
     "name": "stdout",
     "output_type": "stream",
     "text": [
      "{'loss': 0.0578, 'learning_rate': 1.15991599159916e-05, 'epoch': 1.26}\n"
     ]
    },
    {
     "name": "stderr",
     "output_type": "stream",
     "text": [
      "Saving model checkpoint to /home/agusriscos/verifiable-phrase-detection/training/bert/checkpoint-5600\n",
      "Configuration saved in /home/agusriscos/verifiable-phrase-detection/training/bert/checkpoint-5600/config.json\n"
     ]
    },
    {
     "name": "stdout",
     "output_type": "stream",
     "text": [
      "{'eval_loss': 0.39292675256729126, 'eval_accuracy': 0.9326666666666666, 'eval_f1': 0.6039215686274509, 'eval_precision': 0.5238095238095238, 'eval_recall': 0.7129629629629629, 'eval_runtime': 7.0223, 'eval_samples_per_second': 213.605, 'eval_steps_per_second': 53.401, 'epoch': 1.26}\n"
     ]
    },
    {
     "name": "stderr",
     "output_type": "stream",
     "text": [
      "Model weights saved in /home/agusriscos/verifiable-phrase-detection/training/bert/checkpoint-5600/pytorch_model.bin\n",
      "***** Running Evaluation *****\n",
      "  Num examples = 1500\n",
      "  Batch size = 4\n"
     ]
    },
    {
     "name": "stdout",
     "output_type": "stream",
     "text": [
      "{'loss': 0.0936, 'learning_rate': 1.144914491449145e-05, 'epoch': 1.28}\n"
     ]
    },
    {
     "name": "stderr",
     "output_type": "stream",
     "text": [
      "Saving model checkpoint to /home/agusriscos/verifiable-phrase-detection/training/bert/checkpoint-5700\n",
      "Configuration saved in /home/agusriscos/verifiable-phrase-detection/training/bert/checkpoint-5700/config.json\n"
     ]
    },
    {
     "name": "stdout",
     "output_type": "stream",
     "text": [
      "{'eval_loss': 0.4199041426181793, 'eval_accuracy': 0.922, 'eval_f1': 0.5836298932384341, 'eval_precision': 0.47398843930635837, 'eval_recall': 0.7592592592592593, 'eval_runtime': 7.1369, 'eval_samples_per_second': 210.175, 'eval_steps_per_second': 52.544, 'epoch': 1.28}\n"
     ]
    },
    {
     "name": "stderr",
     "output_type": "stream",
     "text": [
      "Model weights saved in /home/agusriscos/verifiable-phrase-detection/training/bert/checkpoint-5700/pytorch_model.bin\n",
      "***** Running Evaluation *****\n",
      "  Num examples = 1500\n",
      "  Batch size = 4\n"
     ]
    },
    {
     "name": "stdout",
     "output_type": "stream",
     "text": [
      "{'loss': 0.1134, 'learning_rate': 1.12991299129913e-05, 'epoch': 1.31}\n"
     ]
    },
    {
     "name": "stderr",
     "output_type": "stream",
     "text": [
      "Saving model checkpoint to /home/agusriscos/verifiable-phrase-detection/training/bert/checkpoint-5800\n",
      "Configuration saved in /home/agusriscos/verifiable-phrase-detection/training/bert/checkpoint-5800/config.json\n"
     ]
    },
    {
     "name": "stdout",
     "output_type": "stream",
     "text": [
      "{'eval_loss': 0.3126619756221771, 'eval_accuracy': 0.946, 'eval_f1': 0.547486033519553, 'eval_precision': 0.6901408450704225, 'eval_recall': 0.4537037037037037, 'eval_runtime': 6.9262, 'eval_samples_per_second': 216.57, 'eval_steps_per_second': 54.143, 'epoch': 1.31}\n"
     ]
    },
    {
     "name": "stderr",
     "output_type": "stream",
     "text": [
      "Model weights saved in /home/agusriscos/verifiable-phrase-detection/training/bert/checkpoint-5800/pytorch_model.bin\n",
      "***** Running Evaluation *****\n",
      "  Num examples = 1500\n",
      "  Batch size = 4\n"
     ]
    },
    {
     "name": "stdout",
     "output_type": "stream",
     "text": [
      "{'loss': 0.0648, 'learning_rate': 1.114911491149115e-05, 'epoch': 1.33}\n"
     ]
    },
    {
     "name": "stderr",
     "output_type": "stream",
     "text": [
      "Saving model checkpoint to /home/agusriscos/verifiable-phrase-detection/training/bert/checkpoint-5900\n",
      "Configuration saved in /home/agusriscos/verifiable-phrase-detection/training/bert/checkpoint-5900/config.json\n"
     ]
    },
    {
     "name": "stdout",
     "output_type": "stream",
     "text": [
      "{'eval_loss': 0.3442544639110565, 'eval_accuracy': 0.93, 'eval_f1': 0.5977011494252873, 'eval_precision': 0.5098039215686274, 'eval_recall': 0.7222222222222222, 'eval_runtime': 6.914, 'eval_samples_per_second': 216.951, 'eval_steps_per_second': 54.238, 'epoch': 1.33}\n"
     ]
    },
    {
     "name": "stderr",
     "output_type": "stream",
     "text": [
      "Model weights saved in /home/agusriscos/verifiable-phrase-detection/training/bert/checkpoint-5900/pytorch_model.bin\n",
      "***** Running Evaluation *****\n",
      "  Num examples = 1500\n",
      "  Batch size = 4\n"
     ]
    },
    {
     "name": "stdout",
     "output_type": "stream",
     "text": [
      "{'loss': 0.1376, 'learning_rate': 1.0999099909991e-05, 'epoch': 1.35}\n"
     ]
    },
    {
     "name": "stderr",
     "output_type": "stream",
     "text": [
      "Saving model checkpoint to /home/agusriscos/verifiable-phrase-detection/training/bert/checkpoint-6000\n",
      "Configuration saved in /home/agusriscos/verifiable-phrase-detection/training/bert/checkpoint-6000/config.json\n"
     ]
    },
    {
     "name": "stdout",
     "output_type": "stream",
     "text": [
      "{'eval_loss': 0.3590185046195984, 'eval_accuracy': 0.932, 'eval_f1': 0.560344827586207, 'eval_precision': 0.5241935483870968, 'eval_recall': 0.6018518518518519, 'eval_runtime': 6.9495, 'eval_samples_per_second': 215.843, 'eval_steps_per_second': 53.961, 'epoch': 1.35}\n"
     ]
    },
    {
     "name": "stderr",
     "output_type": "stream",
     "text": [
      "Model weights saved in /home/agusriscos/verifiable-phrase-detection/training/bert/checkpoint-6000/pytorch_model.bin\n",
      "***** Running Evaluation *****\n",
      "  Num examples = 1500\n",
      "  Batch size = 4\n"
     ]
    },
    {
     "name": "stdout",
     "output_type": "stream",
     "text": [
      "{'loss': 0.0472, 'learning_rate': 1.084908490849085e-05, 'epoch': 1.37}\n"
     ]
    },
    {
     "name": "stderr",
     "output_type": "stream",
     "text": [
      "Saving model checkpoint to /home/agusriscos/verifiable-phrase-detection/training/bert/checkpoint-6100\n",
      "Configuration saved in /home/agusriscos/verifiable-phrase-detection/training/bert/checkpoint-6100/config.json\n"
     ]
    },
    {
     "name": "stdout",
     "output_type": "stream",
     "text": [
      "{'eval_loss': 0.37616926431655884, 'eval_accuracy': 0.942, 'eval_f1': 0.6027397260273972, 'eval_precision': 0.5945945945945946, 'eval_recall': 0.6111111111111112, 'eval_runtime': 6.92, 'eval_samples_per_second': 216.762, 'eval_steps_per_second': 54.19, 'epoch': 1.37}\n"
     ]
    },
    {
     "name": "stderr",
     "output_type": "stream",
     "text": [
      "Model weights saved in /home/agusriscos/verifiable-phrase-detection/training/bert/checkpoint-6100/pytorch_model.bin\n",
      "***** Running Evaluation *****\n",
      "  Num examples = 1500\n",
      "  Batch size = 4\n"
     ]
    },
    {
     "name": "stdout",
     "output_type": "stream",
     "text": [
      "{'loss': 0.1263, 'learning_rate': 1.06990699069907e-05, 'epoch': 1.4}\n"
     ]
    },
    {
     "name": "stderr",
     "output_type": "stream",
     "text": [
      "Saving model checkpoint to /home/agusriscos/verifiable-phrase-detection/training/bert/checkpoint-6200\n",
      "Configuration saved in /home/agusriscos/verifiable-phrase-detection/training/bert/checkpoint-6200/config.json\n"
     ]
    },
    {
     "name": "stdout",
     "output_type": "stream",
     "text": [
      "{'eval_loss': 0.3507360517978668, 'eval_accuracy': 0.934, 'eval_f1': 0.5991902834008097, 'eval_precision': 0.5323741007194245, 'eval_recall': 0.6851851851851852, 'eval_runtime': 6.921, 'eval_samples_per_second': 216.732, 'eval_steps_per_second': 54.183, 'epoch': 1.4}\n"
     ]
    },
    {
     "name": "stderr",
     "output_type": "stream",
     "text": [
      "Model weights saved in /home/agusriscos/verifiable-phrase-detection/training/bert/checkpoint-6200/pytorch_model.bin\n",
      "***** Running Evaluation *****\n",
      "  Num examples = 1500\n",
      "  Batch size = 4\n"
     ]
    },
    {
     "name": "stdout",
     "output_type": "stream",
     "text": [
      "{'loss': 0.053, 'learning_rate': 1.054905490549055e-05, 'epoch': 1.42}\n"
     ]
    },
    {
     "name": "stderr",
     "output_type": "stream",
     "text": [
      "Saving model checkpoint to /home/agusriscos/verifiable-phrase-detection/training/bert/checkpoint-6300\n",
      "Configuration saved in /home/agusriscos/verifiable-phrase-detection/training/bert/checkpoint-6300/config.json\n"
     ]
    },
    {
     "name": "stdout",
     "output_type": "stream",
     "text": [
      "{'eval_loss': 0.3695161044597626, 'eval_accuracy': 0.9373333333333334, 'eval_f1': 0.6083333333333334, 'eval_precision': 0.553030303030303, 'eval_recall': 0.6759259259259259, 'eval_runtime': 6.9311, 'eval_samples_per_second': 216.415, 'eval_steps_per_second': 54.104, 'epoch': 1.42}\n"
     ]
    },
    {
     "name": "stderr",
     "output_type": "stream",
     "text": [
      "Model weights saved in /home/agusriscos/verifiable-phrase-detection/training/bert/checkpoint-6300/pytorch_model.bin\n",
      "***** Running Evaluation *****\n",
      "  Num examples = 1500\n",
      "  Batch size = 4\n"
     ]
    },
    {
     "name": "stdout",
     "output_type": "stream",
     "text": [
      "{'loss': 0.0551, 'learning_rate': 1.03990399039904e-05, 'epoch': 1.44}\n"
     ]
    },
    {
     "name": "stderr",
     "output_type": "stream",
     "text": [
      "Saving model checkpoint to /home/agusriscos/verifiable-phrase-detection/training/bert/checkpoint-6400\n",
      "Configuration saved in /home/agusriscos/verifiable-phrase-detection/training/bert/checkpoint-6400/config.json\n"
     ]
    },
    {
     "name": "stdout",
     "output_type": "stream",
     "text": [
      "{'eval_loss': 0.4792653024196625, 'eval_accuracy': 0.9186666666666666, 'eval_f1': 0.5673758865248226, 'eval_precision': 0.45977011494252873, 'eval_recall': 0.7407407407407407, 'eval_runtime': 6.9287, 'eval_samples_per_second': 216.49, 'eval_steps_per_second': 54.122, 'epoch': 1.44}\n"
     ]
    },
    {
     "name": "stderr",
     "output_type": "stream",
     "text": [
      "Model weights saved in /home/agusriscos/verifiable-phrase-detection/training/bert/checkpoint-6400/pytorch_model.bin\n",
      "***** Running Evaluation *****\n",
      "  Num examples = 1500\n",
      "  Batch size = 4\n"
     ]
    },
    {
     "name": "stdout",
     "output_type": "stream",
     "text": [
      "{'loss': 0.1034, 'learning_rate': 1.024902490249025e-05, 'epoch': 1.46}\n"
     ]
    },
    {
     "name": "stderr",
     "output_type": "stream",
     "text": [
      "Saving model checkpoint to /home/agusriscos/verifiable-phrase-detection/training/bert/checkpoint-6500\n",
      "Configuration saved in /home/agusriscos/verifiable-phrase-detection/training/bert/checkpoint-6500/config.json\n"
     ]
    },
    {
     "name": "stdout",
     "output_type": "stream",
     "text": [
      "{'eval_loss': 0.37093880772590637, 'eval_accuracy': 0.942, 'eval_f1': 0.5538461538461539, 'eval_precision': 0.6206896551724138, 'eval_recall': 0.5, 'eval_runtime': 6.9127, 'eval_samples_per_second': 216.992, 'eval_steps_per_second': 54.248, 'epoch': 1.46}\n"
     ]
    },
    {
     "name": "stderr",
     "output_type": "stream",
     "text": [
      "Model weights saved in /home/agusriscos/verifiable-phrase-detection/training/bert/checkpoint-6500/pytorch_model.bin\n",
      "***** Running Evaluation *****\n",
      "  Num examples = 1500\n",
      "  Batch size = 4\n"
     ]
    },
    {
     "name": "stdout",
     "output_type": "stream",
     "text": [
      "{'loss': 0.0596, 'learning_rate': 1.00990099009901e-05, 'epoch': 1.49}\n"
     ]
    },
    {
     "name": "stderr",
     "output_type": "stream",
     "text": [
      "Saving model checkpoint to /home/agusriscos/verifiable-phrase-detection/training/bert/checkpoint-6600\n",
      "Configuration saved in /home/agusriscos/verifiable-phrase-detection/training/bert/checkpoint-6600/config.json\n"
     ]
    },
    {
     "name": "stdout",
     "output_type": "stream",
     "text": [
      "{'eval_loss': 0.3535771369934082, 'eval_accuracy': 0.9453333333333334, 'eval_f1': 0.6019417475728156, 'eval_precision': 0.6326530612244898, 'eval_recall': 0.5740740740740741, 'eval_runtime': 6.9242, 'eval_samples_per_second': 216.632, 'eval_steps_per_second': 54.158, 'epoch': 1.49}\n"
     ]
    },
    {
     "name": "stderr",
     "output_type": "stream",
     "text": [
      "Model weights saved in /home/agusriscos/verifiable-phrase-detection/training/bert/checkpoint-6600/pytorch_model.bin\n",
      "***** Running Evaluation *****\n",
      "  Num examples = 1500\n",
      "  Batch size = 4\n"
     ]
    },
    {
     "name": "stdout",
     "output_type": "stream",
     "text": [
      "{'loss': 0.0911, 'learning_rate': 9.94899489948995e-06, 'epoch': 1.51}\n"
     ]
    },
    {
     "name": "stderr",
     "output_type": "stream",
     "text": [
      "Saving model checkpoint to /home/agusriscos/verifiable-phrase-detection/training/bert/checkpoint-6700\n",
      "Configuration saved in /home/agusriscos/verifiable-phrase-detection/training/bert/checkpoint-6700/config.json\n"
     ]
    },
    {
     "name": "stdout",
     "output_type": "stream",
     "text": [
      "{'eval_loss': 0.3722783923149109, 'eval_accuracy': 0.938, 'eval_f1': 0.5903083700440528, 'eval_precision': 0.5630252100840336, 'eval_recall': 0.6203703703703703, 'eval_runtime': 6.9296, 'eval_samples_per_second': 216.462, 'eval_steps_per_second': 54.115, 'epoch': 1.51}\n"
     ]
    },
    {
     "name": "stderr",
     "output_type": "stream",
     "text": [
      "Model weights saved in /home/agusriscos/verifiable-phrase-detection/training/bert/checkpoint-6700/pytorch_model.bin\n",
      "***** Running Evaluation *****\n",
      "  Num examples = 1500\n",
      "  Batch size = 4\n"
     ]
    },
    {
     "name": "stdout",
     "output_type": "stream",
     "text": [
      "{'loss': 0.0875, 'learning_rate': 9.7989798979898e-06, 'epoch': 1.53}\n"
     ]
    },
    {
     "name": "stderr",
     "output_type": "stream",
     "text": [
      "Saving model checkpoint to /home/agusriscos/verifiable-phrase-detection/training/bert/checkpoint-6800\n",
      "Configuration saved in /home/agusriscos/verifiable-phrase-detection/training/bert/checkpoint-6800/config.json\n"
     ]
    },
    {
     "name": "stdout",
     "output_type": "stream",
     "text": [
      "{'eval_loss': 0.3633195757865906, 'eval_accuracy': 0.9366666666666666, 'eval_f1': 0.5851528384279476, 'eval_precision': 0.5537190082644629, 'eval_recall': 0.6203703703703703, 'eval_runtime': 6.9343, 'eval_samples_per_second': 216.315, 'eval_steps_per_second': 54.079, 'epoch': 1.53}\n"
     ]
    },
    {
     "name": "stderr",
     "output_type": "stream",
     "text": [
      "Model weights saved in /home/agusriscos/verifiable-phrase-detection/training/bert/checkpoint-6800/pytorch_model.bin\n",
      "***** Running Evaluation *****\n",
      "  Num examples = 1500\n",
      "  Batch size = 4\n"
     ]
    },
    {
     "name": "stdout",
     "output_type": "stream",
     "text": [
      "{'loss': 0.0791, 'learning_rate': 9.64896489648965e-06, 'epoch': 1.55}\n"
     ]
    },
    {
     "name": "stderr",
     "output_type": "stream",
     "text": [
      "Saving model checkpoint to /home/agusriscos/verifiable-phrase-detection/training/bert/checkpoint-6900\n",
      "Configuration saved in /home/agusriscos/verifiable-phrase-detection/training/bert/checkpoint-6900/config.json\n"
     ]
    },
    {
     "name": "stdout",
     "output_type": "stream",
     "text": [
      "{'eval_loss': 0.3474779725074768, 'eval_accuracy': 0.942, 'eval_f1': 0.5445026178010471, 'eval_precision': 0.6265060240963856, 'eval_recall': 0.48148148148148145, 'eval_runtime': 6.9175, 'eval_samples_per_second': 216.842, 'eval_steps_per_second': 54.211, 'epoch': 1.55}\n"
     ]
    },
    {
     "name": "stderr",
     "output_type": "stream",
     "text": [
      "Model weights saved in /home/agusriscos/verifiable-phrase-detection/training/bert/checkpoint-6900/pytorch_model.bin\n",
      "***** Running Evaluation *****\n",
      "  Num examples = 1500\n",
      "  Batch size = 4\n"
     ]
    },
    {
     "name": "stdout",
     "output_type": "stream",
     "text": [
      "{'loss': 0.0661, 'learning_rate': 9.4989498949895e-06, 'epoch': 1.58}\n"
     ]
    },
    {
     "name": "stderr",
     "output_type": "stream",
     "text": [
      "Saving model checkpoint to /home/agusriscos/verifiable-phrase-detection/training/bert/checkpoint-7000\n",
      "Configuration saved in /home/agusriscos/verifiable-phrase-detection/training/bert/checkpoint-7000/config.json\n"
     ]
    },
    {
     "name": "stdout",
     "output_type": "stream",
     "text": [
      "{'eval_loss': 0.37290477752685547, 'eval_accuracy': 0.94, 'eval_f1': 0.5673076923076923, 'eval_precision': 0.59, 'eval_recall': 0.5462962962962963, 'eval_runtime': 6.9328, 'eval_samples_per_second': 216.363, 'eval_steps_per_second': 54.091, 'epoch': 1.58}\n"
     ]
    },
    {
     "name": "stderr",
     "output_type": "stream",
     "text": [
      "Model weights saved in /home/agusriscos/verifiable-phrase-detection/training/bert/checkpoint-7000/pytorch_model.bin\n",
      "***** Running Evaluation *****\n",
      "  Num examples = 1500\n",
      "  Batch size = 4\n"
     ]
    },
    {
     "name": "stdout",
     "output_type": "stream",
     "text": [
      "{'loss': 0.0453, 'learning_rate': 9.34893489348935e-06, 'epoch': 1.6}\n"
     ]
    },
    {
     "name": "stderr",
     "output_type": "stream",
     "text": [
      "Saving model checkpoint to /home/agusriscos/verifiable-phrase-detection/training/bert/checkpoint-7100\n",
      "Configuration saved in /home/agusriscos/verifiable-phrase-detection/training/bert/checkpoint-7100/config.json\n"
     ]
    },
    {
     "name": "stdout",
     "output_type": "stream",
     "text": [
      "{'eval_loss': 0.36673974990844727, 'eval_accuracy': 0.9386666666666666, 'eval_f1': 0.5700934579439252, 'eval_precision': 0.5754716981132075, 'eval_recall': 0.5648148148148148, 'eval_runtime': 6.93, 'eval_samples_per_second': 216.45, 'eval_steps_per_second': 54.112, 'epoch': 1.6}\n"
     ]
    },
    {
     "name": "stderr",
     "output_type": "stream",
     "text": [
      "Model weights saved in /home/agusriscos/verifiable-phrase-detection/training/bert/checkpoint-7100/pytorch_model.bin\n",
      "***** Running Evaluation *****\n",
      "  Num examples = 1500\n",
      "  Batch size = 4\n"
     ]
    },
    {
     "name": "stdout",
     "output_type": "stream",
     "text": [
      "{'loss': 0.0578, 'learning_rate': 9.1989198919892e-06, 'epoch': 1.62}\n"
     ]
    },
    {
     "name": "stderr",
     "output_type": "stream",
     "text": [
      "Saving model checkpoint to /home/agusriscos/verifiable-phrase-detection/training/bert/checkpoint-7200\n",
      "Configuration saved in /home/agusriscos/verifiable-phrase-detection/training/bert/checkpoint-7200/config.json\n"
     ]
    },
    {
     "name": "stdout",
     "output_type": "stream",
     "text": [
      "{'eval_loss': 0.38720962405204773, 'eval_accuracy': 0.9386666666666666, 'eval_f1': 0.5740740740740741, 'eval_precision': 0.5740740740740741, 'eval_recall': 0.5740740740740741, 'eval_runtime': 6.9232, 'eval_samples_per_second': 216.663, 'eval_steps_per_second': 54.166, 'epoch': 1.62}\n"
     ]
    },
    {
     "name": "stderr",
     "output_type": "stream",
     "text": [
      "Model weights saved in /home/agusriscos/verifiable-phrase-detection/training/bert/checkpoint-7200/pytorch_model.bin\n",
      "***** Running Evaluation *****\n",
      "  Num examples = 1500\n",
      "  Batch size = 4\n"
     ]
    },
    {
     "name": "stdout",
     "output_type": "stream",
     "text": [
      "{'loss': 0.0585, 'learning_rate': 9.04890489048905e-06, 'epoch': 1.64}\n"
     ]
    },
    {
     "name": "stderr",
     "output_type": "stream",
     "text": [
      "Saving model checkpoint to /home/agusriscos/verifiable-phrase-detection/training/bert/checkpoint-7300\n",
      "Configuration saved in /home/agusriscos/verifiable-phrase-detection/training/bert/checkpoint-7300/config.json\n"
     ]
    },
    {
     "name": "stdout",
     "output_type": "stream",
     "text": [
      "{'eval_loss': 0.401061475276947, 'eval_accuracy': 0.93, 'eval_f1': 0.5783132530120482, 'eval_precision': 0.5106382978723404, 'eval_recall': 0.6666666666666666, 'eval_runtime': 6.9214, 'eval_samples_per_second': 216.721, 'eval_steps_per_second': 54.18, 'epoch': 1.64}\n"
     ]
    },
    {
     "name": "stderr",
     "output_type": "stream",
     "text": [
      "Model weights saved in /home/agusriscos/verifiable-phrase-detection/training/bert/checkpoint-7300/pytorch_model.bin\n",
      "***** Running Evaluation *****\n",
      "  Num examples = 1500\n",
      "  Batch size = 4\n"
     ]
    },
    {
     "name": "stdout",
     "output_type": "stream",
     "text": [
      "{'loss': 0.0529, 'learning_rate': 8.8988898889889e-06, 'epoch': 1.67}\n"
     ]
    },
    {
     "name": "stderr",
     "output_type": "stream",
     "text": [
      "Saving model checkpoint to /home/agusriscos/verifiable-phrase-detection/training/bert/checkpoint-7400\n",
      "Configuration saved in /home/agusriscos/verifiable-phrase-detection/training/bert/checkpoint-7400/config.json\n"
     ]
    },
    {
     "name": "stdout",
     "output_type": "stream",
     "text": [
      "{'eval_loss': 0.3903051018714905, 'eval_accuracy': 0.9346666666666666, 'eval_f1': 0.5775862068965516, 'eval_precision': 0.5403225806451613, 'eval_recall': 0.6203703703703703, 'eval_runtime': 6.9131, 'eval_samples_per_second': 216.98, 'eval_steps_per_second': 54.245, 'epoch': 1.67}\n"
     ]
    },
    {
     "name": "stderr",
     "output_type": "stream",
     "text": [
      "Model weights saved in /home/agusriscos/verifiable-phrase-detection/training/bert/checkpoint-7400/pytorch_model.bin\n",
      "***** Running Evaluation *****\n",
      "  Num examples = 1500\n",
      "  Batch size = 4\n"
     ]
    },
    {
     "name": "stdout",
     "output_type": "stream",
     "text": [
      "{'loss': 0.0567, 'learning_rate': 8.74887488748875e-06, 'epoch': 1.69}\n"
     ]
    },
    {
     "name": "stderr",
     "output_type": "stream",
     "text": [
      "Saving model checkpoint to /home/agusriscos/verifiable-phrase-detection/training/bert/checkpoint-7500\n",
      "Configuration saved in /home/agusriscos/verifiable-phrase-detection/training/bert/checkpoint-7500/config.json\n"
     ]
    },
    {
     "name": "stdout",
     "output_type": "stream",
     "text": [
      "{'eval_loss': 0.3786658048629761, 'eval_accuracy': 0.93, 'eval_f1': 0.5569620253164557, 'eval_precision': 0.5116279069767442, 'eval_recall': 0.6111111111111112, 'eval_runtime': 6.9178, 'eval_samples_per_second': 216.832, 'eval_steps_per_second': 54.208, 'epoch': 1.69}\n"
     ]
    },
    {
     "name": "stderr",
     "output_type": "stream",
     "text": [
      "Model weights saved in /home/agusriscos/verifiable-phrase-detection/training/bert/checkpoint-7500/pytorch_model.bin\n",
      "***** Running Evaluation *****\n",
      "  Num examples = 1500\n",
      "  Batch size = 4\n"
     ]
    },
    {
     "name": "stdout",
     "output_type": "stream",
     "text": [
      "{'loss': 0.0931, 'learning_rate': 8.5988598859886e-06, 'epoch': 1.71}\n"
     ]
    },
    {
     "name": "stderr",
     "output_type": "stream",
     "text": [
      "Saving model checkpoint to /home/agusriscos/verifiable-phrase-detection/training/bert/checkpoint-7600\n",
      "Configuration saved in /home/agusriscos/verifiable-phrase-detection/training/bert/checkpoint-7600/config.json\n"
     ]
    },
    {
     "name": "stdout",
     "output_type": "stream",
     "text": [
      "{'eval_loss': 0.3757692873477936, 'eval_accuracy': 0.9386666666666666, 'eval_f1': 0.5533980582524272, 'eval_precision': 0.5816326530612245, 'eval_recall': 0.5277777777777778, 'eval_runtime': 6.9277, 'eval_samples_per_second': 216.523, 'eval_steps_per_second': 54.131, 'epoch': 1.71}\n"
     ]
    },
    {
     "name": "stderr",
     "output_type": "stream",
     "text": [
      "Model weights saved in /home/agusriscos/verifiable-phrase-detection/training/bert/checkpoint-7600/pytorch_model.bin\n",
      "***** Running Evaluation *****\n",
      "  Num examples = 1500\n",
      "  Batch size = 4\n"
     ]
    },
    {
     "name": "stdout",
     "output_type": "stream",
     "text": [
      "{'loss': 0.0964, 'learning_rate': 8.44884488448845e-06, 'epoch': 1.73}\n"
     ]
    },
    {
     "name": "stderr",
     "output_type": "stream",
     "text": [
      "Saving model checkpoint to /home/agusriscos/verifiable-phrase-detection/training/bert/checkpoint-7700\n",
      "Configuration saved in /home/agusriscos/verifiable-phrase-detection/training/bert/checkpoint-7700/config.json\n"
     ]
    },
    {
     "name": "stdout",
     "output_type": "stream",
     "text": [
      "{'eval_loss': 0.3789653778076172, 'eval_accuracy': 0.928, 'eval_f1': 0.6, 'eval_precision': 0.5, 'eval_recall': 0.75, 'eval_runtime': 6.9183, 'eval_samples_per_second': 216.817, 'eval_steps_per_second': 54.204, 'epoch': 1.73}\n"
     ]
    },
    {
     "name": "stderr",
     "output_type": "stream",
     "text": [
      "Model weights saved in /home/agusriscos/verifiable-phrase-detection/training/bert/checkpoint-7700/pytorch_model.bin\n",
      "***** Running Evaluation *****\n",
      "  Num examples = 1500\n",
      "  Batch size = 4\n"
     ]
    },
    {
     "name": "stdout",
     "output_type": "stream",
     "text": [
      "{'loss': 0.0776, 'learning_rate': 8.2988298829883e-06, 'epoch': 1.76}\n"
     ]
    },
    {
     "name": "stderr",
     "output_type": "stream",
     "text": [
      "Saving model checkpoint to /home/agusriscos/verifiable-phrase-detection/training/bert/checkpoint-7800\n",
      "Configuration saved in /home/agusriscos/verifiable-phrase-detection/training/bert/checkpoint-7800/config.json\n"
     ]
    },
    {
     "name": "stdout",
     "output_type": "stream",
     "text": [
      "{'eval_loss': 0.35356494784355164, 'eval_accuracy': 0.9386666666666666, 'eval_f1': 0.6134453781512605, 'eval_precision': 0.5615384615384615, 'eval_recall': 0.6759259259259259, 'eval_runtime': 6.919, 'eval_samples_per_second': 216.793, 'eval_steps_per_second': 54.198, 'epoch': 1.76}\n"
     ]
    },
    {
     "name": "stderr",
     "output_type": "stream",
     "text": [
      "Model weights saved in /home/agusriscos/verifiable-phrase-detection/training/bert/checkpoint-7800/pytorch_model.bin\n",
      "***** Running Evaluation *****\n",
      "  Num examples = 1500\n",
      "  Batch size = 4\n"
     ]
    },
    {
     "name": "stdout",
     "output_type": "stream",
     "text": [
      "{'loss': 0.1005, 'learning_rate': 8.14881488148815e-06, 'epoch': 1.78}\n"
     ]
    },
    {
     "name": "stderr",
     "output_type": "stream",
     "text": [
      "Saving model checkpoint to /home/agusriscos/verifiable-phrase-detection/training/bert/checkpoint-7900\n",
      "Configuration saved in /home/agusriscos/verifiable-phrase-detection/training/bert/checkpoint-7900/config.json\n"
     ]
    },
    {
     "name": "stdout",
     "output_type": "stream",
     "text": [
      "{'eval_loss': 0.36717700958251953, 'eval_accuracy': 0.9313333333333333, 'eval_f1': 0.596078431372549, 'eval_precision': 0.5170068027210885, 'eval_recall': 0.7037037037037037, 'eval_runtime': 6.9234, 'eval_samples_per_second': 216.656, 'eval_steps_per_second': 54.164, 'epoch': 1.78}\n"
     ]
    },
    {
     "name": "stderr",
     "output_type": "stream",
     "text": [
      "Model weights saved in /home/agusriscos/verifiable-phrase-detection/training/bert/checkpoint-7900/pytorch_model.bin\n",
      "***** Running Evaluation *****\n",
      "  Num examples = 1500\n",
      "  Batch size = 4\n"
     ]
    },
    {
     "name": "stdout",
     "output_type": "stream",
     "text": [
      "{'loss': 0.0383, 'learning_rate': 7.998799879988e-06, 'epoch': 1.8}\n"
     ]
    },
    {
     "name": "stderr",
     "output_type": "stream",
     "text": [
      "Saving model checkpoint to /home/agusriscos/verifiable-phrase-detection/training/bert/checkpoint-8000\n",
      "Configuration saved in /home/agusriscos/verifiable-phrase-detection/training/bert/checkpoint-8000/config.json\n"
     ]
    },
    {
     "name": "stdout",
     "output_type": "stream",
     "text": [
      "{'eval_loss': 0.36757099628448486, 'eval_accuracy': 0.9426666666666667, 'eval_f1': 0.5274725274725275, 'eval_precision': 0.6486486486486487, 'eval_recall': 0.4444444444444444, 'eval_runtime': 6.9127, 'eval_samples_per_second': 216.993, 'eval_steps_per_second': 54.248, 'epoch': 1.8}\n"
     ]
    },
    {
     "name": "stderr",
     "output_type": "stream",
     "text": [
      "Model weights saved in /home/agusriscos/verifiable-phrase-detection/training/bert/checkpoint-8000/pytorch_model.bin\n",
      "***** Running Evaluation *****\n",
      "  Num examples = 1500\n",
      "  Batch size = 4\n"
     ]
    },
    {
     "name": "stdout",
     "output_type": "stream",
     "text": [
      "{'loss': 0.0891, 'learning_rate': 7.84878487848785e-06, 'epoch': 1.82}\n"
     ]
    },
    {
     "name": "stderr",
     "output_type": "stream",
     "text": [
      "Saving model checkpoint to /home/agusriscos/verifiable-phrase-detection/training/bert/checkpoint-8100\n",
      "Configuration saved in /home/agusriscos/verifiable-phrase-detection/training/bert/checkpoint-8100/config.json\n"
     ]
    },
    {
     "name": "stdout",
     "output_type": "stream",
     "text": [
      "{'eval_loss': 0.3183174133300781, 'eval_accuracy': 0.9426666666666667, 'eval_f1': 0.6055045871559633, 'eval_precision': 0.6, 'eval_recall': 0.6111111111111112, 'eval_runtime': 6.9201, 'eval_samples_per_second': 216.759, 'eval_steps_per_second': 54.19, 'epoch': 1.82}\n"
     ]
    },
    {
     "name": "stderr",
     "output_type": "stream",
     "text": [
      "Model weights saved in /home/agusriscos/verifiable-phrase-detection/training/bert/checkpoint-8100/pytorch_model.bin\n",
      "***** Running Evaluation *****\n",
      "  Num examples = 1500\n",
      "  Batch size = 4\n"
     ]
    },
    {
     "name": "stdout",
     "output_type": "stream",
     "text": [
      "{'loss': 0.1175, 'learning_rate': 7.6987698769877e-06, 'epoch': 1.85}\n"
     ]
    },
    {
     "name": "stderr",
     "output_type": "stream",
     "text": [
      "Saving model checkpoint to /home/agusriscos/verifiable-phrase-detection/training/bert/checkpoint-8200\n",
      "Configuration saved in /home/agusriscos/verifiable-phrase-detection/training/bert/checkpoint-8200/config.json\n"
     ]
    },
    {
     "name": "stdout",
     "output_type": "stream",
     "text": [
      "{'eval_loss': 0.2890465557575226, 'eval_accuracy': 0.944, 'eval_f1': 0.5922330097087378, 'eval_precision': 0.6224489795918368, 'eval_recall': 0.5648148148148148, 'eval_runtime': 6.9177, 'eval_samples_per_second': 216.836, 'eval_steps_per_second': 54.209, 'epoch': 1.85}\n"
     ]
    },
    {
     "name": "stderr",
     "output_type": "stream",
     "text": [
      "Model weights saved in /home/agusriscos/verifiable-phrase-detection/training/bert/checkpoint-8200/pytorch_model.bin\n",
      "***** Running Evaluation *****\n",
      "  Num examples = 1500\n",
      "  Batch size = 4\n"
     ]
    },
    {
     "name": "stdout",
     "output_type": "stream",
     "text": [
      "{'loss': 0.0683, 'learning_rate': 7.548754875487549e-06, 'epoch': 1.87}\n"
     ]
    },
    {
     "name": "stderr",
     "output_type": "stream",
     "text": [
      "Saving model checkpoint to /home/agusriscos/verifiable-phrase-detection/training/bert/checkpoint-8300\n",
      "Configuration saved in /home/agusriscos/verifiable-phrase-detection/training/bert/checkpoint-8300/config.json\n"
     ]
    },
    {
     "name": "stdout",
     "output_type": "stream",
     "text": [
      "{'eval_loss': 0.29045069217681885, 'eval_accuracy': 0.9413333333333334, 'eval_f1': 0.6106194690265486, 'eval_precision': 0.5847457627118644, 'eval_recall': 0.6388888888888888, 'eval_runtime': 6.9195, 'eval_samples_per_second': 216.779, 'eval_steps_per_second': 54.195, 'epoch': 1.87}\n"
     ]
    },
    {
     "name": "stderr",
     "output_type": "stream",
     "text": [
      "Model weights saved in /home/agusriscos/verifiable-phrase-detection/training/bert/checkpoint-8300/pytorch_model.bin\n",
      "***** Running Evaluation *****\n",
      "  Num examples = 1500\n",
      "  Batch size = 4\n"
     ]
    },
    {
     "name": "stdout",
     "output_type": "stream",
     "text": [
      "{'loss': 0.0177, 'learning_rate': 7.398739873987399e-06, 'epoch': 1.89}\n"
     ]
    },
    {
     "name": "stderr",
     "output_type": "stream",
     "text": [
      "Saving model checkpoint to /home/agusriscos/verifiable-phrase-detection/training/bert/checkpoint-8400\n",
      "Configuration saved in /home/agusriscos/verifiable-phrase-detection/training/bert/checkpoint-8400/config.json\n"
     ]
    },
    {
     "name": "stdout",
     "output_type": "stream",
     "text": [
      "{'eval_loss': 0.3313397467136383, 'eval_accuracy': 0.942, 'eval_f1': 0.5953488372093022, 'eval_precision': 0.5981308411214953, 'eval_recall': 0.5925925925925926, 'eval_runtime': 6.9173, 'eval_samples_per_second': 216.849, 'eval_steps_per_second': 54.212, 'epoch': 1.89}\n"
     ]
    },
    {
     "name": "stderr",
     "output_type": "stream",
     "text": [
      "Model weights saved in /home/agusriscos/verifiable-phrase-detection/training/bert/checkpoint-8400/pytorch_model.bin\n",
      "***** Running Evaluation *****\n",
      "  Num examples = 1500\n",
      "  Batch size = 4\n"
     ]
    },
    {
     "name": "stdout",
     "output_type": "stream",
     "text": [
      "{'loss': 0.063, 'learning_rate': 7.248724872487249e-06, 'epoch': 1.91}\n"
     ]
    },
    {
     "name": "stderr",
     "output_type": "stream",
     "text": [
      "Saving model checkpoint to /home/agusriscos/verifiable-phrase-detection/training/bert/checkpoint-8500\n",
      "Configuration saved in /home/agusriscos/verifiable-phrase-detection/training/bert/checkpoint-8500/config.json\n"
     ]
    },
    {
     "name": "stdout",
     "output_type": "stream",
     "text": [
      "{'eval_loss': 0.3819703757762909, 'eval_accuracy': 0.938, 'eval_f1': 0.5418719211822661, 'eval_precision': 0.5789473684210527, 'eval_recall': 0.5092592592592593, 'eval_runtime': 6.9219, 'eval_samples_per_second': 216.704, 'eval_steps_per_second': 54.176, 'epoch': 1.91}\n"
     ]
    },
    {
     "name": "stderr",
     "output_type": "stream",
     "text": [
      "Model weights saved in /home/agusriscos/verifiable-phrase-detection/training/bert/checkpoint-8500/pytorch_model.bin\n",
      "***** Running Evaluation *****\n",
      "  Num examples = 1500\n",
      "  Batch size = 4\n"
     ]
    },
    {
     "name": "stdout",
     "output_type": "stream",
     "text": [
      "{'loss': 0.0674, 'learning_rate': 7.098709870987099e-06, 'epoch': 1.94}\n"
     ]
    },
    {
     "name": "stderr",
     "output_type": "stream",
     "text": [
      "Saving model checkpoint to /home/agusriscos/verifiable-phrase-detection/training/bert/checkpoint-8600\n",
      "Configuration saved in /home/agusriscos/verifiable-phrase-detection/training/bert/checkpoint-8600/config.json\n"
     ]
    },
    {
     "name": "stdout",
     "output_type": "stream",
     "text": [
      "{'eval_loss': 0.48956891894340515, 'eval_accuracy': 0.924, 'eval_f1': 0.5777777777777777, 'eval_precision': 0.48148148148148145, 'eval_recall': 0.7222222222222222, 'eval_runtime': 6.9265, 'eval_samples_per_second': 216.559, 'eval_steps_per_second': 54.14, 'epoch': 1.94}\n"
     ]
    },
    {
     "name": "stderr",
     "output_type": "stream",
     "text": [
      "Model weights saved in /home/agusriscos/verifiable-phrase-detection/training/bert/checkpoint-8600/pytorch_model.bin\n",
      "***** Running Evaluation *****\n",
      "  Num examples = 1500\n",
      "  Batch size = 4\n"
     ]
    },
    {
     "name": "stdout",
     "output_type": "stream",
     "text": [
      "{'loss': 0.1364, 'learning_rate': 6.948694869486949e-06, 'epoch': 1.96}\n"
     ]
    },
    {
     "name": "stderr",
     "output_type": "stream",
     "text": [
      "Saving model checkpoint to /home/agusriscos/verifiable-phrase-detection/training/bert/checkpoint-8700\n",
      "Configuration saved in /home/agusriscos/verifiable-phrase-detection/training/bert/checkpoint-8700/config.json\n"
     ]
    },
    {
     "name": "stdout",
     "output_type": "stream",
     "text": [
      "{'eval_loss': 0.302796334028244, 'eval_accuracy': 0.9406666666666667, 'eval_f1': 0.5340314136125655, 'eval_precision': 0.6144578313253012, 'eval_recall': 0.4722222222222222, 'eval_runtime': 6.9421, 'eval_samples_per_second': 216.073, 'eval_steps_per_second': 54.018, 'epoch': 1.96}\n"
     ]
    },
    {
     "name": "stderr",
     "output_type": "stream",
     "text": [
      "Model weights saved in /home/agusriscos/verifiable-phrase-detection/training/bert/checkpoint-8700/pytorch_model.bin\n",
      "***** Running Evaluation *****\n",
      "  Num examples = 1500\n",
      "  Batch size = 4\n"
     ]
    },
    {
     "name": "stdout",
     "output_type": "stream",
     "text": [
      "{'loss': 0.0454, 'learning_rate': 6.798679867986799e-06, 'epoch': 1.98}\n"
     ]
    },
    {
     "name": "stderr",
     "output_type": "stream",
     "text": [
      "Saving model checkpoint to /home/agusriscos/verifiable-phrase-detection/training/bert/checkpoint-8800\n",
      "Configuration saved in /home/agusriscos/verifiable-phrase-detection/training/bert/checkpoint-8800/config.json\n"
     ]
    },
    {
     "name": "stdout",
     "output_type": "stream",
     "text": [
      "{'eval_loss': 0.3691161572933197, 'eval_accuracy': 0.9413333333333334, 'eval_f1': 0.5809523809523809, 'eval_precision': 0.5980392156862745, 'eval_recall': 0.5648148148148148, 'eval_runtime': 6.9304, 'eval_samples_per_second': 216.437, 'eval_steps_per_second': 54.109, 'epoch': 1.98}\n"
     ]
    },
    {
     "name": "stderr",
     "output_type": "stream",
     "text": [
      "Model weights saved in /home/agusriscos/verifiable-phrase-detection/training/bert/checkpoint-8800/pytorch_model.bin\n",
      "***** Running Evaluation *****\n",
      "  Num examples = 1500\n",
      "  Batch size = 4\n"
     ]
    },
    {
     "name": "stdout",
     "output_type": "stream",
     "text": [
      "{'loss': 0.0667, 'learning_rate': 6.648664866486649e-06, 'epoch': 2.0}\n"
     ]
    },
    {
     "name": "stderr",
     "output_type": "stream",
     "text": [
      "Saving model checkpoint to /home/agusriscos/verifiable-phrase-detection/training/bert/checkpoint-8900\n",
      "Configuration saved in /home/agusriscos/verifiable-phrase-detection/training/bert/checkpoint-8900/config.json\n"
     ]
    },
    {
     "name": "stdout",
     "output_type": "stream",
     "text": [
      "{'eval_loss': 0.3979044556617737, 'eval_accuracy': 0.9406666666666667, 'eval_f1': 0.6044444444444445, 'eval_precision': 0.5811965811965812, 'eval_recall': 0.6296296296296297, 'eval_runtime': 6.9276, 'eval_samples_per_second': 216.525, 'eval_steps_per_second': 54.131, 'epoch': 2.0}\n"
     ]
    },
    {
     "name": "stderr",
     "output_type": "stream",
     "text": [
      "Model weights saved in /home/agusriscos/verifiable-phrase-detection/training/bert/checkpoint-8900/pytorch_model.bin\n",
      "***** Running Evaluation *****\n",
      "  Num examples = 1500\n",
      "  Batch size = 4\n"
     ]
    },
    {
     "name": "stdout",
     "output_type": "stream",
     "text": [
      "{'loss': 0.0001, 'learning_rate': 6.498649864986499e-06, 'epoch': 2.03}\n"
     ]
    },
    {
     "name": "stderr",
     "output_type": "stream",
     "text": [
      "Saving model checkpoint to /home/agusriscos/verifiable-phrase-detection/training/bert/checkpoint-9000\n",
      "Configuration saved in /home/agusriscos/verifiable-phrase-detection/training/bert/checkpoint-9000/config.json\n"
     ]
    },
    {
     "name": "stdout",
     "output_type": "stream",
     "text": [
      "{'eval_loss': 0.4160354733467102, 'eval_accuracy': 0.9386666666666666, 'eval_f1': 0.5740740740740741, 'eval_precision': 0.5740740740740741, 'eval_recall': 0.5740740740740741, 'eval_runtime': 6.9256, 'eval_samples_per_second': 216.589, 'eval_steps_per_second': 54.147, 'epoch': 2.03}\n"
     ]
    },
    {
     "name": "stderr",
     "output_type": "stream",
     "text": [
      "Model weights saved in /home/agusriscos/verifiable-phrase-detection/training/bert/checkpoint-9000/pytorch_model.bin\n",
      "***** Running Evaluation *****\n",
      "  Num examples = 1500\n",
      "  Batch size = 4\n"
     ]
    },
    {
     "name": "stdout",
     "output_type": "stream",
     "text": [
      "{'loss': 0.0303, 'learning_rate': 6.348634863486349e-06, 'epoch': 2.05}\n"
     ]
    },
    {
     "name": "stderr",
     "output_type": "stream",
     "text": [
      "Saving model checkpoint to /home/agusriscos/verifiable-phrase-detection/training/bert/checkpoint-9100\n",
      "Configuration saved in /home/agusriscos/verifiable-phrase-detection/training/bert/checkpoint-9100/config.json\n"
     ]
    },
    {
     "name": "stdout",
     "output_type": "stream",
     "text": [
      "{'eval_loss': 0.4180752635002136, 'eval_accuracy': 0.9386666666666666, 'eval_f1': 0.5576923076923077, 'eval_precision': 0.58, 'eval_recall': 0.5370370370370371, 'eval_runtime': 6.924, 'eval_samples_per_second': 216.638, 'eval_steps_per_second': 54.16, 'epoch': 2.05}\n"
     ]
    },
    {
     "name": "stderr",
     "output_type": "stream",
     "text": [
      "Model weights saved in /home/agusriscos/verifiable-phrase-detection/training/bert/checkpoint-9100/pytorch_model.bin\n",
      "***** Running Evaluation *****\n",
      "  Num examples = 1500\n",
      "  Batch size = 4\n"
     ]
    },
    {
     "name": "stdout",
     "output_type": "stream",
     "text": [
      "{'loss': 0.0001, 'learning_rate': 6.198619861986199e-06, 'epoch': 2.07}\n"
     ]
    },
    {
     "name": "stderr",
     "output_type": "stream",
     "text": [
      "Saving model checkpoint to /home/agusriscos/verifiable-phrase-detection/training/bert/checkpoint-9200\n",
      "Configuration saved in /home/agusriscos/verifiable-phrase-detection/training/bert/checkpoint-9200/config.json\n"
     ]
    },
    {
     "name": "stdout",
     "output_type": "stream",
     "text": [
      "{'eval_loss': 0.4340257942676544, 'eval_accuracy': 0.94, 'eval_f1': 0.5631067961165048, 'eval_precision': 0.5918367346938775, 'eval_recall': 0.5370370370370371, 'eval_runtime': 6.9216, 'eval_samples_per_second': 216.712, 'eval_steps_per_second': 54.178, 'epoch': 2.07}\n"
     ]
    },
    {
     "name": "stderr",
     "output_type": "stream",
     "text": [
      "Model weights saved in /home/agusriscos/verifiable-phrase-detection/training/bert/checkpoint-9200/pytorch_model.bin\n",
      "***** Running Evaluation *****\n",
      "  Num examples = 1500\n",
      "  Batch size = 4\n"
     ]
    },
    {
     "name": "stdout",
     "output_type": "stream",
     "text": [
      "{'loss': 0.0053, 'learning_rate': 6.048604860486049e-06, 'epoch': 2.09}\n"
     ]
    },
    {
     "name": "stderr",
     "output_type": "stream",
     "text": [
      "Saving model checkpoint to /home/agusriscos/verifiable-phrase-detection/training/bert/checkpoint-9300\n",
      "Configuration saved in /home/agusriscos/verifiable-phrase-detection/training/bert/checkpoint-9300/config.json\n"
     ]
    },
    {
     "name": "stdout",
     "output_type": "stream",
     "text": [
      "{'eval_loss': 0.44089779257774353, 'eval_accuracy': 0.94, 'eval_f1': 0.55, 'eval_precision': 0.5978260869565217, 'eval_recall': 0.5092592592592593, 'eval_runtime': 6.9106, 'eval_samples_per_second': 217.057, 'eval_steps_per_second': 54.264, 'epoch': 2.09}\n"
     ]
    },
    {
     "name": "stderr",
     "output_type": "stream",
     "text": [
      "Model weights saved in /home/agusriscos/verifiable-phrase-detection/training/bert/checkpoint-9300/pytorch_model.bin\n",
      "***** Running Evaluation *****\n",
      "  Num examples = 1500\n",
      "  Batch size = 4\n"
     ]
    },
    {
     "name": "stdout",
     "output_type": "stream",
     "text": [
      "{'loss': 0.0351, 'learning_rate': 5.898589858985899e-06, 'epoch': 2.12}\n"
     ]
    },
    {
     "name": "stderr",
     "output_type": "stream",
     "text": [
      "Saving model checkpoint to /home/agusriscos/verifiable-phrase-detection/training/bert/checkpoint-9400\n",
      "Configuration saved in /home/agusriscos/verifiable-phrase-detection/training/bert/checkpoint-9400/config.json\n"
     ]
    },
    {
     "name": "stdout",
     "output_type": "stream",
     "text": [
      "{'eval_loss': 0.4021068811416626, 'eval_accuracy': 0.942, 'eval_f1': 0.5990783410138248, 'eval_precision': 0.5963302752293578, 'eval_recall': 0.6018518518518519, 'eval_runtime': 6.9157, 'eval_samples_per_second': 216.898, 'eval_steps_per_second': 54.224, 'epoch': 2.12}\n"
     ]
    },
    {
     "name": "stderr",
     "output_type": "stream",
     "text": [
      "Model weights saved in /home/agusriscos/verifiable-phrase-detection/training/bert/checkpoint-9400/pytorch_model.bin\n",
      "***** Running Evaluation *****\n",
      "  Num examples = 1500\n",
      "  Batch size = 4\n"
     ]
    },
    {
     "name": "stdout",
     "output_type": "stream",
     "text": [
      "{'loss': 0.0105, 'learning_rate': 5.748574857485749e-06, 'epoch': 2.14}\n"
     ]
    },
    {
     "name": "stderr",
     "output_type": "stream",
     "text": [
      "Saving model checkpoint to /home/agusriscos/verifiable-phrase-detection/training/bert/checkpoint-9500\n",
      "Configuration saved in /home/agusriscos/verifiable-phrase-detection/training/bert/checkpoint-9500/config.json\n"
     ]
    },
    {
     "name": "stdout",
     "output_type": "stream",
     "text": [
      "{'eval_loss': 0.4189697206020355, 'eval_accuracy': 0.9413333333333334, 'eval_f1': 0.6363636363636365, 'eval_precision': 0.5746268656716418, 'eval_recall': 0.7129629629629629, 'eval_runtime': 6.9155, 'eval_samples_per_second': 216.903, 'eval_steps_per_second': 54.226, 'epoch': 2.14}\n"
     ]
    },
    {
     "name": "stderr",
     "output_type": "stream",
     "text": [
      "Model weights saved in /home/agusriscos/verifiable-phrase-detection/training/bert/checkpoint-9500/pytorch_model.bin\n",
      "***** Running Evaluation *****\n",
      "  Num examples = 1500\n",
      "  Batch size = 4\n"
     ]
    },
    {
     "name": "stdout",
     "output_type": "stream",
     "text": [
      "{'loss': 0.0001, 'learning_rate': 5.598559855985599e-06, 'epoch': 2.16}\n"
     ]
    },
    {
     "name": "stderr",
     "output_type": "stream",
     "text": [
      "Saving model checkpoint to /home/agusriscos/verifiable-phrase-detection/training/bert/checkpoint-9600\n",
      "Configuration saved in /home/agusriscos/verifiable-phrase-detection/training/bert/checkpoint-9600/config.json\n"
     ]
    },
    {
     "name": "stdout",
     "output_type": "stream",
     "text": [
      "{'eval_loss': 0.42881184816360474, 'eval_accuracy': 0.9413333333333334, 'eval_f1': 0.6239316239316239, 'eval_precision': 0.5793650793650794, 'eval_recall': 0.6759259259259259, 'eval_runtime': 6.9175, 'eval_samples_per_second': 216.842, 'eval_steps_per_second': 54.21, 'epoch': 2.16}\n"
     ]
    },
    {
     "name": "stderr",
     "output_type": "stream",
     "text": [
      "Model weights saved in /home/agusriscos/verifiable-phrase-detection/training/bert/checkpoint-9600/pytorch_model.bin\n",
      "***** Running Evaluation *****\n",
      "  Num examples = 1500\n",
      "  Batch size = 4\n"
     ]
    },
    {
     "name": "stdout",
     "output_type": "stream",
     "text": [
      "{'loss': 0.0256, 'learning_rate': 5.448544854485449e-06, 'epoch': 2.18}\n"
     ]
    },
    {
     "name": "stderr",
     "output_type": "stream",
     "text": [
      "Saving model checkpoint to /home/agusriscos/verifiable-phrase-detection/training/bert/checkpoint-9700\n",
      "Configuration saved in /home/agusriscos/verifiable-phrase-detection/training/bert/checkpoint-9700/config.json\n"
     ]
    },
    {
     "name": "stdout",
     "output_type": "stream",
     "text": [
      "{'eval_loss': 0.3930528163909912, 'eval_accuracy': 0.9433333333333334, 'eval_f1': 0.6153846153846153, 'eval_precision': 0.6017699115044248, 'eval_recall': 0.6296296296296297, 'eval_runtime': 6.9082, 'eval_samples_per_second': 217.134, 'eval_steps_per_second': 54.284, 'epoch': 2.18}\n"
     ]
    },
    {
     "name": "stderr",
     "output_type": "stream",
     "text": [
      "Model weights saved in /home/agusriscos/verifiable-phrase-detection/training/bert/checkpoint-9700/pytorch_model.bin\n",
      "***** Running Evaluation *****\n",
      "  Num examples = 1500\n",
      "  Batch size = 4\n"
     ]
    },
    {
     "name": "stdout",
     "output_type": "stream",
     "text": [
      "{'loss': 0.0572, 'learning_rate': 5.298529852985299e-06, 'epoch': 2.21}\n"
     ]
    },
    {
     "name": "stderr",
     "output_type": "stream",
     "text": [
      "Saving model checkpoint to /home/agusriscos/verifiable-phrase-detection/training/bert/checkpoint-9800\n",
      "Configuration saved in /home/agusriscos/verifiable-phrase-detection/training/bert/checkpoint-9800/config.json\n"
     ]
    },
    {
     "name": "stdout",
     "output_type": "stream",
     "text": [
      "{'eval_loss': 0.41176652908325195, 'eval_accuracy': 0.9346666666666666, 'eval_f1': 0.6141732283464567, 'eval_precision': 0.5342465753424658, 'eval_recall': 0.7222222222222222, 'eval_runtime': 6.9432, 'eval_samples_per_second': 216.04, 'eval_steps_per_second': 54.01, 'epoch': 2.21}\n"
     ]
    },
    {
     "name": "stderr",
     "output_type": "stream",
     "text": [
      "Model weights saved in /home/agusriscos/verifiable-phrase-detection/training/bert/checkpoint-9800/pytorch_model.bin\n",
      "***** Running Evaluation *****\n",
      "  Num examples = 1500\n",
      "  Batch size = 4\n"
     ]
    },
    {
     "name": "stdout",
     "output_type": "stream",
     "text": [
      "{'loss': 0.0419, 'learning_rate': 5.148514851485149e-06, 'epoch': 2.23}\n"
     ]
    },
    {
     "name": "stderr",
     "output_type": "stream",
     "text": [
      "Saving model checkpoint to /home/agusriscos/verifiable-phrase-detection/training/bert/checkpoint-9900\n",
      "Configuration saved in /home/agusriscos/verifiable-phrase-detection/training/bert/checkpoint-9900/config.json\n"
     ]
    },
    {
     "name": "stdout",
     "output_type": "stream",
     "text": [
      "{'eval_loss': 0.4079876244068146, 'eval_accuracy': 0.9426666666666667, 'eval_f1': 0.5567010309278351, 'eval_precision': 0.627906976744186, 'eval_recall': 0.5, 'eval_runtime': 6.9152, 'eval_samples_per_second': 216.912, 'eval_steps_per_second': 54.228, 'epoch': 2.23}\n"
     ]
    },
    {
     "name": "stderr",
     "output_type": "stream",
     "text": [
      "Model weights saved in /home/agusriscos/verifiable-phrase-detection/training/bert/checkpoint-9900/pytorch_model.bin\n",
      "***** Running Evaluation *****\n",
      "  Num examples = 1500\n",
      "  Batch size = 4\n"
     ]
    },
    {
     "name": "stdout",
     "output_type": "stream",
     "text": [
      "{'loss': 0.0319, 'learning_rate': 4.998499849984999e-06, 'epoch': 2.25}\n"
     ]
    },
    {
     "name": "stderr",
     "output_type": "stream",
     "text": [
      "Saving model checkpoint to /home/agusriscos/verifiable-phrase-detection/training/bert/checkpoint-10000\n",
      "Configuration saved in /home/agusriscos/verifiable-phrase-detection/training/bert/checkpoint-10000/config.json\n"
     ]
    },
    {
     "name": "stdout",
     "output_type": "stream",
     "text": [
      "{'eval_loss': 0.4039749205112457, 'eval_accuracy': 0.9413333333333334, 'eval_f1': 0.5686274509803922, 'eval_precision': 0.6041666666666666, 'eval_recall': 0.5370370370370371, 'eval_runtime': 6.919, 'eval_samples_per_second': 216.793, 'eval_steps_per_second': 54.198, 'epoch': 2.25}\n"
     ]
    },
    {
     "name": "stderr",
     "output_type": "stream",
     "text": [
      "Model weights saved in /home/agusriscos/verifiable-phrase-detection/training/bert/checkpoint-10000/pytorch_model.bin\n",
      "***** Running Evaluation *****\n",
      "  Num examples = 1500\n",
      "  Batch size = 4\n"
     ]
    },
    {
     "name": "stdout",
     "output_type": "stream",
     "text": [
      "{'loss': 0.0192, 'learning_rate': 4.848484848484849e-06, 'epoch': 2.27}\n"
     ]
    },
    {
     "name": "stderr",
     "output_type": "stream",
     "text": [
      "Saving model checkpoint to /home/agusriscos/verifiable-phrase-detection/training/bert/checkpoint-10100\n",
      "Configuration saved in /home/agusriscos/verifiable-phrase-detection/training/bert/checkpoint-10100/config.json\n"
     ]
    },
    {
     "name": "stdout",
     "output_type": "stream",
     "text": [
      "{'eval_loss': 0.4104422330856323, 'eval_accuracy': 0.942, 'eval_f1': 0.609865470852018, 'eval_precision': 0.591304347826087, 'eval_recall': 0.6296296296296297, 'eval_runtime': 6.9149, 'eval_samples_per_second': 216.923, 'eval_steps_per_second': 54.231, 'epoch': 2.27}\n"
     ]
    },
    {
     "name": "stderr",
     "output_type": "stream",
     "text": [
      "Model weights saved in /home/agusriscos/verifiable-phrase-detection/training/bert/checkpoint-10100/pytorch_model.bin\n",
      "***** Running Evaluation *****\n",
      "  Num examples = 1500\n",
      "  Batch size = 4\n"
     ]
    },
    {
     "name": "stdout",
     "output_type": "stream",
     "text": [
      "{'loss': 0.0411, 'learning_rate': 4.698469846984699e-06, 'epoch': 2.3}\n"
     ]
    },
    {
     "name": "stderr",
     "output_type": "stream",
     "text": [
      "Saving model checkpoint to /home/agusriscos/verifiable-phrase-detection/training/bert/checkpoint-10200\n",
      "Configuration saved in /home/agusriscos/verifiable-phrase-detection/training/bert/checkpoint-10200/config.json\n"
     ]
    },
    {
     "name": "stdout",
     "output_type": "stream",
     "text": [
      "{'eval_loss': 0.39516323804855347, 'eval_accuracy': 0.9426666666666667, 'eval_f1': 0.5981308411214954, 'eval_precision': 0.6037735849056604, 'eval_recall': 0.5925925925925926, 'eval_runtime': 6.9228, 'eval_samples_per_second': 216.675, 'eval_steps_per_second': 54.169, 'epoch': 2.3}\n"
     ]
    },
    {
     "name": "stderr",
     "output_type": "stream",
     "text": [
      "Model weights saved in /home/agusriscos/verifiable-phrase-detection/training/bert/checkpoint-10200/pytorch_model.bin\n",
      "***** Running Evaluation *****\n",
      "  Num examples = 1500\n",
      "  Batch size = 4\n"
     ]
    },
    {
     "name": "stdout",
     "output_type": "stream",
     "text": [
      "{'loss': 0.0178, 'learning_rate': 4.548454845484549e-06, 'epoch': 2.32}\n"
     ]
    },
    {
     "name": "stderr",
     "output_type": "stream",
     "text": [
      "Saving model checkpoint to /home/agusriscos/verifiable-phrase-detection/training/bert/checkpoint-10300\n",
      "Configuration saved in /home/agusriscos/verifiable-phrase-detection/training/bert/checkpoint-10300/config.json\n"
     ]
    },
    {
     "name": "stdout",
     "output_type": "stream",
     "text": [
      "{'eval_loss': 0.40250155329704285, 'eval_accuracy': 0.9433333333333334, 'eval_f1': 0.6188340807174887, 'eval_precision': 0.6, 'eval_recall': 0.6388888888888888, 'eval_runtime': 6.9238, 'eval_samples_per_second': 216.645, 'eval_steps_per_second': 54.161, 'epoch': 2.32}\n"
     ]
    },
    {
     "name": "stderr",
     "output_type": "stream",
     "text": [
      "Model weights saved in /home/agusriscos/verifiable-phrase-detection/training/bert/checkpoint-10300/pytorch_model.bin\n",
      "***** Running Evaluation *****\n",
      "  Num examples = 1500\n",
      "  Batch size = 4\n"
     ]
    },
    {
     "name": "stdout",
     "output_type": "stream",
     "text": [
      "{'loss': 0.0344, 'learning_rate': 4.398439843984399e-06, 'epoch': 2.34}\n"
     ]
    },
    {
     "name": "stderr",
     "output_type": "stream",
     "text": [
      "Saving model checkpoint to /home/agusriscos/verifiable-phrase-detection/training/bert/checkpoint-10400\n",
      "Configuration saved in /home/agusriscos/verifiable-phrase-detection/training/bert/checkpoint-10400/config.json\n"
     ]
    },
    {
     "name": "stdout",
     "output_type": "stream",
     "text": [
      "{'eval_loss': 0.38653576374053955, 'eval_accuracy': 0.9453333333333334, 'eval_f1': 0.6057692307692308, 'eval_precision': 0.63, 'eval_recall': 0.5833333333333334, 'eval_runtime': 6.9134, 'eval_samples_per_second': 216.969, 'eval_steps_per_second': 54.242, 'epoch': 2.34}\n"
     ]
    },
    {
     "name": "stderr",
     "output_type": "stream",
     "text": [
      "Model weights saved in /home/agusriscos/verifiable-phrase-detection/training/bert/checkpoint-10400/pytorch_model.bin\n",
      "***** Running Evaluation *****\n",
      "  Num examples = 1500\n",
      "  Batch size = 4\n"
     ]
    },
    {
     "name": "stdout",
     "output_type": "stream",
     "text": [
      "{'loss': 0.0122, 'learning_rate': 4.248424842484249e-06, 'epoch': 2.36}\n"
     ]
    },
    {
     "name": "stderr",
     "output_type": "stream",
     "text": [
      "Saving model checkpoint to /home/agusriscos/verifiable-phrase-detection/training/bert/checkpoint-10500\n",
      "Configuration saved in /home/agusriscos/verifiable-phrase-detection/training/bert/checkpoint-10500/config.json\n"
     ]
    },
    {
     "name": "stdout",
     "output_type": "stream",
     "text": [
      "{'eval_loss': 0.3619230091571808, 'eval_accuracy': 0.946, 'eval_f1': 0.6232558139534884, 'eval_precision': 0.6261682242990654, 'eval_recall': 0.6203703703703703, 'eval_runtime': 6.9075, 'eval_samples_per_second': 217.154, 'eval_steps_per_second': 54.289, 'epoch': 2.36}\n"
     ]
    },
    {
     "name": "stderr",
     "output_type": "stream",
     "text": [
      "Model weights saved in /home/agusriscos/verifiable-phrase-detection/training/bert/checkpoint-10500/pytorch_model.bin\n",
      "***** Running Evaluation *****\n",
      "  Num examples = 1500\n",
      "  Batch size = 4\n"
     ]
    },
    {
     "name": "stdout",
     "output_type": "stream",
     "text": [
      "{'loss': 0.0016, 'learning_rate': 4.098409840984099e-06, 'epoch': 2.39}\n"
     ]
    },
    {
     "name": "stderr",
     "output_type": "stream",
     "text": [
      "Saving model checkpoint to /home/agusriscos/verifiable-phrase-detection/training/bert/checkpoint-10600\n",
      "Configuration saved in /home/agusriscos/verifiable-phrase-detection/training/bert/checkpoint-10600/config.json\n"
     ]
    },
    {
     "name": "stdout",
     "output_type": "stream",
     "text": [
      "{'eval_loss': 0.3784271776676178, 'eval_accuracy': 0.946, 'eval_f1': 0.6462882096069869, 'eval_precision': 0.6115702479338843, 'eval_recall': 0.6851851851851852, 'eval_runtime': 6.9117, 'eval_samples_per_second': 217.022, 'eval_steps_per_second': 54.256, 'epoch': 2.39}\n"
     ]
    },
    {
     "name": "stderr",
     "output_type": "stream",
     "text": [
      "Model weights saved in /home/agusriscos/verifiable-phrase-detection/training/bert/checkpoint-10600/pytorch_model.bin\n",
      "***** Running Evaluation *****\n",
      "  Num examples = 1500\n",
      "  Batch size = 4\n"
     ]
    },
    {
     "name": "stdout",
     "output_type": "stream",
     "text": [
      "{'loss': 0.0118, 'learning_rate': 3.948394839483949e-06, 'epoch': 2.41}\n"
     ]
    },
    {
     "name": "stderr",
     "output_type": "stream",
     "text": [
      "Saving model checkpoint to /home/agusriscos/verifiable-phrase-detection/training/bert/checkpoint-10700\n",
      "Configuration saved in /home/agusriscos/verifiable-phrase-detection/training/bert/checkpoint-10700/config.json\n"
     ]
    },
    {
     "name": "stdout",
     "output_type": "stream",
     "text": [
      "{'eval_loss': 0.3669894337654114, 'eval_accuracy': 0.9506666666666667, 'eval_f1': 0.6542056074766356, 'eval_precision': 0.660377358490566, 'eval_recall': 0.6481481481481481, 'eval_runtime': 6.914, 'eval_samples_per_second': 216.952, 'eval_steps_per_second': 54.238, 'epoch': 2.41}\n"
     ]
    },
    {
     "name": "stderr",
     "output_type": "stream",
     "text": [
      "Model weights saved in /home/agusriscos/verifiable-phrase-detection/training/bert/checkpoint-10700/pytorch_model.bin\n",
      "***** Running Evaluation *****\n",
      "  Num examples = 1500\n",
      "  Batch size = 4\n"
     ]
    },
    {
     "name": "stdout",
     "output_type": "stream",
     "text": [
      "{'loss': 0.0209, 'learning_rate': 3.7983798379837986e-06, 'epoch': 2.43}\n"
     ]
    },
    {
     "name": "stderr",
     "output_type": "stream",
     "text": [
      "Saving model checkpoint to /home/agusriscos/verifiable-phrase-detection/training/bert/checkpoint-10800\n",
      "Configuration saved in /home/agusriscos/verifiable-phrase-detection/training/bert/checkpoint-10800/config.json\n"
     ]
    },
    {
     "name": "stdout",
     "output_type": "stream",
     "text": [
      "{'eval_loss': 0.3977032005786896, 'eval_accuracy': 0.9453333333333334, 'eval_f1': 0.652542372881356, 'eval_precision': 0.6015625, 'eval_recall': 0.7129629629629629, 'eval_runtime': 6.9124, 'eval_samples_per_second': 217.001, 'eval_steps_per_second': 54.25, 'epoch': 2.43}\n"
     ]
    },
    {
     "name": "stderr",
     "output_type": "stream",
     "text": [
      "Model weights saved in /home/agusriscos/verifiable-phrase-detection/training/bert/checkpoint-10800/pytorch_model.bin\n",
      "***** Running Evaluation *****\n",
      "  Num examples = 1500\n",
      "  Batch size = 4\n"
     ]
    },
    {
     "name": "stdout",
     "output_type": "stream",
     "text": [
      "{'loss': 0.0344, 'learning_rate': 3.6483648364836486e-06, 'epoch': 2.45}\n"
     ]
    },
    {
     "name": "stderr",
     "output_type": "stream",
     "text": [
      "Saving model checkpoint to /home/agusriscos/verifiable-phrase-detection/training/bert/checkpoint-10900\n",
      "Configuration saved in /home/agusriscos/verifiable-phrase-detection/training/bert/checkpoint-10900/config.json\n"
     ]
    },
    {
     "name": "stdout",
     "output_type": "stream",
     "text": [
      "{'eval_loss': 0.4017513394355774, 'eval_accuracy': 0.9486666666666667, 'eval_f1': 0.6350710900473934, 'eval_precision': 0.6504854368932039, 'eval_recall': 0.6203703703703703, 'eval_runtime': 7.201, 'eval_samples_per_second': 208.305, 'eval_steps_per_second': 52.076, 'epoch': 2.45}\n"
     ]
    },
    {
     "name": "stderr",
     "output_type": "stream",
     "text": [
      "Model weights saved in /home/agusriscos/verifiable-phrase-detection/training/bert/checkpoint-10900/pytorch_model.bin\n",
      "***** Running Evaluation *****\n",
      "  Num examples = 1500\n",
      "  Batch size = 4\n"
     ]
    },
    {
     "name": "stdout",
     "output_type": "stream",
     "text": [
      "{'loss': 0.0003, 'learning_rate': 3.4983498349834986e-06, 'epoch': 2.48}\n"
     ]
    },
    {
     "name": "stderr",
     "output_type": "stream",
     "text": [
      "Saving model checkpoint to /home/agusriscos/verifiable-phrase-detection/training/bert/checkpoint-11000\n",
      "Configuration saved in /home/agusriscos/verifiable-phrase-detection/training/bert/checkpoint-11000/config.json\n"
     ]
    },
    {
     "name": "stdout",
     "output_type": "stream",
     "text": [
      "{'eval_loss': 0.43128764629364014, 'eval_accuracy': 0.946, 'eval_f1': 0.6301369863013699, 'eval_precision': 0.6216216216216216, 'eval_recall': 0.6388888888888888, 'eval_runtime': 6.9218, 'eval_samples_per_second': 216.708, 'eval_steps_per_second': 54.177, 'epoch': 2.48}\n"
     ]
    },
    {
     "name": "stderr",
     "output_type": "stream",
     "text": [
      "Model weights saved in /home/agusriscos/verifiable-phrase-detection/training/bert/checkpoint-11000/pytorch_model.bin\n",
      "***** Running Evaluation *****\n",
      "  Num examples = 1500\n",
      "  Batch size = 4\n"
     ]
    },
    {
     "name": "stdout",
     "output_type": "stream",
     "text": [
      "{'loss': 0.0, 'learning_rate': 3.3483348334833486e-06, 'epoch': 2.5}\n"
     ]
    },
    {
     "name": "stderr",
     "output_type": "stream",
     "text": [
      "Saving model checkpoint to /home/agusriscos/verifiable-phrase-detection/training/bert/checkpoint-11100\n",
      "Configuration saved in /home/agusriscos/verifiable-phrase-detection/training/bert/checkpoint-11100/config.json\n"
     ]
    },
    {
     "name": "stdout",
     "output_type": "stream",
     "text": [
      "{'eval_loss': 0.4377919137477875, 'eval_accuracy': 0.946, 'eval_f1': 0.6301369863013699, 'eval_precision': 0.6216216216216216, 'eval_recall': 0.6388888888888888, 'eval_runtime': 6.9234, 'eval_samples_per_second': 216.657, 'eval_steps_per_second': 54.164, 'epoch': 2.5}\n"
     ]
    },
    {
     "name": "stderr",
     "output_type": "stream",
     "text": [
      "Model weights saved in /home/agusriscos/verifiable-phrase-detection/training/bert/checkpoint-11100/pytorch_model.bin\n",
      "***** Running Evaluation *****\n",
      "  Num examples = 1500\n",
      "  Batch size = 4\n"
     ]
    },
    {
     "name": "stdout",
     "output_type": "stream",
     "text": [
      "{'loss': 0.0364, 'learning_rate': 3.1983198319831986e-06, 'epoch': 2.52}\n"
     ]
    },
    {
     "name": "stderr",
     "output_type": "stream",
     "text": [
      "Saving model checkpoint to /home/agusriscos/verifiable-phrase-detection/training/bert/checkpoint-11200\n",
      "Configuration saved in /home/agusriscos/verifiable-phrase-detection/training/bert/checkpoint-11200/config.json\n"
     ]
    },
    {
     "name": "stdout",
     "output_type": "stream",
     "text": [
      "{'eval_loss': 0.47530293464660645, 'eval_accuracy': 0.9393333333333334, 'eval_f1': 0.6345381526104419, 'eval_precision': 0.5602836879432624, 'eval_recall': 0.7314814814814815, 'eval_runtime': 6.9156, 'eval_samples_per_second': 216.901, 'eval_steps_per_second': 54.225, 'epoch': 2.52}\n"
     ]
    },
    {
     "name": "stderr",
     "output_type": "stream",
     "text": [
      "Model weights saved in /home/agusriscos/verifiable-phrase-detection/training/bert/checkpoint-11200/pytorch_model.bin\n",
      "***** Running Evaluation *****\n",
      "  Num examples = 1500\n",
      "  Batch size = 4\n"
     ]
    },
    {
     "name": "stdout",
     "output_type": "stream",
     "text": [
      "{'loss': 0.0176, 'learning_rate': 3.0483048304830485e-06, 'epoch': 2.54}\n"
     ]
    },
    {
     "name": "stderr",
     "output_type": "stream",
     "text": [
      "Saving model checkpoint to /home/agusriscos/verifiable-phrase-detection/training/bert/checkpoint-11300\n",
      "Configuration saved in /home/agusriscos/verifiable-phrase-detection/training/bert/checkpoint-11300/config.json\n"
     ]
    },
    {
     "name": "stdout",
     "output_type": "stream",
     "text": [
      "{'eval_loss': 0.452156662940979, 'eval_accuracy': 0.9413333333333334, 'eval_f1': 0.6140350877192983, 'eval_precision': 0.5833333333333334, 'eval_recall': 0.6481481481481481, 'eval_runtime': 6.9147, 'eval_samples_per_second': 216.928, 'eval_steps_per_second': 54.232, 'epoch': 2.54}\n"
     ]
    },
    {
     "name": "stderr",
     "output_type": "stream",
     "text": [
      "Model weights saved in /home/agusriscos/verifiable-phrase-detection/training/bert/checkpoint-11300/pytorch_model.bin\n",
      "***** Running Evaluation *****\n",
      "  Num examples = 1500\n",
      "  Batch size = 4\n"
     ]
    },
    {
     "name": "stdout",
     "output_type": "stream",
     "text": [
      "{'loss': 0.0001, 'learning_rate': 2.8982898289828985e-06, 'epoch': 2.57}\n"
     ]
    },
    {
     "name": "stderr",
     "output_type": "stream",
     "text": [
      "Saving model checkpoint to /home/agusriscos/verifiable-phrase-detection/training/bert/checkpoint-11400\n",
      "Configuration saved in /home/agusriscos/verifiable-phrase-detection/training/bert/checkpoint-11400/config.json\n"
     ]
    },
    {
     "name": "stdout",
     "output_type": "stream",
     "text": [
      "{'eval_loss': 0.44973766803741455, 'eval_accuracy': 0.9426666666666667, 'eval_f1': 0.6194690265486725, 'eval_precision': 0.5932203389830508, 'eval_recall': 0.6481481481481481, 'eval_runtime': 6.9282, 'eval_samples_per_second': 216.507, 'eval_steps_per_second': 54.127, 'epoch': 2.57}\n"
     ]
    },
    {
     "name": "stderr",
     "output_type": "stream",
     "text": [
      "Model weights saved in /home/agusriscos/verifiable-phrase-detection/training/bert/checkpoint-11400/pytorch_model.bin\n",
      "***** Running Evaluation *****\n",
      "  Num examples = 1500\n",
      "  Batch size = 4\n"
     ]
    },
    {
     "name": "stdout",
     "output_type": "stream",
     "text": [
      "{'loss': 0.0111, 'learning_rate': 2.7482748274827485e-06, 'epoch': 2.59}\n"
     ]
    },
    {
     "name": "stderr",
     "output_type": "stream",
     "text": [
      "Saving model checkpoint to /home/agusriscos/verifiable-phrase-detection/training/bert/checkpoint-11500\n",
      "Configuration saved in /home/agusriscos/verifiable-phrase-detection/training/bert/checkpoint-11500/config.json\n"
     ]
    },
    {
     "name": "stdout",
     "output_type": "stream",
     "text": [
      "{'eval_loss': 0.4535403549671173, 'eval_accuracy': 0.942, 'eval_f1': 0.6329113924050633, 'eval_precision': 0.5813953488372093, 'eval_recall': 0.6944444444444444, 'eval_runtime': 6.9259, 'eval_samples_per_second': 216.578, 'eval_steps_per_second': 54.144, 'epoch': 2.59}\n"
     ]
    },
    {
     "name": "stderr",
     "output_type": "stream",
     "text": [
      "Model weights saved in /home/agusriscos/verifiable-phrase-detection/training/bert/checkpoint-11500/pytorch_model.bin\n",
      "***** Running Evaluation *****\n",
      "  Num examples = 1500\n",
      "  Batch size = 4\n"
     ]
    },
    {
     "name": "stdout",
     "output_type": "stream",
     "text": [
      "{'loss': 0.0399, 'learning_rate': 2.5982598259825985e-06, 'epoch': 2.61}\n"
     ]
    },
    {
     "name": "stderr",
     "output_type": "stream",
     "text": [
      "Saving model checkpoint to /home/agusriscos/verifiable-phrase-detection/training/bert/checkpoint-11600\n",
      "Configuration saved in /home/agusriscos/verifiable-phrase-detection/training/bert/checkpoint-11600/config.json\n"
     ]
    },
    {
     "name": "stdout",
     "output_type": "stream",
     "text": [
      "{'eval_loss': 0.45918798446655273, 'eval_accuracy': 0.9426666666666667, 'eval_f1': 0.6018518518518519, 'eval_precision': 0.6018518518518519, 'eval_recall': 0.6018518518518519, 'eval_runtime': 6.926, 'eval_samples_per_second': 216.574, 'eval_steps_per_second': 54.143, 'epoch': 2.61}\n"
     ]
    },
    {
     "name": "stderr",
     "output_type": "stream",
     "text": [
      "Model weights saved in /home/agusriscos/verifiable-phrase-detection/training/bert/checkpoint-11600/pytorch_model.bin\n",
      "***** Running Evaluation *****\n",
      "  Num examples = 1500\n",
      "  Batch size = 4\n"
     ]
    },
    {
     "name": "stdout",
     "output_type": "stream",
     "text": [
      "{'loss': 0.0002, 'learning_rate': 2.4482448244824485e-06, 'epoch': 2.63}\n"
     ]
    },
    {
     "name": "stderr",
     "output_type": "stream",
     "text": [
      "Saving model checkpoint to /home/agusriscos/verifiable-phrase-detection/training/bert/checkpoint-11700\n",
      "Configuration saved in /home/agusriscos/verifiable-phrase-detection/training/bert/checkpoint-11700/config.json\n"
     ]
    },
    {
     "name": "stdout",
     "output_type": "stream",
     "text": [
      "{'eval_loss': 0.4669923484325409, 'eval_accuracy': 0.9426666666666667, 'eval_f1': 0.609090909090909, 'eval_precision': 0.5982142857142857, 'eval_recall': 0.6203703703703703, 'eval_runtime': 6.931, 'eval_samples_per_second': 216.42, 'eval_steps_per_second': 54.105, 'epoch': 2.63}\n"
     ]
    },
    {
     "name": "stderr",
     "output_type": "stream",
     "text": [
      "Model weights saved in /home/agusriscos/verifiable-phrase-detection/training/bert/checkpoint-11700/pytorch_model.bin\n",
      "***** Running Evaluation *****\n",
      "  Num examples = 1500\n",
      "  Batch size = 4\n"
     ]
    },
    {
     "name": "stdout",
     "output_type": "stream",
     "text": [
      "{'loss': 0.0049, 'learning_rate': 2.2982298229822984e-06, 'epoch': 2.66}\n"
     ]
    },
    {
     "name": "stderr",
     "output_type": "stream",
     "text": [
      "Saving model checkpoint to /home/agusriscos/verifiable-phrase-detection/training/bert/checkpoint-11800\n",
      "Configuration saved in /home/agusriscos/verifiable-phrase-detection/training/bert/checkpoint-11800/config.json\n"
     ]
    },
    {
     "name": "stdout",
     "output_type": "stream",
     "text": [
      "{'eval_loss': 0.4673326313495636, 'eval_accuracy': 0.9426666666666667, 'eval_f1': 0.6018518518518519, 'eval_precision': 0.6018518518518519, 'eval_recall': 0.6018518518518519, 'eval_runtime': 6.922, 'eval_samples_per_second': 216.702, 'eval_steps_per_second': 54.175, 'epoch': 2.66}\n"
     ]
    },
    {
     "name": "stderr",
     "output_type": "stream",
     "text": [
      "Model weights saved in /home/agusriscos/verifiable-phrase-detection/training/bert/checkpoint-11800/pytorch_model.bin\n",
      "***** Running Evaluation *****\n",
      "  Num examples = 1500\n",
      "  Batch size = 4\n"
     ]
    },
    {
     "name": "stdout",
     "output_type": "stream",
     "text": [
      "{'loss': 0.0267, 'learning_rate': 2.1482148214821484e-06, 'epoch': 2.68}\n"
     ]
    },
    {
     "name": "stderr",
     "output_type": "stream",
     "text": [
      "Saving model checkpoint to /home/agusriscos/verifiable-phrase-detection/training/bert/checkpoint-11900\n",
      "Configuration saved in /home/agusriscos/verifiable-phrase-detection/training/bert/checkpoint-11900/config.json\n"
     ]
    },
    {
     "name": "stdout",
     "output_type": "stream",
     "text": [
      "{'eval_loss': 0.4481966197490692, 'eval_accuracy': 0.9453333333333334, 'eval_f1': 0.6019417475728156, 'eval_precision': 0.6326530612244898, 'eval_recall': 0.5740740740740741, 'eval_runtime': 6.9294, 'eval_samples_per_second': 216.469, 'eval_steps_per_second': 54.117, 'epoch': 2.68}\n"
     ]
    },
    {
     "name": "stderr",
     "output_type": "stream",
     "text": [
      "Model weights saved in /home/agusriscos/verifiable-phrase-detection/training/bert/checkpoint-11900/pytorch_model.bin\n",
      "***** Running Evaluation *****\n",
      "  Num examples = 1500\n",
      "  Batch size = 4\n"
     ]
    },
    {
     "name": "stdout",
     "output_type": "stream",
     "text": [
      "{'loss': 0.0146, 'learning_rate': 1.9981998199819984e-06, 'epoch': 2.7}\n"
     ]
    },
    {
     "name": "stderr",
     "output_type": "stream",
     "text": [
      "Saving model checkpoint to /home/agusriscos/verifiable-phrase-detection/training/bert/checkpoint-12000\n",
      "Configuration saved in /home/agusriscos/verifiable-phrase-detection/training/bert/checkpoint-12000/config.json\n"
     ]
    },
    {
     "name": "stdout",
     "output_type": "stream",
     "text": [
      "{'eval_loss': 0.4592204689979553, 'eval_accuracy': 0.9433333333333334, 'eval_f1': 0.6046511627906976, 'eval_precision': 0.6074766355140186, 'eval_recall': 0.6018518518518519, 'eval_runtime': 6.9429, 'eval_samples_per_second': 216.047, 'eval_steps_per_second': 54.012, 'epoch': 2.7}\n"
     ]
    },
    {
     "name": "stderr",
     "output_type": "stream",
     "text": [
      "Model weights saved in /home/agusriscos/verifiable-phrase-detection/training/bert/checkpoint-12000/pytorch_model.bin\n",
      "***** Running Evaluation *****\n",
      "  Num examples = 1500\n",
      "  Batch size = 4\n"
     ]
    },
    {
     "name": "stdout",
     "output_type": "stream",
     "text": [
      "{'loss': 0.0135, 'learning_rate': 1.8481848184818482e-06, 'epoch': 2.72}\n"
     ]
    },
    {
     "name": "stderr",
     "output_type": "stream",
     "text": [
      "Saving model checkpoint to /home/agusriscos/verifiable-phrase-detection/training/bert/checkpoint-12100\n",
      "Configuration saved in /home/agusriscos/verifiable-phrase-detection/training/bert/checkpoint-12100/config.json\n"
     ]
    },
    {
     "name": "stdout",
     "output_type": "stream",
     "text": [
      "{'eval_loss': 0.47979873418807983, 'eval_accuracy': 0.9413333333333334, 'eval_f1': 0.6036036036036035, 'eval_precision': 0.5877192982456141, 'eval_recall': 0.6203703703703703, 'eval_runtime': 7.0155, 'eval_samples_per_second': 213.812, 'eval_steps_per_second': 53.453, 'epoch': 2.72}\n"
     ]
    },
    {
     "name": "stderr",
     "output_type": "stream",
     "text": [
      "Model weights saved in /home/agusriscos/verifiable-phrase-detection/training/bert/checkpoint-12100/pytorch_model.bin\n",
      "***** Running Evaluation *****\n",
      "  Num examples = 1500\n",
      "  Batch size = 4\n"
     ]
    },
    {
     "name": "stdout",
     "output_type": "stream",
     "text": [
      "{'loss': 0.0148, 'learning_rate': 1.6981698169816981e-06, 'epoch': 2.75}\n"
     ]
    },
    {
     "name": "stderr",
     "output_type": "stream",
     "text": [
      "Saving model checkpoint to /home/agusriscos/verifiable-phrase-detection/training/bert/checkpoint-12200\n",
      "Configuration saved in /home/agusriscos/verifiable-phrase-detection/training/bert/checkpoint-12200/config.json\n"
     ]
    },
    {
     "name": "stdout",
     "output_type": "stream",
     "text": [
      "{'eval_loss': 0.46783527731895447, 'eval_accuracy': 0.9433333333333334, 'eval_f1': 0.6009389671361502, 'eval_precision': 0.6095238095238096, 'eval_recall': 0.5925925925925926, 'eval_runtime': 7.0927, 'eval_samples_per_second': 211.484, 'eval_steps_per_second': 52.871, 'epoch': 2.75}\n"
     ]
    },
    {
     "name": "stderr",
     "output_type": "stream",
     "text": [
      "Model weights saved in /home/agusriscos/verifiable-phrase-detection/training/bert/checkpoint-12200/pytorch_model.bin\n",
      "***** Running Evaluation *****\n",
      "  Num examples = 1500\n",
      "  Batch size = 4\n"
     ]
    },
    {
     "name": "stdout",
     "output_type": "stream",
     "text": [
      "{'loss': 0.0304, 'learning_rate': 1.5481548154815481e-06, 'epoch': 2.77}\n"
     ]
    },
    {
     "name": "stderr",
     "output_type": "stream",
     "text": [
      "Saving model checkpoint to /home/agusriscos/verifiable-phrase-detection/training/bert/checkpoint-12300\n",
      "Configuration saved in /home/agusriscos/verifiable-phrase-detection/training/bert/checkpoint-12300/config.json\n"
     ]
    },
    {
     "name": "stdout",
     "output_type": "stream",
     "text": [
      "{'eval_loss': 0.4734283983707428, 'eval_accuracy': 0.9413333333333334, 'eval_f1': 0.6173913043478262, 'eval_precision': 0.5819672131147541, 'eval_recall': 0.6574074074074074, 'eval_runtime': 7.0936, 'eval_samples_per_second': 211.457, 'eval_steps_per_second': 52.864, 'epoch': 2.77}\n"
     ]
    },
    {
     "name": "stderr",
     "output_type": "stream",
     "text": [
      "Model weights saved in /home/agusriscos/verifiable-phrase-detection/training/bert/checkpoint-12300/pytorch_model.bin\n",
      "***** Running Evaluation *****\n",
      "  Num examples = 1500\n",
      "  Batch size = 4\n"
     ]
    },
    {
     "name": "stdout",
     "output_type": "stream",
     "text": [
      "{'loss': 0.0381, 'learning_rate': 1.3981398139813981e-06, 'epoch': 2.79}\n"
     ]
    },
    {
     "name": "stderr",
     "output_type": "stream",
     "text": [
      "Saving model checkpoint to /home/agusriscos/verifiable-phrase-detection/training/bert/checkpoint-12400\n",
      "Configuration saved in /home/agusriscos/verifiable-phrase-detection/training/bert/checkpoint-12400/config.json\n"
     ]
    },
    {
     "name": "stdout",
     "output_type": "stream",
     "text": [
      "{'eval_loss': 0.4645962715148926, 'eval_accuracy': 0.9426666666666667, 'eval_f1': 0.6324786324786325, 'eval_precision': 0.5873015873015873, 'eval_recall': 0.6851851851851852, 'eval_runtime': 6.9348, 'eval_samples_per_second': 216.301, 'eval_steps_per_second': 54.075, 'epoch': 2.79}\n"
     ]
    },
    {
     "name": "stderr",
     "output_type": "stream",
     "text": [
      "Model weights saved in /home/agusriscos/verifiable-phrase-detection/training/bert/checkpoint-12400/pytorch_model.bin\n",
      "***** Running Evaluation *****\n",
      "  Num examples = 1500\n",
      "  Batch size = 4\n"
     ]
    },
    {
     "name": "stdout",
     "output_type": "stream",
     "text": [
      "{'loss': 0.0279, 'learning_rate': 1.2481248124812483e-06, 'epoch': 2.81}\n"
     ]
    },
    {
     "name": "stderr",
     "output_type": "stream",
     "text": [
      "Saving model checkpoint to /home/agusriscos/verifiable-phrase-detection/training/bert/checkpoint-12500\n",
      "Configuration saved in /home/agusriscos/verifiable-phrase-detection/training/bert/checkpoint-12500/config.json\n"
     ]
    },
    {
     "name": "stdout",
     "output_type": "stream",
     "text": [
      "{'eval_loss': 0.45980408787727356, 'eval_accuracy': 0.9413333333333334, 'eval_f1': 0.5963302752293578, 'eval_precision': 0.5909090909090909, 'eval_recall': 0.6018518518518519, 'eval_runtime': 6.9276, 'eval_samples_per_second': 216.525, 'eval_steps_per_second': 54.131, 'epoch': 2.81}\n"
     ]
    },
    {
     "name": "stderr",
     "output_type": "stream",
     "text": [
      "Model weights saved in /home/agusriscos/verifiable-phrase-detection/training/bert/checkpoint-12500/pytorch_model.bin\n",
      "***** Running Evaluation *****\n",
      "  Num examples = 1500\n",
      "  Batch size = 4\n"
     ]
    },
    {
     "name": "stdout",
     "output_type": "stream",
     "text": [
      "{'loss': 0.0387, 'learning_rate': 1.0981098109810983e-06, 'epoch': 2.84}\n"
     ]
    },
    {
     "name": "stderr",
     "output_type": "stream",
     "text": [
      "Saving model checkpoint to /home/agusriscos/verifiable-phrase-detection/training/bert/checkpoint-12600\n",
      "Configuration saved in /home/agusriscos/verifiable-phrase-detection/training/bert/checkpoint-12600/config.json\n"
     ]
    },
    {
     "name": "stdout",
     "output_type": "stream",
     "text": [
      "{'eval_loss': 0.45361214876174927, 'eval_accuracy': 0.9426666666666667, 'eval_f1': 0.5981308411214954, 'eval_precision': 0.6037735849056604, 'eval_recall': 0.5925925925925926, 'eval_runtime': 6.9383, 'eval_samples_per_second': 216.193, 'eval_steps_per_second': 54.048, 'epoch': 2.84}\n"
     ]
    },
    {
     "name": "stderr",
     "output_type": "stream",
     "text": [
      "Model weights saved in /home/agusriscos/verifiable-phrase-detection/training/bert/checkpoint-12600/pytorch_model.bin\n",
      "***** Running Evaluation *****\n",
      "  Num examples = 1500\n",
      "  Batch size = 4\n"
     ]
    },
    {
     "name": "stdout",
     "output_type": "stream",
     "text": [
      "{'loss': 0.0245, 'learning_rate': 9.480948094809482e-07, 'epoch': 2.86}\n"
     ]
    },
    {
     "name": "stderr",
     "output_type": "stream",
     "text": [
      "Saving model checkpoint to /home/agusriscos/verifiable-phrase-detection/training/bert/checkpoint-12700\n",
      "Configuration saved in /home/agusriscos/verifiable-phrase-detection/training/bert/checkpoint-12700/config.json\n"
     ]
    },
    {
     "name": "stdout",
     "output_type": "stream",
     "text": [
      "{'eval_loss': 0.44672614336013794, 'eval_accuracy': 0.9413333333333334, 'eval_f1': 0.6, 'eval_precision': 0.5892857142857143, 'eval_recall': 0.6111111111111112, 'eval_runtime': 6.9461, 'eval_samples_per_second': 215.948, 'eval_steps_per_second': 53.987, 'epoch': 2.86}\n"
     ]
    },
    {
     "name": "stderr",
     "output_type": "stream",
     "text": [
      "Model weights saved in /home/agusriscos/verifiable-phrase-detection/training/bert/checkpoint-12700/pytorch_model.bin\n",
      "***** Running Evaluation *****\n",
      "  Num examples = 1500\n",
      "  Batch size = 4\n"
     ]
    },
    {
     "name": "stdout",
     "output_type": "stream",
     "text": [
      "{'loss': 0.0248, 'learning_rate': 7.980798079807981e-07, 'epoch': 2.88}\n"
     ]
    },
    {
     "name": "stderr",
     "output_type": "stream",
     "text": [
      "Saving model checkpoint to /home/agusriscos/verifiable-phrase-detection/training/bert/checkpoint-12800\n",
      "Configuration saved in /home/agusriscos/verifiable-phrase-detection/training/bert/checkpoint-12800/config.json\n"
     ]
    },
    {
     "name": "stdout",
     "output_type": "stream",
     "text": [
      "{'eval_loss': 0.44175317883491516, 'eval_accuracy': 0.942, 'eval_f1': 0.5953488372093022, 'eval_precision': 0.5981308411214953, 'eval_recall': 0.5925925925925926, 'eval_runtime': 6.9437, 'eval_samples_per_second': 216.022, 'eval_steps_per_second': 54.005, 'epoch': 2.88}\n"
     ]
    },
    {
     "name": "stderr",
     "output_type": "stream",
     "text": [
      "Model weights saved in /home/agusriscos/verifiable-phrase-detection/training/bert/checkpoint-12800/pytorch_model.bin\n",
      "***** Running Evaluation *****\n",
      "  Num examples = 1500\n",
      "  Batch size = 4\n"
     ]
    },
    {
     "name": "stdout",
     "output_type": "stream",
     "text": [
      "{'loss': 0.0347, 'learning_rate': 6.480648064806481e-07, 'epoch': 2.9}\n"
     ]
    },
    {
     "name": "stderr",
     "output_type": "stream",
     "text": [
      "Saving model checkpoint to /home/agusriscos/verifiable-phrase-detection/training/bert/checkpoint-12900\n",
      "Configuration saved in /home/agusriscos/verifiable-phrase-detection/training/bert/checkpoint-12900/config.json\n"
     ]
    },
    {
     "name": "stdout",
     "output_type": "stream",
     "text": [
      "{'eval_loss': 0.43635693192481995, 'eval_accuracy': 0.9433333333333334, 'eval_f1': 0.6009389671361502, 'eval_precision': 0.6095238095238096, 'eval_recall': 0.5925925925925926, 'eval_runtime': 6.9334, 'eval_samples_per_second': 216.345, 'eval_steps_per_second': 54.086, 'epoch': 2.9}\n"
     ]
    },
    {
     "name": "stderr",
     "output_type": "stream",
     "text": [
      "Model weights saved in /home/agusriscos/verifiable-phrase-detection/training/bert/checkpoint-12900/pytorch_model.bin\n",
      "***** Running Evaluation *****\n",
      "  Num examples = 1500\n",
      "  Batch size = 4\n"
     ]
    },
    {
     "name": "stdout",
     "output_type": "stream",
     "text": [
      "{'loss': 0.0001, 'learning_rate': 4.980498049804981e-07, 'epoch': 2.93}\n"
     ]
    },
    {
     "name": "stderr",
     "output_type": "stream",
     "text": [
      "Saving model checkpoint to /home/agusriscos/verifiable-phrase-detection/training/bert/checkpoint-13000\n",
      "Configuration saved in /home/agusriscos/verifiable-phrase-detection/training/bert/checkpoint-13000/config.json\n"
     ]
    },
    {
     "name": "stdout",
     "output_type": "stream",
     "text": [
      "{'eval_loss': 0.43509024381637573, 'eval_accuracy': 0.9433333333333334, 'eval_f1': 0.5971563981042655, 'eval_precision': 0.6116504854368932, 'eval_recall': 0.5833333333333334, 'eval_runtime': 6.9448, 'eval_samples_per_second': 215.989, 'eval_steps_per_second': 53.997, 'epoch': 2.93}\n"
     ]
    },
    {
     "name": "stderr",
     "output_type": "stream",
     "text": [
      "Model weights saved in /home/agusriscos/verifiable-phrase-detection/training/bert/checkpoint-13000/pytorch_model.bin\n",
      "***** Running Evaluation *****\n",
      "  Num examples = 1500\n",
      "  Batch size = 4\n"
     ]
    },
    {
     "name": "stdout",
     "output_type": "stream",
     "text": [
      "{'loss': 0.0166, 'learning_rate': 3.48034803480348e-07, 'epoch': 2.95}\n"
     ]
    },
    {
     "name": "stderr",
     "output_type": "stream",
     "text": [
      "Saving model checkpoint to /home/agusriscos/verifiable-phrase-detection/training/bert/checkpoint-13100\n",
      "Configuration saved in /home/agusriscos/verifiable-phrase-detection/training/bert/checkpoint-13100/config.json\n"
     ]
    },
    {
     "name": "stdout",
     "output_type": "stream",
     "text": [
      "{'eval_loss': 0.43731749057769775, 'eval_accuracy': 0.9433333333333334, 'eval_f1': 0.6009389671361502, 'eval_precision': 0.6095238095238096, 'eval_recall': 0.5925925925925926, 'eval_runtime': 6.9387, 'eval_samples_per_second': 216.178, 'eval_steps_per_second': 54.044, 'epoch': 2.95}\n"
     ]
    },
    {
     "name": "stderr",
     "output_type": "stream",
     "text": [
      "Model weights saved in /home/agusriscos/verifiable-phrase-detection/training/bert/checkpoint-13100/pytorch_model.bin\n",
      "***** Running Evaluation *****\n",
      "  Num examples = 1500\n",
      "  Batch size = 4\n"
     ]
    },
    {
     "name": "stdout",
     "output_type": "stream",
     "text": [
      "{'loss': 0.0136, 'learning_rate': 1.9801980198019803e-07, 'epoch': 2.97}\n"
     ]
    },
    {
     "name": "stderr",
     "output_type": "stream",
     "text": [
      "Saving model checkpoint to /home/agusriscos/verifiable-phrase-detection/training/bert/checkpoint-13200\n",
      "Configuration saved in /home/agusriscos/verifiable-phrase-detection/training/bert/checkpoint-13200/config.json\n"
     ]
    },
    {
     "name": "stdout",
     "output_type": "stream",
     "text": [
      "{'eval_loss': 0.4346889555454254, 'eval_accuracy': 0.9433333333333334, 'eval_f1': 0.6009389671361502, 'eval_precision': 0.6095238095238096, 'eval_recall': 0.5925925925925926, 'eval_runtime': 6.9415, 'eval_samples_per_second': 216.091, 'eval_steps_per_second': 54.023, 'epoch': 2.97}\n"
     ]
    },
    {
     "name": "stderr",
     "output_type": "stream",
     "text": [
      "Model weights saved in /home/agusriscos/verifiable-phrase-detection/training/bert/checkpoint-13200/pytorch_model.bin\n",
      "***** Running Evaluation *****\n",
      "  Num examples = 1500\n",
      "  Batch size = 4\n"
     ]
    },
    {
     "name": "stdout",
     "output_type": "stream",
     "text": [
      "{'loss': 0.0279, 'learning_rate': 4.800480048004801e-08, 'epoch': 2.99}\n"
     ]
    },
    {
     "name": "stderr",
     "output_type": "stream",
     "text": [
      "Saving model checkpoint to /home/agusriscos/verifiable-phrase-detection/training/bert/checkpoint-13300\n",
      "Configuration saved in /home/agusriscos/verifiable-phrase-detection/training/bert/checkpoint-13300/config.json\n"
     ]
    },
    {
     "name": "stdout",
     "output_type": "stream",
     "text": [
      "{'eval_loss': 0.432432621717453, 'eval_accuracy': 0.9426666666666667, 'eval_f1': 0.5904761904761905, 'eval_precision': 0.6078431372549019, 'eval_recall': 0.5740740740740741, 'eval_runtime': 6.9276, 'eval_samples_per_second': 216.524, 'eval_steps_per_second': 54.131, 'epoch': 2.99}\n"
     ]
    },
    {
     "name": "stderr",
     "output_type": "stream",
     "text": [
      "Model weights saved in /home/agusriscos/verifiable-phrase-detection/training/bert/checkpoint-13300/pytorch_model.bin\n",
      "\n",
      "\n",
      "Training completed. Do not forget to share your model on huggingface.co/models =)\n",
      "\n",
      "\n"
     ]
    },
    {
     "name": "stdout",
     "output_type": "stream",
     "text": [
      "{'train_runtime': 2925.6033, 'train_samples_per_second': 18.226, 'train_steps_per_second': 4.557, 'train_loss': 0.10012862888313123, 'epoch': 3.0}\n"
     ]
    },
    {
     "data": {
      "text/plain": [
       "TrainOutput(global_step=13332, training_loss=0.10012862888313123, metrics={'train_runtime': 2925.6033, 'train_samples_per_second': 18.226, 'train_steps_per_second': 4.557, 'train_loss': 0.10012862888313123, 'epoch': 3.0})"
      ]
     },
     "execution_count": 39,
     "metadata": {},
     "output_type": "execute_result"
    }
   ],
   "source": [
    "model = transformers.AutoModelForSequenceClassification.from_pretrained(\"dccuchile/bert-base-spanish-wwm-cased\",\n",
    "                                                                            num_labels=2)\n",
    "training_args = transformers.TrainingArguments(output_dir=training_dirpath, overwrite_output_dir=True,\n",
    "                                               num_train_epochs=3, logging_dir=trainlog_dirpath, \n",
    "                                               logging_steps=100, evaluation_strategy=\"steps\",\n",
    "                                               eval_steps=100, learning_rate=2e-5, per_device_train_batch_size=4,\n",
    "                                               per_device_eval_batch_size=4, save_steps=100)\n",
    "\n",
    "trainer_hf = transformers.Trainer(model=model, args=training_args, train_dataset=train_dataset,\n",
    "                               eval_dataset=val_dataset, compute_metrics=trainer.compute_metrics)\n",
    "trainer_hf.train()"
   ]
  },
  {
   "cell_type": "markdown",
   "metadata": {},
   "source": [
    "## 3. Evaluación y conclusiones"
   ]
  },
  {
   "cell_type": "markdown",
   "metadata": {},
   "source": [
    "### 3.1 Evaluación del entrenamiento"
   ]
  },
  {
   "cell_type": "code",
   "execution_count": 40,
   "metadata": {},
   "outputs": [
    {
     "name": "stdout",
     "output_type": "stream",
     "text": [
      "Found tensorflow logs to process:\n",
      "['/home/agusriscos/verifiable-phrase-detection/training/bert/train-logs/events.out.tfevents.1631812537.agusriscos-pc.27031.4', '/home/agusriscos/verifiable-phrase-detection/training/bert/train-logs/events.out.tfevents.1631812568.agusriscos-pc.27031.6']\n",
      "Saving to csv file\n",
      "/home/agusriscos/verifiable-phrase-detection/training/bert/training_metrics.csv\n"
     ]
    }
   ],
   "source": [
    "tensorboard_utils.tensorboard_event_to_dataframe(dataframe_name=\"training_metrics.csv\",\n",
    "                                                 logdir_or_logfile=trainlog_dirpath, out_dir=training_dirpath)"
   ]
  },
  {
   "cell_type": "code",
   "execution_count": 46,
   "metadata": {},
   "outputs": [
    {
     "data": {
      "image/svg+xml": [
       "<svg class=\"main-svg\" xmlns=\"http://www.w3.org/2000/svg\" xmlns:xlink=\"http://www.w3.org/1999/xlink\" width=\"700\" height=\"500\" style=\"\" viewBox=\"0 0 700 500\"><rect x=\"0\" y=\"0\" width=\"700\" height=\"500\" style=\"fill: rgb(255, 255, 255); fill-opacity: 1;\"/><defs id=\"defs-12422e\"><g class=\"clips\"><clipPath id=\"clip12422exyplot\" class=\"plotclip\"><rect width=\"504\" height=\"360\"/></clipPath><clipPath class=\"axesclip\" id=\"clip12422ex\"><rect x=\"80\" y=\"0\" width=\"504\" height=\"500\"/></clipPath><clipPath class=\"axesclip\" id=\"clip12422ey\"><rect x=\"0\" y=\"60\" width=\"700\" height=\"360\"/></clipPath><clipPath class=\"axesclip\" id=\"clip12422exy\"><rect x=\"80\" y=\"60\" width=\"504\" height=\"360\"/></clipPath></g><g class=\"gradients\"/><g class=\"patterns\"/></defs><g class=\"bglayer\"><rect class=\"bg\" x=\"80\" y=\"60\" width=\"504\" height=\"360\" style=\"fill: rgb(229, 236, 246); fill-opacity: 1; stroke-width: 0;\"/></g><g class=\"layer-below\"><g class=\"imagelayer\"/><g class=\"shapelayer\"/></g><g class=\"cartesianlayer\"><g class=\"subplot xy\"><g class=\"layer-subplot\"><g class=\"shapelayer\"/><g class=\"imagelayer\"/></g><g class=\"gridlayer\"><g class=\"x\"><path class=\"xgrid crisp\" transform=\"translate(201.22,0)\" d=\"M0,60v360\" style=\"stroke: rgb(255, 255, 255); stroke-opacity: 1; stroke-width: 1px;\"/><path class=\"xgrid crisp\" transform=\"translate(328.81,0)\" d=\"M0,60v360\" style=\"stroke: rgb(255, 255, 255); stroke-opacity: 1; stroke-width: 1px;\"/><path class=\"xgrid crisp\" transform=\"translate(456.41,0)\" d=\"M0,60v360\" style=\"stroke: rgb(255, 255, 255); stroke-opacity: 1; stroke-width: 1px;\"/></g><g class=\"y\"><path class=\"ygrid crisp\" transform=\"translate(0,351.26)\" d=\"M80,0h504\" style=\"stroke: rgb(255, 255, 255); stroke-opacity: 1; stroke-width: 1px;\"/><path class=\"ygrid crisp\" transform=\"translate(0,299.95)\" d=\"M80,0h504\" style=\"stroke: rgb(255, 255, 255); stroke-opacity: 1; stroke-width: 1px;\"/><path class=\"ygrid crisp\" transform=\"translate(0,248.65)\" d=\"M80,0h504\" style=\"stroke: rgb(255, 255, 255); stroke-opacity: 1; stroke-width: 1px;\"/><path class=\"ygrid crisp\" transform=\"translate(0,197.34)\" d=\"M80,0h504\" style=\"stroke: rgb(255, 255, 255); stroke-opacity: 1; stroke-width: 1px;\"/><path class=\"ygrid crisp\" transform=\"translate(0,146.04000000000002)\" d=\"M80,0h504\" style=\"stroke: rgb(255, 255, 255); stroke-opacity: 1; stroke-width: 1px;\"/><path class=\"ygrid crisp\" transform=\"translate(0,94.72999999999999)\" d=\"M80,0h504\" style=\"stroke: rgb(255, 255, 255); stroke-opacity: 1; stroke-width: 1px;\"/></g></g><g class=\"zerolinelayer\"><path class=\"yzl zl crisp\" transform=\"translate(0,402.56)\" d=\"M80,0h504\" style=\"stroke: rgb(255, 255, 255); stroke-opacity: 1; stroke-width: 2px;\"/></g><path class=\"xlines-below\"/><path class=\"ylines-below\"/><g class=\"overlines-below\"/><g class=\"xaxislayer-below\"/><g class=\"yaxislayer-below\"/><g class=\"overaxes-below\"/><g class=\"plot\" transform=\"translate(80,60)\" clip-path=\"url(#clip12422exyplot)\"><g class=\"scatterlayer mlayer\"><g class=\"trace scatter trace3fde11\" style=\"stroke-miterlimit: 2; opacity: 1;\"><g class=\"fills\"/><g class=\"errorbars\"/><g class=\"lines\"><path class=\"js-line\" d=\"M0,111.95L0,126.41L6.38,174.59L12.76,178.28L19.14,189.78L25.52,270.43L31.9,213.74L38.28,187.26L44.66,220.1L51.04,241.65L57.42,237.08L63.8,200.6L70.18,232.46L76.56,199.94L82.94,211.02L89.32,224.46L95.7,223.84L102.08,238.57L108.46,264.79L114.84,259.09L121.22,213.22L127.59,230.41L133.97,250.21L140.35,267.09L146.73,257.55L153.11,211.53L159.49,240.83L165.87,253.24L172.25,274.07L178.63,244.52L185.01,256.22L191.39,257.35L197.77,244.78L204.15,263.76L210.53,274.74L216.91,236.67L223.29,284.13L229.67,241.95L236.05,235.49L242.43,263.61L248.81,235.13L255.19,277.56L261.57,255.76L267.95,246.93L274.33,277.15L280.71,299.62L287.09,292.95L293.47,299.78L299.85,280.38L312.61,342L318.99,297.77L325.37,313.22L331.75,318.14L338.13,316.76L344.51,314.5L350.89,312.91L357.27,294.54L363.65,284.38L370.03,309.32L376.41,271.97L382.78,318.35L389.16,277.77L395.54,315.37L401.92,314.3L408.3,289.51L414.68,311.99L421.06,295.83L427.44,297.67L433.82,301.98L440.2,308.65L446.58,319.32L452.96,312.91L459.34,312.55L465.72,315.42L472.1,313.47L478.48,294.8L484.86,293.11L491.24,302.75L497.62,291\" style=\"vector-effect: non-scaling-stroke; fill: none; stroke: rgb(99, 110, 250); stroke-opacity: 1; stroke-width: 2px; opacity: 1;\"/></g><g class=\"points\"/><g class=\"text\"/></g><g class=\"trace scatter trace63d88b\" style=\"stroke-miterlimit: 2; opacity: 1;\"><g class=\"fills\"/><g class=\"errorbars\"/><g class=\"lines\"><path class=\"js-line\" d=\"M0,18L6.38,174.31L12.76,219.81L19.14,195.68L25.52,122.14L31.9,142.04L38.28,148.92L44.66,151.15L51.04,205.08L57.42,194.55L63.8,195.85L70.18,182.72L76.56,199.22L82.94,217.75L89.32,79.34L95.7,197.56L102.08,202.8L108.46,178.82L114.84,172.64L121.22,203.38L127.59,180.8L133.97,176.61L140.35,189.12L146.73,199.97L153.11,222.13L159.49,224.74L165.87,187.25L172.25,194.72L178.63,190.27L185.01,209.48L191.39,206.32L197.77,208.63L204.15,209.76L210.53,198.37L216.91,157.21L223.29,181.45L229.67,149.33L236.05,207.46L242.43,184.55L248.81,199.3L255.19,157.36L261.57,165.82L267.95,198.84L274.33,186.04L280.71,190.59L287.09,205.34L293.47,172.45L299.85,100.71L306.23,167.42L312.61,163.73L318.99,150.85L325.37,166.34L331.75,171.92L338.13,165.88L344.51,113.9L350.89,140.97L357.27,127.13L363.65,182.15L370.03,165.94L376.41,158.37L382.78,149.57L389.16,162.62L395.54,152.98L401.92,96.67L408.3,152.25L414.68,161.16L421.06,151.56L427.44,156.16L433.82,164.29L440.2,151.24L446.58,154.41L452.96,143.9L459.34,136.8L472.1,148.29L478.48,149.77L484.86,148.13L491.24,161.17L497.62,154.18L504,153.98\" style=\"vector-effect: non-scaling-stroke; fill: none; stroke: rgb(239, 85, 59); stroke-opacity: 1; stroke-width: 2px; opacity: 1;\"/></g><g class=\"points\"/><g class=\"text\"/></g></g></g><g class=\"overplot\"/><path class=\"xlines-above crisp\" d=\"M0,0\" style=\"fill: none;\"/><path class=\"ylines-above crisp\" d=\"M0,0\" style=\"fill: none;\"/><g class=\"overlines-above\"/><g class=\"xaxislayer-above\"><g class=\"xtick\"><text text-anchor=\"middle\" x=\"0\" y=\"433\" transform=\"translate(201.22,0)\" style=\"font-family: 'Open Sans', verdana, arial, sans-serif; font-size: 12px; fill: rgb(42, 63, 95); fill-opacity: 1; white-space: pre; opacity: 1;\">2000</text></g><g class=\"xtick\"><text text-anchor=\"middle\" x=\"0\" y=\"433\" style=\"font-family: 'Open Sans', verdana, arial, sans-serif; font-size: 12px; fill: rgb(42, 63, 95); fill-opacity: 1; white-space: pre; opacity: 1;\" transform=\"translate(328.81,0)\">4000</text></g><g class=\"xtick\"><text text-anchor=\"middle\" x=\"0\" y=\"433\" style=\"font-family: 'Open Sans', verdana, arial, sans-serif; font-size: 12px; fill: rgb(42, 63, 95); fill-opacity: 1; white-space: pre; opacity: 1;\" transform=\"translate(456.41,0)\">6000</text></g><g class=\"xtick\"><text text-anchor=\"middle\" x=\"0\" y=\"433\" style=\"font-family: 'Open Sans', verdana, arial, sans-serif; font-size: 12px; fill: rgb(42, 63, 95); fill-opacity: 1; white-space: pre; opacity: 1;\" transform=\"translate(584,0)\">8000</text></g></g><g class=\"yaxislayer-above\"><g class=\"ytick\"><text text-anchor=\"end\" x=\"79\" y=\"4.199999999999999\" transform=\"translate(0,402.56)\" style=\"font-family: 'Open Sans', verdana, arial, sans-serif; font-size: 12px; fill: rgb(42, 63, 95); fill-opacity: 1; white-space: pre; opacity: 1;\">0</text></g><g class=\"ytick\"><text text-anchor=\"end\" x=\"79\" y=\"4.199999999999999\" style=\"font-family: 'Open Sans', verdana, arial, sans-serif; font-size: 12px; fill: rgb(42, 63, 95); fill-opacity: 1; white-space: pre; opacity: 1;\" transform=\"translate(0,351.26)\">0.1</text></g><g class=\"ytick\"><text text-anchor=\"end\" x=\"79\" y=\"4.199999999999999\" style=\"font-family: 'Open Sans', verdana, arial, sans-serif; font-size: 12px; fill: rgb(42, 63, 95); fill-opacity: 1; white-space: pre; opacity: 1;\" transform=\"translate(0,299.95)\">0.2</text></g><g class=\"ytick\"><text text-anchor=\"end\" x=\"79\" y=\"4.199999999999999\" style=\"font-family: 'Open Sans', verdana, arial, sans-serif; font-size: 12px; fill: rgb(42, 63, 95); fill-opacity: 1; white-space: pre; opacity: 1;\" transform=\"translate(0,248.65)\">0.3</text></g><g class=\"ytick\"><text text-anchor=\"end\" x=\"79\" y=\"4.199999999999999\" style=\"font-family: 'Open Sans', verdana, arial, sans-serif; font-size: 12px; fill: rgb(42, 63, 95); fill-opacity: 1; white-space: pre; opacity: 1;\" transform=\"translate(0,197.34)\">0.4</text></g><g class=\"ytick\"><text text-anchor=\"end\" x=\"79\" y=\"4.199999999999999\" style=\"font-family: 'Open Sans', verdana, arial, sans-serif; font-size: 12px; fill: rgb(42, 63, 95); fill-opacity: 1; white-space: pre; opacity: 1;\" transform=\"translate(0,146.04000000000002)\">0.5</text></g><g class=\"ytick\"><text text-anchor=\"end\" x=\"79\" y=\"4.199999999999999\" style=\"font-family: 'Open Sans', verdana, arial, sans-serif; font-size: 12px; fill: rgb(42, 63, 95); fill-opacity: 1; white-space: pre; opacity: 1;\" transform=\"translate(0,94.72999999999999)\">0.6</text></g></g><g class=\"overaxes-above\"/></g></g><g class=\"polarlayer\"/><g class=\"ternarylayer\"/><g class=\"geolayer\"/><g class=\"funnelarealayer\"/><g class=\"pielayer\"/><g class=\"iciclelayer\"/><g class=\"treemaplayer\"/><g class=\"sunburstlayer\"/><g class=\"glimages\"/><defs id=\"topdefs-12422e\"><g class=\"clips\"/><clipPath id=\"legend12422e\"><rect width=\"94\" height=\"67\" x=\"0\" y=\"0\"/></clipPath></defs><g class=\"layer-above\"><g class=\"imagelayer\"/><g class=\"shapelayer\"/></g><g class=\"infolayer\"><g class=\"legend\" pointer-events=\"all\" transform=\"translate(594.08,60)\"><rect class=\"bg\" shape-rendering=\"crispEdges\" width=\"94\" height=\"67\" x=\"0\" y=\"0\" style=\"stroke: rgb(68, 68, 68); stroke-opacity: 1; fill: rgb(255, 255, 255); fill-opacity: 1; stroke-width: 0px;\"/><g class=\"scrollbox\" transform=\"\" clip-path=\"url(#legend12422e)\"><text class=\"legendtitletext\" text-anchor=\"start\" x=\"2\" y=\"18.2\" style=\"font-family: 'Open Sans', verdana, arial, sans-serif; font-size: 14px; fill: rgb(42, 63, 95); fill-opacity: 1; white-space: pre;\">metric</text><g class=\"groups\" transform=\"\"><g class=\"traces\" transform=\"translate(0,32.7)\" style=\"opacity: 1;\"><text class=\"legendtext\" text-anchor=\"start\" x=\"40\" y=\"4.680000000000001\" style=\"font-family: 'Open Sans', verdana, arial, sans-serif; font-size: 12px; fill: rgb(42, 63, 95); fill-opacity: 1; white-space: pre;\">train/loss</text><g class=\"layers\" style=\"opacity: 1;\"><g class=\"legendfill\"/><g class=\"legendlines\"><path class=\"js-line\" d=\"M5,0h30\" style=\"fill: none; stroke: rgb(99, 110, 250); stroke-opacity: 1; stroke-width: 2px;\"/></g><g class=\"legendsymbols\"><g class=\"legendpoints\"/></g></g><rect class=\"legendtoggle\" x=\"0\" y=\"-9.5\" width=\"88.03125\" height=\"19\" style=\"fill: rgb(0, 0, 0); fill-opacity: 0;\"/></g></g><g class=\"groups\" transform=\"\"><g class=\"traces\" transform=\"translate(0,51.7)\" style=\"opacity: 1;\"><text class=\"legendtext\" text-anchor=\"start\" x=\"40\" y=\"4.680000000000001\" style=\"font-family: 'Open Sans', verdana, arial, sans-serif; font-size: 12px; fill: rgb(42, 63, 95); fill-opacity: 1; white-space: pre;\">eval/loss</text><g class=\"layers\" style=\"opacity: 1;\"><g class=\"legendfill\"/><g class=\"legendlines\"><path class=\"js-line\" d=\"M5,0h30\" style=\"fill: none; stroke: rgb(239, 85, 59); stroke-opacity: 1; stroke-width: 2px;\"/></g><g class=\"legendsymbols\"><g class=\"legendpoints\"/></g></g><rect class=\"legendtoggle\" x=\"0\" y=\"-9.5\" width=\"88.03125\" height=\"19\" style=\"fill: rgb(0, 0, 0); fill-opacity: 0;\"/></g></g></g><rect class=\"scrollbar\" rx=\"20\" ry=\"3\" width=\"0\" height=\"0\" x=\"0\" y=\"0\" style=\"fill: rgb(128, 139, 164); fill-opacity: 1;\"/></g><g class=\"g-gtitle\"><text class=\"gtitle\" x=\"35\" y=\"30\" text-anchor=\"start\" dy=\"0em\" style=\"font-family: 'Open Sans', verdana, arial, sans-serif; font-size: 17px; fill: rgb(42, 63, 95); opacity: 1; font-weight: normal; white-space: pre;\">Learning curves analysis</text></g><g class=\"g-xtitle\"><text class=\"xtitle\" x=\"332\" y=\"460.8\" text-anchor=\"middle\" style=\"font-family: 'Open Sans', verdana, arial, sans-serif; font-size: 14px; fill: rgb(42, 63, 95); opacity: 1; font-weight: normal; white-space: pre;\">Step</text></g><g class=\"g-ytitle\"><text class=\"ytitle\" transform=\"rotate(-90,37.5125,240)\" x=\"37.5125\" y=\"240\" text-anchor=\"middle\" style=\"font-family: 'Open Sans', verdana, arial, sans-serif; font-size: 14px; fill: rgb(42, 63, 95); opacity: 1; font-weight: normal; white-space: pre;\">Value</text></g></g></svg>"
      ]
     },
     "metadata": {},
     "output_type": "display_data"
    }
   ],
   "source": [
    "train_logs_df = pd.read_csv(join(training_dirpath, \"training_metrics.csv\"))\n",
    "train_loss_df = train_logs_df.loc[train_logs_df[\"metric\"] == \"train/loss\"].iloc[:80]\n",
    "eval_loss_df = train_logs_df.loc[train_logs_df[\"metric\"] == \"eval/loss\"].iloc[:80]\n",
    "loss_df = pd.concat([train_loss_df, eval_loss_df])\n",
    "\n",
    "fig = px.line(loss_df, x=\"step\", y=\"value\", color=\"metric\")\n",
    "fig.update_layout(title=\"Learning curves analysis\", xaxis_title=\"Step\", yaxis_title=\"Value\")\n",
    "fig.show(\"svg\")"
   ]
  },
  {
   "cell_type": "markdown",
   "metadata": {},
   "source": [
    "En la gráfica de arriba se muestran las curvas de aprendizaje del modelo. Como se puede observar se ha cometido overfitting aproximadamente en el paso 3000 del entrenamiento ya que la diferencia de las perdidas de entrenamiento y validación van aumentando a partir de ese punto. Con ello, se elige el <strong>checkpoint 2500</strong> del modelo como nuestro modelo final."
   ]
  },
  {
   "cell_type": "markdown",
   "metadata": {},
   "source": [
    "### 3.2 Evaluación del modelo final sobre el conjunto de test"
   ]
  },
  {
   "cell_type": "code",
   "execution_count": 51,
   "metadata": {},
   "outputs": [
    {
     "name": "stderr",
     "output_type": "stream",
     "text": [
      "***** Running Prediction *****\n",
      "  Num examples = 1500\n",
      "  Batch size = 8\n"
     ]
    },
    {
     "name": "stdout",
     "output_type": "stream",
     "text": [
      "{'test_loss': 0.20558485388755798, 'test_accuracy': 0.9446666666666667, 'test_f1': 0.5257142857142858, 'test_precision': 0.6865671641791045, 'test_recall': 0.42592592592592593, 'test_runtime': 8.6308, 'test_samples_per_second': 173.797, 'test_steps_per_second': 21.783}\n"
     ]
    }
   ],
   "source": [
    "model_weights_path = join(training_dirpath, \"checkpoint-2500\")\n",
    "\n",
    "test_df = pd.read_csv(join(data_dirpath, 'raw_test.csv'))\n",
    "test_texts = test_df[\"text\"].values.tolist()\n",
    "test_labels = test_df[\"claim\"].values.tolist()\n",
    "\n",
    "tokenizer = transformers.AutoTokenizer.from_pretrained(\"dccuchile/bert-base-spanish-wwm-cased\")\n",
    "test_encodings = tokenizer(test_texts, truncation=True, padding=True)\n",
    "test_dataset = trainer.CustomDataset(test_encodings, test_labels)\n",
    "\n",
    "args = transformers.TrainingArguments(\n",
    "    output_dir='./dummy',\n",
    "    logging_dir=join(training_dirpath, 'test-logs')\n",
    ")\n",
    "\n",
    "model = transformers.AutoModelForSequenceClassification.from_pretrained(model_weights_path)\n",
    "tester = transformers.Trainer(\n",
    "    model=model,\n",
    "    args=args,\n",
    "    eval_dataset=test_dataset,\n",
    "    compute_metrics=trainer.compute_metrics\n",
    ")\n",
    "\n",
    "result = tester.predict(test_dataset)\n",
    "test_df[\"predict_claim\"] = result.predictions.argmax(-1)\n",
    "test_df.to_csv(join(data_dirpath, \"predictions.csv\"))\n",
    "print(result.metrics)"
   ]
  },
  {
   "cell_type": "markdown",
   "metadata": {},
   "source": [
    "Para el análisis de resultados se considera importante que el modelo sea capaz de detectar todas las frases verificables posibles, teniendo el mínimo de falsos negativos. Teniendo esto en cuenta, este modelo no es el mejor puesto que su recall es muy bajo. Sin embargo, hemos obtenido mejores resultados en la métrica 'precision', indicando que el modelo tiene un porcentaje bajo de falsos positivos.\n",
    "\n",
    "Notas sobre los resultados:\n",
    "\n",
    " - Tanto el conjunto de validación como el de test, al ser bastante pequeños, no representan fielmente la población de muestras. Para que los resultados sean concluyentes, debería realizarse una validación cruzada (n-fold cross validation.\n",
    " \n",
    " - No se ha realizado una validación cruzada debido a la limitación de tiempo y recursos computacionales."
   ]
  },
  {
   "cell_type": "markdown",
   "metadata": {},
   "source": [
    "### 3.3 Análisis de errores"
   ]
  },
  {
   "cell_type": "code",
   "execution_count": 55,
   "metadata": {},
   "outputs": [],
   "source": [
    "errors = test_df.loc[test_df[\"claim\"] != test_df[\"predict_claim\"]]"
   ]
  },
  {
   "cell_type": "code",
   "execution_count": 65,
   "metadata": {},
   "outputs": [
    {
     "data": {
      "text/plain": [
       "1    62\n",
       "0    21\n",
       "Name: claim, dtype: int64"
      ]
     },
     "execution_count": 65,
     "metadata": {},
     "output_type": "execute_result"
    }
   ],
   "source": [
    "errors[\"claim\"].value_counts()"
   ]
  },
  {
   "cell_type": "code",
   "execution_count": 61,
   "metadata": {},
   "outputs": [
    {
     "name": "stdout",
     "output_type": "stream",
     "text": [
      "El Estatuto da de comer a medio millón de parados. 1\n",
      "----------------------------------------------------------------------------------------------------\n",
      "El sistema no es decir al contrario se intensificó. 1\n",
      "----------------------------------------------------------------------------------------------------\n",
      "Es verdad que España aquí la comparación tiene un pelín de trampa, sobre todo cuando ponemos aquí a Francia o Alemania, porque son países que van recivido proporcionalmente a su PIB muchísimos menos fondos. 1\n",
      "----------------------------------------------------------------------------------------------------\n",
      "Yo lo que diría es que este gobierno, desde luego se ha demostrado que tiene una consideración distinta de las comunidades autónomas y mientras que ha habido una pandemia y una crisis económica, el Gobierno de España ha permitido que Andalucía crezca en su volumen de ingreso en plena crisis económica. 1\n",
      "----------------------------------------------------------------------------------------------------\n",
      "Pues desplegando este plan de recuperación español, que es muy ambicioso desde el punto de vista cuantitativo, no tengo que volver a mencionar el volumen de recursos del que estamos hablando de esos 70 000 millones de euros en transferencias, la mayoría de las cuales está previsto que se transfieran en el período de 2021 2023. 1\n",
      "----------------------------------------------------------------------------------------------------\n",
      "Creo que el presidente del Gobierno español ha sido el que más ha rendido cuentas de la evolución y fin de lo que hemos ido decidiendo con la pandemia en toda Europa. 1\n",
      "----------------------------------------------------------------------------------------------------\n",
      "Le quiero preguntar la idea es agotar la legislatura con el órgano de gobierno de los jueces, bloqueado o por lo menos caducado desde hace dos años 0\n",
      "----------------------------------------------------------------------------------------------------\n",
      "El modelo que tenemos en este momento es un modelo de igual que ha ocurrido con los jóvenes acompañados, que tiende a extender por distintos canales a veces puramente pesadez administrativa, extender enormemente el período de esta irregularidad. 0\n",
      "----------------------------------------------------------------------------------------------------\n",
      "Nuestras políticas han roto todos los clichés de las ideologías de ultra izquierda con nosotros el transporte la educación o la sanidad pública han superado en extensión y equidad a las de cualquier otra región. 0\n",
      "----------------------------------------------------------------------------------------------------\n",
      "Llega ahora el orgullo y es verdad que hay muchas parejas homosexuales que han recurrido o que tienen que recurrir a la gestación subrogada para formar una familia. 1\n",
      "----------------------------------------------------------------------------------------------------\n",
      "Está validada 0\n",
      "----------------------------------------------------------------------------------------------------\n",
      "Hemos intentado y creo que he conseguido estar siempre dentro de las tres comunidades autónomas con menor incidencia al coronÃ Virus, tanto que incidencia catorce coma siete. 1\n",
      "----------------------------------------------------------------------------------------------------\n",
      "La apertura de las escuelas, he de recordar a este respecto que somos uno de los poquísimos países en el mundo que hemos mantenido la escuela abierta. 1\n",
      "----------------------------------------------------------------------------------------------------\n",
      "Yo hago un plan clientelar lo reparto a dedo para ganar voluntades, pero a mis compatriotas les subo 90000 millones de euros los impuestos. 1\n",
      "----------------------------------------------------------------------------------------------------\n",
      "Vacunación incluye ya hasta la franja de entre 30 y 40 años en sólo unas semanas. 0\n",
      "----------------------------------------------------------------------------------------------------\n",
      "102 hombres y mujeres que ha muerto en Afganistán por salvar la paz y la libertad. 1\n",
      "----------------------------------------------------------------------------------------------------\n",
      "Entonces, quiero decir la tasa de paro hoy hoy es inferior a los años. 1\n",
      "----------------------------------------------------------------------------------------------------\n",
      "Y que el Tribunal Supremo ha dicho que no ha tenido ni la más mínima muestra de arrepentimiento y que además deja muy claro que el indulto se le puede conceder no porque lo haya pedido, sino porque le viene bien al Gobierno, que depende de sus votos. 1\n",
      "----------------------------------------------------------------------------------------------------\n",
      "Vamos récord tras récord y cada semana batimos nuestra propia marca y faltan menos de 90 días para lograr esa ansiada inmunidad de grupo. 1\n",
      "----------------------------------------------------------------------------------------------------\n",
      "temas por la supervivencia de ciudadanos 0\n",
      "----------------------------------------------------------------------------------------------------\n",
      "Aquí los okupas están más protegidos que los propietarios, o por ejemplo la ley Zela, que tiene cinco cates. 1\n",
      "----------------------------------------------------------------------------------------------------\n",
      "No hay ningún país que lo esté haciendo así. 1\n",
      "----------------------------------------------------------------------------------------------------\n",
      "Somos un partido que hemos llegado a tener hasta 20 escaños en Cataluña, con una representación, por cierto en el año del Tinell, en el que el Partido Socialista nos excluyó en un cordón sanitario y teníamos mayoría absoluta en España y en Cataluña, nos gobernaba el señor Piqué, que no creo que sea una persona muy radical, por tanto. 1\n",
      "----------------------------------------------------------------------------------------------------\n",
      "Hay un tratado de derechos donde hay convenios 0\n",
      "----------------------------------------------------------------------------------------------------\n",
      "Como saben ustedes son dos instrumentos dentro del Posey 1 lo que se refiere al apoyo específico a las producciones canarias, en particular el sector del plátano, con 141 millones de euros anuales y lo que se refiere al régimen de abastecimiento alimentario necesario. 1\n",
      "----------------------------------------------------------------------------------------------------\n",
      "La reforma en primer lugar, lo que pretende es eliminar dos elementos de incertidumbre muy grande que han tenido hasta ahora los los pensionistas o futuros pensionistas, que suspensiones se van a regularizar con el IPC y pronto van a mantener su poder adquisitivo indefinidamente, cosa que desde el 2013 no es así. 1\n",
      "----------------------------------------------------------------------------------------------------\n",
      "Bueno digo me digo más en Italia esto se hizo en el Senado italiano, donde se votó el plan y el gobierno duró un día más. 1\n",
      "----------------------------------------------------------------------------------------------------\n",
      "Lo que hemos de transformar este sector, que es clave, que supone más del 12 por ciento del PIB en nuestro país. 1\n",
      "----------------------------------------------------------------------------------------------------\n",
      "Los tres ilegales, los presos encarcelados los delincuentes encarcelados no han mostrado en ningún momento arrepentimiento. 0\n",
      "----------------------------------------------------------------------------------------------------\n",
      "Y por tanto, creo que contra el pronóstico que muchas veces nos habían dado todos nuestros adversarios ayer se publicaba no más de veinte querellas más de 20 demandas archivadas. 1\n",
      "----------------------------------------------------------------------------------------------------\n",
      "Ese es el objetivo del pacto por la ciencia y la innovación que llevamos al Congreso el pasado mes de marzo y que ya han apoyado decenas de organizaciones de la sociedad civil, entre las que se encuentra en muchas gracias. 0\n",
      "----------------------------------------------------------------------------------------------------\n",
      "Yo desde el año 2000 tenía una empresa que contrataba ingenieros aparejadores etcétera. 1\n",
      "----------------------------------------------------------------------------------------------------\n",
      "Vamos a hablar por ejemplo, de más de 5000 profesionales movilizados, 20 parques de bomberos, 52 retenes. 1\n",
      "----------------------------------------------------------------------------------------------------\n",
      "El Ministerio de Sanidad va a dejar sin efecto la resolución que dictó sobre la hostelería y sobre la reunión de personas en el exterior en interior que se le ha ocurrido imponer hace unos días. 1\n",
      "----------------------------------------------------------------------------------------------------\n",
      "Entra en vigor la ley de la eutanasia. 1\n",
      "----------------------------------------------------------------------------------------------------\n",
      "Es decir no solamente hay que liberar las patentes y Estados Unidos se está exportando muy poco desde Estados Unidos. 1\n",
      "----------------------------------------------------------------------------------------------------\n",
      "Por lo tanto estamos hablando que es un 37 por ciento por debajo de una semana y así puedo seguir leyendo. 1\n",
      "----------------------------------------------------------------------------------------------------\n",
      "Y además hemos explicado a lo largo de todo este período que se ha creado un fondo de solvencia dirigido a aquellas empresas que tenían dificultades evidentemente, y que tiene más de 10 000 millones de euro dirigido a grandes empresas a través de préstamos a través centrada en su capital a través de diferentes instrumentos que permiten que nuestro tejido productivo que ha sufrido muchísimo durante el tiempo de la pandemia, sobretodo las empresas más conectada con la movilidad, pudieran beneficiarse de esos préstamos. 1\n",
      "----------------------------------------------------------------------------------------------------\n",
      "Es más que probable que España tenga casi un millón de estudiantes menos entre los tres años y los 24 años. 0\n",
      "----------------------------------------------------------------------------------------------------\n",
      "Ahora que tenemos ante nosotros ese gran reto que tenemos los recursos provenientes de la Unión Europea 140 mil millones de euros durante los próximos seis años. 1\n",
      "----------------------------------------------------------------------------------------------------\n",
      "Sin embargo el Reino Unido mantiene el veto a toda España y dice la ministra de Exteriores que es por culpa de Madrid. 1\n",
      "----------------------------------------------------------------------------------------------------\n",
      "Todo esto apenas tiene apoyo en Cataluña apenas tiene apoyos en el País Vasco. 1\n",
      "----------------------------------------------------------------------------------------------------\n",
      "La única que abre hasta las 9 de la noche y la que obtiene un 90 porciento de satisfacción de los usuarios. 0\n",
      "----------------------------------------------------------------------------------------------------\n",
      "Se ha hecho con la misma tecnología que la vacuna de estraza NK y también hay riesgo de sufrir trombos. 0\n",
      "----------------------------------------------------------------------------------------------------\n",
      "Hace muy poco hace unos días, en Amazon se estrenó un documental sobre Jay Balvin, el chico de Medellín, en el que habla de sus problemas de ansiedad y depresión. 1\n",
      "----------------------------------------------------------------------------------------------------\n",
      "La vigencia de la ley española de las autonomías y es que la pandemia la hemos gestionado las comunidades autónomas. 1\n",
      "----------------------------------------------------------------------------------------------------\n",
      "Tenemos mejores datos en la situación con el desempleo. 1\n",
      "----------------------------------------------------------------------------------------------------\n",
      "Los países donde la gente trabaja más tienen menos paro juvenil. 1\n",
      "----------------------------------------------------------------------------------------------------\n",
      "Justamente ahora al aterrizar he visto que por primera vez el ISI se ha puesto algunas zonas de España en verde. 1\n",
      "----------------------------------------------------------------------------------------------------\n",
      "En segundo lugar, debemos incorporar bienes de mayor valor añadido y contenido tecnológico, puesto que las exportaciones españolas de manufacturas están sobretodo especializadas en ramas de intensidad tecnológica media. 0\n",
      "----------------------------------------------------------------------------------------------------\n",
      "Ese certificado verde no sé si sigue adelante, porque usted habló en concreto diez destinos entre ellos Baleares y Canarias. 1\n",
      "----------------------------------------------------------------------------------------------------\n",
      "digamos en otros países como China etcétera que ya habían tenido en su pandemia y que en su momento no tuvieron libro. 0\n",
      "----------------------------------------------------------------------------------------------------\n",
      "El Pacto de Estado ante cede ante ese repunte de las asesinatos de hace una semana convocado por la ministra de Igualdad, tanto Congreso como Senado como todos los demás ministerios implicados, porque tenemos que hacer un diagnóstico y mejorar esa respuesta, sobre todo en la detección derivación y acompañamiento a las mujeres que no denuncian que son casi el 75 por ciento en la pareja y casi el 90 por ciento de la violencia sexual, según la macro encuesta de Violencia de género de 2019 y desarrollar medidas que actúen antes sobre todo estas de protección a la infancia que ya tenemos en estas leyes que entrará en vigor por la de Protección a la Infancia el 24 de junio mismo. 1\n",
      "----------------------------------------------------------------------------------------------------\n",
      "También puedo darle el dato de que sabemos que en relación con las anteriores autonómicas, un 45 por ciento de nuestros electores ha elegido en esta ocasión un 45 por ciento. 1\n",
      "----------------------------------------------------------------------------------------------------\n",
      "Lo ha pedido el gobernador del Banco España la semana pasada. 1\n",
      "----------------------------------------------------------------------------------------------------\n",
      "De hecho lo hicimos cinco días antes de que se declarara el Estado. 1\n",
      "----------------------------------------------------------------------------------------------------\n",
      "Lo que pasa es que Junqueras también dice que quiere un referéndum ilegal, un referéndum pactado en este caso referéndum que sólo se podría producir si votasen todos los españoles que ya lo hemos dicho más de una vez o con una reforma constitucional. 1\n",
      "----------------------------------------------------------------------------------------------------\n",
      "Y en tercer lugar, porque se justificó la violencia en sede parlamentaria lo hizo el señor Sánchez diciendo que Vox había ido a Vallecas donde tenemos 15000 votantes, a buscar bronca. 1\n",
      "----------------------------------------------------------------------------------------------------\n",
      "Es un honor para todos habernos presentado ante las urnas ante ciudadanos libres en las elecciones con más participación de la historia de la Comunidad de Madrid y haber obtenido su respaldo en voto secreto. 1\n",
      "----------------------------------------------------------------------------------------------------\n",
      "Hemos vivido en Canarias durante unos cuantos meses donde llegaba a llegar muchos, muchos miles, y ahora lo hemos nos lo hemos encontrado aquí. 1\n",
      "----------------------------------------------------------------------------------------------------\n",
      "Mire la incidencia acumulada de ayer con respecto al día anterior se mantiene invariable en 118 y además con dos datos que nos preocupan. 1\n",
      "----------------------------------------------------------------------------------------------------\n",
      "Miren este Este gráfico de aquí utiliza uno de los indicadores habituales medir desigualdad es la proporción que los el 20 porciento de personas con más renta tienen de esa renta respecto a los que tienen el 20 por ciento menor de renta. 0\n",
      "----------------------------------------------------------------------------------------------------\n",
      "Por lo tanto, esto está hecho por meses hasta el 2013, aproximadamente 2008, del 8 al 13 14. 1\n",
      "----------------------------------------------------------------------------------------------------\n",
      "Me dijo que fue muy difícil aprobar las pruebas del estado de alarma y eso les ha hecho pensar que no había consenso parlamentario para reformar esa Ley Orgánica de Reforma. 0\n",
      "----------------------------------------------------------------------------------------------------\n",
      "Pensemos que a día de hoy tenemos a 550 mil personas que están en ERTE. 1\n",
      "----------------------------------------------------------------------------------------------------\n",
      "Son 129 mil familias más y por tanto es un hecho positivo. 1\n",
      "----------------------------------------------------------------------------------------------------\n",
      "La propia Cospedal dijo entonces que se trataba de una operación contra el Partido Popular. 1\n",
      "----------------------------------------------------------------------------------------------------\n",
      "Y así lo reconoce el Comité Olímpico Internacional, sino que creo que debemos abandonar. 1\n",
      "----------------------------------------------------------------------------------------------------\n",
      "Nuestro país todavía no se había recuperado cuando nos nos llegó el virus 0\n",
      "----------------------------------------------------------------------------------------------------\n",
      "Escuchen el 90 porciento de los restauradores que tenemos público local y que nos dedicamos a dar trabajo todo el año a la gente que vive en nuestra comunidad, pues seguimos cerrados y llevan 15 meses. 1\n",
      "----------------------------------------------------------------------------------------------------\n",
      "Estoy pensando en el Líbano, donde tenemos una misión internacional en la que participamos de casi 2000 militares creo trabajando de la mano de las Naciones Unidas. 1\n",
      "----------------------------------------------------------------------------------------------------\n",
      "Ambos países ya contamos con operadores de referencia internacional. 0\n",
      "----------------------------------------------------------------------------------------------------\n",
      "Y por último, modificaremos dieciséis leyes autonómicas en materia de medio ambiente y ordenación del territorio, entre las cuales se incluyen la nueva ley del Suelo, la Ley de Evaluación Ambiental o la nueva Ley de Economía Circular para avanzar en la simplificación de trámites administrativos. 1\n",
      "----------------------------------------------------------------------------------------------------\n",
      "Recuerdo los orígenes, los antecedentes, esos trombo, digamos, raro e infrecuente, pero que existen, que en España estamos por encima de los 30 casos y con 5 fallecimientos en esta ocasión. 1\n",
      "----------------------------------------------------------------------------------------------------\n",
      "Nosotros hemos mandado ya una comunicación oficial a la Comisión Europea para solicitar desde el Grupo Popular que la vertiente migratoria se trate conjuntamente de Frontex y desde las instituciones comunitarias, ya que la entrada en Ceuta y la entrada en Melilla es una entrada en territorio español y por tanto de la Unión Europea. 1\n",
      "----------------------------------------------------------------------------------------------------\n",
      "En este caso llegamos a tener una caída en los períodos más difíciles en torno al 2012. 1\n",
      "----------------------------------------------------------------------------------------------------\n",
      "Entonces el gobierno que tiene Sánchez está formado con Podemos con Bildu y con los independentistas, que son los que juró y perjuró que jamás iba a pactar con ellos cuando ya tomó una decisión política en contra del Tribunal Supremo, cuando se pone en duda a nivel internacional, la calidad de nuestro Estado de Derecho. 1\n",
      "----------------------------------------------------------------------------------------------------\n",
      "probablmente con los datos que hemos cruzado con el Ministerio de Hacienda, dos tercios de los autónomos coticen por debajo de lo que en este momento se cotiza. 0\n",
      "----------------------------------------------------------------------------------------------------\n",
      "Le pongo un ejemplo sobre los fondos subvencionados. 1\n",
      "----------------------------------------------------------------------------------------------------\n",
      "Ahora usted me dice que cuando el gobierno le dice a los menores de 60 años que tienen que ponerse como segunda dosis fixer es porque existe ese riesgo de trombos y en cambio ahora mismo se aprueba que se vacuna con Johanssen a los menores de 50 años, cuando es una vacuna que usted sabe que tiene. 1\n",
      "----------------------------------------------------------------------------------------------------\n",
      "Un estado de alarma que se decretó en el mes de octubre y se prorrogó por un periodo de seis meses y con él finaliza la limitación de nuestros derechos y de nuestras libertades como uno de los instrumentos que se ha utilizado para luchar contra la pandemia. 0\n",
      "----------------------------------------------------------------------------------------------------\n",
      "Eran dos de los nombres que no estaban en la baraja ya previamente definida. 0\n",
      "----------------------------------------------------------------------------------------------------\n",
      "Habrá que que las encuestas nos sitúan como primera fuerza a nivel nacional, que se empieza a ver que el gobierno de Sánchez ya no despierta confianza ni siquiera en sus propias filas. 1\n",
      "----------------------------------------------------------------------------------------------------\n"
     ]
    }
   ],
   "source": [
    "for text, claim in zip(errors.text, errors.claim):\n",
    "    print(text, claim)\n",
    "    print('-'*100)"
   ]
  },
  {
   "cell_type": "markdown",
   "metadata": {},
   "source": [
    "Está claro que el modelo debe mejorar a la hora de <strong>clasificar positivos</strong> (no ha detectado 62 de 108 positivos en el conjunto de test). Para revertir la situación, estas son algunas posibles mejoras del modelo:\n",
    "\n",
    " - El problema principal es el desbalance de clases y la poca cantidad de datos que tenemos. Por tanto se podría considerar utilizar otro tipo de modelos de clasificación más tradicionales (SVM, regresión logística, etc).\n",
    "\n",
    " - Si se quiere seguir utilizando arquitecturas BER una posible mejora pasaría por añadir información sobre el etiquetado POS y NER de las frases. Esto se podría conseguir implementando nuevas capas de embeddings para cada carácteristica de entrada.\n",
    " \n",
    " - Se puede probar a normalizar el texto aplicando lematizaciones, eliminación de stop words, etc para así reducir el vocabulario del corpus.\n",
    " "
   ]
  },
  {
   "cell_type": "code",
   "execution_count": null,
   "metadata": {},
   "outputs": [],
   "source": []
  }
 ],
 "metadata": {
  "kernelspec": {
   "display_name": "verifiable-phrase-detection",
   "language": "python",
   "name": "verifiable-phrase-detection"
  },
  "language_info": {
   "codemirror_mode": {
    "name": "ipython",
    "version": 3
   },
   "file_extension": ".py",
   "mimetype": "text/x-python",
   "name": "python",
   "nbconvert_exporter": "python",
   "pygments_lexer": "ipython3",
   "version": "3.8.10"
  }
 },
 "nbformat": 4,
 "nbformat_minor": 4
}
